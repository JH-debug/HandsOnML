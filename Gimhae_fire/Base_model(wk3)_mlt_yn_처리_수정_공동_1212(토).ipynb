{
  "nbformat": 4,
  "nbformat_minor": 0,
  "metadata": {
    "kernelspec": {
      "display_name": "Python 3",
      "language": "python",
      "name": "python3"
    },
    "language_info": {
      "codemirror_mode": {
        "name": "ipython",
        "version": 3
      },
      "file_extension": ".py",
      "mimetype": "text/x-python",
      "name": "python",
      "nbconvert_exporter": "python",
      "pygments_lexer": "ipython3",
      "version": "3.7.4"
    },
    "colab": {
      "name": "Base_model(wk3)_mlt_yn_처리_공동_1207(토).ipynb",
      "provenance": [],
      "collapsed_sections": [
        "m16ZXVtRYXNo",
        "c4a7CXdkYXOH",
        "Vu6g6TK2YXOc",
        "1PtURZL3YXPg",
        "sfTAJrPlYXTM",
        "il20dnOrYXUj",
        "Qx6PTdemYXU4",
        "Hw_-amDkYXU7",
        "5iBV7plbYXVx",
        "LX-SWQcOYXWH",
        "3Yq3qyyRYXbu"
      ]
    }
  },
  "cells": [
    {
      "cell_type": "code",
      "metadata": {
        "id": "DD0KUsvqYXM7",
        "colab_type": "code",
        "colab": {}
      },
      "source": [
        "# setting\n",
        "import pandas as pd\n",
        "import numpy as np\n",
        "import matplotlib\n",
        "import matplotlib.pyplot as plt\n",
        "import datetime\n",
        "\n",
        "from sklearn.base import BaseEstimator, TransformerMixin\n",
        "from sklearn.pipeline import Pipeline, FeatureUnion\n",
        "from sklearn.preprocessing import OneHotEncoder, StandardScaler, FunctionTransformer\n",
        "\n",
        "from sklearn.experimental import enable_iterative_imputer\n",
        "from sklearn.impute import SimpleImputer,IterativeImputer                          \n",
        "\n",
        "from sklearn.compose import ColumnTransformer,make_column_transformer\n",
        "\n",
        "from sklearn.decomposition import PCA"
      ],
      "execution_count": 0,
      "outputs": []
    },
    {
      "cell_type": "code",
      "metadata": {
        "id": "_cIpDVO8aV0y",
        "colab_type": "code",
        "outputId": "23cf7657-3cc2-489b-e7a6-ec1895795aa9",
        "colab": {
          "base_uri": "https://localhost:8080/",
          "height": 125
        }
      },
      "source": [
        "from google.colab import drive\n",
        "drive.mount('/content/drive')"
      ],
      "execution_count": 2,
      "outputs": [
        {
          "output_type": "stream",
          "text": [
            "Go to this URL in a browser: https://accounts.google.com/o/oauth2/auth?client_id=947318989803-6bn6qk8qdgf4n4g3pfee6491hc0brc4i.apps.googleusercontent.com&redirect_uri=urn%3aietf%3awg%3aoauth%3a2.0%3aoob&response_type=code&scope=email%20https%3a%2f%2fwww.googleapis.com%2fauth%2fdocs.test%20https%3a%2f%2fwww.googleapis.com%2fauth%2fdrive%20https%3a%2f%2fwww.googleapis.com%2fauth%2fdrive.photos.readonly%20https%3a%2f%2fwww.googleapis.com%2fauth%2fpeopleapi.readonly\n",
            "\n",
            "Enter your authorization code:\n",
            "··········\n",
            "Mounted at /content/drive\n"
          ],
          "name": "stdout"
        }
      ]
    },
    {
      "cell_type": "code",
      "metadata": {
        "id": "d6YIVybsYXNQ",
        "colab_type": "code",
        "outputId": "dfeb3972-bb4c-494c-fb36-d0c231841cd7",
        "colab": {
          "base_uri": "https://localhost:8080/",
          "height": 72
        }
      },
      "source": [
        "wd = \"/content/drive/My Drive/gimhae/\"\n",
        "train = pd.read_csv((wd+'PJT002_train.csv'),encoding='utf-8' )\n",
        "validation = pd.read_csv((wd+'PJT002_validation.csv'),encoding='utf-8' )\n",
        "test = pd.read_csv((wd + 'PJT002_test.csv'), encoding = 'utf-8')"
      ],
      "execution_count": 29,
      "outputs": [
        {
          "output_type": "stream",
          "text": [
            "/usr/local/lib/python3.6/dist-packages/IPython/core/interactiveshell.py:2718: DtypeWarning: Columns (8,172,173,174,175,176,177,178,179) have mixed types. Specify dtype option on import or set low_memory=False.\n",
            "  interactivity=interactivity, compiler=compiler, result=result)\n"
          ],
          "name": "stderr"
        }
      ]
    },
    {
      "cell_type": "markdown",
      "metadata": {
        "id": "_3ox8o5FYXNk",
        "colab_type": "text"
      },
      "source": [
        "# 1단계"
      ]
    },
    {
      "cell_type": "markdown",
      "metadata": {
        "id": "m16ZXVtRYXNo",
        "colab_type": "text"
      },
      "source": [
        "### Date 변수 처리"
      ]
    },
    {
      "cell_type": "code",
      "metadata": {
        "id": "-9ENh3BBYXNs",
        "colab_type": "code",
        "colab": {}
      },
      "source": [
        "def dt_of_fr_transform(df) :\n",
        "    year_list = []\n",
        "    month_list =  []\n",
        "    day_list = []\n",
        "    weekday_list = []\n",
        "    hour_list = []\n",
        "    \n",
        "    season_list = []\n",
        "    \n",
        "    for i in range(len(df)) : \n",
        "        date_0=df.dt_of_fr[i].split(' ')[0] # '2017-10-20'\n",
        "        time_0=df.dt_of_fr[i].split(' ')[1] # '05:54:00'\n",
        "        \n",
        "        year = int(date_0.split('-')[0]) # 2017\n",
        "        month = int(date_0.split('-')[1]) # 10\n",
        "        day = int(date_0.split('-')[2]) # 20\n",
        "        weekday = datetime.date(year,month,day).weekday() # 0 : 월~ 6 : 일\n",
        "        \n",
        "        hour = int(time_0.split(':')[0]) # 05\n",
        "        \n",
        "        \n",
        "        if month in [3,4,5] :\n",
        "            season = 0\n",
        "        elif month in [6,7,8] :\n",
        "            season = 1\n",
        "        elif month in [9,10,11] :\n",
        "            season = 2 \n",
        "        else :\n",
        "            season =3\n",
        "            \n",
        "        year_list.append(year)\n",
        "        month_list.append(month)\n",
        "        day_list.append(day)\n",
        "        weekday_list.append(weekday)\n",
        "        season_list.append(season)\n",
        "        \n",
        "        hour_list.append(hour)\n",
        "        \n",
        "    df['year'] = year_list\n",
        "    df['month'] = month_list\n",
        "    df['day'] = day_list\n",
        "    df['weekday'] = weekday_list\n",
        "    df['season'] = season_list\n",
        "    df['hour'] = hour_list\n",
        "    # 다른 분들이 dt_of_fr 쓰실지 몰라서 일단은 drop 보류.\n",
        "    # df = df.drop(['dt_of_fr'],axis=1)\n",
        "    return df"
      ],
      "execution_count": 0,
      "outputs": []
    },
    {
      "cell_type": "code",
      "metadata": {
        "id": "8Vo16n87YXN4",
        "colab_type": "code",
        "colab": {}
      },
      "source": [
        "# 함수 적용\n",
        "train = dt_of_fr_transform(train)\n",
        "test = dt_of_fr_transform(test)\n",
        "validation = dt_of_fr_transform(validation)"
      ],
      "execution_count": 0,
      "outputs": []
    },
    {
      "cell_type": "markdown",
      "metadata": {
        "id": "c4a7CXdkYXOH",
        "colab_type": "text"
      },
      "source": [
        "### fr_yn 변수 처리"
      ]
    },
    {
      "cell_type": "code",
      "metadata": {
        "id": "u99qZkmWYXON",
        "colab_type": "code",
        "colab": {}
      },
      "source": [
        "train['fr_yn'] = pd.get_dummies(train['fr_yn'])['Y']\n",
        "validation['fr_yn'] = pd.get_dummies(validation['fr_yn'])['Y']"
      ],
      "execution_count": 0,
      "outputs": []
    },
    {
      "cell_type": "code",
      "metadata": {
        "id": "fGqHP1wNmDzu",
        "colab_type": "code",
        "outputId": "1aff83e1-8c49-48f9-e582-bf046e1359fd",
        "colab": {
          "base_uri": "https://localhost:8080/",
          "height": 943
        }
      },
      "source": [
        "train"
      ],
      "execution_count": 17,
      "outputs": [
        {
          "output_type": "execute_result",
          "data": {
            "text/html": [
              "<div>\n",
              "<style scoped>\n",
              "    .dataframe tbody tr th:only-of-type {\n",
              "        vertical-align: middle;\n",
              "    }\n",
              "\n",
              "    .dataframe tbody tr th {\n",
              "        vertical-align: top;\n",
              "    }\n",
              "\n",
              "    .dataframe thead th {\n",
              "        text-align: right;\n",
              "    }\n",
              "</style>\n",
              "<table border=\"1\" class=\"dataframe\">\n",
              "  <thead>\n",
              "    <tr style=\"text-align: right;\">\n",
              "      <th></th>\n",
              "      <th>dt_of_fr</th>\n",
              "      <th>fr_yn</th>\n",
              "      <th>bldng_us</th>\n",
              "      <th>bldng_archtctr</th>\n",
              "      <th>bldng_cnt</th>\n",
              "      <th>bldng_ar</th>\n",
              "      <th>ttl_ar</th>\n",
              "      <th>lnd_ar</th>\n",
              "      <th>dt_of_athrztn</th>\n",
              "      <th>ttl_grnd_flr</th>\n",
              "      <th>ttl_dwn_flr</th>\n",
              "      <th>bldng_us_clssfctn</th>\n",
              "      <th>tmprtr</th>\n",
              "      <th>prcpttn</th>\n",
              "      <th>wnd_spd</th>\n",
              "      <th>wnd_drctn</th>\n",
              "      <th>hmdt</th>\n",
              "      <th>gas_engry_us_201401</th>\n",
              "      <th>ele_engry_us_201401</th>\n",
              "      <th>gas_engry_us_201402</th>\n",
              "      <th>ele_engry_us_201402</th>\n",
              "      <th>gas_engry_us_201403</th>\n",
              "      <th>ele_engry_us_201403</th>\n",
              "      <th>gas_engry_us_201404</th>\n",
              "      <th>ele_engry_us_201404</th>\n",
              "      <th>gas_engry_us_201405</th>\n",
              "      <th>ele_engry_us_201405</th>\n",
              "      <th>gas_engry_us_201406</th>\n",
              "      <th>ele_engry_us_201406</th>\n",
              "      <th>gas_engry_us_201407</th>\n",
              "      <th>ele_engry_us_201407</th>\n",
              "      <th>gas_engry_us_201408</th>\n",
              "      <th>ele_engry_us_201408</th>\n",
              "      <th>gas_engry_us_201409</th>\n",
              "      <th>ele_engry_us_201409</th>\n",
              "      <th>gas_engry_us_201410</th>\n",
              "      <th>ele_engry_us_201410</th>\n",
              "      <th>gas_engry_us_201411</th>\n",
              "      <th>ele_engry_us_201411</th>\n",
              "      <th>gas_engry_us_201412</th>\n",
              "      <th>...</th>\n",
              "      <th>lw_13121011</th>\n",
              "      <th>lw_13131010</th>\n",
              "      <th>lw_13131110</th>\n",
              "      <th>lw_13141010</th>\n",
              "      <th>lw_13141011</th>\n",
              "      <th>jmk</th>\n",
              "      <th>id</th>\n",
              "      <th>rgnl_ar_nm</th>\n",
              "      <th>rgnl_ar_nm2</th>\n",
              "      <th>lnd_us_sttn_nm</th>\n",
              "      <th>rd_sd_nm</th>\n",
              "      <th>emd_nm</th>\n",
              "      <th>hm_cnt</th>\n",
              "      <th>fr_sttn_dstnc</th>\n",
              "      <th>bldng_ar_prc</th>\n",
              "      <th>fr_wthr_fclt_dstnc</th>\n",
              "      <th>fr_mn_cnt</th>\n",
              "      <th>mlt_us_yn</th>\n",
              "      <th>cctv_dstnc</th>\n",
              "      <th>fr_wthr_fclt_in_100m</th>\n",
              "      <th>cctv_in_100m</th>\n",
              "      <th>tbc_rtl_str_dstnc</th>\n",
              "      <th>sft_emrgnc_bll_dstnc</th>\n",
              "      <th>ahsm_dstnc</th>\n",
              "      <th>no_tbc_zn_dstnc</th>\n",
              "      <th>bldng_cnt_in_50m</th>\n",
              "      <th>trgt_crtr</th>\n",
              "      <th>fr_fghtng_fclt_spcl_css_5_yn</th>\n",
              "      <th>fr_fghtng_fclt_spcl_css_6_yn</th>\n",
              "      <th>us_yn</th>\n",
              "      <th>dngrs_thng_yn</th>\n",
              "      <th>slf_fr_brgd_yn</th>\n",
              "      <th>blk_dngrs_thng_mnfctr_yn</th>\n",
              "      <th>cltrl_hrtg_yn</th>\n",
              "      <th>year</th>\n",
              "      <th>month</th>\n",
              "      <th>day</th>\n",
              "      <th>weekday</th>\n",
              "      <th>season</th>\n",
              "      <th>hour</th>\n",
              "    </tr>\n",
              "  </thead>\n",
              "  <tbody>\n",
              "    <tr>\n",
              "      <th>0</th>\n",
              "      <td>2017-10-20 05:54:00</td>\n",
              "      <td>1</td>\n",
              "      <td>단독주택</td>\n",
              "      <td>블록구조</td>\n",
              "      <td>3</td>\n",
              "      <td>69.420</td>\n",
              "      <td>69.4200</td>\n",
              "      <td>0.0</td>\n",
              "      <td>1977</td>\n",
              "      <td>1.0</td>\n",
              "      <td>0.0</td>\n",
              "      <td>주거용</td>\n",
              "      <td>10.7</td>\n",
              "      <td>NaN</td>\n",
              "      <td>0.9</td>\n",
              "      <td>200.0</td>\n",
              "      <td>96.0</td>\n",
              "      <td>0.0</td>\n",
              "      <td>0.0</td>\n",
              "      <td>0.0</td>\n",
              "      <td>0.0</td>\n",
              "      <td>0.0</td>\n",
              "      <td>0.0</td>\n",
              "      <td>0.0</td>\n",
              "      <td>0.0</td>\n",
              "      <td>0.0</td>\n",
              "      <td>0.0</td>\n",
              "      <td>0.0</td>\n",
              "      <td>0.0</td>\n",
              "      <td>0.0</td>\n",
              "      <td>0.0</td>\n",
              "      <td>0.0</td>\n",
              "      <td>0.0</td>\n",
              "      <td>0.0</td>\n",
              "      <td>0.0</td>\n",
              "      <td>0.0</td>\n",
              "      <td>0.0</td>\n",
              "      <td>0.0</td>\n",
              "      <td>0.0</td>\n",
              "      <td>0.0</td>\n",
              "      <td>...</td>\n",
              "      <td>NaN</td>\n",
              "      <td>NaN</td>\n",
              "      <td>NaN</td>\n",
              "      <td>NaN</td>\n",
              "      <td>NaN</td>\n",
              "      <td>대</td>\n",
              "      <td>106536</td>\n",
              "      <td>자연녹지지역</td>\n",
              "      <td>지정되지않음</td>\n",
              "      <td>단독</td>\n",
              "      <td>세로한면(불)</td>\n",
              "      <td>경상남도 창녕군 창녕읍</td>\n",
              "      <td>17360.0</td>\n",
              "      <td>4547</td>\n",
              "      <td>NaN</td>\n",
              "      <td>133</td>\n",
              "      <td>137.0</td>\n",
              "      <td>N</td>\n",
              "      <td>112</td>\n",
              "      <td>0</td>\n",
              "      <td>0</td>\n",
              "      <td>1891</td>\n",
              "      <td>29231</td>\n",
              "      <td>11322</td>\n",
              "      <td>88</td>\n",
              "      <td>0</td>\n",
              "      <td>NaN</td>\n",
              "      <td>NaN</td>\n",
              "      <td>NaN</td>\n",
              "      <td>NaN</td>\n",
              "      <td>NaN</td>\n",
              "      <td>NaN</td>\n",
              "      <td>NaN</td>\n",
              "      <td>NaN</td>\n",
              "      <td>2017</td>\n",
              "      <td>10</td>\n",
              "      <td>20</td>\n",
              "      <td>4</td>\n",
              "      <td>2</td>\n",
              "      <td>5</td>\n",
              "    </tr>\n",
              "    <tr>\n",
              "      <th>1</th>\n",
              "      <td>2018-09-30 08:26:15</td>\n",
              "      <td>0</td>\n",
              "      <td>NaN</td>\n",
              "      <td>NaN</td>\n",
              "      <td>3</td>\n",
              "      <td>46.290</td>\n",
              "      <td>46.2900</td>\n",
              "      <td>0.0</td>\n",
              "      <td>NaN</td>\n",
              "      <td>1.0</td>\n",
              "      <td>0.0</td>\n",
              "      <td>NaN</td>\n",
              "      <td>19.5</td>\n",
              "      <td>NaN</td>\n",
              "      <td>0.5</td>\n",
              "      <td>20.0</td>\n",
              "      <td>74.0</td>\n",
              "      <td>NaN</td>\n",
              "      <td>NaN</td>\n",
              "      <td>NaN</td>\n",
              "      <td>NaN</td>\n",
              "      <td>NaN</td>\n",
              "      <td>NaN</td>\n",
              "      <td>NaN</td>\n",
              "      <td>NaN</td>\n",
              "      <td>NaN</td>\n",
              "      <td>NaN</td>\n",
              "      <td>NaN</td>\n",
              "      <td>NaN</td>\n",
              "      <td>NaN</td>\n",
              "      <td>NaN</td>\n",
              "      <td>NaN</td>\n",
              "      <td>NaN</td>\n",
              "      <td>NaN</td>\n",
              "      <td>NaN</td>\n",
              "      <td>NaN</td>\n",
              "      <td>NaN</td>\n",
              "      <td>NaN</td>\n",
              "      <td>NaN</td>\n",
              "      <td>NaN</td>\n",
              "      <td>...</td>\n",
              "      <td>NaN</td>\n",
              "      <td>NaN</td>\n",
              "      <td>NaN</td>\n",
              "      <td>NaN</td>\n",
              "      <td>NaN</td>\n",
              "      <td>대</td>\n",
              "      <td>86366</td>\n",
              "      <td>계획관리지역</td>\n",
              "      <td>지정되지않음</td>\n",
              "      <td>단독</td>\n",
              "      <td>세로한면(가)</td>\n",
              "      <td>경상남도 의령군 가례면</td>\n",
              "      <td>1791.0</td>\n",
              "      <td>6388</td>\n",
              "      <td>122581.0</td>\n",
              "      <td>489</td>\n",
              "      <td>85.0</td>\n",
              "      <td>N</td>\n",
              "      <td>818</td>\n",
              "      <td>0</td>\n",
              "      <td>0</td>\n",
              "      <td>4533</td>\n",
              "      <td>20480</td>\n",
              "      <td>3369</td>\n",
              "      <td>7727</td>\n",
              "      <td>0</td>\n",
              "      <td>NaN</td>\n",
              "      <td>NaN</td>\n",
              "      <td>NaN</td>\n",
              "      <td>NaN</td>\n",
              "      <td>NaN</td>\n",
              "      <td>NaN</td>\n",
              "      <td>NaN</td>\n",
              "      <td>NaN</td>\n",
              "      <td>2018</td>\n",
              "      <td>9</td>\n",
              "      <td>30</td>\n",
              "      <td>6</td>\n",
              "      <td>2</td>\n",
              "      <td>8</td>\n",
              "    </tr>\n",
              "    <tr>\n",
              "      <th>2</th>\n",
              "      <td>2016-10-30 14:57:00</td>\n",
              "      <td>1</td>\n",
              "      <td>공동주택</td>\n",
              "      <td>철근콘크리트구조</td>\n",
              "      <td>1</td>\n",
              "      <td>583.800</td>\n",
              "      <td>2516.7600</td>\n",
              "      <td>1446.0</td>\n",
              "      <td>2.00011e+07</td>\n",
              "      <td>5.0</td>\n",
              "      <td>0.0</td>\n",
              "      <td>주거용</td>\n",
              "      <td>15.5</td>\n",
              "      <td>NaN</td>\n",
              "      <td>2.0</td>\n",
              "      <td>90.0</td>\n",
              "      <td>21.0</td>\n",
              "      <td>0.0</td>\n",
              "      <td>0.0</td>\n",
              "      <td>0.0</td>\n",
              "      <td>0.0</td>\n",
              "      <td>0.0</td>\n",
              "      <td>0.0</td>\n",
              "      <td>0.0</td>\n",
              "      <td>0.0</td>\n",
              "      <td>0.0</td>\n",
              "      <td>0.0</td>\n",
              "      <td>0.0</td>\n",
              "      <td>0.0</td>\n",
              "      <td>0.0</td>\n",
              "      <td>0.0</td>\n",
              "      <td>0.0</td>\n",
              "      <td>0.0</td>\n",
              "      <td>0.0</td>\n",
              "      <td>0.0</td>\n",
              "      <td>0.0</td>\n",
              "      <td>0.0</td>\n",
              "      <td>0.0</td>\n",
              "      <td>0.0</td>\n",
              "      <td>0.0</td>\n",
              "      <td>...</td>\n",
              "      <td>NaN</td>\n",
              "      <td>NaN</td>\n",
              "      <td>NaN</td>\n",
              "      <td>NaN</td>\n",
              "      <td>NaN</td>\n",
              "      <td>답</td>\n",
              "      <td>107560</td>\n",
              "      <td>제2종일반주거지역</td>\n",
              "      <td>지정되지않음</td>\n",
              "      <td>연립</td>\n",
              "      <td>중로한면</td>\n",
              "      <td>경상남도 창녕군 창녕읍</td>\n",
              "      <td>17285.0</td>\n",
              "      <td>3340</td>\n",
              "      <td>618105.0</td>\n",
              "      <td>143</td>\n",
              "      <td>137.0</td>\n",
              "      <td>N</td>\n",
              "      <td>165</td>\n",
              "      <td>0</td>\n",
              "      <td>0</td>\n",
              "      <td>277</td>\n",
              "      <td>31197</td>\n",
              "      <td>12451</td>\n",
              "      <td>72</td>\n",
              "      <td>14</td>\n",
              "      <td>NaN</td>\n",
              "      <td>NaN</td>\n",
              "      <td>NaN</td>\n",
              "      <td>NaN</td>\n",
              "      <td>NaN</td>\n",
              "      <td>NaN</td>\n",
              "      <td>NaN</td>\n",
              "      <td>NaN</td>\n",
              "      <td>2016</td>\n",
              "      <td>10</td>\n",
              "      <td>30</td>\n",
              "      <td>6</td>\n",
              "      <td>2</td>\n",
              "      <td>14</td>\n",
              "    </tr>\n",
              "    <tr>\n",
              "      <th>3</th>\n",
              "      <td>2016-06-14 05:23:58</td>\n",
              "      <td>0</td>\n",
              "      <td>단독주택</td>\n",
              "      <td>일반목구조</td>\n",
              "      <td>2</td>\n",
              "      <td>48.920</td>\n",
              "      <td>48.9200</td>\n",
              "      <td>0.0</td>\n",
              "      <td>1936</td>\n",
              "      <td>1.0</td>\n",
              "      <td>0.0</td>\n",
              "      <td>주거용</td>\n",
              "      <td>20.6</td>\n",
              "      <td>NaN</td>\n",
              "      <td>0.4</td>\n",
              "      <td>0.0</td>\n",
              "      <td>91.0</td>\n",
              "      <td>0.0</td>\n",
              "      <td>0.0</td>\n",
              "      <td>0.0</td>\n",
              "      <td>0.0</td>\n",
              "      <td>0.0</td>\n",
              "      <td>0.0</td>\n",
              "      <td>0.0</td>\n",
              "      <td>0.0</td>\n",
              "      <td>0.0</td>\n",
              "      <td>0.0</td>\n",
              "      <td>0.0</td>\n",
              "      <td>0.0</td>\n",
              "      <td>0.0</td>\n",
              "      <td>0.0</td>\n",
              "      <td>0.0</td>\n",
              "      <td>0.0</td>\n",
              "      <td>0.0</td>\n",
              "      <td>0.0</td>\n",
              "      <td>0.0</td>\n",
              "      <td>0.0</td>\n",
              "      <td>0.0</td>\n",
              "      <td>0.0</td>\n",
              "      <td>0.0</td>\n",
              "      <td>...</td>\n",
              "      <td>NaN</td>\n",
              "      <td>NaN</td>\n",
              "      <td>NaN</td>\n",
              "      <td>NaN</td>\n",
              "      <td>NaN</td>\n",
              "      <td>대</td>\n",
              "      <td>97550</td>\n",
              "      <td>제1종일반주거지역</td>\n",
              "      <td>지정되지않음</td>\n",
              "      <td>단독</td>\n",
              "      <td>세로한면(불)</td>\n",
              "      <td>경상남도 창원시의창구 대산면</td>\n",
              "      <td>7327.0</td>\n",
              "      <td>179</td>\n",
              "      <td>719542.0</td>\n",
              "      <td>1585</td>\n",
              "      <td>176.0</td>\n",
              "      <td>N</td>\n",
              "      <td>131</td>\n",
              "      <td>0</td>\n",
              "      <td>0</td>\n",
              "      <td>438</td>\n",
              "      <td>4270</td>\n",
              "      <td>407</td>\n",
              "      <td>508</td>\n",
              "      <td>11</td>\n",
              "      <td>NaN</td>\n",
              "      <td>NaN</td>\n",
              "      <td>NaN</td>\n",
              "      <td>NaN</td>\n",
              "      <td>NaN</td>\n",
              "      <td>NaN</td>\n",
              "      <td>NaN</td>\n",
              "      <td>NaN</td>\n",
              "      <td>2016</td>\n",
              "      <td>6</td>\n",
              "      <td>14</td>\n",
              "      <td>1</td>\n",
              "      <td>1</td>\n",
              "      <td>5</td>\n",
              "    </tr>\n",
              "    <tr>\n",
              "      <th>4</th>\n",
              "      <td>2018-04-22 05:38:59</td>\n",
              "      <td>0</td>\n",
              "      <td>NaN</td>\n",
              "      <td>NaN</td>\n",
              "      <td>2</td>\n",
              "      <td>0.000</td>\n",
              "      <td>0.0000</td>\n",
              "      <td>0.0</td>\n",
              "      <td>NaN</td>\n",
              "      <td>NaN</td>\n",
              "      <td>NaN</td>\n",
              "      <td>NaN</td>\n",
              "      <td>12.7</td>\n",
              "      <td>NaN</td>\n",
              "      <td>0.6</td>\n",
              "      <td>360.0</td>\n",
              "      <td>89.0</td>\n",
              "      <td>NaN</td>\n",
              "      <td>NaN</td>\n",
              "      <td>NaN</td>\n",
              "      <td>NaN</td>\n",
              "      <td>NaN</td>\n",
              "      <td>NaN</td>\n",
              "      <td>NaN</td>\n",
              "      <td>NaN</td>\n",
              "      <td>NaN</td>\n",
              "      <td>NaN</td>\n",
              "      <td>NaN</td>\n",
              "      <td>NaN</td>\n",
              "      <td>NaN</td>\n",
              "      <td>NaN</td>\n",
              "      <td>NaN</td>\n",
              "      <td>NaN</td>\n",
              "      <td>NaN</td>\n",
              "      <td>NaN</td>\n",
              "      <td>NaN</td>\n",
              "      <td>NaN</td>\n",
              "      <td>NaN</td>\n",
              "      <td>NaN</td>\n",
              "      <td>NaN</td>\n",
              "      <td>...</td>\n",
              "      <td>NaN</td>\n",
              "      <td>NaN</td>\n",
              "      <td>NaN</td>\n",
              "      <td>NaN</td>\n",
              "      <td>NaN</td>\n",
              "      <td>임</td>\n",
              "      <td>130501</td>\n",
              "      <td>자연환경보전지역</td>\n",
              "      <td>지정되지않음</td>\n",
              "      <td>자연림</td>\n",
              "      <td>세로한면(불)</td>\n",
              "      <td>경상남도 창녕군 창녕읍</td>\n",
              "      <td>17278.0</td>\n",
              "      <td>4822</td>\n",
              "      <td>NaN</td>\n",
              "      <td>603</td>\n",
              "      <td>137.0</td>\n",
              "      <td>N</td>\n",
              "      <td>686</td>\n",
              "      <td>0</td>\n",
              "      <td>0</td>\n",
              "      <td>1702</td>\n",
              "      <td>29778</td>\n",
              "      <td>12487</td>\n",
              "      <td>707</td>\n",
              "      <td>0</td>\n",
              "      <td>NaN</td>\n",
              "      <td>NaN</td>\n",
              "      <td>NaN</td>\n",
              "      <td>NaN</td>\n",
              "      <td>NaN</td>\n",
              "      <td>NaN</td>\n",
              "      <td>NaN</td>\n",
              "      <td>NaN</td>\n",
              "      <td>2018</td>\n",
              "      <td>4</td>\n",
              "      <td>22</td>\n",
              "      <td>6</td>\n",
              "      <td>0</td>\n",
              "      <td>5</td>\n",
              "    </tr>\n",
              "    <tr>\n",
              "      <th>...</th>\n",
              "      <td>...</td>\n",
              "      <td>...</td>\n",
              "      <td>...</td>\n",
              "      <td>...</td>\n",
              "      <td>...</td>\n",
              "      <td>...</td>\n",
              "      <td>...</td>\n",
              "      <td>...</td>\n",
              "      <td>...</td>\n",
              "      <td>...</td>\n",
              "      <td>...</td>\n",
              "      <td>...</td>\n",
              "      <td>...</td>\n",
              "      <td>...</td>\n",
              "      <td>...</td>\n",
              "      <td>...</td>\n",
              "      <td>...</td>\n",
              "      <td>...</td>\n",
              "      <td>...</td>\n",
              "      <td>...</td>\n",
              "      <td>...</td>\n",
              "      <td>...</td>\n",
              "      <td>...</td>\n",
              "      <td>...</td>\n",
              "      <td>...</td>\n",
              "      <td>...</td>\n",
              "      <td>...</td>\n",
              "      <td>...</td>\n",
              "      <td>...</td>\n",
              "      <td>...</td>\n",
              "      <td>...</td>\n",
              "      <td>...</td>\n",
              "      <td>...</td>\n",
              "      <td>...</td>\n",
              "      <td>...</td>\n",
              "      <td>...</td>\n",
              "      <td>...</td>\n",
              "      <td>...</td>\n",
              "      <td>...</td>\n",
              "      <td>...</td>\n",
              "      <td>...</td>\n",
              "      <td>...</td>\n",
              "      <td>...</td>\n",
              "      <td>...</td>\n",
              "      <td>...</td>\n",
              "      <td>...</td>\n",
              "      <td>...</td>\n",
              "      <td>...</td>\n",
              "      <td>...</td>\n",
              "      <td>...</td>\n",
              "      <td>...</td>\n",
              "      <td>...</td>\n",
              "      <td>...</td>\n",
              "      <td>...</td>\n",
              "      <td>...</td>\n",
              "      <td>...</td>\n",
              "      <td>...</td>\n",
              "      <td>...</td>\n",
              "      <td>...</td>\n",
              "      <td>...</td>\n",
              "      <td>...</td>\n",
              "      <td>...</td>\n",
              "      <td>...</td>\n",
              "      <td>...</td>\n",
              "      <td>...</td>\n",
              "      <td>...</td>\n",
              "      <td>...</td>\n",
              "      <td>...</td>\n",
              "      <td>...</td>\n",
              "      <td>...</td>\n",
              "      <td>...</td>\n",
              "      <td>...</td>\n",
              "      <td>...</td>\n",
              "      <td>...</td>\n",
              "      <td>...</td>\n",
              "      <td>...</td>\n",
              "      <td>...</td>\n",
              "      <td>...</td>\n",
              "      <td>...</td>\n",
              "      <td>...</td>\n",
              "      <td>...</td>\n",
              "    </tr>\n",
              "    <tr>\n",
              "      <th>59194</th>\n",
              "      <td>2016-12-03 14:25:35</td>\n",
              "      <td>0</td>\n",
              "      <td>동.식물 관련시설</td>\n",
              "      <td>경량철골구조</td>\n",
              "      <td>2</td>\n",
              "      <td>423.000</td>\n",
              "      <td>423.0000</td>\n",
              "      <td>3010.0</td>\n",
              "      <td>1.99612e+07</td>\n",
              "      <td>NaN</td>\n",
              "      <td>NaN</td>\n",
              "      <td>NaN</td>\n",
              "      <td>11.2</td>\n",
              "      <td>NaN</td>\n",
              "      <td>0.2</td>\n",
              "      <td>0.0</td>\n",
              "      <td>41.0</td>\n",
              "      <td>0.0</td>\n",
              "      <td>0.0</td>\n",
              "      <td>0.0</td>\n",
              "      <td>0.0</td>\n",
              "      <td>0.0</td>\n",
              "      <td>0.0</td>\n",
              "      <td>0.0</td>\n",
              "      <td>0.0</td>\n",
              "      <td>0.0</td>\n",
              "      <td>0.0</td>\n",
              "      <td>0.0</td>\n",
              "      <td>0.0</td>\n",
              "      <td>0.0</td>\n",
              "      <td>0.0</td>\n",
              "      <td>0.0</td>\n",
              "      <td>0.0</td>\n",
              "      <td>0.0</td>\n",
              "      <td>0.0</td>\n",
              "      <td>0.0</td>\n",
              "      <td>0.0</td>\n",
              "      <td>0.0</td>\n",
              "      <td>0.0</td>\n",
              "      <td>0.0</td>\n",
              "      <td>...</td>\n",
              "      <td>NaN</td>\n",
              "      <td>NaN</td>\n",
              "      <td>NaN</td>\n",
              "      <td>NaN</td>\n",
              "      <td>NaN</td>\n",
              "      <td>목</td>\n",
              "      <td>91817</td>\n",
              "      <td>계획관리지역</td>\n",
              "      <td>지정되지않음</td>\n",
              "      <td>주거기타</td>\n",
              "      <td>세로한면(가)</td>\n",
              "      <td>경상남도 함안군 칠원읍</td>\n",
              "      <td>20955.0</td>\n",
              "      <td>3435</td>\n",
              "      <td>NaN</td>\n",
              "      <td>895</td>\n",
              "      <td>139.0</td>\n",
              "      <td>N</td>\n",
              "      <td>1131</td>\n",
              "      <td>0</td>\n",
              "      <td>0</td>\n",
              "      <td>3591</td>\n",
              "      <td>3624</td>\n",
              "      <td>6679</td>\n",
              "      <td>914</td>\n",
              "      <td>0</td>\n",
              "      <td>일반대상물</td>\n",
              "      <td>N</td>\n",
              "      <td>N</td>\n",
              "      <td>Y</td>\n",
              "      <td>N</td>\n",
              "      <td>N</td>\n",
              "      <td>N</td>\n",
              "      <td>N</td>\n",
              "      <td>2016</td>\n",
              "      <td>12</td>\n",
              "      <td>3</td>\n",
              "      <td>5</td>\n",
              "      <td>3</td>\n",
              "      <td>14</td>\n",
              "    </tr>\n",
              "    <tr>\n",
              "      <th>59195</th>\n",
              "      <td>2016-10-29 10:10:00</td>\n",
              "      <td>0</td>\n",
              "      <td>NaN</td>\n",
              "      <td>NaN</td>\n",
              "      <td>35</td>\n",
              "      <td>5593.711</td>\n",
              "      <td>54835.0382</td>\n",
              "      <td>0.0</td>\n",
              "      <td>NaN</td>\n",
              "      <td>171.0</td>\n",
              "      <td>0.0</td>\n",
              "      <td>NaN</td>\n",
              "      <td>14.8</td>\n",
              "      <td>NaN</td>\n",
              "      <td>1.9</td>\n",
              "      <td>20.0</td>\n",
              "      <td>72.0</td>\n",
              "      <td>NaN</td>\n",
              "      <td>NaN</td>\n",
              "      <td>NaN</td>\n",
              "      <td>NaN</td>\n",
              "      <td>NaN</td>\n",
              "      <td>NaN</td>\n",
              "      <td>NaN</td>\n",
              "      <td>NaN</td>\n",
              "      <td>NaN</td>\n",
              "      <td>NaN</td>\n",
              "      <td>NaN</td>\n",
              "      <td>NaN</td>\n",
              "      <td>NaN</td>\n",
              "      <td>NaN</td>\n",
              "      <td>NaN</td>\n",
              "      <td>NaN</td>\n",
              "      <td>NaN</td>\n",
              "      <td>NaN</td>\n",
              "      <td>NaN</td>\n",
              "      <td>NaN</td>\n",
              "      <td>NaN</td>\n",
              "      <td>NaN</td>\n",
              "      <td>NaN</td>\n",
              "      <td>...</td>\n",
              "      <td>NaN</td>\n",
              "      <td>NaN</td>\n",
              "      <td>NaN</td>\n",
              "      <td>NaN</td>\n",
              "      <td>NaN</td>\n",
              "      <td>대</td>\n",
              "      <td>99679</td>\n",
              "      <td>계획관리지역</td>\n",
              "      <td>지정되지않음</td>\n",
              "      <td>아파트</td>\n",
              "      <td>소로한면</td>\n",
              "      <td>경상남도 함안군 칠원읍</td>\n",
              "      <td>21014.0</td>\n",
              "      <td>1137</td>\n",
              "      <td>1849455.0</td>\n",
              "      <td>88</td>\n",
              "      <td>139.0</td>\n",
              "      <td>N</td>\n",
              "      <td>108</td>\n",
              "      <td>0</td>\n",
              "      <td>0</td>\n",
              "      <td>2629</td>\n",
              "      <td>77</td>\n",
              "      <td>1285</td>\n",
              "      <td>131</td>\n",
              "      <td>0</td>\n",
              "      <td>스프링클러,물분무등설치대상</td>\n",
              "      <td>N</td>\n",
              "      <td>N</td>\n",
              "      <td>Y</td>\n",
              "      <td>N</td>\n",
              "      <td>N</td>\n",
              "      <td>N</td>\n",
              "      <td>N</td>\n",
              "      <td>2016</td>\n",
              "      <td>10</td>\n",
              "      <td>29</td>\n",
              "      <td>5</td>\n",
              "      <td>2</td>\n",
              "      <td>10</td>\n",
              "    </tr>\n",
              "    <tr>\n",
              "      <th>59196</th>\n",
              "      <td>2018-03-03 19:49:03</td>\n",
              "      <td>0</td>\n",
              "      <td>NaN</td>\n",
              "      <td>NaN</td>\n",
              "      <td>2</td>\n",
              "      <td>2436.820</td>\n",
              "      <td>2468.8000</td>\n",
              "      <td>6512.0</td>\n",
              "      <td>NaN</td>\n",
              "      <td>4.0</td>\n",
              "      <td>0.0</td>\n",
              "      <td>NaN</td>\n",
              "      <td>13.3</td>\n",
              "      <td>NaN</td>\n",
              "      <td>3.2</td>\n",
              "      <td>230.0</td>\n",
              "      <td>58.0</td>\n",
              "      <td>NaN</td>\n",
              "      <td>NaN</td>\n",
              "      <td>NaN</td>\n",
              "      <td>NaN</td>\n",
              "      <td>NaN</td>\n",
              "      <td>NaN</td>\n",
              "      <td>NaN</td>\n",
              "      <td>NaN</td>\n",
              "      <td>NaN</td>\n",
              "      <td>NaN</td>\n",
              "      <td>NaN</td>\n",
              "      <td>NaN</td>\n",
              "      <td>NaN</td>\n",
              "      <td>NaN</td>\n",
              "      <td>NaN</td>\n",
              "      <td>NaN</td>\n",
              "      <td>NaN</td>\n",
              "      <td>NaN</td>\n",
              "      <td>NaN</td>\n",
              "      <td>NaN</td>\n",
              "      <td>NaN</td>\n",
              "      <td>NaN</td>\n",
              "      <td>NaN</td>\n",
              "      <td>...</td>\n",
              "      <td>NaN</td>\n",
              "      <td>NaN</td>\n",
              "      <td>NaN</td>\n",
              "      <td>NaN</td>\n",
              "      <td>NaN</td>\n",
              "      <td>장</td>\n",
              "      <td>122377</td>\n",
              "      <td>계획관리지역</td>\n",
              "      <td>지정되지않음</td>\n",
              "      <td>공업용</td>\n",
              "      <td>중로한면</td>\n",
              "      <td>경상남도 함안군 법수면</td>\n",
              "      <td>3014.0</td>\n",
              "      <td>5875</td>\n",
              "      <td>NaN</td>\n",
              "      <td>25</td>\n",
              "      <td>139.0</td>\n",
              "      <td>N</td>\n",
              "      <td>968</td>\n",
              "      <td>2</td>\n",
              "      <td>0</td>\n",
              "      <td>4271</td>\n",
              "      <td>6139</td>\n",
              "      <td>4878</td>\n",
              "      <td>790</td>\n",
              "      <td>0</td>\n",
              "      <td>자동화재탐지설치대상</td>\n",
              "      <td>N</td>\n",
              "      <td>N</td>\n",
              "      <td>Y</td>\n",
              "      <td>N</td>\n",
              "      <td>N</td>\n",
              "      <td>N</td>\n",
              "      <td>N</td>\n",
              "      <td>2018</td>\n",
              "      <td>3</td>\n",
              "      <td>3</td>\n",
              "      <td>5</td>\n",
              "      <td>0</td>\n",
              "      <td>19</td>\n",
              "    </tr>\n",
              "    <tr>\n",
              "      <th>59197</th>\n",
              "      <td>2017-09-27 11:10:33</td>\n",
              "      <td>0</td>\n",
              "      <td>제1종근린생활시설</td>\n",
              "      <td>경량철골구조</td>\n",
              "      <td>2</td>\n",
              "      <td>283.200</td>\n",
              "      <td>207.7100</td>\n",
              "      <td>0.0</td>\n",
              "      <td>2.00512e+07</td>\n",
              "      <td>2.0</td>\n",
              "      <td>0.0</td>\n",
              "      <td>상업용</td>\n",
              "      <td>18.2</td>\n",
              "      <td>1.0</td>\n",
              "      <td>1.4</td>\n",
              "      <td>360.0</td>\n",
              "      <td>95.0</td>\n",
              "      <td>0.0</td>\n",
              "      <td>0.0</td>\n",
              "      <td>0.0</td>\n",
              "      <td>0.0</td>\n",
              "      <td>0.0</td>\n",
              "      <td>0.0</td>\n",
              "      <td>0.0</td>\n",
              "      <td>0.0</td>\n",
              "      <td>0.0</td>\n",
              "      <td>0.0</td>\n",
              "      <td>0.0</td>\n",
              "      <td>0.0</td>\n",
              "      <td>0.0</td>\n",
              "      <td>0.0</td>\n",
              "      <td>0.0</td>\n",
              "      <td>0.0</td>\n",
              "      <td>0.0</td>\n",
              "      <td>0.0</td>\n",
              "      <td>0.0</td>\n",
              "      <td>0.0</td>\n",
              "      <td>0.0</td>\n",
              "      <td>0.0</td>\n",
              "      <td>0.0</td>\n",
              "      <td>...</td>\n",
              "      <td>NaN</td>\n",
              "      <td>NaN</td>\n",
              "      <td>NaN</td>\n",
              "      <td>NaN</td>\n",
              "      <td>NaN</td>\n",
              "      <td>답</td>\n",
              "      <td>137293</td>\n",
              "      <td>농림지역</td>\n",
              "      <td>지정되지않음</td>\n",
              "      <td>답기타</td>\n",
              "      <td>맹지</td>\n",
              "      <td>경상남도 함안군 대산면</td>\n",
              "      <td>3753.0</td>\n",
              "      <td>8579</td>\n",
              "      <td>NaN</td>\n",
              "      <td>510</td>\n",
              "      <td>139.0</td>\n",
              "      <td>N</td>\n",
              "      <td>177</td>\n",
              "      <td>0</td>\n",
              "      <td>0</td>\n",
              "      <td>1387</td>\n",
              "      <td>10142</td>\n",
              "      <td>3572</td>\n",
              "      <td>613</td>\n",
              "      <td>0</td>\n",
              "      <td>일반대상물</td>\n",
              "      <td>N</td>\n",
              "      <td>N</td>\n",
              "      <td>Y</td>\n",
              "      <td>N</td>\n",
              "      <td>N</td>\n",
              "      <td>N</td>\n",
              "      <td>N</td>\n",
              "      <td>2017</td>\n",
              "      <td>9</td>\n",
              "      <td>27</td>\n",
              "      <td>2</td>\n",
              "      <td>2</td>\n",
              "      <td>11</td>\n",
              "    </tr>\n",
              "    <tr>\n",
              "      <th>59198</th>\n",
              "      <td>2015-09-20 07:34:41</td>\n",
              "      <td>0</td>\n",
              "      <td>창고시설</td>\n",
              "      <td>경량철골구조</td>\n",
              "      <td>3</td>\n",
              "      <td>169.260</td>\n",
              "      <td>169.2600</td>\n",
              "      <td>537.0</td>\n",
              "      <td>2.00205e+07</td>\n",
              "      <td>1.0</td>\n",
              "      <td>0.0</td>\n",
              "      <td>기타</td>\n",
              "      <td>16.5</td>\n",
              "      <td>NaN</td>\n",
              "      <td>0.8</td>\n",
              "      <td>200.0</td>\n",
              "      <td>91.0</td>\n",
              "      <td>0.0</td>\n",
              "      <td>0.0</td>\n",
              "      <td>0.0</td>\n",
              "      <td>0.0</td>\n",
              "      <td>0.0</td>\n",
              "      <td>0.0</td>\n",
              "      <td>0.0</td>\n",
              "      <td>0.0</td>\n",
              "      <td>0.0</td>\n",
              "      <td>0.0</td>\n",
              "      <td>0.0</td>\n",
              "      <td>0.0</td>\n",
              "      <td>0.0</td>\n",
              "      <td>0.0</td>\n",
              "      <td>0.0</td>\n",
              "      <td>0.0</td>\n",
              "      <td>0.0</td>\n",
              "      <td>0.0</td>\n",
              "      <td>0.0</td>\n",
              "      <td>0.0</td>\n",
              "      <td>0.0</td>\n",
              "      <td>0.0</td>\n",
              "      <td>0.0</td>\n",
              "      <td>...</td>\n",
              "      <td>NaN</td>\n",
              "      <td>NaN</td>\n",
              "      <td>NaN</td>\n",
              "      <td>NaN</td>\n",
              "      <td>NaN</td>\n",
              "      <td>창</td>\n",
              "      <td>72907</td>\n",
              "      <td>농림지역</td>\n",
              "      <td>지정되지않음</td>\n",
              "      <td>답기타</td>\n",
              "      <td>세로한면(불)</td>\n",
              "      <td>경상남도 창녕군 대지면</td>\n",
              "      <td>2608.0</td>\n",
              "      <td>415</td>\n",
              "      <td>NaN</td>\n",
              "      <td>335</td>\n",
              "      <td>137.0</td>\n",
              "      <td>N</td>\n",
              "      <td>318</td>\n",
              "      <td>0</td>\n",
              "      <td>0</td>\n",
              "      <td>1819</td>\n",
              "      <td>33400</td>\n",
              "      <td>11769</td>\n",
              "      <td>415</td>\n",
              "      <td>0</td>\n",
              "      <td>일반대상물</td>\n",
              "      <td>N</td>\n",
              "      <td>N</td>\n",
              "      <td>Y</td>\n",
              "      <td>N</td>\n",
              "      <td>N</td>\n",
              "      <td>N</td>\n",
              "      <td>N</td>\n",
              "      <td>2015</td>\n",
              "      <td>9</td>\n",
              "      <td>20</td>\n",
              "      <td>6</td>\n",
              "      <td>2</td>\n",
              "      <td>7</td>\n",
              "    </tr>\n",
              "  </tbody>\n",
              "</table>\n",
              "<p>59199 rows × 186 columns</p>\n",
              "</div>"
            ],
            "text/plain": [
              "                  dt_of_fr  fr_yn   bldng_us  ... weekday  season  hour\n",
              "0      2017-10-20 05:54:00      1       단독주택  ...       4       2     5\n",
              "1      2018-09-30 08:26:15      0        NaN  ...       6       2     8\n",
              "2      2016-10-30 14:57:00      1       공동주택  ...       6       2    14\n",
              "3      2016-06-14 05:23:58      0       단독주택  ...       1       1     5\n",
              "4      2018-04-22 05:38:59      0        NaN  ...       6       0     5\n",
              "...                    ...    ...        ...  ...     ...     ...   ...\n",
              "59194  2016-12-03 14:25:35      0  동.식물 관련시설  ...       5       3    14\n",
              "59195  2016-10-29 10:10:00      0        NaN  ...       5       2    10\n",
              "59196  2018-03-03 19:49:03      0        NaN  ...       5       0    19\n",
              "59197  2017-09-27 11:10:33      0  제1종근린생활시설  ...       2       2    11\n",
              "59198  2015-09-20 07:34:41      0       창고시설  ...       6       2     7\n",
              "\n",
              "[59199 rows x 186 columns]"
            ]
          },
          "metadata": {
            "tags": []
          },
          "execution_count": 17
        }
      ]
    },
    {
      "cell_type": "markdown",
      "metadata": {
        "id": "Vu6g6TK2YXOc",
        "colab_type": "text"
      },
      "source": [
        "### 'rgnl_ar_nm','rgnl_ar_nm2','jmk','lnd_us_sttn_nm','rd_sd_nm'"
      ]
    },
    {
      "cell_type": "code",
      "metadata": {
        "id": "4RAg1OW1YXOg",
        "colab_type": "code",
        "colab": {}
      },
      "source": [
        "def land_transform_step_1(df) :\n",
        "    # rgnl_ar_nm, rgnl_ar_nm, jmk,lnd_us_sttn_nm,rd_sd_nm 행의 NA 값들을 모두 'blank'라는 새로운 범주로 지정해줌\n",
        "    # (참고로 rgnl_ar_nm 이 NA인 경우 모두 rgnl_ar_nm2 값 또한 NA)\n",
        "    values = {'rgnl_ar_nm': 'blank', 'rgnl_ar_nm2': 'blank','jmk':'blank','lnd_us_sttn_nm':'blank','rd_sd_nm':'blank'}\n",
        "    df = df.fillna(value=values)\n",
        "    \n",
        "    # rgnl_ar_nm2 처리1 : rgnl_ar_nm2가 지정되지 않은 경우 그 행의 rgnl_ar_nm1의 값을 따르게 함.\n",
        "    ix = df[ df['rgnl_ar_nm2']=='지정되지않음' ].index\n",
        "    df.loc[ix,'rgnl_ar_nm2'] = df.loc[ix,'rgnl_ar_nm']\n",
        "    return df"
      ],
      "execution_count": 0,
      "outputs": []
    },
    {
      "cell_type": "code",
      "metadata": {
        "id": "8GWiuW3-YXOt",
        "colab_type": "code",
        "colab": {}
      },
      "source": [
        "train = land_transform_step_1(train)\n",
        "test = land_transform_step_1(test)\n",
        "validation = land_transform_step_1(validation)"
      ],
      "execution_count": 0,
      "outputs": []
    },
    {
      "cell_type": "code",
      "metadata": {
        "id": "onZqrwOjYXO5",
        "colab_type": "code",
        "outputId": "6b33df5f-662e-4976-ae11-d9fc970cf698",
        "colab": {
          "base_uri": "https://localhost:8080/",
          "height": 35
        }
      },
      "source": [
        "# train, test, validation set마다 포함하고 있는 범주가 조금씩 달라서 한번에 묶어서 기준 세움\n",
        "\n",
        "# rgnl_ar_nm, rgnl_ar_nm2 변수의 경우 rgnl_ar_nm_uniques 가지고 fitting하도록 함.\n",
        "rgnl_ar_nm_uniques = train.rgnl_ar_nm.append(train.rgnl_ar_nm2).append(test.rgnl_ar_nm).append(test.rgnl_ar_nm2).append(validation.rgnl_ar_nm).append(validation.rgnl_ar_nm2).unique()\n",
        "rgnl_ar_nm_uniques = rgnl_ar_nm_uniques.reshape(-1,1)\n",
        "\n",
        "# 'jmk','lnd_us_sttn_nm','rd_sd_nm' 또한 마찬가지\n",
        "jmk_uniques = train.jmk.append(test.jmk).append(validation.jmk).unique()\n",
        "jmk_uniques = jmk_uniques.reshape(-1,1)\n",
        "\n",
        "lnd_us_sttn_nm_uniques = train.lnd_us_sttn_nm.append(test.lnd_us_sttn_nm).append(validation.lnd_us_sttn_nm).unique()\n",
        "lnd_us_sttn_nm_uniques = lnd_us_sttn_nm_uniques.reshape(-1,1)\n",
        "\n",
        "rd_sd_nm_uniques = train.rd_sd_nm.append(test.rd_sd_nm).append(validation.rd_sd_nm).unique()\n",
        "rd_sd_nm_uniques = rd_sd_nm_uniques.reshape(-1,1)\n",
        "\n",
        "'''\n",
        "print(rgnl_ar_nm_uniques)\n",
        "print(jmk_uniques)\n",
        "print(lnd_us_sttn_nm_uniques)\n",
        "print(rd_sd_nm_uniques)\n",
        "'''"
      ],
      "execution_count": 0,
      "outputs": [
        {
          "output_type": "execute_result",
          "data": {
            "text/plain": [
              "'\\nprint(rgnl_ar_nm_uniques)\\nprint(jmk_uniques)\\nprint(lnd_us_sttn_nm_uniques)\\nprint(rd_sd_nm_uniques)\\n'"
            ]
          },
          "metadata": {
            "tags": []
          },
          "execution_count": 19
        }
      ]
    },
    {
      "cell_type": "code",
      "metadata": {
        "id": "LZuJuz4gYXPI",
        "colab_type": "code",
        "colab": {}
      },
      "source": [
        "def land_transform_step_2(df):\n",
        "    #################################################################################\n",
        "    # rgnl_ar_nm, rgnl_ar_nm2 처리 \n",
        "    # train, test, validation set마다 포함하고 있는 범주가 조금씩 달라서 한번에 묶어서 기준 세움\n",
        "    \n",
        "    oh_enc_rgnl_ar_nm = OneHotEncoder()\n",
        "    oh_enc_rgnl_ar_nm.fit(rgnl_ar_nm_uniques)\n",
        "    \n",
        "    # category 이름 list\n",
        "    cat_list_rgnl = oh_enc_rgnl_ar_nm.__dict__['categories_'][0].tolist()\n",
        "    \n",
        "    # encoder 들어갈 수 있게 모양 잡아줌.\n",
        "    ar1 = np.array(df.rgnl_ar_nm).reshape(-1,1)\n",
        "    ar2 = np.array(df.rgnl_ar_nm2).reshape(-1,1)\n",
        "    \n",
        "    # onehot encoding\n",
        "    ar1_onehot = oh_enc_rgnl_ar_nm.transform(ar1)\n",
        "    ar2_onehot = oh_enc_rgnl_ar_nm.transform(ar2)\n",
        "    \n",
        "    # 더해주고 2로 나누고 본 데이터에 붙이고 rgnl_ar_nm, rgnl_ar_nm2 drop\n",
        "    onehot = (ar1_onehot/2+ar2_onehot/2).toarray()\n",
        "    df = df.drop(['rgnl_ar_nm','rgnl_ar_nm2'],axis=1)\n",
        "    df = pd.concat([df,pd.DataFrame(onehot,columns=cat_list_rgnl)],axis=1)\n",
        "    \n",
        "    #################################################################################\n",
        "    # jmk, lnd_us_sttn_nm, rd_sd_nm 처리\n",
        "    # 위와 같은 방법\n",
        "    \n",
        "    # jmk\n",
        "    oh_enc_jmk = OneHotEncoder()\n",
        "    oh_enc_jmk.fit(jmk_uniques)\n",
        "    \n",
        "    cat_list_jmk = oh_enc_jmk.__dict__['categories_'][0].tolist()\n",
        "    jmk_arr = np.array(df.jmk).reshape(-1,1)\n",
        "    jmk_onehot = oh_enc_jmk.transform(jmk_arr).toarray()\n",
        "    df = df.drop(['jmk'],axis=1)\n",
        "    df = pd.concat([df,pd.DataFrame(jmk_onehot,columns=cat_list_jmk)],axis=1)\n",
        "    \n",
        "    #lnd_us_sttn_nm\n",
        "    oh_enc_lnd_us_sttn_nm = OneHotEncoder()\n",
        "    oh_enc_lnd_us_sttn_nm.fit(lnd_us_sttn_nm_uniques)\n",
        "\n",
        "    cat_list_lnd_us_sttn_nm = oh_enc_lnd_us_sttn_nm.__dict__['categories_'][0].tolist()\n",
        "    lnd_us_sttn_nm_arr = np.array(df.lnd_us_sttn_nm).reshape(-1,1)\n",
        "    lnd_us_sttn_nm_onehot = oh_enc_lnd_us_sttn_nm.transform(lnd_us_sttn_nm_arr).toarray()\n",
        "    df = df.drop(['lnd_us_sttn_nm'],axis=1)\n",
        "    df = pd.concat([df,pd.DataFrame(lnd_us_sttn_nm_onehot,columns=cat_list_lnd_us_sttn_nm)],axis=1)\n",
        "    \n",
        "    #rd_sd_nm\n",
        "    oh_enc_rd_sd_nm = OneHotEncoder()\n",
        "    oh_enc_rd_sd_nm.fit(rd_sd_nm_uniques)\n",
        "    \n",
        "    cat_list_rd_sd_nm = oh_enc_rd_sd_nm.__dict__['categories_'][0].tolist()\n",
        "    rd_sd_nm_arr = np.array(df.rd_sd_nm).reshape(-1,1)\n",
        "    rd_sd_nm_onehot = oh_enc_rd_sd_nm.transform(rd_sd_nm_arr).toarray()\n",
        "    df = df.drop(['rd_sd_nm'],axis=1)\n",
        "    df = pd.concat([df,pd.DataFrame(rd_sd_nm_onehot,columns=cat_list_rd_sd_nm)],axis=1)\n",
        "\n",
        "    return df\n",
        "    \n",
        "    \n",
        "    "
      ],
      "execution_count": 0,
      "outputs": []
    },
    {
      "cell_type": "code",
      "metadata": {
        "scrolled": true,
        "id": "l8vXcdeLYXPU",
        "colab_type": "code",
        "colab": {}
      },
      "source": [
        "train = land_transform_step_2(train)\n",
        "test= land_transform_step_2(test)\n",
        "validation = land_transform_step_2(validation)"
      ],
      "execution_count": 0,
      "outputs": []
    },
    {
      "cell_type": "markdown",
      "metadata": {
        "id": "1PtURZL3YXPg",
        "colab_type": "text"
      },
      "source": [
        "## 지현님 파트(1단계)"
      ]
    },
    {
      "cell_type": "markdown",
      "metadata": {
        "id": "Gwtzwzw0YXPk",
        "colab_type": "text"
      },
      "source": [
        "* 건물 승인일자 년 단위로 자르기 함수 (소수점 포함 10자리인 글자만 찾아 자르기)\n",
        "\n",
        "* 그 후, 2019에서 뺀 값으로 대체"
      ]
    },
    {
      "cell_type": "code",
      "metadata": {
        "id": "8cAsECTcYXPo",
        "colab_type": "code",
        "colab": {}
      },
      "source": [
        "def cut_func(x):\n",
        "    if len(str(x)) == 10:\n",
        "        return str(x)[:4]"
      ],
      "execution_count": 0,
      "outputs": []
    },
    {
      "cell_type": "code",
      "metadata": {
        "id": "VlIrBqdHYXP0",
        "colab_type": "code",
        "colab": {}
      },
      "source": [
        "train['dt_of_athrztn'] = train['dt_of_athrztn'].apply(cut_func)\n",
        "test['dt_of_athrztn'] = test['dt_of_athrztn'].apply(cut_func)\n",
        "validation['dt_of_athrztn'] = validation['dt_of_athrztn'].apply(cut_func)"
      ],
      "execution_count": 0,
      "outputs": []
    },
    {
      "cell_type": "code",
      "metadata": {
        "id": "8KzQNaK0YXQA",
        "colab_type": "code",
        "colab": {}
      },
      "source": [
        "train['dt_of_athrztn'] = pd.to_numeric(train['dt_of_athrztn'])\n",
        "test['dt_of_athrztn'] = pd.to_numeric(test['dt_of_athrztn'])\n",
        "validation['dt_of_athrztn'] = pd.to_numeric(validation['dt_of_athrztn'])"
      ],
      "execution_count": 0,
      "outputs": []
    },
    {
      "cell_type": "code",
      "metadata": {
        "id": "QcltOk4GYXQM",
        "colab_type": "code",
        "colab": {}
      },
      "source": [
        "train['dt_of_athrztn'] = 2019 - train['dt_of_athrztn']\n",
        "test['dt_of_athrztn'] = 2019 - test['dt_of_athrztn']\n",
        "validation['dt_of_athrztn'] = 2019 - validation['dt_of_athrztn']"
      ],
      "execution_count": 0,
      "outputs": []
    },
    {
      "cell_type": "markdown",
      "metadata": {
        "id": "6jcWnVAtYXQa",
        "colab_type": "text"
      },
      "source": [
        "* 지상층, 지하층, 건물채수 카테고리화"
      ]
    },
    {
      "cell_type": "code",
      "metadata": {
        "id": "14DhKJBIYXQd",
        "colab_type": "code",
        "colab": {}
      },
      "source": [
        "train_data = [train, test, validation]"
      ],
      "execution_count": 0,
      "outputs": []
    },
    {
      "cell_type": "code",
      "metadata": {
        "id": "7MIliRIkYXQp",
        "colab_type": "code",
        "colab": {}
      },
      "source": [
        "# 지상층 카테고리화\n",
        "\n",
        "for dataset in train_data:\n",
        "    dataset.loc[dataset['ttl_grnd_flr'] == 0, 'ttl_grnd_flr'] = 0,\n",
        "    dataset.loc[(dataset['ttl_grnd_flr'] >= 1) &  (dataset['ttl_grnd_flr'] <= 10), 'ttl_grnd_flr'] = 10, \n",
        "    dataset.loc[(dataset['ttl_grnd_flr'] > 10) &  (dataset['ttl_grnd_flr'] <= 20), 'ttl_grnd_flr'] = 20,\n",
        "    dataset.loc[(dataset['ttl_grnd_flr'] > 20) &  (dataset['ttl_grnd_flr'] <= 30), 'ttl_grnd_flr'] = 30,\n",
        "    dataset.loc[(dataset['ttl_grnd_flr'] > 30) &  (dataset['ttl_grnd_flr'] <= 40), 'ttl_grnd_flr'] = 40,\n",
        "    dataset.loc[(dataset['ttl_grnd_flr'] > 40) &  (dataset['ttl_grnd_flr'] <= 55), 'ttl_grnd_flr'] = 55,\n",
        "    dataset.loc[dataset['ttl_grnd_flr'] > 55, 'ttl_grnd_flr'] = 56"
      ],
      "execution_count": 0,
      "outputs": []
    },
    {
      "cell_type": "code",
      "metadata": {
        "id": "9E6VE7b6YXQ0",
        "colab_type": "code",
        "colab": {}
      },
      "source": [
        "# 지하층 카테고리화\n",
        "\n",
        "for dataset in train_data:\n",
        "    dataset.loc[dataset['ttl_dwn_flr'] == 0, 'ttl_dwn_flr'] = 0,\n",
        "    dataset.loc[(dataset['ttl_dwn_flr'] >= 1) &  (dataset['ttl_dwn_flr'] <= 4), 'ttl_dwn_flr'] = 4, \n",
        "    dataset.loc[(dataset['ttl_dwn_flr'] > 4) &  (dataset['ttl_dwn_flr'] <= 10), 'ttl_dwn_flr'] = 10,\n",
        "    dataset.loc[(dataset['ttl_dwn_flr'] > 10) &  (dataset['ttl_dwn_flr'] <= 20), 'ttl_dwn_flr'] = 20,\n",
        "    dataset.loc[dataset['ttl_dwn_flr'] > 20, 'ttl_dwn_flr'] = 21\n"
      ],
      "execution_count": 0,
      "outputs": []
    },
    {
      "cell_type": "code",
      "metadata": {
        "id": "RnqVHySrYXRD",
        "colab_type": "code",
        "colab": {}
      },
      "source": [
        "# 건물 채수 카테고리화\n",
        "\n",
        "for dataset in train_data:\n",
        "    dataset.loc[dataset['bldng_cnt'] == 0, 'bldng_cnt'] = 0,\n",
        "    dataset.loc[(dataset['bldng_cnt'] >= 1) &  (dataset['bldng_cnt'] <= 5), 'bldng_cnt'] = 5, \n",
        "    dataset.loc[(dataset['bldng_cnt'] > 5) &  (dataset['bldng_cnt'] <= 10), 'bldng_cnt'] = 10,\n",
        "    dataset.loc[(dataset['bldng_cnt'] > 10) &  (dataset['bldng_cnt'] <= 20), 'bldng_cnt'] = 20,\n",
        "    dataset.loc[(dataset['bldng_cnt'] > 20) &  (dataset['bldng_cnt'] <= 30), 'bldng_cnt'] = 30,\n",
        "    dataset.loc[dataset['bldng_cnt'] > 30, 'bldng_cnt'] = 31"
      ],
      "execution_count": 0,
      "outputs": []
    },
    {
      "cell_type": "markdown",
      "metadata": {
        "id": "jOGheTrNYXRd",
        "colab_type": "text"
      },
      "source": [
        "----------------------------"
      ]
    },
    {
      "cell_type": "code",
      "metadata": {
        "id": "riSVmxXYYXRx",
        "colab_type": "code",
        "colab": {}
      },
      "source": [
        "# set the NA values to 'blank' and -999\n",
        "\n",
        "train[['bldng_us', 'bldng_archtctr', 'bldng_us_clssfctn']] = train[['bldng_us', 'bldng_archtctr', 'bldng_us_clssfctn']].fillna('blank')\n",
        "test[['bldng_us', 'bldng_archtctr', 'bldng_us_clssfctn']] = test[['bldng_us', 'bldng_archtctr', 'bldng_us_clssfctn']].fillna('blank')\n",
        "validation[['bldng_us', 'bldng_archtctr', 'bldng_us_clssfctn']] = validation[['bldng_us', 'bldng_archtctr', 'bldng_us_clssfctn']].fillna('blank')\n",
        "\n",
        "train[['ttl_grnd_flr', 'ttl_dwn_flr', 'bldng_cnt']] = train[['ttl_grnd_flr', 'ttl_dwn_flr', 'bldng_cnt']].fillna(-999)\n",
        "test[['ttl_grnd_flr', 'ttl_dwn_flr', 'bldng_cnt']] = test[['ttl_grnd_flr', 'ttl_dwn_flr', 'bldng_cnt']].fillna(-999)\n",
        "validation[['ttl_grnd_flr', 'ttl_dwn_flr', 'bldng_cnt']] = validation[['ttl_grnd_flr', 'ttl_dwn_flr', 'bldng_cnt']].fillna(-999)\n",
        "\n",
        "    "
      ],
      "execution_count": 0,
      "outputs": []
    },
    {
      "cell_type": "code",
      "metadata": {
        "id": "LLFMkEU-YXSA",
        "colab_type": "code",
        "colab": {}
      },
      "source": [
        "# 'bldng_us', 'bldng_archtctr', 'bldng_us_clssfctn','ttl_grnd_flr', 'ttl_dwn_flr', 'bldng_cnt'\n",
        "# train, test, validation에서 각각 가지고 있는 총 카테고리의 수가 달라서 묶어서 한번에 피팅해주기로 함.\n",
        "\n",
        "bldng_us_uniques = train.bldng_us.append(train.bldng_us).append(test.bldng_us).append(test.bldng_us).append(validation.bldng_us).append(validation.bldng_us).unique()\n",
        "bldng_us_uniques = bldng_us_uniques.reshape(-1,1)\n",
        "\n",
        "bldng_archtctr_uniques = train.bldng_archtctr.append(train.bldng_archtctr).append(test.bldng_archtctr).append(test.bldng_archtctr).append(validation.bldng_archtctr).append(validation.bldng_archtctr).unique()\n",
        "bldng_archtctr_uniques = bldng_archtctr_uniques.reshape(-1,1)\n",
        "\n",
        "bldng_us_clssfctn_uniques = train.bldng_us_clssfctn.append(train.bldng_us_clssfctn).append(test.bldng_us_clssfctn).append(test.bldng_us_clssfctn).append(validation.bldng_us_clssfctn).append(validation.bldng_us_clssfctn).unique()\n",
        "bldng_us_clssfctn_uniques = bldng_us_clssfctn_uniques.reshape(-1,1)\n",
        "\n",
        "ttl_grnd_flr_uniques = train.ttl_grnd_flr.append(train.ttl_grnd_flr).append(test.ttl_grnd_flr).append(test.ttl_grnd_flr).append(validation.ttl_grnd_flr).append(validation.ttl_grnd_flr).unique()\n",
        "ttl_grnd_flr_uniques = ttl_grnd_flr_uniques.reshape(-1,1)\n",
        "\n",
        "ttl_dwn_flr_uniques = train.ttl_dwn_flr.append(train.ttl_dwn_flr).append(test.ttl_dwn_flr).append(test.ttl_dwn_flr).append(validation.ttl_dwn_flr).append(validation.ttl_dwn_flr).unique()\n",
        "ttl_dwn_flr_uniques = ttl_dwn_flr_uniques.reshape(-1,1)\n",
        "\n",
        "bldng_cnt_uniques = train.bldng_cnt.append(train.bldng_cnt).append(test.bldng_cnt).append(test.bldng_cnt).append(validation.bldng_cnt).append(validation.bldng_cnt).unique()\n",
        "bldng_cnt_uniques = bldng_cnt_uniques.reshape(-1,1)\n"
      ],
      "execution_count": 0,
      "outputs": []
    },
    {
      "cell_type": "code",
      "metadata": {
        "id": "C-KCgAMJYXSO",
        "colab_type": "code",
        "colab": {}
      },
      "source": [
        "def bldng_transform(df):\n",
        " #################################################################################\n",
        "    # 'bldng_us', 'bldng_archtctr', 'bldng_us_clssfctn','ttl_grnd_flr', 'ttl_dwn_flr', 'bldng_cnt' 처리\n",
        "    # 위와 같은 방법\n",
        "    \n",
        "    # bldng_us\n",
        "    oh_enc_bldng_us = OneHotEncoder()\n",
        "    oh_enc_bldng_us.fit(bldng_us_uniques)\n",
        "    \n",
        "    cat_list_bldng_us = oh_enc_bldng_us.__dict__['categories_'][0].tolist()\n",
        "    bldng_us_arr = np.array(df.bldng_us).reshape(-1,1)\n",
        "    bldng_us_onehot = oh_enc_bldng_us.transform(bldng_us_arr).toarray()\n",
        "    df = df.drop(['bldng_us'],axis=1)\n",
        "    df = pd.concat([df,pd.DataFrame(bldng_us_onehot,columns=cat_list_bldng_us)],axis=1)\n",
        "        \n",
        "    # bldng_archtctr\n",
        "    oh_enc_bldng_archtctr = OneHotEncoder()\n",
        "    oh_enc_bldng_archtctr.fit(bldng_archtctr_uniques)\n",
        "    \n",
        "    cat_list_bldng_archtctr = oh_enc_bldng_archtctr.__dict__['categories_'][0].tolist()\n",
        "    bldng_archtctr_arr = np.array(df.bldng_archtctr).reshape(-1,1)\n",
        "    bldng_archtctr_onehot = oh_enc_bldng_archtctr.transform(bldng_archtctr_arr).toarray()\n",
        "    df = df.drop(['bldng_archtctr'],axis=1)\n",
        "    df = pd.concat([df,pd.DataFrame(bldng_archtctr_onehot,columns=cat_list_bldng_archtctr)],axis=1)\n",
        "    \n",
        "    # bldng_us_clssfctn\n",
        "    oh_enc_bldng_us_clssfctn = OneHotEncoder()\n",
        "    oh_enc_bldng_us_clssfctn.fit(bldng_us_clssfctn_uniques)\n",
        "    \n",
        "    cat_list_bldng_us_clssfctn = oh_enc_bldng_us_clssfctn.__dict__['categories_'][0].tolist()\n",
        "    bldng_us_clssfctn_arr = np.array(df.bldng_us_clssfctn).reshape(-1,1)\n",
        "    bldng_us_clssfctn_onehot = oh_enc_bldng_us_clssfctn.transform(bldng_us_clssfctn_arr).toarray()\n",
        "    df = df.drop(['bldng_us_clssfctn'],axis=1)\n",
        "    df = pd.concat([df,pd.DataFrame(bldng_us_clssfctn_onehot,columns=cat_list_bldng_us_clssfctn)],axis=1)\n",
        "    \n",
        "    # ttl_grnd_flr\n",
        "    oh_enc_ttl_grnd_flr = OneHotEncoder(categories='auto' )\n",
        "    oh_enc_ttl_grnd_flr.fit(ttl_grnd_flr_uniques)\n",
        "    \n",
        "    cat_list_ttl_grnd_flr = oh_enc_ttl_grnd_flr.__dict__['categories_'][0].tolist()\n",
        "    ttl_grnd_flr_arr = np.array(df.ttl_grnd_flr).reshape(-1,1)\n",
        "    ttl_grnd_flr_onehot = oh_enc_ttl_grnd_flr.transform(ttl_grnd_flr_arr).toarray()\n",
        "    df = df.drop(['ttl_grnd_flr'],axis=1)\n",
        "    df = pd.concat([df,pd.DataFrame(ttl_grnd_flr_onehot,columns=cat_list_ttl_grnd_flr)],axis=1)\n",
        "    \n",
        "    # ttl_dwn_flr\n",
        "    oh_enc_ttl_dwn_flr = OneHotEncoder(categories='auto' )\n",
        "    oh_enc_ttl_dwn_flr.fit(ttl_dwn_flr_uniques)\n",
        "    \n",
        "    cat_list_ttl_dwn_flr = oh_enc_ttl_dwn_flr.__dict__['categories_'][0].tolist()\n",
        "    ttl_dwn_flr_arr = np.array(df.ttl_dwn_flr).reshape(-1,1)\n",
        "    ttl_dwn_flr_onehot = oh_enc_ttl_dwn_flr.transform(ttl_dwn_flr_arr).toarray()\n",
        "    df = df.drop(['ttl_dwn_flr'],axis=1)\n",
        "    df = pd.concat([df,pd.DataFrame(ttl_dwn_flr_onehot,columns=cat_list_ttl_dwn_flr)],axis=1)\n",
        "    \n",
        "    # bldng_cnt\n",
        "    oh_enc_bldng_cnt = OneHotEncoder(categories='auto' )\n",
        "    oh_enc_bldng_cnt.fit(bldng_cnt_uniques)\n",
        "    \n",
        "    cat_list_bldng_cnt = oh_enc_bldng_cnt.__dict__['categories_'][0].tolist()\n",
        "    bldng_cnt_arr = np.array(df.bldng_cnt).reshape(-1,1)\n",
        "    bldng_cnt_onehot = oh_enc_bldng_cnt.transform(bldng_cnt_arr).toarray()\n",
        "    df = df.drop(['bldng_cnt'],axis=1)\n",
        "    df = pd.concat([df,pd.DataFrame(bldng_cnt_onehot,columns=cat_list_bldng_cnt)],axis=1)\n",
        "    \n",
        "    return df\n",
        "    \n",
        "    \n",
        "    "
      ],
      "execution_count": 0,
      "outputs": []
    },
    {
      "cell_type": "code",
      "metadata": {
        "id": "HkFkibNTYXSZ",
        "colab_type": "code",
        "colab": {}
      },
      "source": [
        "train = bldng_transform(train)\n",
        "test = bldng_transform(test)\n",
        "validation = bldng_transform(validation)"
      ],
      "execution_count": 0,
      "outputs": []
    },
    {
      "cell_type": "markdown",
      "metadata": {
        "id": "ZCsIm4BVYXSo",
        "colab_type": "text"
      },
      "source": [
        "## 성호님 파트\n",
        "\n",
        "* 도시 시골 변수 추가"
      ]
    },
    {
      "cell_type": "code",
      "metadata": {
        "id": "IKCfRRlLYXSu",
        "colab_type": "code",
        "colab": {}
      },
      "source": [
        "train['emd_nm'] = train['emd_nm'].fillna(value='blank')\n",
        "train.loc[train['emd_nm'].str[5:8].str.endswith('시'), 'urban'] = 'Y'\n",
        "train.loc[train['emd_nm'].str[5:8].str.endswith('군'), 'urban'] = 'N'\n",
        "\n",
        "\n",
        "test['emd_nm'] = test['emd_nm'].fillna(value='blank')\n",
        "test.loc[test['emd_nm'].str.endswith('동'), 'urban'] = 'Y'\n",
        "test.loc[test['emd_nm'].str.endswith('면'), 'urban'] = 'N'\n",
        "test.loc[test['emd_nm'].str.endswith('읍'), 'urban'] = 'N'\n",
        "\n",
        "\n",
        "validation['emd_nm'] = validation['emd_nm'].fillna(value='blank')\n",
        "validation.loc[validation['emd_nm'].str.endswith('동'), 'urban'] = 'Y'\n",
        "validation.loc[validation['emd_nm'].str.endswith('면'), 'urban'] = 'N'\n",
        "validation.loc[validation['emd_nm'].str.endswith('읍'), 'urban'] = 'N'\n",
        "#validation.loc[validation['emd_nm'].str.endswith('k'), 'urban'] = 'blank'\n"
      ],
      "execution_count": 0,
      "outputs": []
    },
    {
      "cell_type": "code",
      "metadata": {
        "id": "D8OlFEORYXS9",
        "colab_type": "code",
        "colab": {}
      },
      "source": [
        "train = pd.get_dummies(train, prefix=['urban'],drop_first=False,columns=['urban'])\n",
        "test = pd.get_dummies(test, prefix=['urban'],drop_first=False,columns=['urban'])\n",
        "validation =pd.get_dummies(validation, prefix=['urban'],drop_first=False,columns=['urban'])"
      ],
      "execution_count": 0,
      "outputs": []
    },
    {
      "cell_type": "code",
      "metadata": {
        "id": "bxz1W4pzaRJf",
        "colab_type": "code",
        "colab": {}
      },
      "source": [
        "sh_val = ['fr_sttn_dstnc', 'bldng_ar_prc', 'fr_wthr_fclt_dstnc', 'fr_mn_cnt', 'mlt_us_yn', 'cctv_dstnc', 'cctv_in_100m', 'fr_wthr_fclt_in_100m', 'tbc_rtl_str_dstnc', \n",
        "               'sft_emrgnc_bll_dstnc', 'ahsm_dstnc', 'no_tbc_zn_dstnc', 'bldng_cnt_in_50m', 'trgt_crtr', 'fr_fghtng_fclt_spcl_css_5_yn', 'fr_fghtng_fclt_spcl_css_6_yn', \n",
        "               'us_yn', 'dngrs_thng_yn', 'slf_fr_brgd_yn', 'blk_dngrs_thng_mnfctr_yn', 'cltrl_hrtg_yn']"
      ],
      "execution_count": 0,
      "outputs": []
    },
    {
      "cell_type": "code",
      "metadata": {
        "id": "UkeQcdGcc5nT",
        "colab_type": "code",
        "outputId": "9be61ce5-01b6-4bc4-afa4-9bea65f03c34",
        "colab": {
          "base_uri": "https://localhost:8080/",
          "height": 485
        }
      },
      "source": [
        "train[sh_val].info()"
      ],
      "execution_count": 0,
      "outputs": [
        {
          "output_type": "stream",
          "text": [
            "<class 'pandas.core.frame.DataFrame'>\n",
            "RangeIndex: 59199 entries, 0 to 59198\n",
            "Data columns (total 21 columns):\n",
            "fr_sttn_dstnc                   59199 non-null int64\n",
            "bldng_ar_prc                    37304 non-null float64\n",
            "fr_wthr_fclt_dstnc              59199 non-null int64\n",
            "fr_mn_cnt                       59158 non-null float64\n",
            "mlt_us_yn                       59199 non-null object\n",
            "cctv_dstnc                      59199 non-null int64\n",
            "cctv_in_100m                    59199 non-null int64\n",
            "fr_wthr_fclt_in_100m            59199 non-null int64\n",
            "tbc_rtl_str_dstnc               59199 non-null int64\n",
            "sft_emrgnc_bll_dstnc            59199 non-null int64\n",
            "ahsm_dstnc                      59199 non-null int64\n",
            "no_tbc_zn_dstnc                 59199 non-null int64\n",
            "bldng_cnt_in_50m                59199 non-null int64\n",
            "trgt_crtr                       8177 non-null object\n",
            "fr_fghtng_fclt_spcl_css_5_yn    8437 non-null object\n",
            "fr_fghtng_fclt_spcl_css_6_yn    8437 non-null object\n",
            "us_yn                           9752 non-null object\n",
            "dngrs_thng_yn                   9752 non-null object\n",
            "slf_fr_brgd_yn                  9752 non-null object\n",
            "blk_dngrs_thng_mnfctr_yn        9752 non-null object\n",
            "cltrl_hrtg_yn                   9752 non-null object\n",
            "dtypes: float64(2), int64(10), object(9)\n",
            "memory usage: 9.5+ MB\n"
          ],
          "name": "stdout"
        }
      ]
    },
    {
      "cell_type": "code",
      "metadata": {
        "id": "Ug-s0_oieRIQ",
        "colab_type": "code",
        "outputId": "5324b463-be7d-4b79-9379-a267c63021c6",
        "colab": {
          "base_uri": "https://localhost:8080/",
          "height": 265
        }
      },
      "source": [
        "sh_cat_val = ['mlt_us_yn','trgt_crtr', 'fr_fghtng_fclt_spcl_css_5_yn', 'fr_fghtng_fclt_spcl_css_6_yn', \n",
        "               'us_yn', 'dngrs_thng_yn', 'slf_fr_brgd_yn', 'blk_dngrs_thng_mnfctr_yn', 'cltrl_hrtg_yn'] \n",
        "train[sh_cat_val].info()"
      ],
      "execution_count": 12,
      "outputs": [
        {
          "output_type": "stream",
          "text": [
            "<class 'pandas.core.frame.DataFrame'>\n",
            "RangeIndex: 59199 entries, 0 to 59198\n",
            "Data columns (total 9 columns):\n",
            "mlt_us_yn                       59199 non-null int64\n",
            "trgt_crtr                       8177 non-null object\n",
            "fr_fghtng_fclt_spcl_css_5_yn    8437 non-null object\n",
            "fr_fghtng_fclt_spcl_css_6_yn    8437 non-null object\n",
            "us_yn                           9752 non-null object\n",
            "dngrs_thng_yn                   9752 non-null object\n",
            "slf_fr_brgd_yn                  9752 non-null object\n",
            "blk_dngrs_thng_mnfctr_yn        9752 non-null object\n",
            "cltrl_hrtg_yn                   9752 non-null object\n",
            "dtypes: int64(1), object(8)\n",
            "memory usage: 4.1+ MB\n"
          ],
          "name": "stdout"
        }
      ]
    },
    {
      "cell_type": "code",
      "metadata": {
        "id": "sIYHNNWIe82y",
        "colab_type": "code",
        "outputId": "08443aa2-327a-4473-acfa-701ab5b326b0",
        "colab": {
          "base_uri": "https://localhost:8080/",
          "height": 70
        }
      },
      "source": [
        "train.mlt_us_yn.value_counts()\n",
        "validation.mlt_us_yn.value_counts()"
      ],
      "execution_count": 30,
      "outputs": [
        {
          "output_type": "execute_result",
          "data": {
            "text/plain": [
              "N    6884\n",
              "Y      14\n",
              "Name: mlt_us_yn, dtype: int64"
            ]
          },
          "metadata": {
            "tags": []
          },
          "execution_count": 30
        }
      ]
    },
    {
      "cell_type": "markdown",
      "metadata": {
        "id": "2Q3LpOHgYXTJ",
        "colab_type": "text"
      },
      "source": [
        "# 2단계"
      ]
    },
    {
      "cell_type": "markdown",
      "metadata": {
        "id": "eAoKMNN0jfSY",
        "colab_type": "text"
      },
      "source": [
        ""
      ]
    },
    {
      "cell_type": "markdown",
      "metadata": {
        "id": "sfTAJrPlYXTM",
        "colab_type": "text"
      },
      "source": [
        "## ColumnTransformer 위한 변수 정의"
      ]
    },
    {
      "cell_type": "code",
      "metadata": {
        "id": "RzWTH3kvYXTk",
        "colab_type": "code",
        "colab": {}
      },
      "source": [
        "weather_var_1 = ['prcpttn']\n",
        "weather_var_2 = ['tmprtr','wnd_spd','wnd_drctn','hmdt'] \n",
        "weather_var = weather_var_1 + weather_var_2\n",
        "\n",
        "eg_var = train.loc[:,'gas_engry_us_201401':'ele_engry_us_201812'].keys().tolist()\n",
        "lw_var = train.loc[:,'lw_13101010':'lw_13141011'] .keys().tolist()\n",
        "egl_var = eg_var + lw_var # 모든 관심변수들\n",
        "\n",
        "building_numeric_feature = ['bldng_ar', 'ttl_ar', 'lnd_ar']\n",
        "building_date = ['dt_of_athrztn']\n",
        "\n",
        "\n",
        "urban_feature = ['mlt_us_yn']\n",
        "numerical_feature = ['hm_cnt', 'fr_sttn_dstnc', 'fr_wthr_fclt_dstnc', 'fr_mn_cnt', \n",
        "                      'cctv_dstnc', 'tbc_rtl_str_dstnc', 'sft_emrgnc_bll_dstnc',\n",
        "                      'ahsm_dstnc', 'no_tbc_zn_dstnc', 'bldng_cnt_in_50m']\n",
        "price_feature = ['bldng_ar_prc']\n",
        "\n",
        "drop_var =['dt_of_fr','fr_yn','id','fr_wthr_fclt_in_100m', 'emd_nm','cctv_in_100m',\n",
        "            'trgt_crtr', 'fr_fghtng_fclt_spcl_css_5_yn', 'fr_fghtng_fclt_spcl_css_6_yn', \n",
        "           'us_yn','dngrs_thng_yn', 'slf_fr_brgd_yn', 'blk_dngrs_thng_mnfctr_yn', 'cltrl_hrtg_yn', \n",
        "           'year', 'month', 'day', 'weekday', 'season', 'hour',]\n",
        "\n",
        "\n",
        "\n",
        "select_var = weather_var_1 + weather_var_2 + eg_var + lw_var + building_numeric_feature + building_date + urban_feature + numerical_feature + price_feature\n",
        "\n",
        "\n",
        "# 'fr_sttn_dstnc' - na : 0 , numeric, \n",
        "# 'bldng_ar_prc' - na : 21895, numeric,\n",
        "# 'fr_wthr_fclt_dstnc' - na : 0, numeric\n",
        "# 'fr_mn_cnt' - na : 41 , numeric\n",
        "# 'mlt_us_yn' - na : 0 , category w 2\n",
        "# 'cctv_dstnc' - na : 0 , numeric\n",
        "# 'fr_wthr_fclt_in_100m' - na : 0, numeric(discrete)\n",
        "# 'cctv_in_100m'  - na: 0, numeric(discrete)\n",
        "# 'tbc_rtl_str_dstnc' - na : 0 , numeric\n",
        "# 'sft_emrgnc_bll_dstnc' - na : 0, numeric\n",
        "# 'ahsm_dstnc' - na : 0 , numeric\n",
        "#  'no_tbc_zn_dstnc' - na : 0, numeric\n",
        "# 'bldng_cnt_in_50m' - na : 0 , numeric(highly skewed to the left)\n",
        "# 'trgt_crtr' - na : 51022, cat\n",
        "# 'fr_fghtng_fclt_spcl_css_5_yn' - na : 50762, category w 1(N - 8437개만 존재 )\n",
        "# 'us_yn' - na : 49447, category w 3( Y and N and T) * T는 Y의 오타\n",
        "# 'dngrs_thng_yn' - na : 49447, cate w 2( N and Y)\n",
        "# \n"
      ],
      "execution_count": 0,
      "outputs": []
    },
    {
      "cell_type": "code",
      "metadata": {
        "id": "zVnLlKbIYXTu",
        "colab_type": "code",
        "colab": {}
      },
      "source": [
        "\n",
        "train_2 = train.drop(drop_var,axis=1)\n",
        "test_2 = test.drop(drop_var,axis=1)\n",
        "validation_2 = validation.drop(drop_var,axis=1)\n"
      ],
      "execution_count": 0,
      "outputs": []
    },
    {
      "cell_type": "code",
      "metadata": {
        "id": "75yBU-j3YXT2",
        "colab_type": "code",
        "outputId": "648ba0ca-9352-4b28-8b72-1373d93e38a8",
        "colab": {}
      },
      "source": [
        "list(train_2.keys())"
      ],
      "execution_count": 0,
      "outputs": [
        {
          "output_type": "execute_result",
          "data": {
            "text/plain": [
              "['bldng_ar',\n",
              " 'ttl_ar',\n",
              " 'lnd_ar',\n",
              " 'dt_of_athrztn',\n",
              " 'tmprtr',\n",
              " 'prcpttn',\n",
              " 'wnd_spd',\n",
              " 'wnd_drctn',\n",
              " 'hmdt',\n",
              " 'gas_engry_us_201401',\n",
              " 'ele_engry_us_201401',\n",
              " 'gas_engry_us_201402',\n",
              " 'ele_engry_us_201402',\n",
              " 'gas_engry_us_201403',\n",
              " 'ele_engry_us_201403',\n",
              " 'gas_engry_us_201404',\n",
              " 'ele_engry_us_201404',\n",
              " 'gas_engry_us_201405',\n",
              " 'ele_engry_us_201405',\n",
              " 'gas_engry_us_201406',\n",
              " 'ele_engry_us_201406',\n",
              " 'gas_engry_us_201407',\n",
              " 'ele_engry_us_201407',\n",
              " 'gas_engry_us_201408',\n",
              " 'ele_engry_us_201408',\n",
              " 'gas_engry_us_201409',\n",
              " 'ele_engry_us_201409',\n",
              " 'gas_engry_us_201410',\n",
              " 'ele_engry_us_201410',\n",
              " 'gas_engry_us_201411',\n",
              " 'ele_engry_us_201411',\n",
              " 'gas_engry_us_201412',\n",
              " 'ele_engry_us_201412',\n",
              " 'gas_engry_us_201501',\n",
              " 'ele_engry_us_201501',\n",
              " 'gas_engry_us_201502',\n",
              " 'ele_engry_us_201502',\n",
              " 'gas_engry_us_201503',\n",
              " 'ele_engry_us_201503',\n",
              " 'gas_engry_us_201504',\n",
              " 'ele_engry_us_201504',\n",
              " 'gas_engry_us_201505',\n",
              " 'ele_engry_us_201505',\n",
              " 'gas_engry_us_201506',\n",
              " 'ele_engry_us_201506',\n",
              " 'gas_engry_us_201507',\n",
              " 'ele_engry_us_201507',\n",
              " 'gas_engry_us_201508',\n",
              " 'ele_engry_us_201508',\n",
              " 'gas_engry_us_201509',\n",
              " 'ele_engry_us_201509',\n",
              " 'gas_engry_us_201510',\n",
              " 'ele_engry_us_201510',\n",
              " 'gas_engry_us_201511',\n",
              " 'ele_engry_us_201511',\n",
              " 'gas_engry_us_201512',\n",
              " 'ele_engry_us_201512',\n",
              " 'gas_engry_us_201601',\n",
              " 'ele_engry_us_201601',\n",
              " 'gas_engry_us_201602',\n",
              " 'ele_engry_us_201602',\n",
              " 'gas_engry_us_201603',\n",
              " 'ele_engry_us_201603',\n",
              " 'gas_engry_us_201604',\n",
              " 'ele_engry_us_201604',\n",
              " 'gas_engry_us_201605',\n",
              " 'ele_engry_us_201605',\n",
              " 'gas_engry_us_201606',\n",
              " 'ele_engry_us_201606',\n",
              " 'gas_engry_us_201607',\n",
              " 'ele_engry_us_201607',\n",
              " 'gas_engry_us_201608',\n",
              " 'ele_engry_us_201608',\n",
              " 'gas_engry_us_201609',\n",
              " 'ele_engry_us_201609',\n",
              " 'gas_engry_us_201610',\n",
              " 'ele_engry_us_201610',\n",
              " 'gas_engry_us_201611',\n",
              " 'ele_engry_us_201611',\n",
              " 'gas_engry_us_201612',\n",
              " 'ele_engry_us_201612',\n",
              " 'gas_engry_us_201701',\n",
              " 'ele_engry_us_201701',\n",
              " 'gas_engry_us_201702',\n",
              " 'ele_engry_us_201702',\n",
              " 'gas_engry_us_201703',\n",
              " 'ele_engry_us_201703',\n",
              " 'gas_engry_us_201704',\n",
              " 'ele_engry_us_201704',\n",
              " 'gas_engry_us_201705',\n",
              " 'ele_engry_us_201705',\n",
              " 'gas_engry_us_201706',\n",
              " 'ele_engry_us_201706',\n",
              " 'gas_engry_us_201707',\n",
              " 'ele_engry_us_201707',\n",
              " 'gas_engry_us_201708',\n",
              " 'ele_engry_us_201708',\n",
              " 'gas_engry_us_201709',\n",
              " 'ele_engry_us_201709',\n",
              " 'gas_engry_us_201710',\n",
              " 'ele_engry_us_201710',\n",
              " 'gas_engry_us_201711',\n",
              " 'ele_engry_us_201711',\n",
              " 'gas_engry_us_201712',\n",
              " 'ele_engry_us_201712',\n",
              " 'gas_engry_us_201801',\n",
              " 'ele_engry_us_201801',\n",
              " 'gas_engry_us_201802',\n",
              " 'ele_engry_us_201802',\n",
              " 'gas_engry_us_201803',\n",
              " 'ele_engry_us_201803',\n",
              " 'gas_engry_us_201804',\n",
              " 'ele_engry_us_201804',\n",
              " 'gas_engry_us_201805',\n",
              " 'ele_engry_us_201805',\n",
              " 'gas_engry_us_201806',\n",
              " 'ele_engry_us_201806',\n",
              " 'gas_engry_us_201807',\n",
              " 'ele_engry_us_201807',\n",
              " 'gas_engry_us_201808',\n",
              " 'ele_engry_us_201808',\n",
              " 'gas_engry_us_201809',\n",
              " 'ele_engry_us_201809',\n",
              " 'gas_engry_us_201810',\n",
              " 'ele_engry_us_201810',\n",
              " 'gas_engry_us_201811',\n",
              " 'ele_engry_us_201811',\n",
              " 'gas_engry_us_201812',\n",
              " 'ele_engry_us_201812',\n",
              " 'lw_13101010',\n",
              " 'lw_13101110',\n",
              " 'lw_13101210',\n",
              " 'lw_13101211',\n",
              " 'lw_13101310',\n",
              " 'lw_13101410',\n",
              " 'lw_13111010',\n",
              " 'lw_13111110',\n",
              " 'lw_13121010',\n",
              " 'lw_13121011',\n",
              " 'lw_13131010',\n",
              " 'lw_13131110',\n",
              " 'lw_13141010',\n",
              " 'lw_13141011',\n",
              " 'hm_cnt',\n",
              " 'fr_sttn_dstnc',\n",
              " 'bldng_ar_prc',\n",
              " 'fr_wthr_fclt_dstnc',\n",
              " 'fr_mn_cnt',\n",
              " 'mlt_us_yn',\n",
              " 'cctv_dstnc',\n",
              " 'tbc_rtl_str_dstnc',\n",
              " 'sft_emrgnc_bll_dstnc',\n",
              " 'ahsm_dstnc',\n",
              " 'no_tbc_zn_dstnc',\n",
              " 'bldng_cnt_in_50m',\n",
              " 'blank',\n",
              " '개발제한구역',\n",
              " '계획관리지역',\n",
              " '관리지역',\n",
              " '근린상업지역',\n",
              " '농림지역',\n",
              " '보전관리지역',\n",
              " '보전녹지지역',\n",
              " '생산관리지역',\n",
              " '생산녹지지역',\n",
              " '용도미지정',\n",
              " '유통상업지역',\n",
              " '일반공업지역',\n",
              " '일반상업지역',\n",
              " '자연녹지지역',\n",
              " '자연환경보전지역',\n",
              " '제1종일반주거지역',\n",
              " '제1종전용주거지역',\n",
              " '제2종일반주거지역',\n",
              " '제2종전용주거지역',\n",
              " '제3종일반주거지역',\n",
              " '준공업지역',\n",
              " '준주거지역',\n",
              " '중심상업지역',\n",
              " '공',\n",
              " '과',\n",
              " '구',\n",
              " '답',\n",
              " '대',\n",
              " '도',\n",
              " '목',\n",
              " '묘',\n",
              " '사',\n",
              " '수',\n",
              " '양',\n",
              " '원',\n",
              " '유',\n",
              " '임',\n",
              " '잡',\n",
              " '장',\n",
              " '전',\n",
              " '제',\n",
              " '종',\n",
              " '주',\n",
              " '차',\n",
              " '창',\n",
              " '천',\n",
              " '철',\n",
              " '체',\n",
              " '학',\n",
              " 'blank',\n",
              " '경마장',\n",
              " '고속도로휴게소',\n",
              " '골프장 대중제',\n",
              " '골프장 회원제',\n",
              " '공업기타',\n",
              " '공업나지',\n",
              " '공업용',\n",
              " '공원등',\n",
              " '공원묘지',\n",
              " '과수원',\n",
              " '기타',\n",
              " '다세대',\n",
              " '단독',\n",
              " '답',\n",
              " '답기타',\n",
              " '도로등',\n",
              " '목장용지',\n",
              " '발전소',\n",
              " '상업기타',\n",
              " '상업나지',\n",
              " '상업용',\n",
              " '스키장',\n",
              " '아파트',\n",
              " '업무용',\n",
              " '여객자동차터미널',\n",
              " '연립',\n",
              " '운동장등',\n",
              " '위험시설',\n",
              " '유원지',\n",
              " '유해.혐오시설',\n",
              " '임야기타',\n",
              " '자연림',\n",
              " '전',\n",
              " '전기타',\n",
              " '조림',\n",
              " '주거기타',\n",
              " '주거나지',\n",
              " '주상기타',\n",
              " '주상나지',\n",
              " '주상용',\n",
              " '주차장등',\n",
              " '콘도미니엄',\n",
              " '토지임야',\n",
              " '특수기타',\n",
              " '하천등',\n",
              " 'blank',\n",
              " '광대로한면',\n",
              " '광대세각',\n",
              " '광대소각',\n",
              " '맹지',\n",
              " '세로각지(가)',\n",
              " '세로각지(불)',\n",
              " '세로한면(가)',\n",
              " '세로한면(불)',\n",
              " '소로각지',\n",
              " '소로한면',\n",
              " '중로각지',\n",
              " '중로한면',\n",
              " '지정되지않음',\n",
              " 'blank',\n",
              " '공공용시설',\n",
              " '공동주택',\n",
              " '공장',\n",
              " '관광휴게시설',\n",
              " '교육연구및복지시설',\n",
              " '교육연구시설',\n",
              " '교정및군사시설',\n",
              " '근린생활시설',\n",
              " '노유자시설',\n",
              " '단독주택',\n",
              " '동.식물 관련시설',\n",
              " '묘지관련시설',\n",
              " '문화및집회시설',\n",
              " '발전시설',\n",
              " '방송통신시설',\n",
              " '분뇨.쓰레기처리시설',\n",
              " '수련시설',\n",
              " '숙박시설',\n",
              " '시장',\n",
              " '업무시설',\n",
              " '운동시설',\n",
              " '운수시설',\n",
              " '위락시설',\n",
              " '위험물저장및처리시설',\n",
              " '의료시설',\n",
              " '자동차관련시설',\n",
              " '장례식장',\n",
              " '제1종근린생활시설',\n",
              " '제2종근린생활시설',\n",
              " '종교시설',\n",
              " '창고시설',\n",
              " '파출소',\n",
              " '판매및영업시설',\n",
              " '판매시설',\n",
              " 'blank',\n",
              " '강파이프구조',\n",
              " '경량철골구조',\n",
              " '기타강구조',\n",
              " '기타구조',\n",
              " '기타조적구조',\n",
              " '기타콘크리트구조',\n",
              " '목구조',\n",
              " '벽돌구조',\n",
              " '블록구조',\n",
              " '석구조',\n",
              " '일반목구조',\n",
              " '일반철골구조',\n",
              " '조적구조',\n",
              " '철골철근콘크리트구조',\n",
              " '철골콘크리트구조',\n",
              " '철근콘크리트구조',\n",
              " '통나무구조',\n",
              " '프리케스트콘크리트구조',\n",
              " 'blank',\n",
              " '공공용',\n",
              " '공업용',\n",
              " '기타',\n",
              " '농수산용',\n",
              " '문교사회용',\n",
              " '상업용',\n",
              " '주거용',\n",
              " -999.0,\n",
              " 0.0,\n",
              " 10.0,\n",
              " 20.0,\n",
              " 30.0,\n",
              " 40.0,\n",
              " 55.0,\n",
              " 56.0,\n",
              " -999.0,\n",
              " 0.0,\n",
              " 4.0,\n",
              " 10.0,\n",
              " 20.0,\n",
              " 21.0,\n",
              " 5,\n",
              " 10,\n",
              " 20,\n",
              " 30,\n",
              " 31,\n",
              " 'urban_N',\n",
              " 'urban_Y']"
            ]
          },
          "metadata": {
            "tags": []
          },
          "execution_count": 105
        }
      ]
    },
    {
      "cell_type": "code",
      "metadata": {
        "id": "nSao0tiLYXUG",
        "colab_type": "code",
        "outputId": "65a1dff7-0cf3-4427-9e07-9c75c9099f21",
        "colab": {}
      },
      "source": [
        "train_2.iloc[:,155]"
      ],
      "execution_count": 0,
      "outputs": [
        {
          "output_type": "execute_result",
          "data": {
            "text/plain": [
              "0        0.0\n",
              "1        0.0\n",
              "2        0.0\n",
              "3        0.0\n",
              "4        0.0\n",
              "        ... \n",
              "59194    0.0\n",
              "59195    0.0\n",
              "59196    0.0\n",
              "59197    0.0\n",
              "59198    0.0\n",
              "Name: blank, Length: 59199, dtype: float64"
            ]
          },
          "metadata": {
            "tags": []
          },
          "execution_count": 107
        }
      ]
    },
    {
      "cell_type": "code",
      "metadata": {
        "id": "NNVqxnl9YXUT",
        "colab_type": "code",
        "colab": {}
      },
      "source": [
        "train_3 = np.array(train_2.iloc[:,155:])\n",
        "test_3 = np.array(test_2.iloc[:,155:])\n",
        "validation_3 = np.array(validation_2.iloc[:,155:])"
      ],
      "execution_count": 0,
      "outputs": []
    },
    {
      "cell_type": "markdown",
      "metadata": {
        "id": "il20dnOrYXUj",
        "colab_type": "text"
      },
      "source": [
        "## Weather Pipeline\n",
        "\n",
        "##### 'tmprtr','prcpttn','wnd_spd','wnd_drctn','hmdt'"
      ]
    },
    {
      "cell_type": "code",
      "metadata": {
        "id": "A8Q9CQ5zYXUm",
        "colab_type": "code",
        "colab": {}
      },
      "source": [
        "weather_imputer = ColumnTransformer([\n",
        "    ('prcpttn_imputer',SimpleImputer(strategy='constant',fill_value=-1),weather_var_1),\n",
        "    ('otehrs_imputer',IterativeImputer(),weather_var_2)\n",
        "     ])\n",
        "\n",
        "weather_scale_PCA = Pipeline([\n",
        "    ('Scaler',StandardScaler()),\n",
        "    ('PCA',PCA())\n",
        "])\n",
        "\n",
        "weather_pipe = Pipeline([\n",
        "    ('weather_imputer',weather_imputer),\n",
        "    ('weather_scale_PCA',weather_scale_PCA)\n",
        "    \n",
        "])"
      ],
      "execution_count": 0,
      "outputs": []
    },
    {
      "cell_type": "markdown",
      "metadata": {
        "id": "Qx6PTdemYXU4",
        "colab_type": "text"
      },
      "source": [
        "## Gas, Ele, Lw Pipeline\n"
      ]
    },
    {
      "cell_type": "markdown",
      "metadata": {
        "id": "Hw_-amDkYXU7",
        "colab_type": "text"
      },
      "source": [
        "###  불이 난 달의 Gas와 Ele 사용량을 열으로 추가하는 변환기를 정의합니다. \n",
        "\n"
      ]
    },
    {
      "cell_type": "code",
      "metadata": {
        "id": "bz60cBBXYXU9",
        "colab_type": "code",
        "colab": {}
      },
      "source": [
        "# Train\n",
        "\n",
        "class TrFmGEAdder(BaseEstimator, TransformerMixin):\n",
        "  def __init__(self, index = eg_var):\n",
        "    self.index = ['dt_of_fr'] + index\n",
        "  \n",
        "  def fit(self, X,y = None):\n",
        "    return(self)\n",
        "  \n",
        "  def transform(self, X, y = None):\n",
        "    index = self.index\n",
        "    X = np.append(np.array(train['dt_of_fr']).reshape(-1,1), X, axis = 1) # X를 받아서 앞에 dt_of_fr열을 추가합니다.\n",
        "    X = pd.DataFrame(X) # 차후 열 이름을 기준으로 사용해야 하기 때문에 Pandas로 변환합니다. \n",
        "    X.columns = train[['dt_of_fr']+eg_var].keys() # 열 이름을 추가합니다. eg_var 대상으로 진행할 것이기 때문에 이렇게 씁니다.\n",
        "\n",
        "    train_rst = X.assign(\n",
        "        fr_month_gas  = 'gas'+X['dt_of_fr'].str.slice_replace(start=7, stop=20, repl='').str.replace(pat='-', repl='', regex=False)\n",
        "        ).assign(\n",
        "            fr_month_ele  = 'ele'+X['dt_of_fr'].str.slice_replace(start=7, stop=20, repl='').str.replace(pat='-', repl='', regex=False)\n",
        "            ) # gas/ele + 불이 난 달을 값으로 갖는 열을 생성합니다. 이걸 생성하지 않고 하는 것도 할 수 있을거 같은데 지금은 뇌가 멈췄으니 일단 만듭니다.\n",
        "    \n",
        "    tk = train_rst.keys()[np.where(pd.Series(train_rst.keys()) == index[0])[0][0]:np.where(pd.Series(train_rst.keys()) == index[-1])[0][0]+1]\n",
        "    keys = pd.Series(tk).str.split('_', expand = True).iloc[:,[0,3]]\n",
        "    keys[1] = keys[0]+keys[3]\n",
        "    keys[1][0] = 'dt_of_fr' # 변경된 열 이름의 리스트입니다. 가장 앞의 값이 누락되어서 추가해주었습니다.\n",
        "    \n",
        "    coln = keys[1].ravel().tolist()+['fr_month_gas','fr_month_ele'] #열 이름을 바꿔줄 준비. 앞선 fr_month_gas/ ele열을 index로 사용하기 위함입니다\n",
        "    train_rst.columns = coln #열 이름 변경합니다.\n",
        "\n",
        "    fm_gas_index = train_rst.fr_month_gas.map(lambda x: np.where(x == train_rst.keys())[0][0]) # 불이 난 월의 gas의 열 index\n",
        "    fm_ele_index = train_rst.fr_month_ele.map(lambda x: np.where(x == train_rst.keys())[0][0]) # 불이 난 월의 ele의 열 index\n",
        "\n",
        "    train_eg = train_rst.assign(\n",
        "        gas_fm = np.array(train_rst)[np.arange(train.shape[0]),fm_gas_index.values] # 최종적으로 두 index를 기준으로 값을 대입합니다.\n",
        "        ).assign(\n",
        "            ele_fm = np.array(train_rst)[np.arange(train.shape[0]),fm_ele_index.values]\n",
        "            )[['gas_fm','ele_fm']] # 이 두 열만 남기거나\n",
        "            #.drop(['fr_month_gas','fr_month_ele','dt_of_fr'], axis = 1) # 이 두 열을 더하거나. 일단은 두 열만 남겼습니다. \n",
        "    \n",
        "    return np.array(train_eg)"
      ],
      "execution_count": 0,
      "outputs": []
    },
    {
      "cell_type": "code",
      "metadata": {
        "id": "i0WlOIhZYXVG",
        "colab_type": "code",
        "colab": {}
      },
      "source": [
        "#  Val. \n",
        "\n",
        "class VFmGEAdder(BaseEstimator, TransformerMixin):\n",
        "  def __init__(self, index = eg_var):\n",
        "    self.index = ['dt_of_fr'] + index\n",
        "  \n",
        "  def fit(self, X,y = None):\n",
        "    return(self)\n",
        "  \n",
        "  def transform(self, X, y = None):\n",
        "    index = self.index\n",
        "    X = np.append(np.array(validation['dt_of_fr']).reshape(-1,1), X, axis = 1) # X를 받아서 앞에 dt_of_fr열을 추가합니다.\n",
        "    X = pd.DataFrame(X) # 차후 열 이름을 기준으로 사용해야 하기 때문에 Pandas로 변환합니다. \n",
        "    X.columns = validation[['dt_of_fr']+eg_var].keys() # 열 이름을 추가합니다. eg_var 대상으로 진행할 것이기 때문에 이렇게 씁니다.\n",
        "\n",
        "    train_rst = X.assign(\n",
        "        fr_month_gas  = 'gas'+X['dt_of_fr'].str.slice_replace(start=7, stop=20, repl='').str.replace(pat='-', repl='', regex=False)\n",
        "        ).assign(\n",
        "            fr_month_ele  = 'ele'+X['dt_of_fr'].str.slice_replace(start=7, stop=20, repl='').str.replace(pat='-', repl='', regex=False)\n",
        "            ) # gas/ele + 불이 난 달을 값으로 갖는 열을 생성합니다. 이걸 생성하지 않고 하는 것도 할 수 있을거 같은데 지금은 뇌가 멈췄으니 일단 만듭니다.\n",
        "    \n",
        "    tk = train_rst.keys()[np.where(pd.Series(train_rst.keys()) == index[0])[0][0]:np.where(pd.Series(train_rst.keys()) == index[-1])[0][0]+1]\n",
        "    keys = pd.Series(tk).str.split('_', expand = True).iloc[:,[0,3]]\n",
        "    keys[1] = keys[0]+keys[3]\n",
        "    keys[1][0] = 'dt_of_fr' # 변경된 열 이름의 리스트입니다. 가장 앞의 값이 누락되어서 추가해주었습니다.\n",
        "    \n",
        "    coln = keys[1].ravel().tolist()+['fr_month_gas','fr_month_ele'] #열 이름을 바꿔줄 준비. 앞선 fr_month_gas/ ele열을 index로 사용하기 위함입니다\n",
        "    train_rst.columns = coln #열 이름 변경합니다.\n",
        "\n",
        "    fm_gas_index = train_rst.fr_month_gas.map(lambda x: np.where(x == train_rst.keys())[0][0]) # 불이 난 월의 gas의 열 index\n",
        "    fm_ele_index = train_rst.fr_month_ele.map(lambda x: np.where(x == train_rst.keys())[0][0]) # 불이 난 월의 ele의 열 index\n",
        "\n",
        "    train_eg = train_rst.assign(\n",
        "        gas_fm = np.array(train_rst)[np.arange(validation.shape[0]),fm_gas_index.values] # 최종적으로 두 index를 기준으로 값을 대입합니다.\n",
        "        ).assign(\n",
        "            ele_fm = np.array(train_rst)[np.arange(validation.shape[0]),fm_ele_index.values]\n",
        "            )[['gas_fm','ele_fm']] # 이 두 열만 남기거나\n",
        "            #.drop(['fr_month_gas','fr_month_ele','dt_of_fr'], axis = 1) # 이 두 열을 더하거나. 일단은 두 열만 남겼습니다. \n",
        "    \n",
        "    return np.array(train_eg)"
      ],
      "execution_count": 0,
      "outputs": []
    },
    {
      "cell_type": "code",
      "metadata": {
        "id": "F9zIAwIFYXVR",
        "colab_type": "code",
        "colab": {}
      },
      "source": [
        "# Test \n",
        "\n",
        "class TeFmGEAdder(BaseEstimator, TransformerMixin):\n",
        "  def __init__(self, index = eg_var):\n",
        "    self.index = ['dt_of_fr'] + index\n",
        "  \n",
        "  def fit(self, X,y = None):\n",
        "    return(self)\n",
        "  \n",
        "  def transform(self, X, y = None):\n",
        "    index = self.index\n",
        "    X = np.append(np.array(test['dt_of_fr']).reshape(-1,1), X, axis = 1) # X를 받아서 앞에 dt_of_fr열을 추가합니다.\n",
        "    X = pd.DataFrame(X) # 차후 열 이름을 기준으로 사용해야 하기 때문에 Pandas로 변환합니다. \n",
        "    X.columns = test[['dt_of_fr']+eg_var].keys() # 열 이름을 추가합니다. eg_var 대상으로 진행할 것이기 때문에 이렇게 씁니다.\n",
        "\n",
        "    train_rst = X.assign(\n",
        "        fr_month_gas  = 'gas'+X['dt_of_fr'].str.slice_replace(start=7, stop=20, repl='').str.replace(pat='-', repl='', regex=False)\n",
        "        ).assign(\n",
        "            fr_month_ele  = 'ele'+X['dt_of_fr'].str.slice_replace(start=7, stop=20, repl='').str.replace(pat='-', repl='', regex=False)\n",
        "            ) # gas/ele + 불이 난 달을 값으로 갖는 열을 생성합니다. 이걸 생성하지 않고 하는 것도 할 수 있을거 같은데 지금은 뇌가 멈췄으니 일단 만듭니다.\n",
        "    \n",
        "    tk = train_rst.keys()[np.where(pd.Series(train_rst.keys()) == index[0])[0][0]:np.where(pd.Series(train_rst.keys()) == index[-1])[0][0]+1]\n",
        "    keys = pd.Series(tk).str.split('_', expand = True).iloc[:,[0,3]]\n",
        "    keys[1] = keys[0]+keys[3]\n",
        "    keys[1][0] = 'dt_of_fr' # 변경된 열 이름의 리스트입니다. 가장 앞의 값이 누락되어서 추가해주었습니다.\n",
        "    \n",
        "    coln = keys[1].ravel().tolist()+['fr_month_gas','fr_month_ele'] #열 이름을 바꿔줄 준비. 앞선 fr_month_gas/ ele열을 index로 사용하기 위함입니다\n",
        "    train_rst.columns = coln #열 이름 변경합니다.\n",
        "\n",
        "    fm_gas_index = train_rst.fr_month_gas.map(lambda x: np.where(x == train_rst.keys())[0][0]) # 불이 난 월의 gas의 열 index\n",
        "    fm_ele_index = train_rst.fr_month_ele.map(lambda x: np.where(x == train_rst.keys())[0][0]) # 불이 난 월의 ele의 열 index\n",
        "\n",
        "    train_eg = train_rst.assign(\n",
        "        gas_fm = np.array(train_rst)[np.arange(test.shape[0]),fm_gas_index.values] # 최종적으로 두 index를 기준으로 값을 대입합니다.\n",
        "        ).assign(\n",
        "            ele_fm = np.array(train_rst)[np.arange(test.shape[0]),fm_ele_index.values]\n",
        "            )[['gas_fm','ele_fm']] # 이 두 열만 남기거나\n",
        "            #.drop(['fr_month_gas','fr_month_ele','dt_of_fr'], axis = 1) # 이 두 열을 더하거나. 일단은 두 열만 남겼습니다. \n",
        "    \n",
        "    return np.array(train_eg)"
      ],
      "execution_count": 0,
      "outputs": []
    },
    {
      "cell_type": "code",
      "metadata": {
        "id": "z3Mp_ZlAYXVk",
        "colab_type": "code",
        "colab": {}
      },
      "source": [
        "class DataFrameSelector(BaseEstimator, TransformerMixin):\n",
        "    def __init__(self, attribute_names):\n",
        "        self.attribute_names=attribute_names\n",
        "    def fit(self, X, y=None):\n",
        "        return self\n",
        "    def transform(self, X):\n",
        "        return X[self.attribute_names].values\n",
        "\n",
        "# 왜인지는 모르겠는데 full_pipeline을 만들 때 ColumnTransformer는 자꾸 에러가 나서 FeatureUnion을 쓰려고 DataFramseSelector를 정의해 주었습니다."
      ],
      "execution_count": 0,
      "outputs": []
    },
    {
      "cell_type": "markdown",
      "metadata": {
        "id": "5iBV7plbYXVx",
        "colab_type": "text"
      },
      "source": [
        "## urban_population_feature Pipeline"
      ]
    },
    {
      "cell_type": "code",
      "metadata": {
        "id": "UsZoDHYIYXV4",
        "colab_type": "code",
        "colab": {}
      },
      "source": [
        "urban_transformer = Pipeline(steps = [\n",
        "    ('constant', SimpleImputer(strategy = 'most_frequent')),\n",
        "    ('OneHotEncoer', OneHotEncoder())\n",
        "])\n",
        "\n",
        "numerical_transformer = Pipeline([\n",
        "    ('median', SimpleImputer(strategy = 'median')),\n",
        "    ('scaling', StandardScaler())\n",
        "])\n",
        "\n",
        "price_transformer = Pipeline(steps = [\n",
        "    ('median', SimpleImputer(strategy = 'median')),\n",
        "    ('scaling', StandardScaler()),\n",
        "    ('pca', PCA()),\n",
        "])\n",
        "\n",
        "processor_1 = ColumnTransformer(\n",
        "    transformers = [\n",
        "    ('urb', urban_transformer, urban_feature),\n",
        "    ('num', numerical_transformer, numerical_feature),\n",
        "    ('price', price_transformer, price_feature)\n",
        "])"
      ],
      "execution_count": 0,
      "outputs": []
    },
    {
      "cell_type": "markdown",
      "metadata": {
        "id": "LX-SWQcOYXWH",
        "colab_type": "text"
      },
      "source": [
        "## building_feature Pipeline"
      ]
    },
    {
      "cell_type": "code",
      "metadata": {
        "id": "WhmpkbHoYXWK",
        "colab_type": "code",
        "colab": {}
      },
      "source": [
        "building_numeric_transformer = Pipeline(steps = [\n",
        "    ('scaling', StandardScaler()),\n",
        "    ('pca', PCA()),\n",
        "])\n",
        "\n",
        "\n",
        "building_date_transformer = Pipeline([\n",
        "    ('imp', SimpleImputer(strategy = 'constant', fill_value = 0))\n",
        "])\n",
        "\n",
        "\n",
        "processor_2 = ColumnTransformer(\n",
        "    transformers = [\n",
        "    ('bldng_num', building_numeric_transformer, building_numeric_feature),\n",
        "    ('bldng_date', building_date_transformer, building_date)\n",
        "])"
      ],
      "execution_count": 0,
      "outputs": []
    },
    {
      "cell_type": "code",
      "metadata": {
        "id": "pn8wFbUBYXWY",
        "colab_type": "code",
        "colab": {}
      },
      "source": [
        ""
      ],
      "execution_count": 0,
      "outputs": []
    },
    {
      "cell_type": "code",
      "metadata": {
        "id": "LfhxEhFsYXWh",
        "colab_type": "code",
        "colab": {}
      },
      "source": [
        ""
      ],
      "execution_count": 0,
      "outputs": []
    },
    {
      "cell_type": "code",
      "metadata": {
        "id": "U2Qa11fxYXWp",
        "colab_type": "code",
        "colab": {}
      },
      "source": [
        ""
      ],
      "execution_count": 0,
      "outputs": []
    },
    {
      "cell_type": "code",
      "metadata": {
        "id": "6XzPd68xYXW-",
        "colab_type": "code",
        "colab": {}
      },
      "source": [
        ""
      ],
      "execution_count": 0,
      "outputs": []
    },
    {
      "cell_type": "markdown",
      "metadata": {
        "id": "uXedZtdYYXXP",
        "colab_type": "text"
      },
      "source": [
        "---------\n",
        "---------"
      ]
    },
    {
      "cell_type": "code",
      "metadata": {
        "id": "vRnYgCaVYXXT",
        "colab_type": "code",
        "outputId": "89d70385-b047-480d-f51e-10ce1eea1543",
        "colab": {}
      },
      "source": [
        "#Train\n",
        "Treg_imputer = Pipeline([\n",
        "                       ('selector', DataFrameSelector(eg_var)),\n",
        "                       ('zero_imputer', SimpleImputer(strategy='constant',fill_value=0)),\n",
        "                       ('scaler', StandardScaler()),\n",
        "                       ('fire month gas ele adder', TrFmGEAdder())\n",
        "])\n",
        "\n",
        "lw_imputer = Pipeline([\n",
        "                      ('selector', DataFrameSelector(lw_var)),\n",
        "                      ('zero_imputer', SimpleImputer(strategy='constant', fill_value=0)),\n",
        "                      ('scaler', StandardScaler())\n",
        "])\n",
        "'''\n",
        "Tregl_pipe = FeatureUnion(transformer_list = [\n",
        "                                            ('eg_imputer', Treg_imputer),\n",
        "                                            ('lw_imputer', lw_imputer)\n",
        "                     ])\n",
        "'''"
      ],
      "execution_count": 0,
      "outputs": [
        {
          "output_type": "execute_result",
          "data": {
            "text/plain": [
              "\"\\nTregl_pipe = FeatureUnion(transformer_list = [\\n                                            ('eg_imputer', Treg_imputer),\\n                                            ('lw_imputer', lw_imputer)\\n                     ])\\n\""
            ]
          },
          "metadata": {
            "tags": []
          },
          "execution_count": 116
        }
      ]
    },
    {
      "cell_type": "code",
      "metadata": {
        "id": "_4yOVt29YXXf",
        "colab_type": "code",
        "outputId": "624aeb02-66a3-478a-ef68-9c51487811a5",
        "colab": {}
      },
      "source": [
        "#Validation\n",
        "Veg_imputer = Pipeline([\n",
        "                       ('selector', DataFrameSelector(eg_var)),\n",
        "                       ('zero_imputer', SimpleImputer(strategy='constant',fill_value=0)),\n",
        "                       ('scaler', StandardScaler()),\n",
        "                       ('fire month gas ele adder', VFmGEAdder())\n",
        "])\n",
        "\n",
        "lw_imputer = Pipeline([\n",
        "                      ('selector', DataFrameSelector(lw_var)),\n",
        "                      ('zero_imputer', SimpleImputer(strategy='constant', fill_value=0)),\n",
        "                      ('scaler', StandardScaler())\n",
        "])\n",
        "'''\n",
        "Vegl_pipe = FeatureUnion(transformer_list = [\n",
        "                                            ('eg_imputer', Veg_imputer),\n",
        "                                            ('lw_imputer', lw_imputer)\n",
        "                     ])\n",
        "'''"
      ],
      "execution_count": 0,
      "outputs": [
        {
          "output_type": "execute_result",
          "data": {
            "text/plain": [
              "\"\\nVegl_pipe = FeatureUnion(transformer_list = [\\n                                            ('eg_imputer', Veg_imputer),\\n                                            ('lw_imputer', lw_imputer)\\n                     ])\\n\""
            ]
          },
          "metadata": {
            "tags": []
          },
          "execution_count": 117
        }
      ]
    },
    {
      "cell_type": "code",
      "metadata": {
        "id": "VSc3UqmBYXXr",
        "colab_type": "code",
        "outputId": "a51f412d-352f-4ccb-e572-9d6a0edc978a",
        "colab": {}
      },
      "source": [
        "#Test\n",
        "Teeg_imputer = Pipeline([\n",
        "                       ('selector', DataFrameSelector(eg_var)),\n",
        "                       ('zero_imputer', SimpleImputer(strategy='constant',fill_value=0)),\n",
        "                       ('scaler', StandardScaler()),\n",
        "                       ('fire month gas ele adder', TeFmGEAdder())\n",
        "])\n",
        "\n",
        "lw_imputer = Pipeline([\n",
        "                      ('selector', DataFrameSelector(lw_var)),\n",
        "                      ('zero_imputer', SimpleImputer(strategy='constant', fill_value=0)),\n",
        "                      ('scaler', StandardScaler())\n",
        "])\n",
        "'''\n",
        "Teegl_pipe = FeatureUnion(transformer_list = [\n",
        "                                            ('eg_imputer', Teeg_imputer),\n",
        "                                            ('lw_imputer', lw_imputer)\n",
        "                     ])\n",
        "'''"
      ],
      "execution_count": 0,
      "outputs": [
        {
          "output_type": "execute_result",
          "data": {
            "text/plain": [
              "\"\\nTeegl_pipe = FeatureUnion(transformer_list = [\\n                                            ('eg_imputer', Teeg_imputer),\\n                                            ('lw_imputer', lw_imputer)\\n                     ])\\n\""
            ]
          },
          "metadata": {
            "tags": []
          },
          "execution_count": 118
        }
      ]
    },
    {
      "cell_type": "markdown",
      "metadata": {
        "id": "oMKUv9TpYXX_",
        "colab_type": "text"
      },
      "source": [
        "# 최종적으로 모델에 들어가는 모양"
      ]
    },
    {
      "cell_type": "code",
      "metadata": {
        "id": "EpWRSXa6YXYC",
        "colab_type": "code",
        "colab": {}
      },
      "source": [
        "Train_full_pipe = FeatureUnion(transformer_list = [\n",
        "    ('weather',weather_pipe ),\n",
        "    ('eg_imputer', Treg_imputer),\n",
        "    ('lw_impute', lw_imputer),\n",
        "    ('processor_1', processor_1),\n",
        "    ('processor_2', processor_2)\n",
        "\n",
        "])"
      ],
      "execution_count": 0,
      "outputs": []
    },
    {
      "cell_type": "code",
      "metadata": {
        "id": "4nbyNNUjYXYO",
        "colab_type": "code",
        "colab": {}
      },
      "source": [
        "Validation_full_pipe = FeatureUnion(transformer_list = [\n",
        "    ('weather',weather_pipe ),\n",
        "    ('eg_imputer', Veg_imputer),\n",
        "    ('lw_impute', lw_imputer),\n",
        "    ('processor_1', processor_1),\n",
        "    ('processor_2', processor_2)\n",
        "    \n",
        "])"
      ],
      "execution_count": 0,
      "outputs": []
    },
    {
      "cell_type": "code",
      "metadata": {
        "id": "xw4NMfpRYXYV",
        "colab_type": "code",
        "colab": {}
      },
      "source": [
        "Test_full_pipe = FeatureUnion(transformer_list = [\n",
        "    ('weather',weather_pipe ),\n",
        "    ('eg_imputer', Teeg_imputer),\n",
        "    ('lw_impute', lw_imputer),\n",
        "    ('processor_1', processor_1),\n",
        "    ('processor_2', processor_2)\n",
        "    \n",
        "])"
      ],
      "execution_count": 0,
      "outputs": []
    },
    {
      "cell_type": "markdown",
      "metadata": {
        "id": "FY0Dr2cEYXYi",
        "colab_type": "text"
      },
      "source": [
        "# Base Model"
      ]
    },
    {
      "cell_type": "code",
      "metadata": {
        "id": "XRnztwD0YXYm",
        "colab_type": "code",
        "colab": {}
      },
      "source": [
        "Train_X = Train_full_pipe.fit_transform(train_2)\n",
        "Validation_X = Validation_full_pipe.fit_transform(validation_2)\n",
        "Test_X = Test_full_pipe.fit_transform(test_2)"
      ],
      "execution_count": 0,
      "outputs": []
    },
    {
      "cell_type": "code",
      "metadata": {
        "id": "LKV2Hcq3YXYw",
        "colab_type": "code",
        "colab": {}
      },
      "source": [
        "Train_X = np.c_[Train_X,train_3]\n",
        "Validation_X = np.c_[Validation_X,validation_3]\n",
        "Test_X = np.c_[Test_X,test_3]"
      ],
      "execution_count": 0,
      "outputs": []
    },
    {
      "cell_type": "code",
      "metadata": {
        "id": "6h9KqmOLYXY4",
        "colab_type": "code",
        "colab": {}
      },
      "source": [
        "Train_y = np.array(train.fr_yn).reshape(-1,1)\n",
        "Validation_y = np.array(validation.fr_yn).reshape(-1,1)"
      ],
      "execution_count": 0,
      "outputs": []
    },
    {
      "cell_type": "code",
      "metadata": {
        "id": "4sbyHejRYXZG",
        "colab_type": "code",
        "colab": {}
      },
      "source": [
        ""
      ],
      "execution_count": 0,
      "outputs": []
    },
    {
      "cell_type": "code",
      "metadata": {
        "id": "OUX_dvimYXZV",
        "colab_type": "code",
        "colab": {}
      },
      "source": [
        "from sklearn.ensemble import RandomForestClassifier\n",
        "from sklearn.metrics import f1_score"
      ],
      "execution_count": 0,
      "outputs": []
    },
    {
      "cell_type": "code",
      "metadata": {
        "id": "G0_yoFuuYXZj",
        "colab_type": "code",
        "colab": {}
      },
      "source": [
        "RF_clf = RandomForestClassifier(min_samples_leaf=5)\n",
        "\n"
      ],
      "execution_count": 0,
      "outputs": []
    },
    {
      "cell_type": "code",
      "metadata": {
        "id": "COIsd8h6YXZq",
        "colab_type": "code",
        "outputId": "138abe9e-0b58-4164-8b4d-2c7b390a2691",
        "colab": {}
      },
      "source": [
        "RF_clf.fit(Train_X,Train_y)\n"
      ],
      "execution_count": 0,
      "outputs": [
        {
          "output_type": "stream",
          "text": [
            "/Users/ieunpyo/anaconda3/envs/work/lib/python3.7/site-packages/sklearn/ensemble/forest.py:245: FutureWarning: The default value of n_estimators will change from 10 in version 0.20 to 100 in 0.22.\n",
            "  \"10 in version 0.20 to 100 in 0.22.\", FutureWarning)\n",
            "/Users/ieunpyo/anaconda3/envs/work/lib/python3.7/site-packages/ipykernel_launcher.py:1: DataConversionWarning: A column-vector y was passed when a 1d array was expected. Please change the shape of y to (n_samples,), for example using ravel().\n",
            "  \"\"\"Entry point for launching an IPython kernel.\n"
          ],
          "name": "stderr"
        },
        {
          "output_type": "execute_result",
          "data": {
            "text/plain": [
              "RandomForestClassifier(bootstrap=True, class_weight=None, criterion='gini',\n",
              "                       max_depth=None, max_features='auto', max_leaf_nodes=None,\n",
              "                       min_impurity_decrease=0.0, min_impurity_split=None,\n",
              "                       min_samples_leaf=5, min_samples_split=2,\n",
              "                       min_weight_fraction_leaf=0.0, n_estimators=10,\n",
              "                       n_jobs=None, oob_score=False, random_state=None,\n",
              "                       verbose=0, warm_start=False)"
            ]
          },
          "metadata": {
            "tags": []
          },
          "execution_count": 127
        }
      ]
    },
    {
      "cell_type": "code",
      "metadata": {
        "id": "TuZGFkLHYXZx",
        "colab_type": "code",
        "outputId": "74caca3e-47af-4d5d-f5ae-8dd0bbeac304",
        "colab": {}
      },
      "source": [
        "sum(RF_clf.predict(Train_X)==Train_y.reshape(-1))/len(Train_X)"
      ],
      "execution_count": 0,
      "outputs": [
        {
          "output_type": "execute_result",
          "data": {
            "text/plain": [
              "0.9229209952870826"
            ]
          },
          "metadata": {
            "tags": []
          },
          "execution_count": 128
        }
      ]
    },
    {
      "cell_type": "code",
      "metadata": {
        "id": "2A5EEmlWYXZ5",
        "colab_type": "code",
        "outputId": "6bd2f1b3-6403-4ab6-c22a-db81ab18887a",
        "colab": {}
      },
      "source": [
        "sum(RF_clf.predict(Validation_X)==Validation_y.reshape(-1))/len(Validation_X)"
      ],
      "execution_count": 0,
      "outputs": [
        {
          "output_type": "execute_result",
          "data": {
            "text/plain": [
              "0.8237170194259206"
            ]
          },
          "metadata": {
            "tags": []
          },
          "execution_count": 129
        }
      ]
    },
    {
      "cell_type": "code",
      "metadata": {
        "id": "Gz8Tbr76YXaC",
        "colab_type": "code",
        "outputId": "3d82f0d8-ae00-45bd-cccc-fd689c07e320",
        "colab": {}
      },
      "source": [
        "f1_score(Validation_y.reshape(-1), RF_clf.predict(Validation_X))\n",
        "\n"
      ],
      "execution_count": 0,
      "outputs": [
        {
          "output_type": "execute_result",
          "data": {
            "text/plain": [
              "0.3926073926073926"
            ]
          },
          "metadata": {
            "tags": []
          },
          "execution_count": 130
        }
      ]
    },
    {
      "cell_type": "code",
      "metadata": {
        "id": "NHoXDtpKYXag",
        "colab_type": "code",
        "colab": {}
      },
      "source": [
        "from sklearn.base import clone\n"
      ],
      "execution_count": 0,
      "outputs": []
    },
    {
      "cell_type": "code",
      "metadata": {
        "id": "BSvdMIQhYXau",
        "colab_type": "code",
        "outputId": "b6042d60-67e4-4234-a852-1fff5cb0e1f9",
        "colab": {}
      },
      "source": [
        "max_f_for_fun = 0.41\n",
        "for i in range(200) :\n",
        "    RF_clf.fit(Train_X,Train_y)\n",
        "    new_score = f1_score(Validation_y.reshape(-1), RF_clf.predict(Validation_X))\n",
        "    if new_score > max_f_for_fun :\n",
        "        train_f_score = f1_score(Train_y.reshape(-1), RF_clf.predict(Train_X))\n",
        "        max_f_for_fun = new_score\n",
        "        submission = RF_clf.predict(Test_X)\n"
      ],
      "execution_count": 0,
      "outputs": [
        {
          "output_type": "stream",
          "text": [
            "/Users/ieunpyo/anaconda3/envs/work/lib/python3.7/site-packages/ipykernel_launcher.py:3: DataConversionWarning: A column-vector y was passed when a 1d array was expected. Please change the shape of y to (n_samples,), for example using ravel().\n",
            "  This is separate from the ipykernel package so we can avoid doing imports until\n",
            "/Users/ieunpyo/anaconda3/envs/work/lib/python3.7/site-packages/ipykernel_launcher.py:3: DataConversionWarning: A column-vector y was passed when a 1d array was expected. Please change the shape of y to (n_samples,), for example using ravel().\n",
            "  This is separate from the ipykernel package so we can avoid doing imports until\n",
            "/Users/ieunpyo/anaconda3/envs/work/lib/python3.7/site-packages/ipykernel_launcher.py:3: DataConversionWarning: A column-vector y was passed when a 1d array was expected. Please change the shape of y to (n_samples,), for example using ravel().\n",
            "  This is separate from the ipykernel package so we can avoid doing imports until\n",
            "/Users/ieunpyo/anaconda3/envs/work/lib/python3.7/site-packages/ipykernel_launcher.py:3: DataConversionWarning: A column-vector y was passed when a 1d array was expected. Please change the shape of y to (n_samples,), for example using ravel().\n",
            "  This is separate from the ipykernel package so we can avoid doing imports until\n",
            "/Users/ieunpyo/anaconda3/envs/work/lib/python3.7/site-packages/ipykernel_launcher.py:3: DataConversionWarning: A column-vector y was passed when a 1d array was expected. Please change the shape of y to (n_samples,), for example using ravel().\n",
            "  This is separate from the ipykernel package so we can avoid doing imports until\n",
            "/Users/ieunpyo/anaconda3/envs/work/lib/python3.7/site-packages/ipykernel_launcher.py:3: DataConversionWarning: A column-vector y was passed when a 1d array was expected. Please change the shape of y to (n_samples,), for example using ravel().\n",
            "  This is separate from the ipykernel package so we can avoid doing imports until\n",
            "/Users/ieunpyo/anaconda3/envs/work/lib/python3.7/site-packages/ipykernel_launcher.py:3: DataConversionWarning: A column-vector y was passed when a 1d array was expected. Please change the shape of y to (n_samples,), for example using ravel().\n",
            "  This is separate from the ipykernel package so we can avoid doing imports until\n",
            "/Users/ieunpyo/anaconda3/envs/work/lib/python3.7/site-packages/ipykernel_launcher.py:3: DataConversionWarning: A column-vector y was passed when a 1d array was expected. Please change the shape of y to (n_samples,), for example using ravel().\n",
            "  This is separate from the ipykernel package so we can avoid doing imports until\n",
            "/Users/ieunpyo/anaconda3/envs/work/lib/python3.7/site-packages/ipykernel_launcher.py:3: DataConversionWarning: A column-vector y was passed when a 1d array was expected. Please change the shape of y to (n_samples,), for example using ravel().\n",
            "  This is separate from the ipykernel package so we can avoid doing imports until\n",
            "/Users/ieunpyo/anaconda3/envs/work/lib/python3.7/site-packages/ipykernel_launcher.py:3: DataConversionWarning: A column-vector y was passed when a 1d array was expected. Please change the shape of y to (n_samples,), for example using ravel().\n",
            "  This is separate from the ipykernel package so we can avoid doing imports until\n",
            "/Users/ieunpyo/anaconda3/envs/work/lib/python3.7/site-packages/ipykernel_launcher.py:3: DataConversionWarning: A column-vector y was passed when a 1d array was expected. Please change the shape of y to (n_samples,), for example using ravel().\n",
            "  This is separate from the ipykernel package so we can avoid doing imports until\n",
            "/Users/ieunpyo/anaconda3/envs/work/lib/python3.7/site-packages/ipykernel_launcher.py:3: DataConversionWarning: A column-vector y was passed when a 1d array was expected. Please change the shape of y to (n_samples,), for example using ravel().\n",
            "  This is separate from the ipykernel package so we can avoid doing imports until\n",
            "/Users/ieunpyo/anaconda3/envs/work/lib/python3.7/site-packages/ipykernel_launcher.py:3: DataConversionWarning: A column-vector y was passed when a 1d array was expected. Please change the shape of y to (n_samples,), for example using ravel().\n",
            "  This is separate from the ipykernel package so we can avoid doing imports until\n",
            "/Users/ieunpyo/anaconda3/envs/work/lib/python3.7/site-packages/ipykernel_launcher.py:3: DataConversionWarning: A column-vector y was passed when a 1d array was expected. Please change the shape of y to (n_samples,), for example using ravel().\n",
            "  This is separate from the ipykernel package so we can avoid doing imports until\n",
            "/Users/ieunpyo/anaconda3/envs/work/lib/python3.7/site-packages/ipykernel_launcher.py:3: DataConversionWarning: A column-vector y was passed when a 1d array was expected. Please change the shape of y to (n_samples,), for example using ravel().\n",
            "  This is separate from the ipykernel package so we can avoid doing imports until\n",
            "/Users/ieunpyo/anaconda3/envs/work/lib/python3.7/site-packages/ipykernel_launcher.py:3: DataConversionWarning: A column-vector y was passed when a 1d array was expected. Please change the shape of y to (n_samples,), for example using ravel().\n",
            "  This is separate from the ipykernel package so we can avoid doing imports until\n",
            "/Users/ieunpyo/anaconda3/envs/work/lib/python3.7/site-packages/ipykernel_launcher.py:3: DataConversionWarning: A column-vector y was passed when a 1d array was expected. Please change the shape of y to (n_samples,), for example using ravel().\n",
            "  This is separate from the ipykernel package so we can avoid doing imports until\n",
            "/Users/ieunpyo/anaconda3/envs/work/lib/python3.7/site-packages/ipykernel_launcher.py:3: DataConversionWarning: A column-vector y was passed when a 1d array was expected. Please change the shape of y to (n_samples,), for example using ravel().\n",
            "  This is separate from the ipykernel package so we can avoid doing imports until\n",
            "/Users/ieunpyo/anaconda3/envs/work/lib/python3.7/site-packages/ipykernel_launcher.py:3: DataConversionWarning: A column-vector y was passed when a 1d array was expected. Please change the shape of y to (n_samples,), for example using ravel().\n",
            "  This is separate from the ipykernel package so we can avoid doing imports until\n",
            "/Users/ieunpyo/anaconda3/envs/work/lib/python3.7/site-packages/ipykernel_launcher.py:3: DataConversionWarning: A column-vector y was passed when a 1d array was expected. Please change the shape of y to (n_samples,), for example using ravel().\n",
            "  This is separate from the ipykernel package so we can avoid doing imports until\n",
            "/Users/ieunpyo/anaconda3/envs/work/lib/python3.7/site-packages/ipykernel_launcher.py:3: DataConversionWarning: A column-vector y was passed when a 1d array was expected. Please change the shape of y to (n_samples,), for example using ravel().\n",
            "  This is separate from the ipykernel package so we can avoid doing imports until\n",
            "/Users/ieunpyo/anaconda3/envs/work/lib/python3.7/site-packages/ipykernel_launcher.py:3: DataConversionWarning: A column-vector y was passed when a 1d array was expected. Please change the shape of y to (n_samples,), for example using ravel().\n",
            "  This is separate from the ipykernel package so we can avoid doing imports until\n",
            "/Users/ieunpyo/anaconda3/envs/work/lib/python3.7/site-packages/ipykernel_launcher.py:3: DataConversionWarning: A column-vector y was passed when a 1d array was expected. Please change the shape of y to (n_samples,), for example using ravel().\n",
            "  This is separate from the ipykernel package so we can avoid doing imports until\n",
            "/Users/ieunpyo/anaconda3/envs/work/lib/python3.7/site-packages/ipykernel_launcher.py:3: DataConversionWarning: A column-vector y was passed when a 1d array was expected. Please change the shape of y to (n_samples,), for example using ravel().\n",
            "  This is separate from the ipykernel package so we can avoid doing imports until\n",
            "/Users/ieunpyo/anaconda3/envs/work/lib/python3.7/site-packages/ipykernel_launcher.py:3: DataConversionWarning: A column-vector y was passed when a 1d array was expected. Please change the shape of y to (n_samples,), for example using ravel().\n",
            "  This is separate from the ipykernel package so we can avoid doing imports until\n",
            "/Users/ieunpyo/anaconda3/envs/work/lib/python3.7/site-packages/ipykernel_launcher.py:3: DataConversionWarning: A column-vector y was passed when a 1d array was expected. Please change the shape of y to (n_samples,), for example using ravel().\n",
            "  This is separate from the ipykernel package so we can avoid doing imports until\n"
          ],
          "name": "stderr"
        },
        {
          "output_type": "stream",
          "text": [
            "/Users/ieunpyo/anaconda3/envs/work/lib/python3.7/site-packages/ipykernel_launcher.py:3: DataConversionWarning: A column-vector y was passed when a 1d array was expected. Please change the shape of y to (n_samples,), for example using ravel().\n",
            "  This is separate from the ipykernel package so we can avoid doing imports until\n",
            "/Users/ieunpyo/anaconda3/envs/work/lib/python3.7/site-packages/ipykernel_launcher.py:3: DataConversionWarning: A column-vector y was passed when a 1d array was expected. Please change the shape of y to (n_samples,), for example using ravel().\n",
            "  This is separate from the ipykernel package so we can avoid doing imports until\n",
            "/Users/ieunpyo/anaconda3/envs/work/lib/python3.7/site-packages/ipykernel_launcher.py:3: DataConversionWarning: A column-vector y was passed when a 1d array was expected. Please change the shape of y to (n_samples,), for example using ravel().\n",
            "  This is separate from the ipykernel package so we can avoid doing imports until\n",
            "/Users/ieunpyo/anaconda3/envs/work/lib/python3.7/site-packages/ipykernel_launcher.py:3: DataConversionWarning: A column-vector y was passed when a 1d array was expected. Please change the shape of y to (n_samples,), for example using ravel().\n",
            "  This is separate from the ipykernel package so we can avoid doing imports until\n",
            "/Users/ieunpyo/anaconda3/envs/work/lib/python3.7/site-packages/ipykernel_launcher.py:3: DataConversionWarning: A column-vector y was passed when a 1d array was expected. Please change the shape of y to (n_samples,), for example using ravel().\n",
            "  This is separate from the ipykernel package so we can avoid doing imports until\n",
            "/Users/ieunpyo/anaconda3/envs/work/lib/python3.7/site-packages/ipykernel_launcher.py:3: DataConversionWarning: A column-vector y was passed when a 1d array was expected. Please change the shape of y to (n_samples,), for example using ravel().\n",
            "  This is separate from the ipykernel package so we can avoid doing imports until\n",
            "/Users/ieunpyo/anaconda3/envs/work/lib/python3.7/site-packages/ipykernel_launcher.py:3: DataConversionWarning: A column-vector y was passed when a 1d array was expected. Please change the shape of y to (n_samples,), for example using ravel().\n",
            "  This is separate from the ipykernel package so we can avoid doing imports until\n",
            "/Users/ieunpyo/anaconda3/envs/work/lib/python3.7/site-packages/ipykernel_launcher.py:3: DataConversionWarning: A column-vector y was passed when a 1d array was expected. Please change the shape of y to (n_samples,), for example using ravel().\n",
            "  This is separate from the ipykernel package so we can avoid doing imports until\n",
            "/Users/ieunpyo/anaconda3/envs/work/lib/python3.7/site-packages/ipykernel_launcher.py:3: DataConversionWarning: A column-vector y was passed when a 1d array was expected. Please change the shape of y to (n_samples,), for example using ravel().\n",
            "  This is separate from the ipykernel package so we can avoid doing imports until\n",
            "/Users/ieunpyo/anaconda3/envs/work/lib/python3.7/site-packages/ipykernel_launcher.py:3: DataConversionWarning: A column-vector y was passed when a 1d array was expected. Please change the shape of y to (n_samples,), for example using ravel().\n",
            "  This is separate from the ipykernel package so we can avoid doing imports until\n",
            "/Users/ieunpyo/anaconda3/envs/work/lib/python3.7/site-packages/ipykernel_launcher.py:3: DataConversionWarning: A column-vector y was passed when a 1d array was expected. Please change the shape of y to (n_samples,), for example using ravel().\n",
            "  This is separate from the ipykernel package so we can avoid doing imports until\n",
            "/Users/ieunpyo/anaconda3/envs/work/lib/python3.7/site-packages/ipykernel_launcher.py:3: DataConversionWarning: A column-vector y was passed when a 1d array was expected. Please change the shape of y to (n_samples,), for example using ravel().\n",
            "  This is separate from the ipykernel package so we can avoid doing imports until\n",
            "/Users/ieunpyo/anaconda3/envs/work/lib/python3.7/site-packages/ipykernel_launcher.py:3: DataConversionWarning: A column-vector y was passed when a 1d array was expected. Please change the shape of y to (n_samples,), for example using ravel().\n",
            "  This is separate from the ipykernel package so we can avoid doing imports until\n",
            "/Users/ieunpyo/anaconda3/envs/work/lib/python3.7/site-packages/ipykernel_launcher.py:3: DataConversionWarning: A column-vector y was passed when a 1d array was expected. Please change the shape of y to (n_samples,), for example using ravel().\n",
            "  This is separate from the ipykernel package so we can avoid doing imports until\n",
            "/Users/ieunpyo/anaconda3/envs/work/lib/python3.7/site-packages/ipykernel_launcher.py:3: DataConversionWarning: A column-vector y was passed when a 1d array was expected. Please change the shape of y to (n_samples,), for example using ravel().\n",
            "  This is separate from the ipykernel package so we can avoid doing imports until\n",
            "/Users/ieunpyo/anaconda3/envs/work/lib/python3.7/site-packages/ipykernel_launcher.py:3: DataConversionWarning: A column-vector y was passed when a 1d array was expected. Please change the shape of y to (n_samples,), for example using ravel().\n",
            "  This is separate from the ipykernel package so we can avoid doing imports until\n",
            "/Users/ieunpyo/anaconda3/envs/work/lib/python3.7/site-packages/ipykernel_launcher.py:3: DataConversionWarning: A column-vector y was passed when a 1d array was expected. Please change the shape of y to (n_samples,), for example using ravel().\n",
            "  This is separate from the ipykernel package so we can avoid doing imports until\n",
            "/Users/ieunpyo/anaconda3/envs/work/lib/python3.7/site-packages/ipykernel_launcher.py:3: DataConversionWarning: A column-vector y was passed when a 1d array was expected. Please change the shape of y to (n_samples,), for example using ravel().\n",
            "  This is separate from the ipykernel package so we can avoid doing imports until\n",
            "/Users/ieunpyo/anaconda3/envs/work/lib/python3.7/site-packages/ipykernel_launcher.py:3: DataConversionWarning: A column-vector y was passed when a 1d array was expected. Please change the shape of y to (n_samples,), for example using ravel().\n",
            "  This is separate from the ipykernel package so we can avoid doing imports until\n",
            "/Users/ieunpyo/anaconda3/envs/work/lib/python3.7/site-packages/ipykernel_launcher.py:3: DataConversionWarning: A column-vector y was passed when a 1d array was expected. Please change the shape of y to (n_samples,), for example using ravel().\n",
            "  This is separate from the ipykernel package so we can avoid doing imports until\n",
            "/Users/ieunpyo/anaconda3/envs/work/lib/python3.7/site-packages/ipykernel_launcher.py:3: DataConversionWarning: A column-vector y was passed when a 1d array was expected. Please change the shape of y to (n_samples,), for example using ravel().\n",
            "  This is separate from the ipykernel package so we can avoid doing imports until\n",
            "/Users/ieunpyo/anaconda3/envs/work/lib/python3.7/site-packages/ipykernel_launcher.py:3: DataConversionWarning: A column-vector y was passed when a 1d array was expected. Please change the shape of y to (n_samples,), for example using ravel().\n",
            "  This is separate from the ipykernel package so we can avoid doing imports until\n",
            "/Users/ieunpyo/anaconda3/envs/work/lib/python3.7/site-packages/ipykernel_launcher.py:3: DataConversionWarning: A column-vector y was passed when a 1d array was expected. Please change the shape of y to (n_samples,), for example using ravel().\n",
            "  This is separate from the ipykernel package so we can avoid doing imports until\n",
            "/Users/ieunpyo/anaconda3/envs/work/lib/python3.7/site-packages/ipykernel_launcher.py:3: DataConversionWarning: A column-vector y was passed when a 1d array was expected. Please change the shape of y to (n_samples,), for example using ravel().\n",
            "  This is separate from the ipykernel package so we can avoid doing imports until\n",
            "/Users/ieunpyo/anaconda3/envs/work/lib/python3.7/site-packages/ipykernel_launcher.py:3: DataConversionWarning: A column-vector y was passed when a 1d array was expected. Please change the shape of y to (n_samples,), for example using ravel().\n",
            "  This is separate from the ipykernel package so we can avoid doing imports until\n",
            "/Users/ieunpyo/anaconda3/envs/work/lib/python3.7/site-packages/ipykernel_launcher.py:3: DataConversionWarning: A column-vector y was passed when a 1d array was expected. Please change the shape of y to (n_samples,), for example using ravel().\n",
            "  This is separate from the ipykernel package so we can avoid doing imports until\n"
          ],
          "name": "stderr"
        },
        {
          "output_type": "stream",
          "text": [
            "/Users/ieunpyo/anaconda3/envs/work/lib/python3.7/site-packages/ipykernel_launcher.py:3: DataConversionWarning: A column-vector y was passed when a 1d array was expected. Please change the shape of y to (n_samples,), for example using ravel().\n",
            "  This is separate from the ipykernel package so we can avoid doing imports until\n",
            "/Users/ieunpyo/anaconda3/envs/work/lib/python3.7/site-packages/ipykernel_launcher.py:3: DataConversionWarning: A column-vector y was passed when a 1d array was expected. Please change the shape of y to (n_samples,), for example using ravel().\n",
            "  This is separate from the ipykernel package so we can avoid doing imports until\n",
            "/Users/ieunpyo/anaconda3/envs/work/lib/python3.7/site-packages/ipykernel_launcher.py:3: DataConversionWarning: A column-vector y was passed when a 1d array was expected. Please change the shape of y to (n_samples,), for example using ravel().\n",
            "  This is separate from the ipykernel package so we can avoid doing imports until\n",
            "/Users/ieunpyo/anaconda3/envs/work/lib/python3.7/site-packages/ipykernel_launcher.py:3: DataConversionWarning: A column-vector y was passed when a 1d array was expected. Please change the shape of y to (n_samples,), for example using ravel().\n",
            "  This is separate from the ipykernel package so we can avoid doing imports until\n",
            "/Users/ieunpyo/anaconda3/envs/work/lib/python3.7/site-packages/ipykernel_launcher.py:3: DataConversionWarning: A column-vector y was passed when a 1d array was expected. Please change the shape of y to (n_samples,), for example using ravel().\n",
            "  This is separate from the ipykernel package so we can avoid doing imports until\n",
            "/Users/ieunpyo/anaconda3/envs/work/lib/python3.7/site-packages/ipykernel_launcher.py:3: DataConversionWarning: A column-vector y was passed when a 1d array was expected. Please change the shape of y to (n_samples,), for example using ravel().\n",
            "  This is separate from the ipykernel package so we can avoid doing imports until\n",
            "/Users/ieunpyo/anaconda3/envs/work/lib/python3.7/site-packages/ipykernel_launcher.py:3: DataConversionWarning: A column-vector y was passed when a 1d array was expected. Please change the shape of y to (n_samples,), for example using ravel().\n",
            "  This is separate from the ipykernel package so we can avoid doing imports until\n",
            "/Users/ieunpyo/anaconda3/envs/work/lib/python3.7/site-packages/ipykernel_launcher.py:3: DataConversionWarning: A column-vector y was passed when a 1d array was expected. Please change the shape of y to (n_samples,), for example using ravel().\n",
            "  This is separate from the ipykernel package so we can avoid doing imports until\n",
            "/Users/ieunpyo/anaconda3/envs/work/lib/python3.7/site-packages/ipykernel_launcher.py:3: DataConversionWarning: A column-vector y was passed when a 1d array was expected. Please change the shape of y to (n_samples,), for example using ravel().\n",
            "  This is separate from the ipykernel package so we can avoid doing imports until\n",
            "/Users/ieunpyo/anaconda3/envs/work/lib/python3.7/site-packages/ipykernel_launcher.py:3: DataConversionWarning: A column-vector y was passed when a 1d array was expected. Please change the shape of y to (n_samples,), for example using ravel().\n",
            "  This is separate from the ipykernel package so we can avoid doing imports until\n",
            "/Users/ieunpyo/anaconda3/envs/work/lib/python3.7/site-packages/ipykernel_launcher.py:3: DataConversionWarning: A column-vector y was passed when a 1d array was expected. Please change the shape of y to (n_samples,), for example using ravel().\n",
            "  This is separate from the ipykernel package so we can avoid doing imports until\n",
            "/Users/ieunpyo/anaconda3/envs/work/lib/python3.7/site-packages/ipykernel_launcher.py:3: DataConversionWarning: A column-vector y was passed when a 1d array was expected. Please change the shape of y to (n_samples,), for example using ravel().\n",
            "  This is separate from the ipykernel package so we can avoid doing imports until\n",
            "/Users/ieunpyo/anaconda3/envs/work/lib/python3.7/site-packages/ipykernel_launcher.py:3: DataConversionWarning: A column-vector y was passed when a 1d array was expected. Please change the shape of y to (n_samples,), for example using ravel().\n",
            "  This is separate from the ipykernel package so we can avoid doing imports until\n",
            "/Users/ieunpyo/anaconda3/envs/work/lib/python3.7/site-packages/ipykernel_launcher.py:3: DataConversionWarning: A column-vector y was passed when a 1d array was expected. Please change the shape of y to (n_samples,), for example using ravel().\n",
            "  This is separate from the ipykernel package so we can avoid doing imports until\n",
            "/Users/ieunpyo/anaconda3/envs/work/lib/python3.7/site-packages/ipykernel_launcher.py:3: DataConversionWarning: A column-vector y was passed when a 1d array was expected. Please change the shape of y to (n_samples,), for example using ravel().\n",
            "  This is separate from the ipykernel package so we can avoid doing imports until\n",
            "/Users/ieunpyo/anaconda3/envs/work/lib/python3.7/site-packages/ipykernel_launcher.py:3: DataConversionWarning: A column-vector y was passed when a 1d array was expected. Please change the shape of y to (n_samples,), for example using ravel().\n",
            "  This is separate from the ipykernel package so we can avoid doing imports until\n",
            "/Users/ieunpyo/anaconda3/envs/work/lib/python3.7/site-packages/ipykernel_launcher.py:3: DataConversionWarning: A column-vector y was passed when a 1d array was expected. Please change the shape of y to (n_samples,), for example using ravel().\n",
            "  This is separate from the ipykernel package so we can avoid doing imports until\n",
            "/Users/ieunpyo/anaconda3/envs/work/lib/python3.7/site-packages/ipykernel_launcher.py:3: DataConversionWarning: A column-vector y was passed when a 1d array was expected. Please change the shape of y to (n_samples,), for example using ravel().\n",
            "  This is separate from the ipykernel package so we can avoid doing imports until\n",
            "/Users/ieunpyo/anaconda3/envs/work/lib/python3.7/site-packages/ipykernel_launcher.py:3: DataConversionWarning: A column-vector y was passed when a 1d array was expected. Please change the shape of y to (n_samples,), for example using ravel().\n",
            "  This is separate from the ipykernel package so we can avoid doing imports until\n",
            "/Users/ieunpyo/anaconda3/envs/work/lib/python3.7/site-packages/ipykernel_launcher.py:3: DataConversionWarning: A column-vector y was passed when a 1d array was expected. Please change the shape of y to (n_samples,), for example using ravel().\n",
            "  This is separate from the ipykernel package so we can avoid doing imports until\n",
            "/Users/ieunpyo/anaconda3/envs/work/lib/python3.7/site-packages/ipykernel_launcher.py:3: DataConversionWarning: A column-vector y was passed when a 1d array was expected. Please change the shape of y to (n_samples,), for example using ravel().\n",
            "  This is separate from the ipykernel package so we can avoid doing imports until\n",
            "/Users/ieunpyo/anaconda3/envs/work/lib/python3.7/site-packages/ipykernel_launcher.py:3: DataConversionWarning: A column-vector y was passed when a 1d array was expected. Please change the shape of y to (n_samples,), for example using ravel().\n",
            "  This is separate from the ipykernel package so we can avoid doing imports until\n",
            "/Users/ieunpyo/anaconda3/envs/work/lib/python3.7/site-packages/ipykernel_launcher.py:3: DataConversionWarning: A column-vector y was passed when a 1d array was expected. Please change the shape of y to (n_samples,), for example using ravel().\n",
            "  This is separate from the ipykernel package so we can avoid doing imports until\n",
            "/Users/ieunpyo/anaconda3/envs/work/lib/python3.7/site-packages/ipykernel_launcher.py:3: DataConversionWarning: A column-vector y was passed when a 1d array was expected. Please change the shape of y to (n_samples,), for example using ravel().\n",
            "  This is separate from the ipykernel package so we can avoid doing imports until\n",
            "/Users/ieunpyo/anaconda3/envs/work/lib/python3.7/site-packages/ipykernel_launcher.py:3: DataConversionWarning: A column-vector y was passed when a 1d array was expected. Please change the shape of y to (n_samples,), for example using ravel().\n",
            "  This is separate from the ipykernel package so we can avoid doing imports until\n",
            "/Users/ieunpyo/anaconda3/envs/work/lib/python3.7/site-packages/ipykernel_launcher.py:3: DataConversionWarning: A column-vector y was passed when a 1d array was expected. Please change the shape of y to (n_samples,), for example using ravel().\n",
            "  This is separate from the ipykernel package so we can avoid doing imports until\n"
          ],
          "name": "stderr"
        },
        {
          "output_type": "stream",
          "text": [
            "/Users/ieunpyo/anaconda3/envs/work/lib/python3.7/site-packages/ipykernel_launcher.py:3: DataConversionWarning: A column-vector y was passed when a 1d array was expected. Please change the shape of y to (n_samples,), for example using ravel().\n",
            "  This is separate from the ipykernel package so we can avoid doing imports until\n",
            "/Users/ieunpyo/anaconda3/envs/work/lib/python3.7/site-packages/ipykernel_launcher.py:3: DataConversionWarning: A column-vector y was passed when a 1d array was expected. Please change the shape of y to (n_samples,), for example using ravel().\n",
            "  This is separate from the ipykernel package so we can avoid doing imports until\n",
            "/Users/ieunpyo/anaconda3/envs/work/lib/python3.7/site-packages/ipykernel_launcher.py:3: DataConversionWarning: A column-vector y was passed when a 1d array was expected. Please change the shape of y to (n_samples,), for example using ravel().\n",
            "  This is separate from the ipykernel package so we can avoid doing imports until\n",
            "/Users/ieunpyo/anaconda3/envs/work/lib/python3.7/site-packages/ipykernel_launcher.py:3: DataConversionWarning: A column-vector y was passed when a 1d array was expected. Please change the shape of y to (n_samples,), for example using ravel().\n",
            "  This is separate from the ipykernel package so we can avoid doing imports until\n",
            "/Users/ieunpyo/anaconda3/envs/work/lib/python3.7/site-packages/ipykernel_launcher.py:3: DataConversionWarning: A column-vector y was passed when a 1d array was expected. Please change the shape of y to (n_samples,), for example using ravel().\n",
            "  This is separate from the ipykernel package so we can avoid doing imports until\n",
            "/Users/ieunpyo/anaconda3/envs/work/lib/python3.7/site-packages/ipykernel_launcher.py:3: DataConversionWarning: A column-vector y was passed when a 1d array was expected. Please change the shape of y to (n_samples,), for example using ravel().\n",
            "  This is separate from the ipykernel package so we can avoid doing imports until\n",
            "/Users/ieunpyo/anaconda3/envs/work/lib/python3.7/site-packages/ipykernel_launcher.py:3: DataConversionWarning: A column-vector y was passed when a 1d array was expected. Please change the shape of y to (n_samples,), for example using ravel().\n",
            "  This is separate from the ipykernel package so we can avoid doing imports until\n",
            "/Users/ieunpyo/anaconda3/envs/work/lib/python3.7/site-packages/ipykernel_launcher.py:3: DataConversionWarning: A column-vector y was passed when a 1d array was expected. Please change the shape of y to (n_samples,), for example using ravel().\n",
            "  This is separate from the ipykernel package so we can avoid doing imports until\n",
            "/Users/ieunpyo/anaconda3/envs/work/lib/python3.7/site-packages/ipykernel_launcher.py:3: DataConversionWarning: A column-vector y was passed when a 1d array was expected. Please change the shape of y to (n_samples,), for example using ravel().\n",
            "  This is separate from the ipykernel package so we can avoid doing imports until\n",
            "/Users/ieunpyo/anaconda3/envs/work/lib/python3.7/site-packages/ipykernel_launcher.py:3: DataConversionWarning: A column-vector y was passed when a 1d array was expected. Please change the shape of y to (n_samples,), for example using ravel().\n",
            "  This is separate from the ipykernel package so we can avoid doing imports until\n",
            "/Users/ieunpyo/anaconda3/envs/work/lib/python3.7/site-packages/ipykernel_launcher.py:3: DataConversionWarning: A column-vector y was passed when a 1d array was expected. Please change the shape of y to (n_samples,), for example using ravel().\n",
            "  This is separate from the ipykernel package so we can avoid doing imports until\n",
            "/Users/ieunpyo/anaconda3/envs/work/lib/python3.7/site-packages/ipykernel_launcher.py:3: DataConversionWarning: A column-vector y was passed when a 1d array was expected. Please change the shape of y to (n_samples,), for example using ravel().\n",
            "  This is separate from the ipykernel package so we can avoid doing imports until\n",
            "/Users/ieunpyo/anaconda3/envs/work/lib/python3.7/site-packages/ipykernel_launcher.py:3: DataConversionWarning: A column-vector y was passed when a 1d array was expected. Please change the shape of y to (n_samples,), for example using ravel().\n",
            "  This is separate from the ipykernel package so we can avoid doing imports until\n",
            "/Users/ieunpyo/anaconda3/envs/work/lib/python3.7/site-packages/ipykernel_launcher.py:3: DataConversionWarning: A column-vector y was passed when a 1d array was expected. Please change the shape of y to (n_samples,), for example using ravel().\n",
            "  This is separate from the ipykernel package so we can avoid doing imports until\n",
            "/Users/ieunpyo/anaconda3/envs/work/lib/python3.7/site-packages/ipykernel_launcher.py:3: DataConversionWarning: A column-vector y was passed when a 1d array was expected. Please change the shape of y to (n_samples,), for example using ravel().\n",
            "  This is separate from the ipykernel package so we can avoid doing imports until\n",
            "/Users/ieunpyo/anaconda3/envs/work/lib/python3.7/site-packages/ipykernel_launcher.py:3: DataConversionWarning: A column-vector y was passed when a 1d array was expected. Please change the shape of y to (n_samples,), for example using ravel().\n",
            "  This is separate from the ipykernel package so we can avoid doing imports until\n",
            "/Users/ieunpyo/anaconda3/envs/work/lib/python3.7/site-packages/ipykernel_launcher.py:3: DataConversionWarning: A column-vector y was passed when a 1d array was expected. Please change the shape of y to (n_samples,), for example using ravel().\n",
            "  This is separate from the ipykernel package so we can avoid doing imports until\n",
            "/Users/ieunpyo/anaconda3/envs/work/lib/python3.7/site-packages/ipykernel_launcher.py:3: DataConversionWarning: A column-vector y was passed when a 1d array was expected. Please change the shape of y to (n_samples,), for example using ravel().\n",
            "  This is separate from the ipykernel package so we can avoid doing imports until\n",
            "/Users/ieunpyo/anaconda3/envs/work/lib/python3.7/site-packages/ipykernel_launcher.py:3: DataConversionWarning: A column-vector y was passed when a 1d array was expected. Please change the shape of y to (n_samples,), for example using ravel().\n",
            "  This is separate from the ipykernel package so we can avoid doing imports until\n",
            "/Users/ieunpyo/anaconda3/envs/work/lib/python3.7/site-packages/ipykernel_launcher.py:3: DataConversionWarning: A column-vector y was passed when a 1d array was expected. Please change the shape of y to (n_samples,), for example using ravel().\n",
            "  This is separate from the ipykernel package so we can avoid doing imports until\n",
            "/Users/ieunpyo/anaconda3/envs/work/lib/python3.7/site-packages/ipykernel_launcher.py:3: DataConversionWarning: A column-vector y was passed when a 1d array was expected. Please change the shape of y to (n_samples,), for example using ravel().\n",
            "  This is separate from the ipykernel package so we can avoid doing imports until\n",
            "/Users/ieunpyo/anaconda3/envs/work/lib/python3.7/site-packages/ipykernel_launcher.py:3: DataConversionWarning: A column-vector y was passed when a 1d array was expected. Please change the shape of y to (n_samples,), for example using ravel().\n",
            "  This is separate from the ipykernel package so we can avoid doing imports until\n",
            "/Users/ieunpyo/anaconda3/envs/work/lib/python3.7/site-packages/ipykernel_launcher.py:3: DataConversionWarning: A column-vector y was passed when a 1d array was expected. Please change the shape of y to (n_samples,), for example using ravel().\n",
            "  This is separate from the ipykernel package so we can avoid doing imports until\n",
            "/Users/ieunpyo/anaconda3/envs/work/lib/python3.7/site-packages/ipykernel_launcher.py:3: DataConversionWarning: A column-vector y was passed when a 1d array was expected. Please change the shape of y to (n_samples,), for example using ravel().\n",
            "  This is separate from the ipykernel package so we can avoid doing imports until\n",
            "/Users/ieunpyo/anaconda3/envs/work/lib/python3.7/site-packages/ipykernel_launcher.py:3: DataConversionWarning: A column-vector y was passed when a 1d array was expected. Please change the shape of y to (n_samples,), for example using ravel().\n",
            "  This is separate from the ipykernel package so we can avoid doing imports until\n",
            "/Users/ieunpyo/anaconda3/envs/work/lib/python3.7/site-packages/ipykernel_launcher.py:3: DataConversionWarning: A column-vector y was passed when a 1d array was expected. Please change the shape of y to (n_samples,), for example using ravel().\n",
            "  This is separate from the ipykernel package so we can avoid doing imports until\n"
          ],
          "name": "stderr"
        },
        {
          "output_type": "stream",
          "text": [
            "/Users/ieunpyo/anaconda3/envs/work/lib/python3.7/site-packages/ipykernel_launcher.py:3: DataConversionWarning: A column-vector y was passed when a 1d array was expected. Please change the shape of y to (n_samples,), for example using ravel().\n",
            "  This is separate from the ipykernel package so we can avoid doing imports until\n",
            "/Users/ieunpyo/anaconda3/envs/work/lib/python3.7/site-packages/ipykernel_launcher.py:3: DataConversionWarning: A column-vector y was passed when a 1d array was expected. Please change the shape of y to (n_samples,), for example using ravel().\n",
            "  This is separate from the ipykernel package so we can avoid doing imports until\n",
            "/Users/ieunpyo/anaconda3/envs/work/lib/python3.7/site-packages/ipykernel_launcher.py:3: DataConversionWarning: A column-vector y was passed when a 1d array was expected. Please change the shape of y to (n_samples,), for example using ravel().\n",
            "  This is separate from the ipykernel package so we can avoid doing imports until\n",
            "/Users/ieunpyo/anaconda3/envs/work/lib/python3.7/site-packages/ipykernel_launcher.py:3: DataConversionWarning: A column-vector y was passed when a 1d array was expected. Please change the shape of y to (n_samples,), for example using ravel().\n",
            "  This is separate from the ipykernel package so we can avoid doing imports until\n",
            "/Users/ieunpyo/anaconda3/envs/work/lib/python3.7/site-packages/ipykernel_launcher.py:3: DataConversionWarning: A column-vector y was passed when a 1d array was expected. Please change the shape of y to (n_samples,), for example using ravel().\n",
            "  This is separate from the ipykernel package so we can avoid doing imports until\n",
            "/Users/ieunpyo/anaconda3/envs/work/lib/python3.7/site-packages/ipykernel_launcher.py:3: DataConversionWarning: A column-vector y was passed when a 1d array was expected. Please change the shape of y to (n_samples,), for example using ravel().\n",
            "  This is separate from the ipykernel package so we can avoid doing imports until\n",
            "/Users/ieunpyo/anaconda3/envs/work/lib/python3.7/site-packages/ipykernel_launcher.py:3: DataConversionWarning: A column-vector y was passed when a 1d array was expected. Please change the shape of y to (n_samples,), for example using ravel().\n",
            "  This is separate from the ipykernel package so we can avoid doing imports until\n",
            "/Users/ieunpyo/anaconda3/envs/work/lib/python3.7/site-packages/ipykernel_launcher.py:3: DataConversionWarning: A column-vector y was passed when a 1d array was expected. Please change the shape of y to (n_samples,), for example using ravel().\n",
            "  This is separate from the ipykernel package so we can avoid doing imports until\n",
            "/Users/ieunpyo/anaconda3/envs/work/lib/python3.7/site-packages/ipykernel_launcher.py:3: DataConversionWarning: A column-vector y was passed when a 1d array was expected. Please change the shape of y to (n_samples,), for example using ravel().\n",
            "  This is separate from the ipykernel package so we can avoid doing imports until\n",
            "/Users/ieunpyo/anaconda3/envs/work/lib/python3.7/site-packages/ipykernel_launcher.py:3: DataConversionWarning: A column-vector y was passed when a 1d array was expected. Please change the shape of y to (n_samples,), for example using ravel().\n",
            "  This is separate from the ipykernel package so we can avoid doing imports until\n",
            "/Users/ieunpyo/anaconda3/envs/work/lib/python3.7/site-packages/ipykernel_launcher.py:3: DataConversionWarning: A column-vector y was passed when a 1d array was expected. Please change the shape of y to (n_samples,), for example using ravel().\n",
            "  This is separate from the ipykernel package so we can avoid doing imports until\n",
            "/Users/ieunpyo/anaconda3/envs/work/lib/python3.7/site-packages/ipykernel_launcher.py:3: DataConversionWarning: A column-vector y was passed when a 1d array was expected. Please change the shape of y to (n_samples,), for example using ravel().\n",
            "  This is separate from the ipykernel package so we can avoid doing imports until\n",
            "/Users/ieunpyo/anaconda3/envs/work/lib/python3.7/site-packages/ipykernel_launcher.py:3: DataConversionWarning: A column-vector y was passed when a 1d array was expected. Please change the shape of y to (n_samples,), for example using ravel().\n",
            "  This is separate from the ipykernel package so we can avoid doing imports until\n",
            "/Users/ieunpyo/anaconda3/envs/work/lib/python3.7/site-packages/ipykernel_launcher.py:3: DataConversionWarning: A column-vector y was passed when a 1d array was expected. Please change the shape of y to (n_samples,), for example using ravel().\n",
            "  This is separate from the ipykernel package so we can avoid doing imports until\n",
            "/Users/ieunpyo/anaconda3/envs/work/lib/python3.7/site-packages/ipykernel_launcher.py:3: DataConversionWarning: A column-vector y was passed when a 1d array was expected. Please change the shape of y to (n_samples,), for example using ravel().\n",
            "  This is separate from the ipykernel package so we can avoid doing imports until\n",
            "/Users/ieunpyo/anaconda3/envs/work/lib/python3.7/site-packages/ipykernel_launcher.py:3: DataConversionWarning: A column-vector y was passed when a 1d array was expected. Please change the shape of y to (n_samples,), for example using ravel().\n",
            "  This is separate from the ipykernel package so we can avoid doing imports until\n",
            "/Users/ieunpyo/anaconda3/envs/work/lib/python3.7/site-packages/ipykernel_launcher.py:3: DataConversionWarning: A column-vector y was passed when a 1d array was expected. Please change the shape of y to (n_samples,), for example using ravel().\n",
            "  This is separate from the ipykernel package so we can avoid doing imports until\n",
            "/Users/ieunpyo/anaconda3/envs/work/lib/python3.7/site-packages/ipykernel_launcher.py:3: DataConversionWarning: A column-vector y was passed when a 1d array was expected. Please change the shape of y to (n_samples,), for example using ravel().\n",
            "  This is separate from the ipykernel package so we can avoid doing imports until\n",
            "/Users/ieunpyo/anaconda3/envs/work/lib/python3.7/site-packages/ipykernel_launcher.py:3: DataConversionWarning: A column-vector y was passed when a 1d array was expected. Please change the shape of y to (n_samples,), for example using ravel().\n",
            "  This is separate from the ipykernel package so we can avoid doing imports until\n",
            "/Users/ieunpyo/anaconda3/envs/work/lib/python3.7/site-packages/ipykernel_launcher.py:3: DataConversionWarning: A column-vector y was passed when a 1d array was expected. Please change the shape of y to (n_samples,), for example using ravel().\n",
            "  This is separate from the ipykernel package so we can avoid doing imports until\n",
            "/Users/ieunpyo/anaconda3/envs/work/lib/python3.7/site-packages/ipykernel_launcher.py:3: DataConversionWarning: A column-vector y was passed when a 1d array was expected. Please change the shape of y to (n_samples,), for example using ravel().\n",
            "  This is separate from the ipykernel package so we can avoid doing imports until\n",
            "/Users/ieunpyo/anaconda3/envs/work/lib/python3.7/site-packages/ipykernel_launcher.py:3: DataConversionWarning: A column-vector y was passed when a 1d array was expected. Please change the shape of y to (n_samples,), for example using ravel().\n",
            "  This is separate from the ipykernel package so we can avoid doing imports until\n",
            "/Users/ieunpyo/anaconda3/envs/work/lib/python3.7/site-packages/ipykernel_launcher.py:3: DataConversionWarning: A column-vector y was passed when a 1d array was expected. Please change the shape of y to (n_samples,), for example using ravel().\n",
            "  This is separate from the ipykernel package so we can avoid doing imports until\n",
            "/Users/ieunpyo/anaconda3/envs/work/lib/python3.7/site-packages/ipykernel_launcher.py:3: DataConversionWarning: A column-vector y was passed when a 1d array was expected. Please change the shape of y to (n_samples,), for example using ravel().\n",
            "  This is separate from the ipykernel package so we can avoid doing imports until\n",
            "/Users/ieunpyo/anaconda3/envs/work/lib/python3.7/site-packages/ipykernel_launcher.py:3: DataConversionWarning: A column-vector y was passed when a 1d array was expected. Please change the shape of y to (n_samples,), for example using ravel().\n",
            "  This is separate from the ipykernel package so we can avoid doing imports until\n",
            "/Users/ieunpyo/anaconda3/envs/work/lib/python3.7/site-packages/ipykernel_launcher.py:3: DataConversionWarning: A column-vector y was passed when a 1d array was expected. Please change the shape of y to (n_samples,), for example using ravel().\n",
            "  This is separate from the ipykernel package so we can avoid doing imports until\n"
          ],
          "name": "stderr"
        },
        {
          "output_type": "stream",
          "text": [
            "/Users/ieunpyo/anaconda3/envs/work/lib/python3.7/site-packages/ipykernel_launcher.py:3: DataConversionWarning: A column-vector y was passed when a 1d array was expected. Please change the shape of y to (n_samples,), for example using ravel().\n",
            "  This is separate from the ipykernel package so we can avoid doing imports until\n",
            "/Users/ieunpyo/anaconda3/envs/work/lib/python3.7/site-packages/ipykernel_launcher.py:3: DataConversionWarning: A column-vector y was passed when a 1d array was expected. Please change the shape of y to (n_samples,), for example using ravel().\n",
            "  This is separate from the ipykernel package so we can avoid doing imports until\n",
            "/Users/ieunpyo/anaconda3/envs/work/lib/python3.7/site-packages/ipykernel_launcher.py:3: DataConversionWarning: A column-vector y was passed when a 1d array was expected. Please change the shape of y to (n_samples,), for example using ravel().\n",
            "  This is separate from the ipykernel package so we can avoid doing imports until\n",
            "/Users/ieunpyo/anaconda3/envs/work/lib/python3.7/site-packages/ipykernel_launcher.py:3: DataConversionWarning: A column-vector y was passed when a 1d array was expected. Please change the shape of y to (n_samples,), for example using ravel().\n",
            "  This is separate from the ipykernel package so we can avoid doing imports until\n",
            "/Users/ieunpyo/anaconda3/envs/work/lib/python3.7/site-packages/ipykernel_launcher.py:3: DataConversionWarning: A column-vector y was passed when a 1d array was expected. Please change the shape of y to (n_samples,), for example using ravel().\n",
            "  This is separate from the ipykernel package so we can avoid doing imports until\n",
            "/Users/ieunpyo/anaconda3/envs/work/lib/python3.7/site-packages/ipykernel_launcher.py:3: DataConversionWarning: A column-vector y was passed when a 1d array was expected. Please change the shape of y to (n_samples,), for example using ravel().\n",
            "  This is separate from the ipykernel package so we can avoid doing imports until\n",
            "/Users/ieunpyo/anaconda3/envs/work/lib/python3.7/site-packages/ipykernel_launcher.py:3: DataConversionWarning: A column-vector y was passed when a 1d array was expected. Please change the shape of y to (n_samples,), for example using ravel().\n",
            "  This is separate from the ipykernel package so we can avoid doing imports until\n",
            "/Users/ieunpyo/anaconda3/envs/work/lib/python3.7/site-packages/ipykernel_launcher.py:3: DataConversionWarning: A column-vector y was passed when a 1d array was expected. Please change the shape of y to (n_samples,), for example using ravel().\n",
            "  This is separate from the ipykernel package so we can avoid doing imports until\n",
            "/Users/ieunpyo/anaconda3/envs/work/lib/python3.7/site-packages/ipykernel_launcher.py:3: DataConversionWarning: A column-vector y was passed when a 1d array was expected. Please change the shape of y to (n_samples,), for example using ravel().\n",
            "  This is separate from the ipykernel package so we can avoid doing imports until\n",
            "/Users/ieunpyo/anaconda3/envs/work/lib/python3.7/site-packages/ipykernel_launcher.py:3: DataConversionWarning: A column-vector y was passed when a 1d array was expected. Please change the shape of y to (n_samples,), for example using ravel().\n",
            "  This is separate from the ipykernel package so we can avoid doing imports until\n",
            "/Users/ieunpyo/anaconda3/envs/work/lib/python3.7/site-packages/ipykernel_launcher.py:3: DataConversionWarning: A column-vector y was passed when a 1d array was expected. Please change the shape of y to (n_samples,), for example using ravel().\n",
            "  This is separate from the ipykernel package so we can avoid doing imports until\n",
            "/Users/ieunpyo/anaconda3/envs/work/lib/python3.7/site-packages/ipykernel_launcher.py:3: DataConversionWarning: A column-vector y was passed when a 1d array was expected. Please change the shape of y to (n_samples,), for example using ravel().\n",
            "  This is separate from the ipykernel package so we can avoid doing imports until\n",
            "/Users/ieunpyo/anaconda3/envs/work/lib/python3.7/site-packages/ipykernel_launcher.py:3: DataConversionWarning: A column-vector y was passed when a 1d array was expected. Please change the shape of y to (n_samples,), for example using ravel().\n",
            "  This is separate from the ipykernel package so we can avoid doing imports until\n",
            "/Users/ieunpyo/anaconda3/envs/work/lib/python3.7/site-packages/ipykernel_launcher.py:3: DataConversionWarning: A column-vector y was passed when a 1d array was expected. Please change the shape of y to (n_samples,), for example using ravel().\n",
            "  This is separate from the ipykernel package so we can avoid doing imports until\n",
            "/Users/ieunpyo/anaconda3/envs/work/lib/python3.7/site-packages/ipykernel_launcher.py:3: DataConversionWarning: A column-vector y was passed when a 1d array was expected. Please change the shape of y to (n_samples,), for example using ravel().\n",
            "  This is separate from the ipykernel package so we can avoid doing imports until\n",
            "/Users/ieunpyo/anaconda3/envs/work/lib/python3.7/site-packages/ipykernel_launcher.py:3: DataConversionWarning: A column-vector y was passed when a 1d array was expected. Please change the shape of y to (n_samples,), for example using ravel().\n",
            "  This is separate from the ipykernel package so we can avoid doing imports until\n",
            "/Users/ieunpyo/anaconda3/envs/work/lib/python3.7/site-packages/ipykernel_launcher.py:3: DataConversionWarning: A column-vector y was passed when a 1d array was expected. Please change the shape of y to (n_samples,), for example using ravel().\n",
            "  This is separate from the ipykernel package so we can avoid doing imports until\n",
            "/Users/ieunpyo/anaconda3/envs/work/lib/python3.7/site-packages/ipykernel_launcher.py:3: DataConversionWarning: A column-vector y was passed when a 1d array was expected. Please change the shape of y to (n_samples,), for example using ravel().\n",
            "  This is separate from the ipykernel package so we can avoid doing imports until\n",
            "/Users/ieunpyo/anaconda3/envs/work/lib/python3.7/site-packages/ipykernel_launcher.py:3: DataConversionWarning: A column-vector y was passed when a 1d array was expected. Please change the shape of y to (n_samples,), for example using ravel().\n",
            "  This is separate from the ipykernel package so we can avoid doing imports until\n",
            "/Users/ieunpyo/anaconda3/envs/work/lib/python3.7/site-packages/ipykernel_launcher.py:3: DataConversionWarning: A column-vector y was passed when a 1d array was expected. Please change the shape of y to (n_samples,), for example using ravel().\n",
            "  This is separate from the ipykernel package so we can avoid doing imports until\n",
            "/Users/ieunpyo/anaconda3/envs/work/lib/python3.7/site-packages/ipykernel_launcher.py:3: DataConversionWarning: A column-vector y was passed when a 1d array was expected. Please change the shape of y to (n_samples,), for example using ravel().\n",
            "  This is separate from the ipykernel package so we can avoid doing imports until\n",
            "/Users/ieunpyo/anaconda3/envs/work/lib/python3.7/site-packages/ipykernel_launcher.py:3: DataConversionWarning: A column-vector y was passed when a 1d array was expected. Please change the shape of y to (n_samples,), for example using ravel().\n",
            "  This is separate from the ipykernel package so we can avoid doing imports until\n",
            "/Users/ieunpyo/anaconda3/envs/work/lib/python3.7/site-packages/ipykernel_launcher.py:3: DataConversionWarning: A column-vector y was passed when a 1d array was expected. Please change the shape of y to (n_samples,), for example using ravel().\n",
            "  This is separate from the ipykernel package so we can avoid doing imports until\n",
            "/Users/ieunpyo/anaconda3/envs/work/lib/python3.7/site-packages/ipykernel_launcher.py:3: DataConversionWarning: A column-vector y was passed when a 1d array was expected. Please change the shape of y to (n_samples,), for example using ravel().\n",
            "  This is separate from the ipykernel package so we can avoid doing imports until\n",
            "/Users/ieunpyo/anaconda3/envs/work/lib/python3.7/site-packages/ipykernel_launcher.py:3: DataConversionWarning: A column-vector y was passed when a 1d array was expected. Please change the shape of y to (n_samples,), for example using ravel().\n",
            "  This is separate from the ipykernel package so we can avoid doing imports until\n",
            "/Users/ieunpyo/anaconda3/envs/work/lib/python3.7/site-packages/ipykernel_launcher.py:3: DataConversionWarning: A column-vector y was passed when a 1d array was expected. Please change the shape of y to (n_samples,), for example using ravel().\n",
            "  This is separate from the ipykernel package so we can avoid doing imports until\n"
          ],
          "name": "stderr"
        },
        {
          "output_type": "stream",
          "text": [
            "/Users/ieunpyo/anaconda3/envs/work/lib/python3.7/site-packages/ipykernel_launcher.py:3: DataConversionWarning: A column-vector y was passed when a 1d array was expected. Please change the shape of y to (n_samples,), for example using ravel().\n",
            "  This is separate from the ipykernel package so we can avoid doing imports until\n",
            "/Users/ieunpyo/anaconda3/envs/work/lib/python3.7/site-packages/ipykernel_launcher.py:3: DataConversionWarning: A column-vector y was passed when a 1d array was expected. Please change the shape of y to (n_samples,), for example using ravel().\n",
            "  This is separate from the ipykernel package so we can avoid doing imports until\n",
            "/Users/ieunpyo/anaconda3/envs/work/lib/python3.7/site-packages/ipykernel_launcher.py:3: DataConversionWarning: A column-vector y was passed when a 1d array was expected. Please change the shape of y to (n_samples,), for example using ravel().\n",
            "  This is separate from the ipykernel package so we can avoid doing imports until\n",
            "/Users/ieunpyo/anaconda3/envs/work/lib/python3.7/site-packages/ipykernel_launcher.py:3: DataConversionWarning: A column-vector y was passed when a 1d array was expected. Please change the shape of y to (n_samples,), for example using ravel().\n",
            "  This is separate from the ipykernel package so we can avoid doing imports until\n",
            "/Users/ieunpyo/anaconda3/envs/work/lib/python3.7/site-packages/ipykernel_launcher.py:3: DataConversionWarning: A column-vector y was passed when a 1d array was expected. Please change the shape of y to (n_samples,), for example using ravel().\n",
            "  This is separate from the ipykernel package so we can avoid doing imports until\n",
            "/Users/ieunpyo/anaconda3/envs/work/lib/python3.7/site-packages/ipykernel_launcher.py:3: DataConversionWarning: A column-vector y was passed when a 1d array was expected. Please change the shape of y to (n_samples,), for example using ravel().\n",
            "  This is separate from the ipykernel package so we can avoid doing imports until\n",
            "/Users/ieunpyo/anaconda3/envs/work/lib/python3.7/site-packages/ipykernel_launcher.py:3: DataConversionWarning: A column-vector y was passed when a 1d array was expected. Please change the shape of y to (n_samples,), for example using ravel().\n",
            "  This is separate from the ipykernel package so we can avoid doing imports until\n",
            "/Users/ieunpyo/anaconda3/envs/work/lib/python3.7/site-packages/ipykernel_launcher.py:3: DataConversionWarning: A column-vector y was passed when a 1d array was expected. Please change the shape of y to (n_samples,), for example using ravel().\n",
            "  This is separate from the ipykernel package so we can avoid doing imports until\n",
            "/Users/ieunpyo/anaconda3/envs/work/lib/python3.7/site-packages/ipykernel_launcher.py:3: DataConversionWarning: A column-vector y was passed when a 1d array was expected. Please change the shape of y to (n_samples,), for example using ravel().\n",
            "  This is separate from the ipykernel package so we can avoid doing imports until\n",
            "/Users/ieunpyo/anaconda3/envs/work/lib/python3.7/site-packages/ipykernel_launcher.py:3: DataConversionWarning: A column-vector y was passed when a 1d array was expected. Please change the shape of y to (n_samples,), for example using ravel().\n",
            "  This is separate from the ipykernel package so we can avoid doing imports until\n",
            "/Users/ieunpyo/anaconda3/envs/work/lib/python3.7/site-packages/ipykernel_launcher.py:3: DataConversionWarning: A column-vector y was passed when a 1d array was expected. Please change the shape of y to (n_samples,), for example using ravel().\n",
            "  This is separate from the ipykernel package so we can avoid doing imports until\n",
            "/Users/ieunpyo/anaconda3/envs/work/lib/python3.7/site-packages/ipykernel_launcher.py:3: DataConversionWarning: A column-vector y was passed when a 1d array was expected. Please change the shape of y to (n_samples,), for example using ravel().\n",
            "  This is separate from the ipykernel package so we can avoid doing imports until\n",
            "/Users/ieunpyo/anaconda3/envs/work/lib/python3.7/site-packages/ipykernel_launcher.py:3: DataConversionWarning: A column-vector y was passed when a 1d array was expected. Please change the shape of y to (n_samples,), for example using ravel().\n",
            "  This is separate from the ipykernel package so we can avoid doing imports until\n",
            "/Users/ieunpyo/anaconda3/envs/work/lib/python3.7/site-packages/ipykernel_launcher.py:3: DataConversionWarning: A column-vector y was passed when a 1d array was expected. Please change the shape of y to (n_samples,), for example using ravel().\n",
            "  This is separate from the ipykernel package so we can avoid doing imports until\n",
            "/Users/ieunpyo/anaconda3/envs/work/lib/python3.7/site-packages/ipykernel_launcher.py:3: DataConversionWarning: A column-vector y was passed when a 1d array was expected. Please change the shape of y to (n_samples,), for example using ravel().\n",
            "  This is separate from the ipykernel package so we can avoid doing imports until\n",
            "/Users/ieunpyo/anaconda3/envs/work/lib/python3.7/site-packages/ipykernel_launcher.py:3: DataConversionWarning: A column-vector y was passed when a 1d array was expected. Please change the shape of y to (n_samples,), for example using ravel().\n",
            "  This is separate from the ipykernel package so we can avoid doing imports until\n",
            "/Users/ieunpyo/anaconda3/envs/work/lib/python3.7/site-packages/ipykernel_launcher.py:3: DataConversionWarning: A column-vector y was passed when a 1d array was expected. Please change the shape of y to (n_samples,), for example using ravel().\n",
            "  This is separate from the ipykernel package so we can avoid doing imports until\n",
            "/Users/ieunpyo/anaconda3/envs/work/lib/python3.7/site-packages/ipykernel_launcher.py:3: DataConversionWarning: A column-vector y was passed when a 1d array was expected. Please change the shape of y to (n_samples,), for example using ravel().\n",
            "  This is separate from the ipykernel package so we can avoid doing imports until\n",
            "/Users/ieunpyo/anaconda3/envs/work/lib/python3.7/site-packages/ipykernel_launcher.py:3: DataConversionWarning: A column-vector y was passed when a 1d array was expected. Please change the shape of y to (n_samples,), for example using ravel().\n",
            "  This is separate from the ipykernel package so we can avoid doing imports until\n",
            "/Users/ieunpyo/anaconda3/envs/work/lib/python3.7/site-packages/ipykernel_launcher.py:3: DataConversionWarning: A column-vector y was passed when a 1d array was expected. Please change the shape of y to (n_samples,), for example using ravel().\n",
            "  This is separate from the ipykernel package so we can avoid doing imports until\n",
            "/Users/ieunpyo/anaconda3/envs/work/lib/python3.7/site-packages/ipykernel_launcher.py:3: DataConversionWarning: A column-vector y was passed when a 1d array was expected. Please change the shape of y to (n_samples,), for example using ravel().\n",
            "  This is separate from the ipykernel package so we can avoid doing imports until\n",
            "/Users/ieunpyo/anaconda3/envs/work/lib/python3.7/site-packages/ipykernel_launcher.py:3: DataConversionWarning: A column-vector y was passed when a 1d array was expected. Please change the shape of y to (n_samples,), for example using ravel().\n",
            "  This is separate from the ipykernel package so we can avoid doing imports until\n",
            "/Users/ieunpyo/anaconda3/envs/work/lib/python3.7/site-packages/ipykernel_launcher.py:3: DataConversionWarning: A column-vector y was passed when a 1d array was expected. Please change the shape of y to (n_samples,), for example using ravel().\n",
            "  This is separate from the ipykernel package so we can avoid doing imports until\n",
            "/Users/ieunpyo/anaconda3/envs/work/lib/python3.7/site-packages/ipykernel_launcher.py:3: DataConversionWarning: A column-vector y was passed when a 1d array was expected. Please change the shape of y to (n_samples,), for example using ravel().\n",
            "  This is separate from the ipykernel package so we can avoid doing imports until\n",
            "/Users/ieunpyo/anaconda3/envs/work/lib/python3.7/site-packages/ipykernel_launcher.py:3: DataConversionWarning: A column-vector y was passed when a 1d array was expected. Please change the shape of y to (n_samples,), for example using ravel().\n",
            "  This is separate from the ipykernel package so we can avoid doing imports until\n",
            "/Users/ieunpyo/anaconda3/envs/work/lib/python3.7/site-packages/ipykernel_launcher.py:3: DataConversionWarning: A column-vector y was passed when a 1d array was expected. Please change the shape of y to (n_samples,), for example using ravel().\n",
            "  This is separate from the ipykernel package so we can avoid doing imports until\n"
          ],
          "name": "stderr"
        },
        {
          "output_type": "stream",
          "text": [
            "/Users/ieunpyo/anaconda3/envs/work/lib/python3.7/site-packages/ipykernel_launcher.py:3: DataConversionWarning: A column-vector y was passed when a 1d array was expected. Please change the shape of y to (n_samples,), for example using ravel().\n",
            "  This is separate from the ipykernel package so we can avoid doing imports until\n",
            "/Users/ieunpyo/anaconda3/envs/work/lib/python3.7/site-packages/ipykernel_launcher.py:3: DataConversionWarning: A column-vector y was passed when a 1d array was expected. Please change the shape of y to (n_samples,), for example using ravel().\n",
            "  This is separate from the ipykernel package so we can avoid doing imports until\n",
            "/Users/ieunpyo/anaconda3/envs/work/lib/python3.7/site-packages/ipykernel_launcher.py:3: DataConversionWarning: A column-vector y was passed when a 1d array was expected. Please change the shape of y to (n_samples,), for example using ravel().\n",
            "  This is separate from the ipykernel package so we can avoid doing imports until\n",
            "/Users/ieunpyo/anaconda3/envs/work/lib/python3.7/site-packages/ipykernel_launcher.py:3: DataConversionWarning: A column-vector y was passed when a 1d array was expected. Please change the shape of y to (n_samples,), for example using ravel().\n",
            "  This is separate from the ipykernel package so we can avoid doing imports until\n",
            "/Users/ieunpyo/anaconda3/envs/work/lib/python3.7/site-packages/ipykernel_launcher.py:3: DataConversionWarning: A column-vector y was passed when a 1d array was expected. Please change the shape of y to (n_samples,), for example using ravel().\n",
            "  This is separate from the ipykernel package so we can avoid doing imports until\n",
            "/Users/ieunpyo/anaconda3/envs/work/lib/python3.7/site-packages/ipykernel_launcher.py:3: DataConversionWarning: A column-vector y was passed when a 1d array was expected. Please change the shape of y to (n_samples,), for example using ravel().\n",
            "  This is separate from the ipykernel package so we can avoid doing imports until\n",
            "/Users/ieunpyo/anaconda3/envs/work/lib/python3.7/site-packages/ipykernel_launcher.py:3: DataConversionWarning: A column-vector y was passed when a 1d array was expected. Please change the shape of y to (n_samples,), for example using ravel().\n",
            "  This is separate from the ipykernel package so we can avoid doing imports until\n",
            "/Users/ieunpyo/anaconda3/envs/work/lib/python3.7/site-packages/ipykernel_launcher.py:3: DataConversionWarning: A column-vector y was passed when a 1d array was expected. Please change the shape of y to (n_samples,), for example using ravel().\n",
            "  This is separate from the ipykernel package so we can avoid doing imports until\n",
            "/Users/ieunpyo/anaconda3/envs/work/lib/python3.7/site-packages/ipykernel_launcher.py:3: DataConversionWarning: A column-vector y was passed when a 1d array was expected. Please change the shape of y to (n_samples,), for example using ravel().\n",
            "  This is separate from the ipykernel package so we can avoid doing imports until\n",
            "/Users/ieunpyo/anaconda3/envs/work/lib/python3.7/site-packages/ipykernel_launcher.py:3: DataConversionWarning: A column-vector y was passed when a 1d array was expected. Please change the shape of y to (n_samples,), for example using ravel().\n",
            "  This is separate from the ipykernel package so we can avoid doing imports until\n",
            "/Users/ieunpyo/anaconda3/envs/work/lib/python3.7/site-packages/ipykernel_launcher.py:3: DataConversionWarning: A column-vector y was passed when a 1d array was expected. Please change the shape of y to (n_samples,), for example using ravel().\n",
            "  This is separate from the ipykernel package so we can avoid doing imports until\n",
            "/Users/ieunpyo/anaconda3/envs/work/lib/python3.7/site-packages/ipykernel_launcher.py:3: DataConversionWarning: A column-vector y was passed when a 1d array was expected. Please change the shape of y to (n_samples,), for example using ravel().\n",
            "  This is separate from the ipykernel package so we can avoid doing imports until\n",
            "/Users/ieunpyo/anaconda3/envs/work/lib/python3.7/site-packages/ipykernel_launcher.py:3: DataConversionWarning: A column-vector y was passed when a 1d array was expected. Please change the shape of y to (n_samples,), for example using ravel().\n",
            "  This is separate from the ipykernel package so we can avoid doing imports until\n",
            "/Users/ieunpyo/anaconda3/envs/work/lib/python3.7/site-packages/ipykernel_launcher.py:3: DataConversionWarning: A column-vector y was passed when a 1d array was expected. Please change the shape of y to (n_samples,), for example using ravel().\n",
            "  This is separate from the ipykernel package so we can avoid doing imports until\n",
            "/Users/ieunpyo/anaconda3/envs/work/lib/python3.7/site-packages/ipykernel_launcher.py:3: DataConversionWarning: A column-vector y was passed when a 1d array was expected. Please change the shape of y to (n_samples,), for example using ravel().\n",
            "  This is separate from the ipykernel package so we can avoid doing imports until\n",
            "/Users/ieunpyo/anaconda3/envs/work/lib/python3.7/site-packages/ipykernel_launcher.py:3: DataConversionWarning: A column-vector y was passed when a 1d array was expected. Please change the shape of y to (n_samples,), for example using ravel().\n",
            "  This is separate from the ipykernel package so we can avoid doing imports until\n",
            "/Users/ieunpyo/anaconda3/envs/work/lib/python3.7/site-packages/ipykernel_launcher.py:3: DataConversionWarning: A column-vector y was passed when a 1d array was expected. Please change the shape of y to (n_samples,), for example using ravel().\n",
            "  This is separate from the ipykernel package so we can avoid doing imports until\n",
            "/Users/ieunpyo/anaconda3/envs/work/lib/python3.7/site-packages/ipykernel_launcher.py:3: DataConversionWarning: A column-vector y was passed when a 1d array was expected. Please change the shape of y to (n_samples,), for example using ravel().\n",
            "  This is separate from the ipykernel package so we can avoid doing imports until\n"
          ],
          "name": "stderr"
        }
      ]
    },
    {
      "cell_type": "code",
      "metadata": {
        "id": "ibyju12xYXbH",
        "colab_type": "code",
        "outputId": "fe339c26-e6a8-4135-f2cf-6bb2a4266891",
        "colab": {}
      },
      "source": [
        "print(train_f_score)\n",
        "print(max_f_for_fun)"
      ],
      "execution_count": 0,
      "outputs": [
        {
          "output_type": "stream",
          "text": [
            "0.5926120448179272\n",
            "0.4117359413202934\n"
          ],
          "name": "stdout"
        }
      ]
    },
    {
      "cell_type": "markdown",
      "metadata": {
        "id": "2pL1SIN1YXbr",
        "colab_type": "text"
      },
      "source": [
        "# HYPERPARAMETER TUNING"
      ]
    },
    {
      "cell_type": "markdown",
      "metadata": {
        "id": "3Yq3qyyRYXbu",
        "colab_type": "text"
      },
      "source": [
        "## Random Hyperparameter Grid\n"
      ]
    },
    {
      "cell_type": "code",
      "metadata": {
        "id": "l0VmvI3OYXb4",
        "colab_type": "code",
        "outputId": "6eebea22-ead1-4d51-90f8-e2fbae7c23ce",
        "colab": {}
      },
      "source": [
        "RF_clf.get_params()"
      ],
      "execution_count": 0,
      "outputs": [
        {
          "output_type": "execute_result",
          "data": {
            "text/plain": [
              "{'bootstrap': True,\n",
              " 'class_weight': None,\n",
              " 'criterion': 'gini',\n",
              " 'max_depth': None,\n",
              " 'max_features': 'auto',\n",
              " 'max_leaf_nodes': None,\n",
              " 'min_impurity_decrease': 0.0,\n",
              " 'min_impurity_split': None,\n",
              " 'min_samples_leaf': 5,\n",
              " 'min_samples_split': 2,\n",
              " 'min_weight_fraction_leaf': 0.0,\n",
              " 'n_estimators': 10,\n",
              " 'n_jobs': None,\n",
              " 'oob_score': False,\n",
              " 'random_state': None,\n",
              " 'verbose': 0,\n",
              " 'warm_start': False}"
            ]
          },
          "metadata": {
            "tags": []
          },
          "execution_count": 165
        }
      ]
    },
    {
      "cell_type": "code",
      "metadata": {
        "id": "nJ8sA9e9YXcB",
        "colab_type": "code",
        "colab": {}
      },
      "source": [
        "from sklearn.model_selection import RandomizedSearchCV\n",
        "\n",
        "# Number of trees in random forest\n",
        "n_estimators = [int(x) for x in np.linspace(start = 10, stop = 2000, num = 10)]\n",
        "# Number of features to consider at every split\n",
        "max_features = ['auto', 'sqrt']\n",
        "# Maximum number of levels in tree\n",
        "max_depth = [int(x) for x in np.linspace(10, 110, num = 11)]\n",
        "max_depth.append(None)\n",
        "\n",
        "# Minimum number of samples required to split a node\n",
        "min_samples_split = [2, 5, 10]\n",
        "# Minimum number of samples required at each leaf node\n",
        "min_samples_leaf = [1, 2, 4]\n",
        "# Method of selecting samples for training each tree\n",
        "bootstrap = [True, False]\n",
        "# Create the random grid\n",
        "random_grid = {'n_estimators': n_estimators,\n",
        "               'max_features': max_features,\n",
        "               'max_depth': max_depth,\n",
        "               'min_samples_split': min_samples_split,\n",
        "               'min_samples_leaf': min_samples_leaf,\n",
        "               'bootstrap': bootstrap}\n"
      ],
      "execution_count": 0,
      "outputs": []
    },
    {
      "cell_type": "code",
      "metadata": {
        "id": "sR8ejP29YXcS",
        "colab_type": "code",
        "outputId": "71e44621-cfee-4802-b5f4-3a5af52d1f4f",
        "colab": {}
      },
      "source": [
        "random_grid"
      ],
      "execution_count": 0,
      "outputs": [
        {
          "output_type": "execute_result",
          "data": {
            "text/plain": [
              "{'n_estimators': [10, 231, 452, 673, 894, 1115, 1336, 1557, 1778, 2000],\n",
              " 'max_features': ['auto', 'sqrt'],\n",
              " 'max_depth': [10, 20, 30, 40, 50, 60, 70, 80, 90, 100, 110, None],\n",
              " 'min_samples_split': [2, 5, 10],\n",
              " 'min_samples_leaf': [1, 2, 4],\n",
              " 'bootstrap': [True, False]}"
            ]
          },
          "metadata": {
            "tags": []
          },
          "execution_count": 168
        }
      ]
    },
    {
      "cell_type": "code",
      "metadata": {
        "id": "aqPh7zY0YXcm",
        "colab_type": "code",
        "colab": {}
      },
      "source": [
        "# Use the random grid to search for best hyperparameters\n",
        "# First create the base model to tune\n",
        "rf_clf = RandomForestClassifier()\n",
        "\n",
        "# Random search of parameters, using 3 fold cross validation, \n",
        "# search across 100 different combinations, and use all available cores\n",
        "rf_random = RandomizedSearchCV(estimator = rf_clf, param_distributions = random_grid, \n",
        "                               n_iter = 100, cv = 3, verbose=2, random_state=42, n_jobs = -1)\n"
      ],
      "execution_count": 0,
      "outputs": []
    },
    {
      "cell_type": "code",
      "metadata": {
        "scrolled": true,
        "id": "vGGLnm_IYXc-",
        "colab_type": "code",
        "outputId": "280a58d8-461e-4e41-bf1c-08d51b2bdab4",
        "colab": {}
      },
      "source": [
        "# Fit the random search model\n",
        "rf_random.fit(Train_X, Train_y)"
      ],
      "execution_count": 0,
      "outputs": [
        {
          "output_type": "stream",
          "text": [
            "Fitting 3 folds for each of 100 candidates, totalling 300 fits\n"
          ],
          "name": "stdout"
        },
        {
          "output_type": "stream",
          "text": [
            "[Parallel(n_jobs=-1)]: Using backend LokyBackend with 4 concurrent workers.\n",
            "[Parallel(n_jobs=-1)]: Done  33 tasks      | elapsed: 144.2min\n",
            "[Parallel(n_jobs=-1)]: Done 154 tasks      | elapsed: 698.8min\n",
            "[Parallel(n_jobs=-1)]: Done 300 out of 300 | elapsed: 855.9min finished\n",
            "/Users/ieunpyo/anaconda3/envs/work/lib/python3.7/site-packages/sklearn/model_selection/_search.py:715: DataConversionWarning: A column-vector y was passed when a 1d array was expected. Please change the shape of y to (n_samples,), for example using ravel().\n",
            "  self.best_estimator_.fit(X, y, **fit_params)\n"
          ],
          "name": "stderr"
        },
        {
          "output_type": "execute_result",
          "data": {
            "text/plain": [
              "RandomizedSearchCV(cv=3, error_score='raise-deprecating',\n",
              "                   estimator=RandomForestClassifier(bootstrap=True,\n",
              "                                                    class_weight=None,\n",
              "                                                    criterion='gini',\n",
              "                                                    max_depth=None,\n",
              "                                                    max_features='auto',\n",
              "                                                    max_leaf_nodes=None,\n",
              "                                                    min_impurity_decrease=0.0,\n",
              "                                                    min_impurity_split=None,\n",
              "                                                    min_samples_leaf=1,\n",
              "                                                    min_samples_split=2,\n",
              "                                                    min_weight_fraction_leaf=0.0,\n",
              "                                                    n_estimators='warn',\n",
              "                                                    n_jobs=None,\n",
              "                                                    oob_sc...\n",
              "                   iid='warn', n_iter=100, n_jobs=-1,\n",
              "                   param_distributions={'bootstrap': [True, False],\n",
              "                                        'max_depth': [10, 20, 30, 40, 50, 60,\n",
              "                                                      70, 80, 90, 100, 110,\n",
              "                                                      None],\n",
              "                                        'max_features': ['auto', 'sqrt'],\n",
              "                                        'min_samples_leaf': [1, 2, 4],\n",
              "                                        'min_samples_split': [2, 5, 10],\n",
              "                                        'n_estimators': [10, 231, 452, 673, 894,\n",
              "                                                         1115, 1336, 1557, 1778,\n",
              "                                                         2000]},\n",
              "                   pre_dispatch='2*n_jobs', random_state=42, refit=True,\n",
              "                   return_train_score=False, scoring=None, verbose=2)"
            ]
          },
          "metadata": {
            "tags": []
          },
          "execution_count": 170
        }
      ]
    },
    {
      "cell_type": "code",
      "metadata": {
        "id": "P7xbnYofYXdJ",
        "colab_type": "code",
        "outputId": "0bd4cbee-d35b-4c51-a6f1-d85ec3c71a41",
        "colab": {}
      },
      "source": [
        "rf_random.best_params_"
      ],
      "execution_count": 0,
      "outputs": [
        {
          "output_type": "execute_result",
          "data": {
            "text/plain": [
              "{'n_estimators': 894,\n",
              " 'min_samples_split': 10,\n",
              " 'min_samples_leaf': 1,\n",
              " 'max_features': 'sqrt',\n",
              " 'max_depth': 80,\n",
              " 'bootstrap': False}"
            ]
          },
          "metadata": {
            "tags": []
          },
          "execution_count": 171
        }
      ]
    },
    {
      "cell_type": "code",
      "metadata": {
        "id": "7vmH8zhBYXdV",
        "colab_type": "code",
        "outputId": "b47b931f-8eae-4838-ae3d-102f5a6724d0",
        "colab": {}
      },
      "source": [
        "f1_score(Validation_y.reshape(-1),rf_random.predict(Validation_X))"
      ],
      "execution_count": 0,
      "outputs": [
        {
          "output_type": "execute_result",
          "data": {
            "text/plain": [
              "0.3565166569257744"
            ]
          },
          "metadata": {
            "tags": []
          },
          "execution_count": 172
        }
      ]
    },
    {
      "cell_type": "code",
      "metadata": {
        "id": "quSR9J4EYXdk",
        "colab_type": "code",
        "outputId": "13708142-687a-4783-c97d-6e6ab5ff54ab",
        "colab": {}
      },
      "source": [
        "f1_score(Train_y.reshape(-1), RF_clf.predict(Train_X))"
      ],
      "execution_count": 0,
      "outputs": [
        {
          "output_type": "execute_result",
          "data": {
            "text/plain": [
              "0.6108577819839972"
            ]
          },
          "metadata": {
            "tags": []
          },
          "execution_count": 173
        }
      ]
    },
    {
      "cell_type": "code",
      "metadata": {
        "id": "HnBv-TaBYXd8",
        "colab_type": "code",
        "colab": {}
      },
      "source": [
        ""
      ],
      "execution_count": 0,
      "outputs": []
    },
    {
      "cell_type": "code",
      "metadata": {
        "id": "vJ334n6VYXeB",
        "colab_type": "code",
        "colab": {}
      },
      "source": [
        "#submission = RF_clf.predict(Test_X)\n",
        "submission = pd.DataFrame(submission,columns=['fr_yn'])\n",
        "submission['fr_yn'] = submission['fr_yn'].map({1:'Y', 0:'N'})"
      ],
      "execution_count": 0,
      "outputs": []
    },
    {
      "cell_type": "code",
      "metadata": {
        "id": "HcfD4x-UYXeI",
        "colab_type": "code",
        "colab": {}
      },
      "source": [
        "submission.to_csv('화재예측과제_Submission.csv')"
      ],
      "execution_count": 0,
      "outputs": []
    },
    {
      "cell_type": "code",
      "metadata": {
        "id": "i_bjTs-2YXeP",
        "colab_type": "code",
        "colab": {}
      },
      "source": [
        "train['urban']"
      ],
      "execution_count": 0,
      "outputs": []
    },
    {
      "cell_type": "code",
      "metadata": {
        "id": "lwyDLNHbYXeh",
        "colab_type": "code",
        "colab": {}
      },
      "source": [
        ""
      ],
      "execution_count": 0,
      "outputs": []
    }
  ]
}