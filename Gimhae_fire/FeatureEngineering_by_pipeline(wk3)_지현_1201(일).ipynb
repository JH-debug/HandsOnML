{
 "cells": [
  {
   "cell_type": "markdown",
   "metadata": {},
   "source": [
    "# 나머지 성호 님 것 feature + 행정구역, 인구수"
   ]
  },
  {
   "cell_type": "markdown",
   "metadata": {},
   "source": [
    "## 1. 데이터, 패키지 불러오기"
   ]
  },
  {
   "cell_type": "code",
   "execution_count": 64,
   "metadata": {},
   "outputs": [],
   "source": [
    "import pandas as pd\n",
    "import numpy as np\n",
    "import matplotlib\n",
    "import matplotlib.pyplot as plt\n",
    "\n",
    "from sklearn.base import BaseEstimator, TransformerMixin\n",
    "from sklearn.pipeline import Pipeline, FeatureUnion\n",
    "from sklearn.preprocessing import OneHotEncoder, StandardScaler, FunctionTransformer\n",
    "\n",
    "from sklearn.experimental import enable_iterative_imputer\n",
    "from sklearn.impute import SimpleImputer,IterativeImputer                          \n",
    "\n",
    "from sklearn.compose import ColumnTransformer,make_column_transformer\n",
    "\n",
    "from sklearn.decomposition import PCA"
   ]
  },
  {
   "cell_type": "code",
   "execution_count": 36,
   "metadata": {
    "scrolled": true
   },
   "outputs": [
    {
     "name": "stderr",
     "output_type": "stream",
     "text": [
      "C:\\Users\\user\\Anaconda3\\lib\\site-packages\\IPython\\core\\interactiveshell.py:3057: DtypeWarning: Columns (8,172,173,174,175,176,177,178,179) have mixed types. Specify dtype option on import or set low_memory=False.\n",
      "  interactivity=interactivity, compiler=compiler, result=result)\n"
     ]
    }
   ],
   "source": [
    "train = pd.read_csv(\"PJT002_train.csv\", encoding = 'utf8')\n",
    "test = pd.read_csv(\"PJT002_test.csv\", encoding = 'utf-8')\n",
    "validation = pd.read_csv(\"PJT002_validation.csv\", encoding = 'utf8')"
   ]
  },
  {
   "cell_type": "markdown",
   "metadata": {},
   "source": [
    "## 2. 전처리"
   ]
  },
  {
   "cell_type": "markdown",
   "metadata": {},
   "source": [
    "- 도시, 시골 여부 변수 추가"
   ]
  },
  {
   "cell_type": "code",
   "execution_count": 37,
   "metadata": {},
   "outputs": [],
   "source": [
    "train['emd_nm'] = train['emd_nm'].fillna(value='blank')\n",
    "train.loc[train['emd_nm'].str[5:8].str.endswith('시'), 'urban'] = 1\n",
    "train.loc[train['emd_nm'].str[5:8].str.endswith('군'), 'urban'] = 0"
   ]
  },
  {
   "cell_type": "code",
   "execution_count": 38,
   "metadata": {},
   "outputs": [],
   "source": [
    "test['emd_nm'] = test['emd_nm'].fillna(value='blank')\n",
    "test.loc[test['emd_nm'].str[5:8].str.endswith('시'), 'urban'] = 1\n",
    "test.loc[test['emd_nm'].str[5:8].str.endswith('군'), 'urban'] = 0"
   ]
  },
  {
   "cell_type": "code",
   "execution_count": 39,
   "metadata": {},
   "outputs": [],
   "source": [
    "validation['emd_nm'] = validation['emd_nm'].fillna(value='blank')\n",
    "validation.loc[validation['emd_nm'].str[5:8].str.endswith('시'), 'urban'] = 1\n",
    "validation.loc[validation['emd_nm'].str[5:8].str.endswith('군'), 'urban'] = 0"
   ]
  },
  {
   "cell_type": "markdown",
   "metadata": {},
   "source": [
    "## 3. null 값 확인"
   ]
  },
  {
   "cell_type": "code",
   "execution_count": 40,
   "metadata": {},
   "outputs": [
    {
     "data": {
      "text/html": [
       "<div>\n",
       "<style scoped>\n",
       "    .dataframe tbody tr th:only-of-type {\n",
       "        vertical-align: middle;\n",
       "    }\n",
       "\n",
       "    .dataframe tbody tr th {\n",
       "        vertical-align: top;\n",
       "    }\n",
       "\n",
       "    .dataframe thead th {\n",
       "        text-align: right;\n",
       "    }\n",
       "</style>\n",
       "<table border=\"1\" class=\"dataframe\">\n",
       "  <thead>\n",
       "    <tr style=\"text-align: right;\">\n",
       "      <th></th>\n",
       "      <th>emd_nm</th>\n",
       "      <th>hm_cnt</th>\n",
       "      <th>fr_sttn_dstnc</th>\n",
       "      <th>bldng_ar_prc</th>\n",
       "      <th>fr_wthr_fclt_dstnc</th>\n",
       "      <th>fr_mn_cnt</th>\n",
       "      <th>cctv_dstnc</th>\n",
       "      <th>cctv_in_100m</th>\n",
       "      <th>fr_wthr_fclt_in_100m</th>\n",
       "      <th>tbc_rtl_str_dstnc</th>\n",
       "      <th>sft_emrgnc_bll_dstnc</th>\n",
       "      <th>ahsm_dstnc</th>\n",
       "      <th>no_tbc_zn_dstnc</th>\n",
       "      <th>bldng_cnt_in_50m</th>\n",
       "      <th>urban</th>\n",
       "    </tr>\n",
       "  </thead>\n",
       "  <tbody>\n",
       "    <tr>\n",
       "      <th>0</th>\n",
       "      <td>경상남도 창녕군 창녕읍</td>\n",
       "      <td>17360.0</td>\n",
       "      <td>4547</td>\n",
       "      <td>NaN</td>\n",
       "      <td>133</td>\n",
       "      <td>137.0</td>\n",
       "      <td>112</td>\n",
       "      <td>0</td>\n",
       "      <td>0</td>\n",
       "      <td>1891</td>\n",
       "      <td>29231</td>\n",
       "      <td>11322</td>\n",
       "      <td>88</td>\n",
       "      <td>0</td>\n",
       "      <td>0.0</td>\n",
       "    </tr>\n",
       "    <tr>\n",
       "      <th>1</th>\n",
       "      <td>경상남도 의령군 가례면</td>\n",
       "      <td>1791.0</td>\n",
       "      <td>6388</td>\n",
       "      <td>122581.0</td>\n",
       "      <td>489</td>\n",
       "      <td>85.0</td>\n",
       "      <td>818</td>\n",
       "      <td>0</td>\n",
       "      <td>0</td>\n",
       "      <td>4533</td>\n",
       "      <td>20480</td>\n",
       "      <td>3369</td>\n",
       "      <td>7727</td>\n",
       "      <td>0</td>\n",
       "      <td>0.0</td>\n",
       "    </tr>\n",
       "    <tr>\n",
       "      <th>2</th>\n",
       "      <td>경상남도 창녕군 창녕읍</td>\n",
       "      <td>17285.0</td>\n",
       "      <td>3340</td>\n",
       "      <td>618105.0</td>\n",
       "      <td>143</td>\n",
       "      <td>137.0</td>\n",
       "      <td>165</td>\n",
       "      <td>0</td>\n",
       "      <td>0</td>\n",
       "      <td>277</td>\n",
       "      <td>31197</td>\n",
       "      <td>12451</td>\n",
       "      <td>72</td>\n",
       "      <td>14</td>\n",
       "      <td>0.0</td>\n",
       "    </tr>\n",
       "    <tr>\n",
       "      <th>3</th>\n",
       "      <td>경상남도 창원시의창구 대산면</td>\n",
       "      <td>7327.0</td>\n",
       "      <td>179</td>\n",
       "      <td>719542.0</td>\n",
       "      <td>1585</td>\n",
       "      <td>176.0</td>\n",
       "      <td>131</td>\n",
       "      <td>0</td>\n",
       "      <td>0</td>\n",
       "      <td>438</td>\n",
       "      <td>4270</td>\n",
       "      <td>407</td>\n",
       "      <td>508</td>\n",
       "      <td>11</td>\n",
       "      <td>1.0</td>\n",
       "    </tr>\n",
       "    <tr>\n",
       "      <th>4</th>\n",
       "      <td>경상남도 창녕군 창녕읍</td>\n",
       "      <td>17278.0</td>\n",
       "      <td>4822</td>\n",
       "      <td>NaN</td>\n",
       "      <td>603</td>\n",
       "      <td>137.0</td>\n",
       "      <td>686</td>\n",
       "      <td>0</td>\n",
       "      <td>0</td>\n",
       "      <td>1702</td>\n",
       "      <td>29778</td>\n",
       "      <td>12487</td>\n",
       "      <td>707</td>\n",
       "      <td>0</td>\n",
       "      <td>0.0</td>\n",
       "    </tr>\n",
       "  </tbody>\n",
       "</table>\n",
       "</div>"
      ],
      "text/plain": [
       "            emd_nm   hm_cnt  fr_sttn_dstnc  bldng_ar_prc  fr_wthr_fclt_dstnc  \\\n",
       "0     경상남도 창녕군 창녕읍  17360.0           4547           NaN                 133   \n",
       "1     경상남도 의령군 가례면   1791.0           6388      122581.0                 489   \n",
       "2     경상남도 창녕군 창녕읍  17285.0           3340      618105.0                 143   \n",
       "3  경상남도 창원시의창구 대산면   7327.0            179      719542.0                1585   \n",
       "4     경상남도 창녕군 창녕읍  17278.0           4822           NaN                 603   \n",
       "\n",
       "   fr_mn_cnt  cctv_dstnc  cctv_in_100m  fr_wthr_fclt_in_100m  \\\n",
       "0      137.0         112             0                     0   \n",
       "1       85.0         818             0                     0   \n",
       "2      137.0         165             0                     0   \n",
       "3      176.0         131             0                     0   \n",
       "4      137.0         686             0                     0   \n",
       "\n",
       "   tbc_rtl_str_dstnc  sft_emrgnc_bll_dstnc  ahsm_dstnc  no_tbc_zn_dstnc  \\\n",
       "0               1891                 29231       11322               88   \n",
       "1               4533                 20480        3369             7727   \n",
       "2                277                 31197       12451               72   \n",
       "3                438                  4270         407              508   \n",
       "4               1702                 29778       12487              707   \n",
       "\n",
       "   bldng_cnt_in_50m  urban  \n",
       "0                 0    0.0  \n",
       "1                 0    0.0  \n",
       "2                14    0.0  \n",
       "3                11    1.0  \n",
       "4                 0    0.0  "
      ]
     },
     "execution_count": 40,
     "metadata": {},
     "output_type": "execute_result"
    }
   ],
   "source": [
    "data = train[['emd_nm', 'hm_cnt','fr_sttn_dstnc', 'bldng_ar_prc', 'fr_wthr_fclt_dstnc', 'fr_mn_cnt', 'cctv_dstnc', 'cctv_in_100m', 'fr_wthr_fclt_in_100m', 'tbc_rtl_str_dstnc', 'sft_emrgnc_bll_dstnc', 'ahsm_dstnc','no_tbc_zn_dstnc','bldng_cnt_in_50m', 'urban']]\n",
    "data.head()"
   ]
  },
  {
   "cell_type": "code",
   "execution_count": 41,
   "metadata": {},
   "outputs": [
    {
     "data": {
      "text/plain": [
       "emd_nm                      0\n",
       "hm_cnt                    701\n",
       "fr_sttn_dstnc               0\n",
       "bldng_ar_prc            21895\n",
       "fr_wthr_fclt_dstnc          0\n",
       "fr_mn_cnt                  41\n",
       "cctv_dstnc                  0\n",
       "cctv_in_100m                0\n",
       "fr_wthr_fclt_in_100m        0\n",
       "tbc_rtl_str_dstnc           0\n",
       "sft_emrgnc_bll_dstnc        0\n",
       "ahsm_dstnc                  0\n",
       "no_tbc_zn_dstnc             0\n",
       "bldng_cnt_in_50m            0\n",
       "urban                       4\n",
       "dtype: int64"
      ]
     },
     "execution_count": 41,
     "metadata": {},
     "output_type": "execute_result"
    }
   ],
   "source": [
    "data.isnull().sum()"
   ]
  },
  {
   "cell_type": "markdown",
   "metadata": {},
   "source": [
    "## 4. imputation"
   ]
  },
  {
   "cell_type": "markdown",
   "metadata": {},
   "source": [
    "### 1) hm_cnt"
   ]
  },
  {
   "cell_type": "code",
   "execution_count": 42,
   "metadata": {},
   "outputs": [
    {
     "name": "stderr",
     "output_type": "stream",
     "text": [
      "2019-12-01 15:09:07,702 [INFO]  \n",
      "========== start: fit model\n",
      "2019-12-01 15:09:07,704 [WARNING]  Already bound, ignoring bind()\n",
      "2019-12-01 15:09:10,486 [INFO]  Epoch[0] Batch [0-1332]\tSpeed: 7679.83 samples/sec\tcross-entropy=10.696649\thm_cnt-accuracy=0.000000\n",
      "2019-12-01 15:09:13,170 [INFO]  Epoch[0] Train-cross-entropy=9.462320\n",
      "2019-12-01 15:09:13,173 [INFO]  Epoch[0] Train-hm_cnt-accuracy=0.000000\n",
      "2019-12-01 15:09:13,175 [INFO]  Epoch[0] Time cost=5.467\n",
      "2019-12-01 15:09:13,184 [INFO]  Saved checkpoint to \"imputer_model\\model-0000.params\"\n",
      "2019-12-01 15:09:13,433 [INFO]  Epoch[0] Validation-cross-entropy=8.988470\n",
      "2019-12-01 15:09:13,435 [INFO]  Epoch[0] Validation-hm_cnt-accuracy=0.000000\n",
      "2019-12-01 15:09:16,146 [INFO]  Epoch[1] Batch [0-1332]\tSpeed: 7875.32 samples/sec\tcross-entropy=9.826403\thm_cnt-accuracy=0.000000\n",
      "2019-12-01 15:09:18,747 [INFO]  Epoch[1] Train-cross-entropy=9.001403\n",
      "2019-12-01 15:09:18,749 [INFO]  Epoch[1] Train-hm_cnt-accuracy=0.000000\n",
      "2019-12-01 15:09:18,750 [INFO]  Epoch[1] Time cost=5.313\n",
      "2019-12-01 15:09:18,758 [INFO]  Saved checkpoint to \"imputer_model\\model-0001.params\"\n",
      "2019-12-01 15:09:19,045 [INFO]  Epoch[1] Validation-cross-entropy=8.581582\n",
      "2019-12-01 15:09:19,048 [INFO]  Epoch[1] Validation-hm_cnt-accuracy=0.000000\n",
      "2019-12-01 15:09:21,638 [INFO]  Epoch[2] Batch [0-1332]\tSpeed: 8245.50 samples/sec\tcross-entropy=9.473705\thm_cnt-accuracy=0.000000\n",
      "2019-12-01 15:09:24,233 [INFO]  Epoch[2] Train-cross-entropy=8.741130\n",
      "2019-12-01 15:09:24,235 [INFO]  Epoch[2] Train-hm_cnt-accuracy=0.000000\n",
      "2019-12-01 15:09:24,237 [INFO]  Epoch[2] Time cost=5.187\n",
      "2019-12-01 15:09:24,247 [INFO]  Saved checkpoint to \"imputer_model\\model-0002.params\"\n",
      "2019-12-01 15:09:24,543 [INFO]  Epoch[2] Validation-cross-entropy=8.365749\n",
      "2019-12-01 15:09:24,546 [INFO]  Epoch[2] Validation-hm_cnt-accuracy=0.000000\n",
      "2019-12-01 15:09:27,287 [INFO]  Epoch[3] Batch [0-1332]\tSpeed: 7794.03 samples/sec\tcross-entropy=9.231152\thm_cnt-accuracy=0.000000\n",
      "2019-12-01 15:09:30,055 [INFO]  Epoch[3] Train-cross-entropy=8.541805\n",
      "2019-12-01 15:09:30,058 [INFO]  Epoch[3] Train-hm_cnt-accuracy=0.000000\n",
      "2019-12-01 15:09:30,061 [INFO]  Epoch[3] Time cost=5.512\n",
      "2019-12-01 15:09:30,072 [INFO]  Saved checkpoint to \"imputer_model\\model-0003.params\"\n",
      "2019-12-01 15:09:30,432 [INFO]  Epoch[3] Validation-cross-entropy=8.215052\n",
      "2019-12-01 15:09:30,433 [INFO]  Epoch[3] Validation-hm_cnt-accuracy=0.000000\n",
      "2019-12-01 15:09:33,069 [INFO]  Epoch[4] Batch [0-1332]\tSpeed: 8105.54 samples/sec\tcross-entropy=9.007621\thm_cnt-accuracy=0.000000\n",
      "2019-12-01 15:09:35,330 [INFO]  Epoch[4] Train-cross-entropy=8.348134\n",
      "2019-12-01 15:09:35,332 [INFO]  Epoch[4] Train-hm_cnt-accuracy=0.000000\n",
      "2019-12-01 15:09:35,334 [INFO]  Epoch[4] Time cost=4.899\n",
      "2019-12-01 15:09:35,342 [INFO]  Saved checkpoint to \"imputer_model\\model-0004.params\"\n",
      "2019-12-01 15:09:35,611 [INFO]  Epoch[4] Validation-cross-entropy=8.069436\n",
      "2019-12-01 15:09:35,613 [INFO]  Epoch[4] Validation-hm_cnt-accuracy=0.000000\n",
      "2019-12-01 15:09:37,989 [INFO]  Epoch[5] Batch [0-1332]\tSpeed: 8985.37 samples/sec\tcross-entropy=8.823536\thm_cnt-accuracy=0.000000\n",
      "2019-12-01 15:09:40,275 [INFO]  Epoch[5] Train-cross-entropy=8.203130\n",
      "2019-12-01 15:09:40,277 [INFO]  Epoch[5] Train-hm_cnt-accuracy=0.000000\n",
      "2019-12-01 15:09:40,280 [INFO]  Epoch[5] Time cost=4.665\n",
      "2019-12-01 15:09:40,287 [INFO]  Saved checkpoint to \"imputer_model\\model-0005.params\"\n",
      "2019-12-01 15:09:40,622 [INFO]  Epoch[5] Validation-cross-entropy=7.900709\n",
      "2019-12-01 15:09:40,624 [INFO]  Epoch[5] Validation-hm_cnt-accuracy=0.000000\n",
      "2019-12-01 15:09:43,388 [INFO]  Epoch[6] Batch [0-1332]\tSpeed: 7727.25 samples/sec\tcross-entropy=8.680279\thm_cnt-accuracy=0.000000\n",
      "2019-12-01 15:09:46,150 [INFO]  Epoch[6] Train-cross-entropy=8.086584\n",
      "2019-12-01 15:09:46,152 [INFO]  Epoch[6] Train-hm_cnt-accuracy=0.000000\n",
      "2019-12-01 15:09:46,155 [INFO]  Epoch[6] Time cost=5.528\n",
      "2019-12-01 15:09:46,165 [INFO]  Saved checkpoint to \"imputer_model\\model-0006.params\"\n",
      "2019-12-01 15:09:46,467 [INFO]  Epoch[6] Validation-cross-entropy=7.852780\n",
      "2019-12-01 15:09:46,469 [INFO]  Epoch[6] Validation-hm_cnt-accuracy=0.000000\n",
      "2019-12-01 15:09:49,174 [INFO]  Epoch[7] Batch [0-1332]\tSpeed: 7899.15 samples/sec\tcross-entropy=8.591834\thm_cnt-accuracy=0.000000\n",
      "2019-12-01 15:09:51,779 [INFO]  Epoch[7] Train-cross-entropy=8.006052\n",
      "2019-12-01 15:09:51,782 [INFO]  Epoch[7] Train-hm_cnt-accuracy=0.000000\n",
      "2019-12-01 15:09:51,785 [INFO]  Epoch[7] Time cost=5.313\n",
      "2019-12-01 15:09:51,797 [INFO]  Saved checkpoint to \"imputer_model\\model-0007.params\"\n",
      "2019-12-01 15:09:52,106 [INFO]  Epoch[7] Validation-cross-entropy=7.769352\n",
      "2019-12-01 15:09:52,109 [INFO]  Epoch[7] Validation-hm_cnt-accuracy=0.000000\n",
      "2019-12-01 15:09:54,843 [INFO]  Epoch[8] Batch [0-1332]\tSpeed: 7809.00 samples/sec\tcross-entropy=8.504268\thm_cnt-accuracy=0.000000\n",
      "2019-12-01 15:09:57,401 [INFO]  Epoch[8] Train-cross-entropy=7.932181\n",
      "2019-12-01 15:09:57,403 [INFO]  Epoch[8] Train-hm_cnt-accuracy=0.000000\n",
      "2019-12-01 15:09:57,405 [INFO]  Epoch[8] Time cost=5.294\n",
      "2019-12-01 15:09:57,414 [INFO]  Saved checkpoint to \"imputer_model\\model-0008.params\"\n",
      "2019-12-01 15:09:57,712 [INFO]  Epoch[8] Validation-cross-entropy=7.749579\n",
      "2019-12-01 15:09:57,716 [INFO]  Epoch[8] Validation-hm_cnt-accuracy=0.000000\n",
      "2019-12-01 15:10:00,540 [INFO]  Epoch[9] Batch [0-1332]\tSpeed: 7589.76 samples/sec\tcross-entropy=8.439833\thm_cnt-accuracy=0.000000\n",
      "2019-12-01 15:10:03,387 [INFO]  Epoch[9] Train-cross-entropy=7.881334\n",
      "2019-12-01 15:10:03,390 [INFO]  Epoch[9] Train-hm_cnt-accuracy=0.000000\n",
      "2019-12-01 15:10:03,392 [INFO]  Epoch[9] Time cost=5.673\n",
      "2019-12-01 15:10:03,402 [INFO]  Saved checkpoint to \"imputer_model\\model-0009.params\"\n",
      "2019-12-01 15:10:03,671 [INFO]  Epoch[9] Validation-cross-entropy=7.693501\n",
      "2019-12-01 15:10:03,674 [INFO]  Epoch[9] Validation-hm_cnt-accuracy=0.000000\n",
      "2019-12-01 15:10:06,505 [INFO]  Epoch[10] Batch [0-1332]\tSpeed: 7544.45 samples/sec\tcross-entropy=8.374692\thm_cnt-accuracy=0.000000\n",
      "2019-12-01 15:10:09,357 [INFO]  Epoch[10] Train-cross-entropy=7.817813\n",
      "2019-12-01 15:10:09,359 [INFO]  Epoch[10] Train-hm_cnt-accuracy=0.000000\n",
      "2019-12-01 15:10:09,361 [INFO]  Epoch[10] Time cost=5.685\n",
      "2019-12-01 15:10:09,369 [INFO]  Saved checkpoint to \"imputer_model\\model-0010.params\"\n",
      "2019-12-01 15:10:09,650 [INFO]  Epoch[10] Validation-cross-entropy=7.654108\n",
      "2019-12-01 15:10:09,652 [INFO]  Epoch[10] Validation-hm_cnt-accuracy=0.000000\n",
      "2019-12-01 15:10:12,167 [INFO]  Epoch[11] Batch [0-1332]\tSpeed: 8492.80 samples/sec\tcross-entropy=8.321332\thm_cnt-accuracy=0.000000\n",
      "2019-12-01 15:10:14,500 [INFO]  Epoch[11] Train-cross-entropy=7.767464\n",
      "2019-12-01 15:10:14,502 [INFO]  Epoch[11] Train-hm_cnt-accuracy=0.000000\n",
      "2019-12-01 15:10:14,504 [INFO]  Epoch[11] Time cost=4.849\n",
      "2019-12-01 15:10:14,511 [INFO]  Saved checkpoint to \"imputer_model\\model-0011.params\"\n",
      "2019-12-01 15:10:14,771 [INFO]  Epoch[11] Validation-cross-entropy=7.640839\n",
      "2019-12-01 15:10:14,773 [INFO]  Epoch[11] Validation-hm_cnt-accuracy=0.000000\n",
      "2019-12-01 15:10:17,453 [INFO]  Epoch[12] Batch [0-1332]\tSpeed: 7962.46 samples/sec\tcross-entropy=8.266886\thm_cnt-accuracy=0.000000\n",
      "2019-12-01 15:10:19,871 [INFO]  Epoch[12] Train-cross-entropy=7.733407\n",
      "2019-12-01 15:10:19,873 [INFO]  Epoch[12] Train-hm_cnt-accuracy=0.000000\n",
      "2019-12-01 15:10:19,875 [INFO]  Epoch[12] Time cost=5.100\n",
      "2019-12-01 15:10:19,887 [INFO]  Saved checkpoint to \"imputer_model\\model-0012.params\"\n",
      "2019-12-01 15:10:20,145 [INFO]  Epoch[12] Validation-cross-entropy=7.577502\n",
      "2019-12-01 15:10:20,147 [INFO]  Epoch[12] Validation-hm_cnt-accuracy=0.000000\n",
      "2019-12-01 15:10:22,657 [INFO]  Epoch[13] Batch [0-1332]\tSpeed: 8512.36 samples/sec\tcross-entropy=8.229104\thm_cnt-accuracy=0.000000\n",
      "2019-12-01 15:10:25,423 [INFO]  Epoch[13] Train-cross-entropy=7.699541\n",
      "2019-12-01 15:10:25,426 [INFO]  Epoch[13] Train-hm_cnt-accuracy=0.000000\n",
      "2019-12-01 15:10:25,428 [INFO]  Epoch[13] Time cost=5.279\n",
      "2019-12-01 15:10:25,440 [INFO]  Saved checkpoint to \"imputer_model\\model-0013.params\"\n",
      "2019-12-01 15:10:25,732 [INFO]  Epoch[13] Validation-cross-entropy=7.574743\n",
      "2019-12-01 15:10:25,734 [INFO]  Epoch[13] Validation-hm_cnt-accuracy=0.000000\n",
      "2019-12-01 15:10:28,326 [INFO]  Epoch[14] Batch [0-1332]\tSpeed: 8237.74 samples/sec\tcross-entropy=8.193158\thm_cnt-accuracy=0.000000\n"
     ]
    },
    {
     "name": "stderr",
     "output_type": "stream",
     "text": [
      "2019-12-01 15:10:30,973 [INFO]  Epoch[14] Train-cross-entropy=7.671125\n",
      "2019-12-01 15:10:30,976 [INFO]  Epoch[14] Train-hm_cnt-accuracy=0.000000\n",
      "2019-12-01 15:10:30,978 [INFO]  Epoch[14] Time cost=5.241\n",
      "2019-12-01 15:10:30,988 [INFO]  Saved checkpoint to \"imputer_model\\model-0014.params\"\n",
      "2019-12-01 15:10:31,276 [INFO]  Epoch[14] Validation-cross-entropy=7.502658\n",
      "2019-12-01 15:10:31,279 [INFO]  Epoch[14] Validation-hm_cnt-accuracy=0.000000\n",
      "2019-12-01 15:10:33,911 [INFO]  Epoch[15] Batch [0-1332]\tSpeed: 8116.38 samples/sec\tcross-entropy=8.152767\thm_cnt-accuracy=0.000000\n",
      "2019-12-01 15:10:36,693 [INFO]  Epoch[15] Train-cross-entropy=7.639980\n",
      "2019-12-01 15:10:36,695 [INFO]  Epoch[15] Train-hm_cnt-accuracy=0.000000\n",
      "2019-12-01 15:10:36,697 [INFO]  Epoch[15] Time cost=5.415\n",
      "2019-12-01 15:10:36,706 [INFO]  Saved checkpoint to \"imputer_model\\model-0015.params\"\n",
      "2019-12-01 15:10:37,026 [INFO]  Epoch[15] Validation-cross-entropy=7.475775\n",
      "2019-12-01 15:10:37,029 [INFO]  Epoch[15] Validation-hm_cnt-accuracy=0.000000\n",
      "2019-12-01 15:10:39,859 [INFO]  Epoch[16] Batch [0-1332]\tSpeed: 7548.73 samples/sec\tcross-entropy=8.122258\thm_cnt-accuracy=0.000000\n",
      "2019-12-01 15:10:42,538 [INFO]  Epoch[16] Train-cross-entropy=7.594576\n",
      "2019-12-01 15:10:42,541 [INFO]  Epoch[16] Train-hm_cnt-accuracy=0.000000\n",
      "2019-12-01 15:10:42,543 [INFO]  Epoch[16] Time cost=5.511\n",
      "2019-12-01 15:10:42,553 [INFO]  Saved checkpoint to \"imputer_model\\model-0016.params\"\n",
      "2019-12-01 15:10:42,842 [INFO]  Epoch[16] Validation-cross-entropy=7.474202\n",
      "2019-12-01 15:10:42,844 [INFO]  Epoch[16] Validation-hm_cnt-accuracy=0.000000\n",
      "2019-12-01 15:10:45,496 [INFO]  Epoch[17] Batch [0-1332]\tSpeed: 8052.82 samples/sec\tcross-entropy=8.074246\thm_cnt-accuracy=0.000000\n",
      "2019-12-01 15:10:48,209 [INFO]  Epoch[17] Train-cross-entropy=7.568487\n",
      "2019-12-01 15:10:48,211 [INFO]  Epoch[17] Train-hm_cnt-accuracy=0.000000\n",
      "2019-12-01 15:10:48,214 [INFO]  Epoch[17] Time cost=5.369\n",
      "2019-12-01 15:10:48,227 [INFO]  Saved checkpoint to \"imputer_model\\model-0017.params\"\n",
      "2019-12-01 15:10:48,524 [INFO]  Epoch[17] Validation-cross-entropy=7.486616\n",
      "2019-12-01 15:10:48,526 [INFO]  Epoch[17] Validation-hm_cnt-accuracy=0.000000\n",
      "2019-12-01 15:10:51,279 [INFO]  Epoch[18] Batch [0-1332]\tSpeed: 7756.30 samples/sec\tcross-entropy=8.037553\thm_cnt-accuracy=0.000000\n",
      "2019-12-01 15:10:54,054 [INFO]  Epoch[18] Train-cross-entropy=7.534272\n",
      "2019-12-01 15:10:54,057 [INFO]  Epoch[18] Train-hm_cnt-accuracy=0.000000\n",
      "2019-12-01 15:10:54,060 [INFO]  Epoch[18] Time cost=5.533\n",
      "2019-12-01 15:10:54,073 [INFO]  Saved checkpoint to \"imputer_model\\model-0018.params\"\n",
      "2019-12-01 15:10:54,366 [INFO]  Epoch[18] Validation-cross-entropy=7.418402\n",
      "2019-12-01 15:10:54,369 [INFO]  Epoch[18] Validation-hm_cnt-accuracy=0.000000\n",
      "2019-12-01 15:10:57,121 [INFO]  Epoch[19] Batch [0-1332]\tSpeed: 7760.05 samples/sec\tcross-entropy=8.003397\thm_cnt-accuracy=0.000000\n",
      "2019-12-01 15:10:59,821 [INFO]  Epoch[19] Train-cross-entropy=7.502034\n",
      "2019-12-01 15:10:59,823 [INFO]  Epoch[19] Train-hm_cnt-accuracy=0.000000\n",
      "2019-12-01 15:10:59,825 [INFO]  Epoch[19] Time cost=5.454\n",
      "2019-12-01 15:10:59,834 [INFO]  Saved checkpoint to \"imputer_model\\model-0019.params\"\n",
      "2019-12-01 15:11:00,134 [INFO]  Epoch[19] Validation-cross-entropy=7.347629\n",
      "2019-12-01 15:11:00,137 [INFO]  Epoch[19] Validation-hm_cnt-accuracy=0.000000\n",
      "2019-12-01 15:11:02,938 [INFO]  Epoch[20] Batch [0-1332]\tSpeed: 7625.31 samples/sec\tcross-entropy=7.968155\thm_cnt-accuracy=0.000000\n",
      "2019-12-01 15:11:05,695 [INFO]  Epoch[20] Train-cross-entropy=7.470711\n",
      "2019-12-01 15:11:05,697 [INFO]  Epoch[20] Train-hm_cnt-accuracy=0.000000\n",
      "2019-12-01 15:11:05,699 [INFO]  Epoch[20] Time cost=5.559\n",
      "2019-12-01 15:11:05,711 [INFO]  Saved checkpoint to \"imputer_model\\model-0020.params\"\n",
      "2019-12-01 15:11:06,029 [INFO]  Epoch[20] Validation-cross-entropy=7.287107\n",
      "2019-12-01 15:11:06,033 [INFO]  Epoch[20] Validation-hm_cnt-accuracy=0.000000\n",
      "2019-12-01 15:11:08,624 [INFO]  Epoch[21] Batch [0-1332]\tSpeed: 8243.61 samples/sec\tcross-entropy=7.928746\thm_cnt-accuracy=0.000000\n",
      "2019-12-01 15:11:11,256 [INFO]  Epoch[21] Train-cross-entropy=7.439293\n",
      "2019-12-01 15:11:11,258 [INFO]  Epoch[21] Train-hm_cnt-accuracy=0.000000\n",
      "2019-12-01 15:11:11,260 [INFO]  Epoch[21] Time cost=5.225\n",
      "2019-12-01 15:11:11,271 [INFO]  Saved checkpoint to \"imputer_model\\model-0021.params\"\n",
      "2019-12-01 15:11:11,562 [INFO]  Epoch[21] Validation-cross-entropy=7.323263\n",
      "2019-12-01 15:11:11,566 [INFO]  Epoch[21] Validation-hm_cnt-accuracy=0.000000\n",
      "2019-12-01 15:11:14,286 [INFO]  Epoch[22] Batch [0-1332]\tSpeed: 7852.45 samples/sec\tcross-entropy=7.896602\thm_cnt-accuracy=0.000000\n",
      "2019-12-01 15:11:17,023 [INFO]  Epoch[22] Train-cross-entropy=7.403770\n",
      "2019-12-01 15:11:17,025 [INFO]  Epoch[22] Train-hm_cnt-accuracy=0.000000\n",
      "2019-12-01 15:11:17,028 [INFO]  Epoch[22] Time cost=5.459\n",
      "2019-12-01 15:11:17,038 [INFO]  Saved checkpoint to \"imputer_model\\model-0022.params\"\n",
      "2019-12-01 15:11:17,316 [INFO]  Epoch[22] Validation-cross-entropy=7.283432\n",
      "2019-12-01 15:11:17,318 [INFO]  Epoch[22] Validation-hm_cnt-accuracy=0.000000\n",
      "2019-12-01 15:11:19,911 [INFO]  Epoch[23] Batch [0-1332]\tSpeed: 8231.60 samples/sec\tcross-entropy=7.867260\thm_cnt-accuracy=0.000000\n",
      "2019-12-01 15:11:22,679 [INFO]  Epoch[23] Train-cross-entropy=7.373368\n",
      "2019-12-01 15:11:22,681 [INFO]  Epoch[23] Train-hm_cnt-accuracy=0.000000\n",
      "2019-12-01 15:11:22,684 [INFO]  Epoch[23] Time cost=5.364\n",
      "2019-12-01 15:11:22,695 [INFO]  Saved checkpoint to \"imputer_model\\model-0023.params\"\n",
      "2019-12-01 15:11:22,970 [INFO]  Epoch[23] Validation-cross-entropy=7.247565\n",
      "2019-12-01 15:11:22,971 [INFO]  Epoch[23] Validation-hm_cnt-accuracy=0.000000\n",
      "2019-12-01 15:11:25,657 [INFO]  Epoch[24] Batch [0-1332]\tSpeed: 7948.72 samples/sec\tcross-entropy=7.830682\thm_cnt-accuracy=0.000000\n",
      "2019-12-01 15:11:28,193 [INFO]  Epoch[24] Train-cross-entropy=7.336219\n",
      "2019-12-01 15:11:28,194 [INFO]  Epoch[24] Train-hm_cnt-accuracy=0.000000\n",
      "2019-12-01 15:11:28,196 [INFO]  Epoch[24] Time cost=5.223\n",
      "2019-12-01 15:11:28,207 [INFO]  Saved checkpoint to \"imputer_model\\model-0024.params\"\n",
      "2019-12-01 15:11:28,509 [INFO]  Epoch[24] Validation-cross-entropy=7.267188\n",
      "2019-12-01 15:11:28,512 [INFO]  Epoch[24] Validation-hm_cnt-accuracy=0.000000\n",
      "2019-12-01 15:11:31,037 [INFO]  Epoch[25] Batch [0-1332]\tSpeed: 8456.12 samples/sec\tcross-entropy=7.810389\thm_cnt-accuracy=0.000000\n",
      "2019-12-01 15:11:33,811 [INFO]  Epoch[25] Train-cross-entropy=7.308273\n",
      "2019-12-01 15:11:33,813 [INFO]  Epoch[25] Train-hm_cnt-accuracy=0.000000\n",
      "2019-12-01 15:11:33,816 [INFO]  Epoch[25] Time cost=5.302\n",
      "2019-12-01 15:11:33,825 [INFO]  Saved checkpoint to \"imputer_model\\model-0025.params\"\n",
      "2019-12-01 15:11:34,119 [INFO]  Epoch[25] Validation-cross-entropy=7.237896\n",
      "2019-12-01 15:11:34,121 [INFO]  Epoch[25] Validation-hm_cnt-accuracy=0.000000\n",
      "2019-12-01 15:11:36,919 [INFO]  Epoch[26] Batch [0-1332]\tSpeed: 7632.70 samples/sec\tcross-entropy=7.756875\thm_cnt-accuracy=0.000000\n",
      "2019-12-01 15:11:39,595 [INFO]  Epoch[26] Train-cross-entropy=7.264087\n",
      "2019-12-01 15:11:39,599 [INFO]  Epoch[26] Train-hm_cnt-accuracy=0.000000\n",
      "2019-12-01 15:11:39,600 [INFO]  Epoch[26] Time cost=5.477\n",
      "2019-12-01 15:11:39,610 [INFO]  Saved checkpoint to \"imputer_model\\model-0026.params\"\n",
      "2019-12-01 15:11:39,892 [INFO]  Epoch[26] Validation-cross-entropy=7.226726\n",
      "2019-12-01 15:11:39,895 [INFO]  Epoch[26] Validation-hm_cnt-accuracy=0.000000\n",
      "2019-12-01 15:11:42,588 [INFO]  Epoch[27] Batch [0-1332]\tSpeed: 7928.70 samples/sec\tcross-entropy=7.720951\thm_cnt-accuracy=0.000000\n",
      "2019-12-01 15:11:45,408 [INFO]  Epoch[27] Train-cross-entropy=7.228824\n",
      "2019-12-01 15:11:45,410 [INFO]  Epoch[27] Train-hm_cnt-accuracy=0.000000\n",
      "2019-12-01 15:11:45,413 [INFO]  Epoch[27] Time cost=5.516\n",
      "2019-12-01 15:11:45,424 [INFO]  Saved checkpoint to \"imputer_model\\model-0027.params\"\n",
      "2019-12-01 15:11:45,760 [INFO]  Epoch[27] Validation-cross-entropy=7.257481\n",
      "2019-12-01 15:11:45,762 [INFO]  Epoch[27] Validation-hm_cnt-accuracy=0.000000\n",
      "2019-12-01 15:11:48,966 [INFO]  Epoch[28] Batch [0-1332]\tSpeed: 6665.43 samples/sec\tcross-entropy=7.692080\thm_cnt-accuracy=0.000000\n",
      "2019-12-01 15:11:51,393 [INFO]  Epoch[28] Train-cross-entropy=7.204422\n",
      "2019-12-01 15:11:51,395 [INFO]  Epoch[28] Train-hm_cnt-accuracy=0.000000\n",
      "2019-12-01 15:11:51,397 [INFO]  Epoch[28] Time cost=5.634\n"
     ]
    },
    {
     "name": "stderr",
     "output_type": "stream",
     "text": [
      "2019-12-01 15:11:51,405 [INFO]  Saved checkpoint to \"imputer_model\\model-0028.params\"\n",
      "2019-12-01 15:11:51,672 [INFO]  Epoch[28] Validation-cross-entropy=7.323438\n",
      "2019-12-01 15:11:51,674 [INFO]  Epoch[28] Validation-hm_cnt-accuracy=0.000000\n",
      "2019-12-01 15:11:54,046 [INFO]  Epoch[29] Batch [0-1332]\tSpeed: 9003.38 samples/sec\tcross-entropy=7.675114\thm_cnt-accuracy=0.000000\n",
      "2019-12-01 15:11:56,803 [INFO]  Epoch[29] Train-cross-entropy=7.172597\n",
      "2019-12-01 15:11:56,806 [INFO]  Epoch[29] Train-hm_cnt-accuracy=0.000000\n",
      "2019-12-01 15:11:56,809 [INFO]  Epoch[29] Time cost=5.132\n",
      "2019-12-01 15:11:56,819 [INFO]  Saved checkpoint to \"imputer_model\\model-0029.params\"\n",
      "2019-12-01 15:11:57,137 [INFO]  Epoch[29] Validation-cross-entropy=7.286284\n",
      "2019-12-01 15:11:57,139 [INFO]  Epoch[29] Validation-hm_cnt-accuracy=0.000000\n",
      "2019-12-01 15:11:59,705 [INFO]  Epoch[30] Batch [0-1332]\tSpeed: 8324.53 samples/sec\tcross-entropy=7.644367\thm_cnt-accuracy=0.000000\n",
      "2019-12-01 15:12:02,424 [INFO]  Epoch[30] Train-cross-entropy=7.147195\n",
      "2019-12-01 15:12:02,425 [INFO]  Epoch[30] Train-hm_cnt-accuracy=0.000000\n",
      "2019-12-01 15:12:02,428 [INFO]  Epoch[30] Time cost=5.287\n",
      "2019-12-01 15:12:02,436 [INFO]  Saved checkpoint to \"imputer_model\\model-0030.params\"\n",
      "2019-12-01 15:12:02,730 [INFO]  No improvement detected for 5 epochs compared to 7.237895710827553 last error obtained: 7.32685750865773, stopping here\n",
      "2019-12-01 15:12:02,734 [INFO]  \n",
      "========== done (175.0335817337036 s) fit model\n",
      "C:\\Users\\user\\Anaconda3\\lib\\site-packages\\datawig\\calibration.py:92: RuntimeWarning: invalid value encountered in log\n",
      "  return np.log(probas)\n",
      "C:\\Users\\user\\Anaconda3\\lib\\site-packages\\datawig\\calibration.py:59: RuntimeWarning: invalid value encountered in greater_equal\n",
      "  bin_mask = (top_probas >= bin_lower) & (top_probas < bin_upper)\n",
      "C:\\Users\\user\\Anaconda3\\lib\\site-packages\\datawig\\calibration.py:59: RuntimeWarning: invalid value encountered in less\n",
      "  bin_mask = (top_probas >= bin_lower) & (top_probas < bin_upper)\n",
      "C:\\Users\\user\\Anaconda3\\lib\\site-packages\\datawig\\imputer.py:822: FutureWarning: The 'contains' method is deprecated and will be removed in a future version. Use 'key in index' instead of 'index.contains(key)'\n",
      "  if data_frame.columns.contains(imputation_col):\n"
     ]
    }
   ],
   "source": [
    "from datawig import SimpleImputer\n",
    "from datawig.utils import random_split\n",
    "from sklearn.metrics import f1_score, classification_report\n",
    "df_train, df_test = random_split(train, split_ratios=[0.8, 0.2])\n",
    "# Initialize a SimpleImputer model\n",
    "imputer = SimpleImputer(\n",
    "    input_columns=['urban', 'fr_sttn_dstnc','fr_wthr_fclt_dstnc', 'cctv_dstnc', 'tbc_rtl_str_dstnc', 'sft_emrgnc_bll_dstnc', 'bldng_cnt_in_50m'],  # columns containing information about \n",
    "    output_column='hm_cnt',  # the column we'd like to impute values for\n",
    "    output_path='imputer_model'  # stores model data and metrics\n",
    ")\n",
    "\n",
    "# Fit an imputer model on the train data\n",
    "imputer.fit(train_df= df_train, num_epochs=50)\n",
    "\n",
    "# Impute missing values and return original dataframe with predictions\n",
    "predictions = imputer.predict(df_test)"
   ]
  },
  {
   "cell_type": "code",
   "execution_count": 43,
   "metadata": {},
   "outputs": [],
   "source": [
    "train['hm_cnt'] = train['hm_cnt'].fillna(predictions['hm_cnt_imputed'])"
   ]
  },
  {
   "cell_type": "code",
   "execution_count": 44,
   "metadata": {},
   "outputs": [
    {
     "data": {
      "text/plain": [
       "569"
      ]
     },
     "execution_count": 44,
     "metadata": {},
     "output_type": "execute_result"
    }
   ],
   "source": [
    "train['hm_cnt'].isnull().sum()"
   ]
  },
  {
   "cell_type": "markdown",
   "metadata": {},
   "source": [
    "### 2) fr_mn_cnt"
   ]
  },
  {
   "cell_type": "code",
   "execution_count": 45,
   "metadata": {},
   "outputs": [
    {
     "name": "stderr",
     "output_type": "stream",
     "text": [
      "2019-12-01 15:15:27,115 [INFO]  \n",
      "========== start: fit model\n",
      "2019-12-01 15:15:27,118 [WARNING]  Already bound, ignoring bind()\n",
      "2019-12-01 15:15:29,856 [INFO]  Epoch[0] Batch [0-1332]\tSpeed: 7806.70 samples/sec\tcross-entropy=2.439556\tfr_mn_cnt-accuracy=0.015754\n",
      "2019-12-01 15:15:32,673 [INFO]  Epoch[0] Train-cross-entropy=2.080105\n",
      "2019-12-01 15:15:32,677 [INFO]  Epoch[0] Train-fr_mn_cnt-accuracy=0.008264\n",
      "2019-12-01 15:15:32,680 [INFO]  Epoch[0] Time cost=5.558\n",
      "2019-12-01 15:15:32,688 [INFO]  Saved checkpoint to \"imputer_model\\model-0000.params\"\n",
      "2019-12-01 15:15:32,973 [INFO]  Epoch[0] Validation-cross-entropy=2.029376\n",
      "2019-12-01 15:15:32,976 [INFO]  Epoch[0] Validation-fr_mn_cnt-accuracy=0.000000\n",
      "2019-12-01 15:15:35,677 [INFO]  Epoch[1] Batch [0-1332]\tSpeed: 7905.92 samples/sec\tcross-entropy=2.025287\tfr_mn_cnt-accuracy=0.015754\n",
      "2019-12-01 15:15:38,394 [INFO]  Epoch[1] Train-cross-entropy=1.922488\n",
      "2019-12-01 15:15:38,396 [INFO]  Epoch[1] Train-fr_mn_cnt-accuracy=0.008264\n",
      "2019-12-01 15:15:38,399 [INFO]  Epoch[1] Time cost=5.421\n",
      "2019-12-01 15:15:38,411 [INFO]  Saved checkpoint to \"imputer_model\\model-0001.params\"\n",
      "2019-12-01 15:15:38,728 [INFO]  Epoch[1] Validation-cross-entropy=1.883939\n",
      "2019-12-01 15:15:38,731 [INFO]  Epoch[1] Validation-fr_mn_cnt-accuracy=0.000000\n",
      "2019-12-01 15:15:41,548 [INFO]  Epoch[2] Batch [0-1332]\tSpeed: 7582.62 samples/sec\tcross-entropy=1.930735\tfr_mn_cnt-accuracy=0.015754\n",
      "2019-12-01 15:15:44,271 [INFO]  Epoch[2] Train-cross-entropy=1.857362\n",
      "2019-12-01 15:15:44,273 [INFO]  Epoch[2] Train-fr_mn_cnt-accuracy=0.008264\n",
      "2019-12-01 15:15:44,276 [INFO]  Epoch[2] Time cost=5.543\n",
      "2019-12-01 15:15:44,288 [INFO]  Saved checkpoint to \"imputer_model\\model-0002.params\"\n",
      "2019-12-01 15:15:44,584 [INFO]  Epoch[2] Validation-cross-entropy=1.824409\n",
      "2019-12-01 15:15:44,587 [INFO]  Epoch[2] Validation-fr_mn_cnt-accuracy=0.000000\n",
      "2019-12-01 15:15:47,479 [INFO]  Epoch[3] Batch [0-1332]\tSpeed: 7380.47 samples/sec\tcross-entropy=1.867418\tfr_mn_cnt-accuracy=0.015754\n",
      "2019-12-01 15:15:50,280 [INFO]  Epoch[3] Train-cross-entropy=1.809391\n",
      "2019-12-01 15:15:50,282 [INFO]  Epoch[3] Train-fr_mn_cnt-accuracy=0.008264\n",
      "2019-12-01 15:15:50,284 [INFO]  Epoch[3] Time cost=5.695\n",
      "2019-12-01 15:15:50,293 [INFO]  Saved checkpoint to \"imputer_model\\model-0003.params\"\n",
      "2019-12-01 15:15:50,614 [INFO]  Epoch[3] Validation-cross-entropy=1.784765\n",
      "2019-12-01 15:15:50,617 [INFO]  Epoch[3] Validation-fr_mn_cnt-accuracy=0.000000\n",
      "2019-12-01 15:15:53,470 [INFO]  Epoch[4] Batch [0-1332]\tSpeed: 7481.38 samples/sec\tcross-entropy=1.823577\tfr_mn_cnt-accuracy=0.015754\n",
      "2019-12-01 15:15:56,095 [INFO]  Epoch[4] Train-cross-entropy=1.777146\n",
      "2019-12-01 15:15:56,098 [INFO]  Epoch[4] Train-fr_mn_cnt-accuracy=0.008264\n",
      "2019-12-01 15:15:56,100 [INFO]  Epoch[4] Time cost=5.480\n",
      "2019-12-01 15:15:56,110 [INFO]  Saved checkpoint to \"imputer_model\\model-0004.params\"\n",
      "2019-12-01 15:15:56,363 [INFO]  Epoch[4] Validation-cross-entropy=1.759958\n",
      "2019-12-01 15:15:56,365 [INFO]  Epoch[4] Validation-fr_mn_cnt-accuracy=0.000000\n",
      "2019-12-01 15:15:59,062 [INFO]  Epoch[5] Batch [0-1332]\tSpeed: 7917.17 samples/sec\tcross-entropy=1.794918\tfr_mn_cnt-accuracy=0.015754\n",
      "2019-12-01 15:16:01,830 [INFO]  Epoch[5] Train-cross-entropy=1.752612\n",
      "2019-12-01 15:16:01,832 [INFO]  Epoch[5] Train-fr_mn_cnt-accuracy=0.008264\n",
      "2019-12-01 15:16:01,835 [INFO]  Epoch[5] Time cost=5.467\n",
      "2019-12-01 15:16:01,844 [INFO]  Saved checkpoint to \"imputer_model\\model-0005.params\"\n",
      "2019-12-01 15:16:02,163 [INFO]  Epoch[5] Validation-cross-entropy=1.727878\n",
      "2019-12-01 15:16:02,166 [INFO]  Epoch[5] Validation-fr_mn_cnt-accuracy=0.000000\n",
      "2019-12-01 15:16:04,920 [INFO]  Epoch[6] Batch [0-1332]\tSpeed: 7755.69 samples/sec\tcross-entropy=1.769890\tfr_mn_cnt-accuracy=0.015754\n",
      "2019-12-01 15:16:07,704 [INFO]  Epoch[6] Train-cross-entropy=1.732267\n",
      "2019-12-01 15:16:07,707 [INFO]  Epoch[6] Train-fr_mn_cnt-accuracy=0.008264\n",
      "2019-12-01 15:16:07,709 [INFO]  Epoch[6] Time cost=5.541\n",
      "2019-12-01 15:16:07,719 [INFO]  Saved checkpoint to \"imputer_model\\model-0006.params\"\n",
      "2019-12-01 15:16:08,033 [INFO]  Epoch[6] Validation-cross-entropy=1.702953\n",
      "2019-12-01 15:16:08,036 [INFO]  Epoch[6] Validation-fr_mn_cnt-accuracy=0.000000\n",
      "2019-12-01 15:16:10,750 [INFO]  Epoch[7] Batch [0-1332]\tSpeed: 7866.93 samples/sec\tcross-entropy=1.753056\tfr_mn_cnt-accuracy=0.015754\n",
      "2019-12-01 15:16:13,598 [INFO]  Epoch[7] Train-cross-entropy=1.716373\n",
      "2019-12-01 15:16:13,599 [INFO]  Epoch[7] Train-fr_mn_cnt-accuracy=0.008264\n",
      "2019-12-01 15:16:13,601 [INFO]  Epoch[7] Time cost=5.562\n",
      "2019-12-01 15:16:13,611 [INFO]  Saved checkpoint to \"imputer_model\\model-0007.params\"\n",
      "2019-12-01 15:16:13,894 [INFO]  Epoch[7] Validation-cross-entropy=1.700547\n",
      "2019-12-01 15:16:13,897 [INFO]  Epoch[7] Validation-fr_mn_cnt-accuracy=0.000000\n",
      "2019-12-01 15:16:16,591 [INFO]  Epoch[8] Batch [0-1332]\tSpeed: 7925.03 samples/sec\tcross-entropy=1.737679\tfr_mn_cnt-accuracy=0.015754\n",
      "2019-12-01 15:16:19,103 [INFO]  Epoch[8] Train-cross-entropy=1.705989\n",
      "2019-12-01 15:16:19,105 [INFO]  Epoch[8] Train-fr_mn_cnt-accuracy=0.008264\n",
      "2019-12-01 15:16:19,108 [INFO]  Epoch[8] Time cost=5.209\n",
      "2019-12-01 15:16:19,119 [INFO]  Saved checkpoint to \"imputer_model\\model-0008.params\"\n",
      "2019-12-01 15:16:19,428 [INFO]  Epoch[8] Validation-cross-entropy=1.670587\n",
      "2019-12-01 15:16:19,433 [INFO]  Epoch[8] Validation-fr_mn_cnt-accuracy=0.000000\n",
      "2019-12-01 15:16:21,972 [INFO]  Epoch[9] Batch [0-1332]\tSpeed: 8425.04 samples/sec\tcross-entropy=1.721025\tfr_mn_cnt-accuracy=0.015754\n",
      "2019-12-01 15:16:24,500 [INFO]  Epoch[9] Train-cross-entropy=1.694866\n",
      "2019-12-01 15:16:24,502 [INFO]  Epoch[9] Train-fr_mn_cnt-accuracy=0.008264\n",
      "2019-12-01 15:16:24,504 [INFO]  Epoch[9] Time cost=5.067\n",
      "2019-12-01 15:16:24,512 [INFO]  Saved checkpoint to \"imputer_model\\model-0009.params\"\n",
      "2019-12-01 15:16:24,784 [INFO]  Epoch[9] Validation-cross-entropy=1.674748\n",
      "2019-12-01 15:16:24,787 [INFO]  Epoch[9] Validation-fr_mn_cnt-accuracy=0.000000\n",
      "2019-12-01 15:16:24,790 [INFO]  \n",
      "========== done (57.675849199295044 s) fit model\n",
      "C:\\Users\\user\\Anaconda3\\lib\\site-packages\\datawig\\imputer.py:822: FutureWarning: The 'contains' method is deprecated and will be removed in a future version. Use 'key in index' instead of 'index.contains(key)'\n",
      "  if data_frame.columns.contains(imputation_col):\n"
     ]
    }
   ],
   "source": [
    "from datawig import SimpleImputer\n",
    "from datawig.utils import random_split\n",
    "from sklearn.metrics import f1_score, classification_report\n",
    "df_train, df_test = random_split(train, split_ratios=[0.8, 0.2])\n",
    "# Initialize a SimpleImputer model\n",
    "imputer = SimpleImputer(\n",
    "    input_columns=['urban', 'fr_sttn_dstnc','fr_wthr_fclt_dstnc', 'cctv_dstnc', 'tbc_rtl_str_dstnc', 'sft_emrgnc_bll_dstnc', 'bldng_cnt_in_50m'],  # columns containing information about \n",
    "    output_column='fr_mn_cnt',  # the column we'd like to impute values for\n",
    "    output_path='imputer_model'  # stores model data and metrics\n",
    ")\n",
    "\n",
    "# Fit an imputer model on the train data\n",
    "imputer.fit(train_df= df_train, num_epochs=10)\n",
    "\n",
    "# Impute missing values and return original dataframe with predictions\n",
    "predictions = imputer.predict(df_test)"
   ]
  },
  {
   "cell_type": "code",
   "execution_count": 46,
   "metadata": {},
   "outputs": [],
   "source": [
    "train['fr_mn_cnt'] = train['fr_mn_cnt'].fillna(predictions['fr_mn_cnt_imputed'])"
   ]
  },
  {
   "cell_type": "code",
   "execution_count": 47,
   "metadata": {},
   "outputs": [
    {
     "data": {
      "text/plain": [
       "32"
      ]
     },
     "execution_count": 47,
     "metadata": {},
     "output_type": "execute_result"
    }
   ],
   "source": [
    "train['fr_mn_cnt'].isnull().sum()"
   ]
  },
  {
   "cell_type": "markdown",
   "metadata": {},
   "source": [
    "### 3) urban"
   ]
  },
  {
   "cell_type": "code",
   "execution_count": 48,
   "metadata": {},
   "outputs": [
    {
     "name": "stderr",
     "output_type": "stream",
     "text": [
      "2019-12-01 15:19:33,901 [INFO]  \n",
      "========== start: fit model\n",
      "2019-12-01 15:19:33,903 [WARNING]  Already bound, ignoring bind()\n",
      "2019-12-01 15:19:36,751 [INFO]  Epoch[0] Batch [0-1332]\tSpeed: 7502.75 samples/sec\tcross-entropy=8.373585\turban-accuracy=0.000750\n",
      "2019-12-01 15:19:39,280 [INFO]  Epoch[0] Train-cross-entropy=6.918090\n",
      "2019-12-01 15:19:39,282 [INFO]  Epoch[0] Train-urban-accuracy=0.000751\n",
      "2019-12-01 15:19:39,284 [INFO]  Epoch[0] Time cost=5.377\n",
      "2019-12-01 15:19:39,293 [INFO]  Saved checkpoint to \"imputer_model\\model-0000.params\"\n",
      "2019-12-01 15:19:39,607 [INFO]  Epoch[0] Validation-cross-entropy=6.786742\n",
      "2019-12-01 15:19:39,609 [INFO]  Epoch[0] Validation-urban-accuracy=0.000000\n",
      "2019-12-01 15:19:42,401 [INFO]  Epoch[1] Batch [0-1332]\tSpeed: 7646.95 samples/sec\tcross-entropy=6.180100\turban-accuracy=0.000750\n",
      "2019-12-01 15:19:45,192 [INFO]  Epoch[1] Train-cross-entropy=5.745654\n",
      "2019-12-01 15:19:45,193 [INFO]  Epoch[1] Train-urban-accuracy=0.000751\n",
      "2019-12-01 15:19:45,196 [INFO]  Epoch[1] Time cost=5.586\n",
      "2019-12-01 15:19:45,206 [INFO]  Saved checkpoint to \"imputer_model\\model-0001.params\"\n",
      "2019-12-01 15:19:45,488 [INFO]  Epoch[1] Validation-cross-entropy=5.785542\n",
      "2019-12-01 15:19:45,491 [INFO]  Epoch[1] Validation-urban-accuracy=0.000000\n",
      "2019-12-01 15:19:47,907 [INFO]  Epoch[2] Batch [0-1332]\tSpeed: 8843.36 samples/sec\tcross-entropy=5.415365\turban-accuracy=0.000750\n",
      "2019-12-01 15:19:50,412 [INFO]  Epoch[2] Train-cross-entropy=5.308493\n",
      "2019-12-01 15:19:50,415 [INFO]  Epoch[2] Train-urban-accuracy=0.000751\n",
      "2019-12-01 15:19:50,418 [INFO]  Epoch[2] Time cost=4.925\n",
      "2019-12-01 15:19:50,425 [INFO]  Saved checkpoint to \"imputer_model\\model-0002.params\"\n",
      "2019-12-01 15:19:50,723 [INFO]  Epoch[2] Validation-cross-entropy=5.451868\n",
      "2019-12-01 15:19:50,727 [INFO]  Epoch[2] Validation-urban-accuracy=0.000000\n",
      "2019-12-01 15:19:53,480 [INFO]  Epoch[3] Batch [0-1332]\tSpeed: 7762.90 samples/sec\tcross-entropy=5.122319\turban-accuracy=0.000750\n",
      "2019-12-01 15:19:56,049 [INFO]  Epoch[3] Train-cross-entropy=5.055854\n",
      "2019-12-01 15:19:56,051 [INFO]  Epoch[3] Train-urban-accuracy=0.000751\n",
      "2019-12-01 15:19:56,053 [INFO]  Epoch[3] Time cost=5.323\n",
      "2019-12-01 15:19:56,061 [INFO]  Saved checkpoint to \"imputer_model\\model-0003.params\"\n",
      "2019-12-01 15:19:56,325 [INFO]  Epoch[3] Validation-cross-entropy=5.200864\n",
      "2019-12-01 15:19:56,327 [INFO]  Epoch[3] Validation-urban-accuracy=0.000000\n",
      "2019-12-01 15:19:58,839 [INFO]  Epoch[4] Batch [0-1332]\tSpeed: 8501.87 samples/sec\tcross-entropy=4.904605\turban-accuracy=0.000750\n",
      "2019-12-01 15:20:01,688 [INFO]  Epoch[4] Train-cross-entropy=4.898673\n",
      "2019-12-01 15:20:01,691 [INFO]  Epoch[4] Train-urban-accuracy=0.000751\n",
      "2019-12-01 15:20:01,693 [INFO]  Epoch[4] Time cost=5.364\n",
      "2019-12-01 15:20:01,703 [INFO]  Saved checkpoint to \"imputer_model\\model-0004.params\"\n",
      "2019-12-01 15:20:02,031 [INFO]  Epoch[4] Validation-cross-entropy=5.082653\n",
      "2019-12-01 15:20:02,035 [INFO]  Epoch[4] Validation-urban-accuracy=0.000000\n",
      "2019-12-01 15:20:04,722 [INFO]  Epoch[5] Batch [0-1332]\tSpeed: 7954.22 samples/sec\tcross-entropy=4.769432\turban-accuracy=0.000750\n",
      "2019-12-01 15:20:07,452 [INFO]  Epoch[5] Train-cross-entropy=4.787403\n",
      "2019-12-01 15:20:07,454 [INFO]  Epoch[5] Train-urban-accuracy=0.000751\n",
      "2019-12-01 15:20:07,456 [INFO]  Epoch[5] Time cost=5.418\n",
      "2019-12-01 15:20:07,465 [INFO]  Saved checkpoint to \"imputer_model\\model-0005.params\"\n",
      "2019-12-01 15:20:07,768 [INFO]  Epoch[5] Validation-cross-entropy=5.075386\n",
      "2019-12-01 15:20:07,771 [INFO]  Epoch[5] Validation-urban-accuracy=0.000000\n",
      "2019-12-01 15:20:10,414 [INFO]  Epoch[6] Batch [0-1332]\tSpeed: 8075.78 samples/sec\tcross-entropy=4.684013\turban-accuracy=0.000750\n",
      "2019-12-01 15:20:13,059 [INFO]  Epoch[6] Train-cross-entropy=4.709211\n",
      "2019-12-01 15:20:13,063 [INFO]  Epoch[6] Train-urban-accuracy=0.000751\n",
      "2019-12-01 15:20:13,065 [INFO]  Epoch[6] Time cost=5.292\n",
      "2019-12-01 15:20:13,075 [INFO]  Saved checkpoint to \"imputer_model\\model-0006.params\"\n",
      "2019-12-01 15:20:13,370 [INFO]  Epoch[6] Validation-cross-entropy=4.949604\n",
      "2019-12-01 15:20:13,373 [INFO]  Epoch[6] Validation-urban-accuracy=0.000000\n",
      "2019-12-01 15:20:15,854 [INFO]  Epoch[7] Batch [0-1332]\tSpeed: 8610.26 samples/sec\tcross-entropy=4.599302\turban-accuracy=0.000750\n",
      "2019-12-01 15:20:18,356 [INFO]  Epoch[7] Train-cross-entropy=4.634531\n",
      "2019-12-01 15:20:18,359 [INFO]  Epoch[7] Train-urban-accuracy=0.000751\n",
      "2019-12-01 15:20:18,362 [INFO]  Epoch[7] Time cost=4.987\n",
      "2019-12-01 15:20:18,372 [INFO]  Saved checkpoint to \"imputer_model\\model-0007.params\"\n",
      "2019-12-01 15:20:18,639 [INFO]  Epoch[7] Validation-cross-entropy=4.864824\n",
      "2019-12-01 15:20:18,641 [INFO]  Epoch[7] Validation-urban-accuracy=0.000000\n",
      "2019-12-01 15:20:21,078 [INFO]  Epoch[8] Batch [0-1332]\tSpeed: 8766.29 samples/sec\tcross-entropy=4.513843\turban-accuracy=0.000750\n",
      "2019-12-01 15:20:23,702 [INFO]  Epoch[8] Train-cross-entropy=4.571559\n",
      "2019-12-01 15:20:23,705 [INFO]  Epoch[8] Train-urban-accuracy=0.000751\n",
      "2019-12-01 15:20:23,707 [INFO]  Epoch[8] Time cost=5.063\n",
      "2019-12-01 15:20:23,720 [INFO]  Saved checkpoint to \"imputer_model\\model-0008.params\"\n",
      "2019-12-01 15:20:24,000 [INFO]  Epoch[8] Validation-cross-entropy=4.767594\n",
      "2019-12-01 15:20:24,003 [INFO]  Epoch[8] Validation-urban-accuracy=0.000000\n",
      "2019-12-01 15:20:26,497 [INFO]  Epoch[9] Batch [0-1332]\tSpeed: 8566.32 samples/sec\tcross-entropy=4.470316\turban-accuracy=0.000750\n",
      "2019-12-01 15:20:28,942 [INFO]  Epoch[9] Train-cross-entropy=4.521478\n",
      "2019-12-01 15:20:28,945 [INFO]  Epoch[9] Train-urban-accuracy=0.000751\n",
      "2019-12-01 15:20:28,947 [INFO]  Epoch[9] Time cost=4.941\n",
      "2019-12-01 15:20:28,957 [INFO]  Saved checkpoint to \"imputer_model\\model-0009.params\"\n",
      "2019-12-01 15:20:29,200 [INFO]  Epoch[9] Validation-cross-entropy=4.744204\n",
      "2019-12-01 15:20:29,203 [INFO]  Epoch[9] Validation-urban-accuracy=0.000000\n",
      "2019-12-01 15:20:29,206 [INFO]  \n",
      "========== done (55.30544471740723 s) fit model\n",
      "C:\\Users\\user\\Anaconda3\\lib\\site-packages\\datawig\\calibration.py:92: RuntimeWarning: invalid value encountered in log\n",
      "  return np.log(probas)\n",
      "C:\\Users\\user\\Anaconda3\\lib\\site-packages\\datawig\\calibration.py:59: RuntimeWarning: invalid value encountered in greater_equal\n",
      "  bin_mask = (top_probas >= bin_lower) & (top_probas < bin_upper)\n",
      "C:\\Users\\user\\Anaconda3\\lib\\site-packages\\datawig\\calibration.py:59: RuntimeWarning: invalid value encountered in less\n",
      "  bin_mask = (top_probas >= bin_lower) & (top_probas < bin_upper)\n",
      "C:\\Users\\user\\Anaconda3\\lib\\site-packages\\datawig\\imputer.py:822: FutureWarning: The 'contains' method is deprecated and will be removed in a future version. Use 'key in index' instead of 'index.contains(key)'\n",
      "  if data_frame.columns.contains(imputation_col):\n"
     ]
    }
   ],
   "source": [
    "from datawig import SimpleImputer\n",
    "from datawig.utils import random_split\n",
    "from sklearn.metrics import f1_score, classification_report\n",
    "df_train, df_test = random_split(train, split_ratios=[0.8, 0.2])\n",
    "# Initialize a SimpleImputer model\n",
    "imputer = SimpleImputer(\n",
    "    input_columns=['hm_cnt', 'fr_sttn_dstnc', 'fr_wthr_fclt_dstnc', 'cctv_dstnc', 'tbc_rtl_str_dstnc', 'sft_emrgnc_bll_dstnc', 'bldng_cnt_in_50m'],  # columns containing information about \n",
    "    output_column='urban',  # the column we'd like to impute values for\n",
    "    output_path='imputer_model'  # stores model data and metrics\n",
    ")\n",
    "\n",
    "# Fit an imputer model on the train data\n",
    "imputer.fit(train_df= df_train, num_epochs=10)\n",
    "\n",
    "# Impute missing values and return original dataframe with predictions\n",
    "predictions = imputer.predict(df_test)"
   ]
  },
  {
   "cell_type": "code",
   "execution_count": 49,
   "metadata": {},
   "outputs": [],
   "source": [
    "train['urban'] = train['urban'].fillna(predictions['urban_imputed'])"
   ]
  },
  {
   "cell_type": "code",
   "execution_count": 50,
   "metadata": {},
   "outputs": [
    {
     "data": {
      "text/plain": [
       "3"
      ]
     },
     "execution_count": 50,
     "metadata": {},
     "output_type": "execute_result"
    }
   ],
   "source": [
    "train['urban'].isnull().sum()"
   ]
  },
  {
   "cell_type": "markdown",
   "metadata": {},
   "source": [
    "## 5. 최종 pipeline"
   ]
  },
  {
   "cell_type": "code",
   "execution_count": 73,
   "metadata": {},
   "outputs": [],
   "source": [
    "categorical_feature = ['urban']\n",
    "population_feature = ['hm_cnt', 'fr_mn_cnt']\n",
    "price_feature = ['bldng_ar_prc']\n",
    "\n",
    "categorical_transformer = Pipeline(steps = [\n",
    "    ('smp', SimpleImputer(strategy = \"most_frequent\")),\n",
    "    ('OneHotEncoer', OneHotEncoder(handle_unknown = 'ignore', sparse = False))\n",
    "])\n",
    "\n",
    "population_transformer = Pipeline([\n",
    "    ('median', SimpleImputer(strategy = 'median'))\n",
    "])\n",
    "\n",
    "price_transformer = Pipeline(steps = [\n",
    "    ('zero', SimpleImputer(strategy = 'median')),\n",
    "    ('scaling', StandardScaler()),\n",
    "    ('pca', PCA()),\n",
    "])\n",
    "\n",
    "processor = ColumnTransformer(\n",
    "    transformers = [\n",
    "    ('cat', categorical_transformer, categorical_feature),\n",
    "    ('popu', population_transformer, population_feature),\n",
    "    ('price', price_transformer, price_feature)\n",
    "])\n",
    "\n",
    "\n",
    "pipe = Pipeline(steps = [('processor', processor)\n",
    "])                "
   ]
  },
  {
   "cell_type": "code",
   "execution_count": 74,
   "metadata": {},
   "outputs": [
    {
     "data": {
      "text/plain": [
       "array([[ 1.00000000e+00,  0.00000000e+00,  0.00000000e+00,\n",
       "         1.73600000e+04,  1.37000000e+02, -1.42597482e-01],\n",
       "       [ 1.00000000e+00,  0.00000000e+00,  0.00000000e+00,\n",
       "         1.79100000e+03,  8.50000000e+01, -1.22772361e+00],\n",
       "       [ 1.00000000e+00,  0.00000000e+00,  0.00000000e+00,\n",
       "         1.72850000e+04,  1.37000000e+02,  2.87853344e-02],\n",
       "       ...,\n",
       "       [ 1.00000000e+00,  0.00000000e+00,  0.00000000e+00,\n",
       "         3.01400000e+03,  1.39000000e+02, -1.42597482e-01],\n",
       "       [ 1.00000000e+00,  0.00000000e+00,  0.00000000e+00,\n",
       "         3.75300000e+03,  1.39000000e+02, -1.42597482e-01],\n",
       "       [ 1.00000000e+00,  0.00000000e+00,  0.00000000e+00,\n",
       "         2.60800000e+03,  1.37000000e+02, -1.42597482e-01]])"
      ]
     },
     "execution_count": 74,
     "metadata": {},
     "output_type": "execute_result"
    }
   ],
   "source": [
    "pipe.fit_transform(train)"
   ]
  },
  {
   "cell_type": "code",
   "execution_count": 75,
   "metadata": {},
   "outputs": [
    {
     "data": {
      "text/plain": [
       "array([[ 1.00000000e+00,  7.23500000e+03,  2.01000000e+02,\n",
       "        -1.37845485e-01],\n",
       "       [ 1.00000000e+00,  4.19800000e+03,  2.01000000e+02,\n",
       "        -1.37845485e-01],\n",
       "       [ 1.00000000e+00,  5.43540000e+04,  1.78000000e+02,\n",
       "        -1.37845485e-01],\n",
       "       ...,\n",
       "       [ 1.00000000e+00,  8.42900000e+04,  2.01000000e+02,\n",
       "         1.68933256e-01],\n",
       "       [ 1.00000000e+00,  4.07030000e+04,  2.01000000e+02,\n",
       "        -1.37845485e-01],\n",
       "       [ 1.00000000e+00,  1.02610000e+04,  2.01000000e+02,\n",
       "        -1.37845485e-01]])"
      ]
     },
     "execution_count": 75,
     "metadata": {},
     "output_type": "execute_result"
    }
   ],
   "source": [
    "pipe.fit_transform(test)"
   ]
  },
  {
   "cell_type": "code",
   "execution_count": 76,
   "metadata": {},
   "outputs": [
    {
     "data": {
      "text/plain": [
       "array([[ 1.00000000e+00,  8.68600000e+03,  1.78000000e+02,\n",
       "         7.26646268e-02],\n",
       "       [ 1.00000000e+00,  7.77600000e+03,  1.78000000e+02,\n",
       "         2.78414421e-01],\n",
       "       [ 1.00000000e+00,  8.29240000e+04,  2.01000000e+02,\n",
       "         1.40856709e-01],\n",
       "       ...,\n",
       "       [ 1.00000000e+00,  5.08350000e+04,  1.78000000e+02,\n",
       "        -1.48400372e-01],\n",
       "       [ 1.00000000e+00,  7.82520000e+04,  2.01000000e+02,\n",
       "        -3.37037967e-01],\n",
       "       [ 1.00000000e+00,  4.41780000e+04,  2.01000000e+02,\n",
       "         5.35885883e-01]])"
      ]
     },
     "execution_count": 76,
     "metadata": {},
     "output_type": "execute_result"
    }
   ],
   "source": [
    "pipe.fit_transform(validation)"
   ]
  }
 ],
 "metadata": {
  "kernelspec": {
   "display_name": "Python 3",
   "language": "python",
   "name": "python3"
  },
  "language_info": {
   "codemirror_mode": {
    "name": "ipython",
    "version": 3
   },
   "file_extension": ".py",
   "mimetype": "text/x-python",
   "name": "python",
   "nbconvert_exporter": "python",
   "pygments_lexer": "ipython3",
   "version": "3.7.3"
  }
 },
 "nbformat": 4,
 "nbformat_minor": 2
}
