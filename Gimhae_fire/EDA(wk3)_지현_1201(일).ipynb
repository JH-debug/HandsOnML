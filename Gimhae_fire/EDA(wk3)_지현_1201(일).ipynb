{
 "cells": [
  {
   "cell_type": "markdown",
   "metadata": {},
   "source": [
    "# 나머지 feature + 행정구역, 인구수"
   ]
  },
  {
   "cell_type": "code",
   "execution_count": 21,
   "metadata": {},
   "outputs": [],
   "source": [
    "import pandas as pd\n",
    "import numpy as np\n",
    "import matplotlib\n",
    "import matplotlib.pyplot as plt"
   ]
  },
  {
   "cell_type": "code",
   "execution_count": 22,
   "metadata": {},
   "outputs": [],
   "source": [
    "train = pd.read_csv(\"PJT002_train.csv\", encoding = 'utf8')\n",
    "test = pd.read_csv(\"PJT002_test.csv\", encoding = 'utf-8')\n",
    "validation = pd.read_csv(\"PJT002_validation.csv\", encoding = 'utf8')"
   ]
  },
  {
   "cell_type": "markdown",
   "metadata": {},
   "source": [
    "## 사용할 데이터"
   ]
  },
  {
   "cell_type": "code",
   "execution_count": 23,
   "metadata": {
    "scrolled": false
   },
   "outputs": [
    {
     "data": {
      "text/html": [
       "<div>\n",
       "<style scoped>\n",
       "    .dataframe tbody tr th:only-of-type {\n",
       "        vertical-align: middle;\n",
       "    }\n",
       "\n",
       "    .dataframe tbody tr th {\n",
       "        vertical-align: top;\n",
       "    }\n",
       "\n",
       "    .dataframe thead th {\n",
       "        text-align: right;\n",
       "    }\n",
       "</style>\n",
       "<table border=\"1\" class=\"dataframe\">\n",
       "  <thead>\n",
       "    <tr style=\"text-align: right;\">\n",
       "      <th></th>\n",
       "      <th>emd_nm</th>\n",
       "      <th>hm_cnt</th>\n",
       "      <th>fr_sttn_dstnc</th>\n",
       "      <th>bldng_ar_prc</th>\n",
       "      <th>fr_wthr_fclt_dstnc</th>\n",
       "      <th>fr_mn_cnt</th>\n",
       "      <th>cctv_dstnc</th>\n",
       "      <th>cctv_in_100m</th>\n",
       "      <th>fr_wthr_fclt_in_100m</th>\n",
       "      <th>tbc_rtl_str_dstnc</th>\n",
       "      <th>sft_emrgnc_bll_dstnc</th>\n",
       "      <th>ahsm_dstnc</th>\n",
       "      <th>no_tbc_zn_dstnc</th>\n",
       "      <th>bldng_cnt_in_50m</th>\n",
       "    </tr>\n",
       "  </thead>\n",
       "  <tbody>\n",
       "    <tr>\n",
       "      <th>0</th>\n",
       "      <td>경상남도 창녕군 창녕읍</td>\n",
       "      <td>17360.0</td>\n",
       "      <td>4547</td>\n",
       "      <td>NaN</td>\n",
       "      <td>133</td>\n",
       "      <td>137.0</td>\n",
       "      <td>112</td>\n",
       "      <td>0</td>\n",
       "      <td>0</td>\n",
       "      <td>1891</td>\n",
       "      <td>29231</td>\n",
       "      <td>11322</td>\n",
       "      <td>88</td>\n",
       "      <td>0</td>\n",
       "    </tr>\n",
       "    <tr>\n",
       "      <th>1</th>\n",
       "      <td>경상남도 의령군 가례면</td>\n",
       "      <td>1791.0</td>\n",
       "      <td>6388</td>\n",
       "      <td>122581.0</td>\n",
       "      <td>489</td>\n",
       "      <td>85.0</td>\n",
       "      <td>818</td>\n",
       "      <td>0</td>\n",
       "      <td>0</td>\n",
       "      <td>4533</td>\n",
       "      <td>20480</td>\n",
       "      <td>3369</td>\n",
       "      <td>7727</td>\n",
       "      <td>0</td>\n",
       "    </tr>\n",
       "    <tr>\n",
       "      <th>2</th>\n",
       "      <td>경상남도 창녕군 창녕읍</td>\n",
       "      <td>17285.0</td>\n",
       "      <td>3340</td>\n",
       "      <td>618105.0</td>\n",
       "      <td>143</td>\n",
       "      <td>137.0</td>\n",
       "      <td>165</td>\n",
       "      <td>0</td>\n",
       "      <td>0</td>\n",
       "      <td>277</td>\n",
       "      <td>31197</td>\n",
       "      <td>12451</td>\n",
       "      <td>72</td>\n",
       "      <td>14</td>\n",
       "    </tr>\n",
       "    <tr>\n",
       "      <th>3</th>\n",
       "      <td>경상남도 창원시의창구 대산면</td>\n",
       "      <td>7327.0</td>\n",
       "      <td>179</td>\n",
       "      <td>719542.0</td>\n",
       "      <td>1585</td>\n",
       "      <td>176.0</td>\n",
       "      <td>131</td>\n",
       "      <td>0</td>\n",
       "      <td>0</td>\n",
       "      <td>438</td>\n",
       "      <td>4270</td>\n",
       "      <td>407</td>\n",
       "      <td>508</td>\n",
       "      <td>11</td>\n",
       "    </tr>\n",
       "    <tr>\n",
       "      <th>4</th>\n",
       "      <td>경상남도 창녕군 창녕읍</td>\n",
       "      <td>17278.0</td>\n",
       "      <td>4822</td>\n",
       "      <td>NaN</td>\n",
       "      <td>603</td>\n",
       "      <td>137.0</td>\n",
       "      <td>686</td>\n",
       "      <td>0</td>\n",
       "      <td>0</td>\n",
       "      <td>1702</td>\n",
       "      <td>29778</td>\n",
       "      <td>12487</td>\n",
       "      <td>707</td>\n",
       "      <td>0</td>\n",
       "    </tr>\n",
       "  </tbody>\n",
       "</table>\n",
       "</div>"
      ],
      "text/plain": [
       "            emd_nm   hm_cnt  fr_sttn_dstnc  bldng_ar_prc  fr_wthr_fclt_dstnc  \\\n",
       "0     경상남도 창녕군 창녕읍  17360.0           4547           NaN                 133   \n",
       "1     경상남도 의령군 가례면   1791.0           6388      122581.0                 489   \n",
       "2     경상남도 창녕군 창녕읍  17285.0           3340      618105.0                 143   \n",
       "3  경상남도 창원시의창구 대산면   7327.0            179      719542.0                1585   \n",
       "4     경상남도 창녕군 창녕읍  17278.0           4822           NaN                 603   \n",
       "\n",
       "   fr_mn_cnt  cctv_dstnc  cctv_in_100m  fr_wthr_fclt_in_100m  \\\n",
       "0      137.0         112             0                     0   \n",
       "1       85.0         818             0                     0   \n",
       "2      137.0         165             0                     0   \n",
       "3      176.0         131             0                     0   \n",
       "4      137.0         686             0                     0   \n",
       "\n",
       "   tbc_rtl_str_dstnc  sft_emrgnc_bll_dstnc  ahsm_dstnc  no_tbc_zn_dstnc  \\\n",
       "0               1891                 29231       11322               88   \n",
       "1               4533                 20480        3369             7727   \n",
       "2                277                 31197       12451               72   \n",
       "3                438                  4270         407              508   \n",
       "4               1702                 29778       12487              707   \n",
       "\n",
       "   bldng_cnt_in_50m  \n",
       "0                 0  \n",
       "1                 0  \n",
       "2                14  \n",
       "3                11  \n",
       "4                 0  "
      ]
     },
     "execution_count": 23,
     "metadata": {},
     "output_type": "execute_result"
    }
   ],
   "source": [
    "data = train[['emd_nm', 'hm_cnt','fr_sttn_dstnc', 'bldng_ar_prc', 'fr_wthr_fclt_dstnc', 'fr_mn_cnt', 'cctv_dstnc', 'cctv_in_100m', 'fr_wthr_fclt_in_100m', 'tbc_rtl_str_dstnc', 'sft_emrgnc_bll_dstnc', 'ahsm_dstnc','no_tbc_zn_dstnc','bldng_cnt_in_50m']]\n",
    "data.head()"
   ]
  },
  {
   "cell_type": "markdown",
   "metadata": {},
   "source": [
    "## 도시와 시골 데이터로 분류"
   ]
  },
  {
   "cell_type": "markdown",
   "metadata": {},
   "source": [
    "두 번째 어절의 끝에 따라 분류\n",
    "\n",
    "- '시'로 끝나면 도시\n",
    "- '군'으로 끝나면 시골"
   ]
  },
  {
   "cell_type": "code",
   "execution_count": 24,
   "metadata": {},
   "outputs": [
    {
     "data": {
      "text/plain": [
       "array(['창녕군', '의령군', '창원시', '함안군', '진주시', '남해군', '거창군', '밀양시', '통영시',\n",
       "       '양산시', '하동군', '거제시', '고성군', '사천시', '합천군', '산청군', '함양군', nan],\n",
       "      dtype=object)"
      ]
     },
     "execution_count": 24,
     "metadata": {},
     "output_type": "execute_result"
    }
   ],
   "source": [
    "# 두 번째 어절 확인\n",
    "\n",
    "data['emd_nm'].str[5:8].unique()"
   ]
  },
  {
   "cell_type": "code",
   "execution_count": 25,
   "metadata": {},
   "outputs": [
    {
     "name": "stderr",
     "output_type": "stream",
     "text": [
      "C:\\Users\\user\\Anaconda3\\lib\\site-packages\\ipykernel_launcher.py:3: SettingWithCopyWarning: \n",
      "A value is trying to be set on a copy of a slice from a DataFrame.\n",
      "Try using .loc[row_indexer,col_indexer] = value instead\n",
      "\n",
      "See the caveats in the documentation: http://pandas.pydata.org/pandas-docs/stable/user_guide/indexing.html#returning-a-view-versus-a-copy\n",
      "  This is separate from the ipykernel package so we can avoid doing imports until\n"
     ]
    }
   ],
   "source": [
    "# nan 값 채우기\n",
    "\n",
    "data['emd_nm'] = data['emd_nm'].fillna(value='blank')"
   ]
  },
  {
   "cell_type": "code",
   "execution_count": 26,
   "metadata": {},
   "outputs": [],
   "source": [
    "urban = data.loc[data['emd_nm'].str[5:8].str.endswith('시')]\n",
    "rural = data.loc[data['emd_nm'].str[5:8].str.endswith('군')]"
   ]
  },
  {
   "cell_type": "code",
   "execution_count": 27,
   "metadata": {},
   "outputs": [],
   "source": [
    "data.loc[data['emd_nm'].str[5:8].str.endswith('시'), 'urban_rural'] = 'urban'\n",
    "data.loc[data['emd_nm'].str[5:8].str.endswith('군'), 'urban_rural'] = 'rural'"
   ]
  },
  {
   "cell_type": "code",
   "execution_count": 28,
   "metadata": {},
   "outputs": [
    {
     "data": {
      "text/html": [
       "<div>\n",
       "<style scoped>\n",
       "    .dataframe tbody tr th:only-of-type {\n",
       "        vertical-align: middle;\n",
       "    }\n",
       "\n",
       "    .dataframe tbody tr th {\n",
       "        vertical-align: top;\n",
       "    }\n",
       "\n",
       "    .dataframe thead th {\n",
       "        text-align: right;\n",
       "    }\n",
       "</style>\n",
       "<table border=\"1\" class=\"dataframe\">\n",
       "  <thead>\n",
       "    <tr style=\"text-align: right;\">\n",
       "      <th></th>\n",
       "      <th>emd_nm</th>\n",
       "      <th>hm_cnt</th>\n",
       "      <th>fr_sttn_dstnc</th>\n",
       "      <th>bldng_ar_prc</th>\n",
       "      <th>fr_wthr_fclt_dstnc</th>\n",
       "      <th>fr_mn_cnt</th>\n",
       "      <th>cctv_dstnc</th>\n",
       "      <th>cctv_in_100m</th>\n",
       "      <th>fr_wthr_fclt_in_100m</th>\n",
       "      <th>tbc_rtl_str_dstnc</th>\n",
       "      <th>sft_emrgnc_bll_dstnc</th>\n",
       "      <th>ahsm_dstnc</th>\n",
       "      <th>no_tbc_zn_dstnc</th>\n",
       "      <th>bldng_cnt_in_50m</th>\n",
       "      <th>urban_rural</th>\n",
       "    </tr>\n",
       "  </thead>\n",
       "  <tbody>\n",
       "    <tr>\n",
       "      <th>0</th>\n",
       "      <td>경상남도 창녕군 창녕읍</td>\n",
       "      <td>17360.0</td>\n",
       "      <td>4547</td>\n",
       "      <td>NaN</td>\n",
       "      <td>133</td>\n",
       "      <td>137.0</td>\n",
       "      <td>112</td>\n",
       "      <td>0</td>\n",
       "      <td>0</td>\n",
       "      <td>1891</td>\n",
       "      <td>29231</td>\n",
       "      <td>11322</td>\n",
       "      <td>88</td>\n",
       "      <td>0</td>\n",
       "      <td>rural</td>\n",
       "    </tr>\n",
       "    <tr>\n",
       "      <th>1</th>\n",
       "      <td>경상남도 의령군 가례면</td>\n",
       "      <td>1791.0</td>\n",
       "      <td>6388</td>\n",
       "      <td>122581.0</td>\n",
       "      <td>489</td>\n",
       "      <td>85.0</td>\n",
       "      <td>818</td>\n",
       "      <td>0</td>\n",
       "      <td>0</td>\n",
       "      <td>4533</td>\n",
       "      <td>20480</td>\n",
       "      <td>3369</td>\n",
       "      <td>7727</td>\n",
       "      <td>0</td>\n",
       "      <td>rural</td>\n",
       "    </tr>\n",
       "    <tr>\n",
       "      <th>2</th>\n",
       "      <td>경상남도 창녕군 창녕읍</td>\n",
       "      <td>17285.0</td>\n",
       "      <td>3340</td>\n",
       "      <td>618105.0</td>\n",
       "      <td>143</td>\n",
       "      <td>137.0</td>\n",
       "      <td>165</td>\n",
       "      <td>0</td>\n",
       "      <td>0</td>\n",
       "      <td>277</td>\n",
       "      <td>31197</td>\n",
       "      <td>12451</td>\n",
       "      <td>72</td>\n",
       "      <td>14</td>\n",
       "      <td>rural</td>\n",
       "    </tr>\n",
       "    <tr>\n",
       "      <th>3</th>\n",
       "      <td>경상남도 창원시의창구 대산면</td>\n",
       "      <td>7327.0</td>\n",
       "      <td>179</td>\n",
       "      <td>719542.0</td>\n",
       "      <td>1585</td>\n",
       "      <td>176.0</td>\n",
       "      <td>131</td>\n",
       "      <td>0</td>\n",
       "      <td>0</td>\n",
       "      <td>438</td>\n",
       "      <td>4270</td>\n",
       "      <td>407</td>\n",
       "      <td>508</td>\n",
       "      <td>11</td>\n",
       "      <td>urban</td>\n",
       "    </tr>\n",
       "    <tr>\n",
       "      <th>4</th>\n",
       "      <td>경상남도 창녕군 창녕읍</td>\n",
       "      <td>17278.0</td>\n",
       "      <td>4822</td>\n",
       "      <td>NaN</td>\n",
       "      <td>603</td>\n",
       "      <td>137.0</td>\n",
       "      <td>686</td>\n",
       "      <td>0</td>\n",
       "      <td>0</td>\n",
       "      <td>1702</td>\n",
       "      <td>29778</td>\n",
       "      <td>12487</td>\n",
       "      <td>707</td>\n",
       "      <td>0</td>\n",
       "      <td>rural</td>\n",
       "    </tr>\n",
       "  </tbody>\n",
       "</table>\n",
       "</div>"
      ],
      "text/plain": [
       "            emd_nm   hm_cnt  fr_sttn_dstnc  bldng_ar_prc  fr_wthr_fclt_dstnc  \\\n",
       "0     경상남도 창녕군 창녕읍  17360.0           4547           NaN                 133   \n",
       "1     경상남도 의령군 가례면   1791.0           6388      122581.0                 489   \n",
       "2     경상남도 창녕군 창녕읍  17285.0           3340      618105.0                 143   \n",
       "3  경상남도 창원시의창구 대산면   7327.0            179      719542.0                1585   \n",
       "4     경상남도 창녕군 창녕읍  17278.0           4822           NaN                 603   \n",
       "\n",
       "   fr_mn_cnt  cctv_dstnc  cctv_in_100m  fr_wthr_fclt_in_100m  \\\n",
       "0      137.0         112             0                     0   \n",
       "1       85.0         818             0                     0   \n",
       "2      137.0         165             0                     0   \n",
       "3      176.0         131             0                     0   \n",
       "4      137.0         686             0                     0   \n",
       "\n",
       "   tbc_rtl_str_dstnc  sft_emrgnc_bll_dstnc  ahsm_dstnc  no_tbc_zn_dstnc  \\\n",
       "0               1891                 29231       11322               88   \n",
       "1               4533                 20480        3369             7727   \n",
       "2                277                 31197       12451               72   \n",
       "3                438                  4270         407              508   \n",
       "4               1702                 29778       12487              707   \n",
       "\n",
       "   bldng_cnt_in_50m urban_rural  \n",
       "0                 0       rural  \n",
       "1                 0       rural  \n",
       "2                14       rural  \n",
       "3                11       urban  \n",
       "4                 0       rural  "
      ]
     },
     "execution_count": 28,
     "metadata": {},
     "output_type": "execute_result"
    }
   ],
   "source": [
    "data.head()"
   ]
  },
  {
   "cell_type": "markdown",
   "metadata": {},
   "source": [
    "## 인구수 비교"
   ]
  },
  {
   "cell_type": "markdown",
   "metadata": {},
   "source": [
    "### 1) train data"
   ]
  },
  {
   "cell_type": "code",
   "execution_count": 39,
   "metadata": {},
   "outputs": [
    {
     "data": {
      "text/plain": [
       "<matplotlib.axes._subplots.AxesSubplot at 0x12c69e6bcc0>"
      ]
     },
     "execution_count": 39,
     "metadata": {},
     "output_type": "execute_result"
    },
    {
     "data": {
      "image/png": "[encoded data removed]",
      "text/plain": [
       "<Figure size 432x288 with 1 Axes>"
      ]
     },
     "metadata": {
      "needs_background": "light"
     },
     "output_type": "display_data"
    }
   ],
   "source": [
    "import seaborn as sns\n",
    "\n",
    "sns.distplot(data.hm_cnt, hist = False)"
   ]
  },
  {
   "cell_type": "markdown",
   "metadata": {},
   "source": [
    "### 2) 도시 vs 시골 "
   ]
  },
  {
   "cell_type": "code",
   "execution_count": 66,
   "metadata": {},
   "outputs": [
    {
     "data": {
      "text/plain": [
       "<matplotlib.axes._subplots.AxesSubplot at 0x12c601f83c8>"
      ]
     },
     "execution_count": 66,
     "metadata": {},
     "output_type": "execute_result"
    },
    {
     "data": {
      "image/png": "[encoded data removed]",
      "text/plain": [
       "<Figure size 432x288 with 1 Axes>"
      ]
     },
     "metadata": {
      "needs_background": "light"
     },
     "output_type": "display_data"
    }
   ],
   "source": [
    "urban = data[data['urban_rural'] == 'urban']\n",
    "rural = data[data['urban_rural'] == 'rural']\n",
    "\n",
    "sns. distplot(urban['hm_cnt'], hist = False, label = 'urban')\n",
    "sns. distplot(rural['hm_cnt'], hist = False, label = 'rural')"
   ]
  },
  {
   "cell_type": "markdown",
   "metadata": {},
   "source": [
    "## 119 안전 센터와의 거리"
   ]
  },
  {
   "cell_type": "markdown",
   "metadata": {},
   "source": [
    "### 1) train data"
   ]
  },
  {
   "cell_type": "code",
   "execution_count": 9,
   "metadata": {},
   "outputs": [
    {
     "data": {
      "text/plain": [
       "<matplotlib.axes._subplots.AxesSubplot at 0x12c5ccc51d0>"
      ]
     },
     "execution_count": 9,
     "metadata": {},
     "output_type": "execute_result"
    },
    {
     "data": {
      "image/png": "[encoded data removed]",
      "text/plain": [
       "<Figure size 432x288 with 1 Axes>"
      ]
     },
     "metadata": {
      "needs_background": "light"
     },
     "output_type": "display_data"
    }
   ],
   "source": [
    "data.fr_sttn_dstnc.hist()"
   ]
  },
  {
   "cell_type": "markdown",
   "metadata": {},
   "source": [
    "### 2) 도시"
   ]
  },
  {
   "cell_type": "code",
   "execution_count": 12,
   "metadata": {},
   "outputs": [
    {
     "data": {
      "text/plain": [
       "<matplotlib.axes._subplots.AxesSubplot at 0x12c5d9216a0>"
      ]
     },
     "execution_count": 12,
     "metadata": {},
     "output_type": "execute_result"
    },
    {
     "data": {
      "image/png": "[encoded data removed]",
      "text/plain": [
       "<Figure size 432x288 with 1 Axes>"
      ]
     },
     "metadata": {
      "needs_background": "light"
     },
     "output_type": "display_data"
    }
   ],
   "source": [
    "cctv_dstnc"
   ]
  },
  {
   "cell_type": "markdown",
   "metadata": {},
   "source": [
    "### 3) 시골"
   ]
  },
  {
   "cell_type": "code",
   "execution_count": 13,
   "metadata": {},
   "outputs": [
    {
     "data": {
      "text/plain": [
       "<matplotlib.axes._subplots.AxesSubplot at 0x12c5d9c6400>"
      ]
     },
     "execution_count": 13,
     "metadata": {},
     "output_type": "execute_result"
    },
    {
     "data": {
      "image/png": "[encoded data removed]",
      "text/plain": [
       "<Figure size 432x288 with 1 Axes>"
      ]
     },
     "metadata": {
      "needs_background": "light"
     },
     "output_type": "display_data"
    }
   ],
   "source": [
    "rural.fr_sttn_dstnc.hist(bins = 5)"
   ]
  },
  {
   "cell_type": "markdown",
   "metadata": {},
   "source": [
    "## 소방용수시설과의 최소 거리"
   ]
  },
  {
   "cell_type": "markdown",
   "metadata": {},
   "source": [
    "### 1) train data"
   ]
  },
  {
   "cell_type": "code",
   "execution_count": 21,
   "metadata": {},
   "outputs": [
    {
     "data": {
      "text/plain": [
       "<matplotlib.axes._subplots.AxesSubplot at 0x12c5eccf518>"
      ]
     },
     "execution_count": 21,
     "metadata": {},
     "output_type": "execute_result"
    },
    {
     "data": {
      "image/png": "[encoded data removed]",
      "text/plain": [
       "<Figure size 432x288 with 1 Axes>"
      ]
     },
     "metadata": {
      "needs_background": "light"
     },
     "output_type": "display_data"
    }
   ],
   "source": [
    "data.fr_wthr_fclt_dstnc.hist()"
   ]
  },
  {
   "cell_type": "markdown",
   "metadata": {},
   "source": [
    "### 2) 도시"
   ]
  },
  {
   "cell_type": "code",
   "execution_count": 72,
   "metadata": {},
   "outputs": [
    {
     "data": {
      "text/plain": [
       "<matplotlib.axes._subplots.AxesSubplot at 0x12c6bad3c88>"
      ]
     },
     "execution_count": 72,
     "metadata": {},
     "output_type": "execute_result"
    },
    {
     "data": {
      "image/png": "[encoded data removed]",
      "text/plain": [
       "<Figure size 432x288 with 1 Axes>"
      ]
     },
     "metadata": {
      "needs_background": "light"
     },
     "output_type": "display_data"
    }
   ],
   "source": [
    "urban.fr_wthr_fclt_dstnc.hist()"
   ]
  },
  {
   "cell_type": "markdown",
   "metadata": {},
   "source": [
    "### 3) 시골"
   ]
  },
  {
   "cell_type": "code",
   "execution_count": 26,
   "metadata": {},
   "outputs": [
    {
     "data": {
      "text/plain": [
       "<matplotlib.axes._subplots.AxesSubplot at 0x12c5f77e860>"
      ]
     },
     "execution_count": 26,
     "metadata": {},
     "output_type": "execute_result"
    },
    {
     "data": {
      "image/png": "[encoded data removed]",
      "text/plain": [
       "<Figure size 432x288 with 1 Axes>"
      ]
     },
     "metadata": {
      "needs_background": "light"
     },
     "output_type": "display_data"
    }
   ],
   "source": [
    "rural.fr_wthr_fclt_dstnc.hist()"
   ]
  },
  {
   "cell_type": "markdown",
   "metadata": {},
   "source": [
    "## 관할 소방서 인원"
   ]
  },
  {
   "cell_type": "markdown",
   "metadata": {},
   "source": [
    "### 1) train data"
   ]
  },
  {
   "cell_type": "code",
   "execution_count": 28,
   "metadata": {},
   "outputs": [
    {
     "name": "stderr",
     "output_type": "stream",
     "text": [
      "C:\\Users\\user\\Anaconda3\\lib\\site-packages\\statsmodels\\nonparametric\\kde.py:447: RuntimeWarning: invalid value encountered in greater\n",
      "  X = X[np.logical_and(X > clip[0], X < clip[1])] # won't work for two columns.\n",
      "C:\\Users\\user\\Anaconda3\\lib\\site-packages\\statsmodels\\nonparametric\\kde.py:447: RuntimeWarning: invalid value encountered in less\n",
      "  X = X[np.logical_and(X > clip[0], X < clip[1])] # won't work for two columns.\n"
     ]
    },
    {
     "data": {
      "text/plain": [
       "<matplotlib.axes._subplots.AxesSubplot at 0x12c5fec9be0>"
      ]
     },
     "execution_count": 28,
     "metadata": {},
     "output_type": "execute_result"
    },
    {
     "data": {
      "image/png": "[encoded data removed]",
      "text/plain": [
       "<Figure size 432x288 with 1 Axes>"
      ]
     },
     "metadata": {
      "needs_background": "light"
     },
     "output_type": "display_data"
    }
   ],
   "source": [
    "sns.distplot(train.fr_mn_cnt, hist = False)"
   ]
  },
  {
   "cell_type": "markdown",
   "metadata": {},
   "source": [
    "### 2) 도시 vs 시골 "
   ]
  },
  {
   "cell_type": "code",
   "execution_count": 67,
   "metadata": {},
   "outputs": [
    {
     "data": {
      "text/plain": [
       "<matplotlib.axes._subplots.AxesSubplot at 0x12c6a0a1be0>"
      ]
     },
     "execution_count": 67,
     "metadata": {},
     "output_type": "execute_result"
    },
    {
     "data": {
      "image/png": "[encoded data removed]",
      "text/plain": [
       "<Figure size 432x288 with 1 Axes>"
      ]
     },
     "metadata": {
      "needs_background": "light"
     },
     "output_type": "display_data"
    }
   ],
   "source": [
    "urban = data[data['urban_rural'] == 'urban']\n",
    "rural = data[data['urban_rural'] == 'rural']\n",
    "\n",
    "sns. distplot(urban['fr_mn_cnt'], hist = False, label = 'urban')\n",
    "sns. distplot(rural['fr_mn_cnt'], hist = False, label = 'rural')"
   ]
  },
  {
   "cell_type": "markdown",
   "metadata": {},
   "source": [
    "## 공공 CCTV와의 최소 거리"
   ]
  },
  {
   "cell_type": "code",
   "execution_count": 69,
   "metadata": {},
   "outputs": [
    {
     "data": {
      "text/plain": [
       "<matplotlib.axes._subplots.AxesSubplot at 0x12c6b78e518>"
      ]
     },
     "execution_count": 69,
     "metadata": {},
     "output_type": "execute_result"
    },
    {
     "data": {
      "image/png": "[encoded data removed]",
      "text/plain": [
       "<Figure size 432x288 with 1 Axes>"
      ]
     },
     "metadata": {
      "needs_background": "light"
     },
     "output_type": "display_data"
    }
   ],
   "source": [
    "urban = data[data['urban_rural'] == 'urban']\n",
    "rural = data[data['urban_rural'] == 'rural']\n",
    "\n",
    "sns. distplot(urban['cctv_dstnc'], hist = False, label = 'urban')\n",
    "sns. distplot(rural['cctv_dstnc'], hist = False, label = 'rural')"
   ]
  },
  {
   "cell_type": "markdown",
   "metadata": {},
   "source": [
    "## 반경 100m 이내 공공 CCTV"
   ]
  },
  {
   "cell_type": "code",
   "execution_count": 80,
   "metadata": {},
   "outputs": [
    {
     "data": {
      "text/plain": [
       "<matplotlib.axes._subplots.AxesSubplot at 0x12c5faeee80>"
      ]
     },
     "execution_count": 80,
     "metadata": {},
     "output_type": "execute_result"
    },
    {
     "data": {
      "image/png": "[encoded data removed]",
      "text/plain": [
       "<Figure size 432x288 with 1 Axes>"
      ]
     },
     "metadata": {
      "needs_background": "light"
     },
     "output_type": "display_data"
    }
   ],
   "source": [
    "sns.barplot(data=data, x ='urban_rural', y='cctv_in_100m', hue = \"urban_rural\")"
   ]
  },
  {
   "cell_type": "markdown",
   "metadata": {},
   "source": [
    "## 반경 100m 이내 소방용수 시설 수"
   ]
  },
  {
   "cell_type": "code",
   "execution_count": 81,
   "metadata": {},
   "outputs": [
    {
     "data": {
      "text/plain": [
       "<matplotlib.axes._subplots.AxesSubplot at 0x12c6a2c1780>"
      ]
     },
     "execution_count": 81,
     "metadata": {},
     "output_type": "execute_result"
    },
    {
     "data": {
      "image/png": "[encoded data removed]",
      "text/plain": [
       "<Figure size 432x288 with 1 Axes>"
      ]
     },
     "metadata": {
      "needs_background": "light"
     },
     "output_type": "display_data"
    }
   ],
   "source": [
    "sns.barplot(data=data, x ='urban_rural', y='fr_wthr_fclt_in_100m', hue = \"urban_rural\")"
   ]
  },
  {
   "cell_type": "markdown",
   "metadata": {},
   "source": [
    "## 반경 50m 이내의 건물 수"
   ]
  },
  {
   "cell_type": "code",
   "execution_count": 82,
   "metadata": {},
   "outputs": [
    {
     "data": {
      "text/plain": [
       "<matplotlib.axes._subplots.AxesSubplot at 0x12c6a32f128>"
      ]
     },
     "execution_count": 82,
     "metadata": {},
     "output_type": "execute_result"
    },
    {
     "data": {
      "image/png": "[encoded data removed]",
      "text/plain": [
       "<Figure size 432x288 with 1 Axes>"
      ]
     },
     "metadata": {
      "needs_background": "light"
     },
     "output_type": "display_data"
    }
   ],
   "source": [
    "sns.barplot(data=data, x ='urban_rural', y='bldng_cnt_in_50m', hue = \"urban_rural\")"
   ]
  }
 ],
 "metadata": {
  "kernelspec": {
   "display_name": "Python 3",
   "language": "python",
   "name": "python3"
  },
  "language_info": {
   "codemirror_mode": {
    "name": "ipython",
    "version": 3
   },
   "file_extension": ".py",
   "mimetype": "text/x-python",
   "name": "python",
   "nbconvert_exporter": "python",
   "pygments_lexer": "ipython3",
   "version": "3.7.3"
  }
 },
 "nbformat": 4,
 "nbformat_minor": 2
}
