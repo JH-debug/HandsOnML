{
  "nbformat": 4,
  "nbformat_minor": 0,
  "metadata": {
    "kernelspec": {
      "name": "python3",
      "display_name": "Python 3"
    },
    "language_info": {
      "codemirror_mode": {
        "name": "ipython",
        "version": 3
      },
      "file_extension": ".py",
      "mimetype": "text/x-python",
      "name": "python",
      "nbconvert_exporter": "python",
      "pygments_lexer": "ipython3",
      "version": "3.7.4"
    },
    "colab": {
      "name": "EDA(wk1)_창현_1117(일).ipynb",
      "provenance": [],
      "collapsed_sections": [],
      "machine_shape": "hm"
    },
    "accelerator": "GPU"
  },
  "cells": [
    {
      "cell_type": "markdown",
      "metadata": {
        "id": "wf4EuEE7xE8M",
        "colab_type": "text"
      },
      "source": [
        "QnA 에서 찾은 정보\n",
        "\n",
        "1. Validation set도 최종 학습에 사용 가능.\n",
        "2. 발생일시는 해당 일시에 화재가 발생했는지의 의미 -> 해당 인자로 인해 기후 정보등이 도출 -> 시간별, 계절별 요인을 도출하는 인자로 활용 가능\n",
        "3. 인구수는 통계청 데이터를 기반( 2018년 기준 )\n",
        "4. lw 변수들은 '건축법 시행령 제5조의5 제4호'에 정의된 건축물(다중이용건축물), 연면적 합계 3천제곱미더이상인 건축물, 다중이용업소등을 대상으로 조사된 값들입니다. 해당 변수들은 0~5점 까지의 분포이며, 높을수록 좋습니다. 가스와 전기 에너지 사용량 데이터는 건축데이터 민간개방시스템(http://open.eais.go.kr/) 에서 수급된 데이터로서, 값이 없는 것들은 해당 시스템에 대상이 아닌 건축물이라는 의미이며, 0인 경우는 값이 실제 0인 경우입니다. \n",
        "5. bldng_cnt 의미 : 해당 데이터는 지적(땅의 1필지)를 기준으로 작성된 데이터 입니다. 즉 1필지의 땅에 여러채의 건물이 있는 경우가 있습니다.(예: 아파트) 그 때 건물수를 건물채수라고 함.\n",
        "6. lnd_ar (토지면적) 의미 : 토지면적은 해당 필지의 면적 입니다. 토지면적이 0인 경우는 값이 누락된 경우라고 생각하시면 됩니다. \n",
        "7. 강수량같은 경우 0인 경우는 강우가 있기는 했지만 그 양이 거의 측정되지 않은 경우이며, NA의 경우는 실제 전혀 강우가 없는 경우임.\n",
        "8. \n",
        "\n",
        "\n",
        "\n",
        "\n",
        "\n",
        "\n",
        "\n",
        "\n",
        "\n",
        "\n",
        "\n"
      ]
    },
    {
      "cell_type": "markdown",
      "metadata": {
        "id": "co42L-sTxE8d",
        "colab_type": "text"
      },
      "source": [
        "## 0. Load Dependencies & Data "
      ]
    },
    {
      "cell_type": "code",
      "metadata": {
        "id": "CEAhyesL1Kdb",
        "colab_type": "code",
        "outputId": "2a99f14d-7887-4644-edd7-271bb2b37ac7",
        "colab": {
          "base_uri": "https://localhost:8080/",
          "height": 145
        }
      },
      "source": [
        "from google.colab import drive\n",
        "drive.mount('/content/drive')\n",
        "import os\n",
        "os.listdir(\"/content/drive/My Drive/gimhae\")"
      ],
      "execution_count": 3,
      "outputs": [
        {
          "output_type": "stream",
          "text": [
            "Go to this URL in a browser: https://accounts.google.com/o/oauth2/auth?client_id=947318989803-6bn6qk8qdgf4n4g3pfee6491hc0brc4i.apps.googleusercontent.com&redirect_uri=urn%3aietf%3awg%3aoauth%3a2.0%3aoob&response_type=code&scope=email%20https%3a%2f%2fwww.googleapis.com%2fauth%2fdocs.test%20https%3a%2f%2fwww.googleapis.com%2fauth%2fdrive%20https%3a%2f%2fwww.googleapis.com%2fauth%2fdrive.photos.readonly%20https%3a%2f%2fwww.googleapis.com%2fauth%2fpeopleapi.readonly\n",
            "\n",
            "Enter your authorization code:\n",
            "··········\n",
            "Mounted at /content/drive\n"
          ],
          "name": "stdout"
        },
        {
          "output_type": "execute_result",
          "data": {
            "text/plain": [
              "['PJT002_validation.csv', 'PJT002_test.csv', 'PJT002_train.csv']"
            ]
          },
          "metadata": {
            "tags": []
          },
          "execution_count": 3
        }
      ]
    },
    {
      "cell_type": "code",
      "metadata": {
        "id": "Uz8S2NEhxE8l",
        "colab_type": "code",
        "colab": {}
      },
      "source": [
        "import pandas as pd\n",
        "import numpy as np\n",
        "import matplotlib\n",
        "import matplotlib.pyplot as plt"
      ],
      "execution_count": 0,
      "outputs": []
    },
    {
      "cell_type": "code",
      "metadata": {
        "id": "b0DP9eFQxE82",
        "colab_type": "code",
        "outputId": "2f50b36d-e0f7-4d5f-df81-09f416b5384d",
        "colab": {
          "base_uri": "https://localhost:8080/",
          "height": 73
        }
      },
      "source": [
        "work_dir = '/content/drive/My Drive/gimhae/'\n",
        "\n",
        "train_set = pd.read_csv((work_dir + 'PJT002_train.csv'),encoding='utf-8' )\n",
        "validation_set = pd.read_csv((work_dir + 'PJT002_validation.csv'),encoding='utf-8' )\n",
        "# 일단 무거우니까 test_set 놔 둠.\n",
        "# test_set = pd.read_csv((work_dir + '/' + 'PJT002_test.csv')"
      ],
      "execution_count": 5,
      "outputs": [
        {
          "output_type": "stream",
          "text": [
            "/usr/local/lib/python3.6/dist-packages/IPython/core/interactiveshell.py:2718: DtypeWarning: Columns (8,172,173,174,175,176,177,178,179) have mixed types. Specify dtype option on import or set low_memory=False.\n",
            "  interactivity=interactivity, compiler=compiler, result=result)\n"
          ],
          "name": "stderr"
        }
      ]
    },
    {
      "cell_type": "markdown",
      "metadata": {
        "id": "N43-PjjxAKF9",
        "colab_type": "text"
      },
      "source": [
        "## 0) Reshaping\n",
        "\n",
        "어제 데이터를 보고 답이 없음을 깨달았으니, reshaping 부터 진행합니다. 목표는 gas 사용량, ele 사용량, 날짜를 각 각 한 열에 넣는 것입니다. 이를 통해 각각의 변수를 좀 유의미하게 사용하는 한편, 전처리를 용의하게 할 것입니다. "
      ]
    },
    {
      "cell_type": "code",
      "metadata": {
        "id": "6rbdpG_mxFGc",
        "colab_type": "code",
        "colab": {}
      },
      "source": [
        "# melt 함수를 통해 wide 형식의 데이터를 long form으로 바꿔줍니다. melt에 대한 설명은 https://rfriend.tistory.com/278 이 링크를 참고하시기 바랍니다. \n",
        "\n",
        "train_long1 = pd.melt(train_set, id_vars = ['dt_of_fr','fr_yn','bldng_us','bldng_archtctr','bldng_cnt','bldng_ar','ttl_ar','lnd_ar','dt_of_athrztn','ttl_grnd_flr',\n",
        "                                            'ttl_dwn_flr','bldng_us_clssfctn','tmprtr','prcpttn','wnd_spd','wnd_drctn','hmdt','lw_13101010','lw_13101110','lw_13101210',\n",
        "                                            'lw_13101211','lw_13101310','lw_13101410','lw_13111010','lw_13111110','lw_13121010','lw_13121011','lw_13131010','lw_13131110',\n",
        "                                            'lw_13141010','lw_13141011','jmk','id','rgnl_ar_nm','rgnl_ar_nm2','lnd_us_sttn_nm','rd_sd_nm','emd_nm','hm_cnt','fr_sttn_dstnc',\n",
        "                                            'bldng_ar_prc','fr_wthr_fclt_dstnc','fr_mn_cnt','mlt_us_yn','cctv_dstnc','fr_wthr_fclt_in_100m','cctv_in_100m','tbc_rtl_str_dstnc',\n",
        "                                            'sft_emrgnc_bll_dstnc','ahsm_dstnc','no_tbc_zn_dstnc','bldng_cnt_in_50m','trgt_crtr','fr_fghtng_fclt_spcl_css_5_yn',\n",
        "                                            'fr_fghtng_fclt_spcl_css_6_yn','us_yn','dngrs_thng_yn','slf_fr_brgd_yn','blk_dngrs_thng_mnfctr_yn','cltrl_hrtg_yn'], \n",
        "                      value_name = \"usage\")"
      ],
      "execution_count": 0,
      "outputs": []
    },
    {
      "cell_type": "code",
      "metadata": {
        "id": "-mlbD-raxFG9",
        "colab_type": "code",
        "colab": {
          "base_uri": "https://localhost:8080/",
          "height": 359
        },
        "outputId": "5d06c380-4437-4628-e02e-ec2260a07f7f"
      },
      "source": [
        "# 기존에 열 이름이었던 gas_enry...가 값으로 들어간 variable열이 생성되었으며, 기존에 해당 열의 값들은 value열으로 옮겨갔습니다. \n",
        "train_long1.loc[:,['variable','usage']].head(10)"
      ],
      "execution_count": 40,
      "outputs": [
        {
          "output_type": "execute_result",
          "data": {
            "text/html": [
              "<div>\n",
              "<style scoped>\n",
              "    .dataframe tbody tr th:only-of-type {\n",
              "        vertical-align: middle;\n",
              "    }\n",
              "\n",
              "    .dataframe tbody tr th {\n",
              "        vertical-align: top;\n",
              "    }\n",
              "\n",
              "    .dataframe thead th {\n",
              "        text-align: right;\n",
              "    }\n",
              "</style>\n",
              "<table border=\"1\" class=\"dataframe\">\n",
              "  <thead>\n",
              "    <tr style=\"text-align: right;\">\n",
              "      <th></th>\n",
              "      <th>variable</th>\n",
              "      <th>usage</th>\n",
              "    </tr>\n",
              "  </thead>\n",
              "  <tbody>\n",
              "    <tr>\n",
              "      <th>0</th>\n",
              "      <td>gas_engry_us_201401</td>\n",
              "      <td>0.0</td>\n",
              "    </tr>\n",
              "    <tr>\n",
              "      <th>1</th>\n",
              "      <td>gas_engry_us_201401</td>\n",
              "      <td>NaN</td>\n",
              "    </tr>\n",
              "    <tr>\n",
              "      <th>2</th>\n",
              "      <td>gas_engry_us_201401</td>\n",
              "      <td>0.0</td>\n",
              "    </tr>\n",
              "    <tr>\n",
              "      <th>3</th>\n",
              "      <td>gas_engry_us_201401</td>\n",
              "      <td>0.0</td>\n",
              "    </tr>\n",
              "    <tr>\n",
              "      <th>4</th>\n",
              "      <td>gas_engry_us_201401</td>\n",
              "      <td>NaN</td>\n",
              "    </tr>\n",
              "    <tr>\n",
              "      <th>5</th>\n",
              "      <td>gas_engry_us_201401</td>\n",
              "      <td>0.0</td>\n",
              "    </tr>\n",
              "    <tr>\n",
              "      <th>6</th>\n",
              "      <td>gas_engry_us_201401</td>\n",
              "      <td>NaN</td>\n",
              "    </tr>\n",
              "    <tr>\n",
              "      <th>7</th>\n",
              "      <td>gas_engry_us_201401</td>\n",
              "      <td>0.0</td>\n",
              "    </tr>\n",
              "    <tr>\n",
              "      <th>8</th>\n",
              "      <td>gas_engry_us_201401</td>\n",
              "      <td>NaN</td>\n",
              "    </tr>\n",
              "    <tr>\n",
              "      <th>9</th>\n",
              "      <td>gas_engry_us_201401</td>\n",
              "      <td>0.0</td>\n",
              "    </tr>\n",
              "  </tbody>\n",
              "</table>\n",
              "</div>"
            ],
            "text/plain": [
              "              variable  usage\n",
              "0  gas_engry_us_201401    0.0\n",
              "1  gas_engry_us_201401    NaN\n",
              "2  gas_engry_us_201401    0.0\n",
              "3  gas_engry_us_201401    0.0\n",
              "4  gas_engry_us_201401    NaN\n",
              "5  gas_engry_us_201401    0.0\n",
              "6  gas_engry_us_201401    NaN\n",
              "7  gas_engry_us_201401    0.0\n",
              "8  gas_engry_us_201401    NaN\n",
              "9  gas_engry_us_201401    0.0"
            ]
          },
          "metadata": {
            "tags": []
          },
          "execution_count": 40
        }
      ]
    },
    {
      "cell_type": "code",
      "metadata": {
        "id": "E7Cg70jxxFHQ",
        "colab_type": "code",
        "colab": {
          "base_uri": "https://localhost:8080/",
          "height": 496
        },
        "outputId": "635f46a6-3342-4c48-efa2-c1243085afa2"
      },
      "source": [
        "# assign을 통해 우리가 원하는 변수들을 추출해 냅니다. gas_usage는 usage열에서 variable열의 맨 앞이 gas인 값을, ele_usage는 맨 앞이 ele인 값을\n",
        "# ym은 variable의 마지막 값을 할당합니다. 이후 필요없어진 variable열은 제거합니다.\n",
        "train_long = train_long1.assign(\n",
        "    ele_usage = train_long1['usage'].loc[train_long1['variable'].str.split(pat = '_', expand = True).iloc[:,0] == 'ele'] # str.split은 pat에 할당된 값을 기준으로 문자열을 나눕니다.\n",
        ").assign(\n",
        "    gas_usage = train_long1['usage'].loc[train_long1['variable'].str.split(pat = '_', expand = True).iloc[:,0] == 'gas'] # expand = True를 지정해주면 결과값을 리스트에 저장합니다.\n",
        ").assign(\n",
        "    ym = train_long1['variable'].str.split(pat = '_', expand = True).iloc[:,3]\n",
        ").drop(['variable','usage'], axis = 1)\n",
        "\n",
        "train_long.head() # "
      ],
      "execution_count": 41,
      "outputs": [
        {
          "output_type": "execute_result",
          "data": {
            "text/html": [
              "<div>\n",
              "<style scoped>\n",
              "    .dataframe tbody tr th:only-of-type {\n",
              "        vertical-align: middle;\n",
              "    }\n",
              "\n",
              "    .dataframe tbody tr th {\n",
              "        vertical-align: top;\n",
              "    }\n",
              "\n",
              "    .dataframe thead th {\n",
              "        text-align: right;\n",
              "    }\n",
              "</style>\n",
              "<table border=\"1\" class=\"dataframe\">\n",
              "  <thead>\n",
              "    <tr style=\"text-align: right;\">\n",
              "      <th></th>\n",
              "      <th>dt_of_fr</th>\n",
              "      <th>fr_yn</th>\n",
              "      <th>bldng_us</th>\n",
              "      <th>bldng_archtctr</th>\n",
              "      <th>bldng_cnt</th>\n",
              "      <th>bldng_ar</th>\n",
              "      <th>ttl_ar</th>\n",
              "      <th>lnd_ar</th>\n",
              "      <th>dt_of_athrztn</th>\n",
              "      <th>ttl_grnd_flr</th>\n",
              "      <th>ttl_dwn_flr</th>\n",
              "      <th>bldng_us_clssfctn</th>\n",
              "      <th>tmprtr</th>\n",
              "      <th>prcpttn</th>\n",
              "      <th>wnd_spd</th>\n",
              "      <th>wnd_drctn</th>\n",
              "      <th>hmdt</th>\n",
              "      <th>lw_13101010</th>\n",
              "      <th>lw_13101110</th>\n",
              "      <th>lw_13101210</th>\n",
              "      <th>lw_13101211</th>\n",
              "      <th>lw_13101310</th>\n",
              "      <th>lw_13101410</th>\n",
              "      <th>lw_13111010</th>\n",
              "      <th>lw_13111110</th>\n",
              "      <th>lw_13121010</th>\n",
              "      <th>lw_13121011</th>\n",
              "      <th>lw_13131010</th>\n",
              "      <th>lw_13131110</th>\n",
              "      <th>lw_13141010</th>\n",
              "      <th>lw_13141011</th>\n",
              "      <th>jmk</th>\n",
              "      <th>id</th>\n",
              "      <th>rgnl_ar_nm</th>\n",
              "      <th>rgnl_ar_nm2</th>\n",
              "      <th>lnd_us_sttn_nm</th>\n",
              "      <th>rd_sd_nm</th>\n",
              "      <th>emd_nm</th>\n",
              "      <th>hm_cnt</th>\n",
              "      <th>fr_sttn_dstnc</th>\n",
              "      <th>bldng_ar_prc</th>\n",
              "      <th>fr_wthr_fclt_dstnc</th>\n",
              "      <th>fr_mn_cnt</th>\n",
              "      <th>mlt_us_yn</th>\n",
              "      <th>cctv_dstnc</th>\n",
              "      <th>fr_wthr_fclt_in_100m</th>\n",
              "      <th>cctv_in_100m</th>\n",
              "      <th>tbc_rtl_str_dstnc</th>\n",
              "      <th>sft_emrgnc_bll_dstnc</th>\n",
              "      <th>ahsm_dstnc</th>\n",
              "      <th>no_tbc_zn_dstnc</th>\n",
              "      <th>bldng_cnt_in_50m</th>\n",
              "      <th>trgt_crtr</th>\n",
              "      <th>fr_fghtng_fclt_spcl_css_5_yn</th>\n",
              "      <th>fr_fghtng_fclt_spcl_css_6_yn</th>\n",
              "      <th>us_yn</th>\n",
              "      <th>dngrs_thng_yn</th>\n",
              "      <th>slf_fr_brgd_yn</th>\n",
              "      <th>blk_dngrs_thng_mnfctr_yn</th>\n",
              "      <th>cltrl_hrtg_yn</th>\n",
              "      <th>ele_usage</th>\n",
              "      <th>gas_usage</th>\n",
              "      <th>ym</th>\n",
              "    </tr>\n",
              "  </thead>\n",
              "  <tbody>\n",
              "    <tr>\n",
              "      <th>0</th>\n",
              "      <td>2017-10-20 05:54:00</td>\n",
              "      <td>Y</td>\n",
              "      <td>단독주택</td>\n",
              "      <td>블록구조</td>\n",
              "      <td>3</td>\n",
              "      <td>69.42</td>\n",
              "      <td>69.42</td>\n",
              "      <td>0.0</td>\n",
              "      <td>1977</td>\n",
              "      <td>1.0</td>\n",
              "      <td>0.0</td>\n",
              "      <td>주거용</td>\n",
              "      <td>10.7</td>\n",
              "      <td>NaN</td>\n",
              "      <td>0.9</td>\n",
              "      <td>200.0</td>\n",
              "      <td>96.0</td>\n",
              "      <td>NaN</td>\n",
              "      <td>NaN</td>\n",
              "      <td>NaN</td>\n",
              "      <td>NaN</td>\n",
              "      <td>NaN</td>\n",
              "      <td>NaN</td>\n",
              "      <td>NaN</td>\n",
              "      <td>NaN</td>\n",
              "      <td>NaN</td>\n",
              "      <td>NaN</td>\n",
              "      <td>NaN</td>\n",
              "      <td>NaN</td>\n",
              "      <td>NaN</td>\n",
              "      <td>NaN</td>\n",
              "      <td>대</td>\n",
              "      <td>106536</td>\n",
              "      <td>자연녹지지역</td>\n",
              "      <td>지정되지않음</td>\n",
              "      <td>단독</td>\n",
              "      <td>세로한면(불)</td>\n",
              "      <td>경상남도 창녕군 창녕읍</td>\n",
              "      <td>17360.0</td>\n",
              "      <td>4547</td>\n",
              "      <td>NaN</td>\n",
              "      <td>133</td>\n",
              "      <td>137.0</td>\n",
              "      <td>N</td>\n",
              "      <td>112</td>\n",
              "      <td>0</td>\n",
              "      <td>0</td>\n",
              "      <td>1891</td>\n",
              "      <td>29231</td>\n",
              "      <td>11322</td>\n",
              "      <td>88</td>\n",
              "      <td>0</td>\n",
              "      <td>NaN</td>\n",
              "      <td>NaN</td>\n",
              "      <td>NaN</td>\n",
              "      <td>NaN</td>\n",
              "      <td>NaN</td>\n",
              "      <td>NaN</td>\n",
              "      <td>NaN</td>\n",
              "      <td>NaN</td>\n",
              "      <td>NaN</td>\n",
              "      <td>0.0</td>\n",
              "      <td>201401</td>\n",
              "    </tr>\n",
              "    <tr>\n",
              "      <th>1</th>\n",
              "      <td>2018-09-30 08:26:15</td>\n",
              "      <td>N</td>\n",
              "      <td>NaN</td>\n",
              "      <td>NaN</td>\n",
              "      <td>3</td>\n",
              "      <td>46.29</td>\n",
              "      <td>46.29</td>\n",
              "      <td>0.0</td>\n",
              "      <td>NaN</td>\n",
              "      <td>1.0</td>\n",
              "      <td>0.0</td>\n",
              "      <td>NaN</td>\n",
              "      <td>19.5</td>\n",
              "      <td>NaN</td>\n",
              "      <td>0.5</td>\n",
              "      <td>20.0</td>\n",
              "      <td>74.0</td>\n",
              "      <td>NaN</td>\n",
              "      <td>NaN</td>\n",
              "      <td>NaN</td>\n",
              "      <td>NaN</td>\n",
              "      <td>NaN</td>\n",
              "      <td>NaN</td>\n",
              "      <td>NaN</td>\n",
              "      <td>NaN</td>\n",
              "      <td>NaN</td>\n",
              "      <td>NaN</td>\n",
              "      <td>NaN</td>\n",
              "      <td>NaN</td>\n",
              "      <td>NaN</td>\n",
              "      <td>NaN</td>\n",
              "      <td>대</td>\n",
              "      <td>86366</td>\n",
              "      <td>계획관리지역</td>\n",
              "      <td>지정되지않음</td>\n",
              "      <td>단독</td>\n",
              "      <td>세로한면(가)</td>\n",
              "      <td>경상남도 의령군 가례면</td>\n",
              "      <td>1791.0</td>\n",
              "      <td>6388</td>\n",
              "      <td>122581.0</td>\n",
              "      <td>489</td>\n",
              "      <td>85.0</td>\n",
              "      <td>N</td>\n",
              "      <td>818</td>\n",
              "      <td>0</td>\n",
              "      <td>0</td>\n",
              "      <td>4533</td>\n",
              "      <td>20480</td>\n",
              "      <td>3369</td>\n",
              "      <td>7727</td>\n",
              "      <td>0</td>\n",
              "      <td>NaN</td>\n",
              "      <td>NaN</td>\n",
              "      <td>NaN</td>\n",
              "      <td>NaN</td>\n",
              "      <td>NaN</td>\n",
              "      <td>NaN</td>\n",
              "      <td>NaN</td>\n",
              "      <td>NaN</td>\n",
              "      <td>NaN</td>\n",
              "      <td>NaN</td>\n",
              "      <td>201401</td>\n",
              "    </tr>\n",
              "    <tr>\n",
              "      <th>2</th>\n",
              "      <td>2016-10-30 14:57:00</td>\n",
              "      <td>Y</td>\n",
              "      <td>공동주택</td>\n",
              "      <td>철근콘크리트구조</td>\n",
              "      <td>1</td>\n",
              "      <td>583.80</td>\n",
              "      <td>2516.76</td>\n",
              "      <td>1446.0</td>\n",
              "      <td>2.00011e+07</td>\n",
              "      <td>5.0</td>\n",
              "      <td>0.0</td>\n",
              "      <td>주거용</td>\n",
              "      <td>15.5</td>\n",
              "      <td>NaN</td>\n",
              "      <td>2.0</td>\n",
              "      <td>90.0</td>\n",
              "      <td>21.0</td>\n",
              "      <td>NaN</td>\n",
              "      <td>NaN</td>\n",
              "      <td>NaN</td>\n",
              "      <td>NaN</td>\n",
              "      <td>NaN</td>\n",
              "      <td>NaN</td>\n",
              "      <td>NaN</td>\n",
              "      <td>NaN</td>\n",
              "      <td>NaN</td>\n",
              "      <td>NaN</td>\n",
              "      <td>NaN</td>\n",
              "      <td>NaN</td>\n",
              "      <td>NaN</td>\n",
              "      <td>NaN</td>\n",
              "      <td>답</td>\n",
              "      <td>107560</td>\n",
              "      <td>제2종일반주거지역</td>\n",
              "      <td>지정되지않음</td>\n",
              "      <td>연립</td>\n",
              "      <td>중로한면</td>\n",
              "      <td>경상남도 창녕군 창녕읍</td>\n",
              "      <td>17285.0</td>\n",
              "      <td>3340</td>\n",
              "      <td>618105.0</td>\n",
              "      <td>143</td>\n",
              "      <td>137.0</td>\n",
              "      <td>N</td>\n",
              "      <td>165</td>\n",
              "      <td>0</td>\n",
              "      <td>0</td>\n",
              "      <td>277</td>\n",
              "      <td>31197</td>\n",
              "      <td>12451</td>\n",
              "      <td>72</td>\n",
              "      <td>14</td>\n",
              "      <td>NaN</td>\n",
              "      <td>NaN</td>\n",
              "      <td>NaN</td>\n",
              "      <td>NaN</td>\n",
              "      <td>NaN</td>\n",
              "      <td>NaN</td>\n",
              "      <td>NaN</td>\n",
              "      <td>NaN</td>\n",
              "      <td>NaN</td>\n",
              "      <td>0.0</td>\n",
              "      <td>201401</td>\n",
              "    </tr>\n",
              "    <tr>\n",
              "      <th>3</th>\n",
              "      <td>2016-06-14 05:23:58</td>\n",
              "      <td>N</td>\n",
              "      <td>단독주택</td>\n",
              "      <td>일반목구조</td>\n",
              "      <td>2</td>\n",
              "      <td>48.92</td>\n",
              "      <td>48.92</td>\n",
              "      <td>0.0</td>\n",
              "      <td>1936</td>\n",
              "      <td>1.0</td>\n",
              "      <td>0.0</td>\n",
              "      <td>주거용</td>\n",
              "      <td>20.6</td>\n",
              "      <td>NaN</td>\n",
              "      <td>0.4</td>\n",
              "      <td>0.0</td>\n",
              "      <td>91.0</td>\n",
              "      <td>NaN</td>\n",
              "      <td>NaN</td>\n",
              "      <td>NaN</td>\n",
              "      <td>NaN</td>\n",
              "      <td>NaN</td>\n",
              "      <td>NaN</td>\n",
              "      <td>NaN</td>\n",
              "      <td>NaN</td>\n",
              "      <td>NaN</td>\n",
              "      <td>NaN</td>\n",
              "      <td>NaN</td>\n",
              "      <td>NaN</td>\n",
              "      <td>NaN</td>\n",
              "      <td>NaN</td>\n",
              "      <td>대</td>\n",
              "      <td>97550</td>\n",
              "      <td>제1종일반주거지역</td>\n",
              "      <td>지정되지않음</td>\n",
              "      <td>단독</td>\n",
              "      <td>세로한면(불)</td>\n",
              "      <td>경상남도 창원시의창구 대산면</td>\n",
              "      <td>7327.0</td>\n",
              "      <td>179</td>\n",
              "      <td>719542.0</td>\n",
              "      <td>1585</td>\n",
              "      <td>176.0</td>\n",
              "      <td>N</td>\n",
              "      <td>131</td>\n",
              "      <td>0</td>\n",
              "      <td>0</td>\n",
              "      <td>438</td>\n",
              "      <td>4270</td>\n",
              "      <td>407</td>\n",
              "      <td>508</td>\n",
              "      <td>11</td>\n",
              "      <td>NaN</td>\n",
              "      <td>NaN</td>\n",
              "      <td>NaN</td>\n",
              "      <td>NaN</td>\n",
              "      <td>NaN</td>\n",
              "      <td>NaN</td>\n",
              "      <td>NaN</td>\n",
              "      <td>NaN</td>\n",
              "      <td>NaN</td>\n",
              "      <td>0.0</td>\n",
              "      <td>201401</td>\n",
              "    </tr>\n",
              "    <tr>\n",
              "      <th>4</th>\n",
              "      <td>2018-04-22 05:38:59</td>\n",
              "      <td>N</td>\n",
              "      <td>NaN</td>\n",
              "      <td>NaN</td>\n",
              "      <td>2</td>\n",
              "      <td>0.00</td>\n",
              "      <td>0.00</td>\n",
              "      <td>0.0</td>\n",
              "      <td>NaN</td>\n",
              "      <td>NaN</td>\n",
              "      <td>NaN</td>\n",
              "      <td>NaN</td>\n",
              "      <td>12.7</td>\n",
              "      <td>NaN</td>\n",
              "      <td>0.6</td>\n",
              "      <td>360.0</td>\n",
              "      <td>89.0</td>\n",
              "      <td>NaN</td>\n",
              "      <td>NaN</td>\n",
              "      <td>NaN</td>\n",
              "      <td>NaN</td>\n",
              "      <td>NaN</td>\n",
              "      <td>NaN</td>\n",
              "      <td>NaN</td>\n",
              "      <td>NaN</td>\n",
              "      <td>NaN</td>\n",
              "      <td>NaN</td>\n",
              "      <td>NaN</td>\n",
              "      <td>NaN</td>\n",
              "      <td>NaN</td>\n",
              "      <td>NaN</td>\n",
              "      <td>임</td>\n",
              "      <td>130501</td>\n",
              "      <td>자연환경보전지역</td>\n",
              "      <td>지정되지않음</td>\n",
              "      <td>자연림</td>\n",
              "      <td>세로한면(불)</td>\n",
              "      <td>경상남도 창녕군 창녕읍</td>\n",
              "      <td>17278.0</td>\n",
              "      <td>4822</td>\n",
              "      <td>NaN</td>\n",
              "      <td>603</td>\n",
              "      <td>137.0</td>\n",
              "      <td>N</td>\n",
              "      <td>686</td>\n",
              "      <td>0</td>\n",
              "      <td>0</td>\n",
              "      <td>1702</td>\n",
              "      <td>29778</td>\n",
              "      <td>12487</td>\n",
              "      <td>707</td>\n",
              "      <td>0</td>\n",
              "      <td>NaN</td>\n",
              "      <td>NaN</td>\n",
              "      <td>NaN</td>\n",
              "      <td>NaN</td>\n",
              "      <td>NaN</td>\n",
              "      <td>NaN</td>\n",
              "      <td>NaN</td>\n",
              "      <td>NaN</td>\n",
              "      <td>NaN</td>\n",
              "      <td>NaN</td>\n",
              "      <td>201401</td>\n",
              "    </tr>\n",
              "  </tbody>\n",
              "</table>\n",
              "</div>"
            ],
            "text/plain": [
              "              dt_of_fr fr_yn bldng_us  ... ele_usage  gas_usage      ym\n",
              "0  2017-10-20 05:54:00     Y     단독주택  ...       NaN        0.0  201401\n",
              "1  2018-09-30 08:26:15     N      NaN  ...       NaN        NaN  201401\n",
              "2  2016-10-30 14:57:00     Y     공동주택  ...       NaN        0.0  201401\n",
              "3  2016-06-14 05:23:58     N     단독주택  ...       NaN        0.0  201401\n",
              "4  2018-04-22 05:38:59     N      NaN  ...       NaN        NaN  201401\n",
              "\n",
              "[5 rows x 63 columns]"
            ]
          },
          "metadata": {
            "tags": []
          },
          "execution_count": 41
        }
      ]
    },
    {
      "cell_type": "code",
      "metadata": {
        "id": "KpI8Qu7nGfd_",
        "colab_type": "code",
        "colab": {
          "base_uri": "https://localhost:8080/",
          "height": 35
        },
        "outputId": "a5899e69-ee0a-417c-bc14-4ce68827ef54"
      },
      "source": [
        "train_long.shape[0]/train_set.shape[0] # '딱 5년 * 12개월 * 변수 2개' 배 만큼 길이가 늘어났습니다. 겁나 기네요."
      ],
      "execution_count": 42,
      "outputs": [
        {
          "output_type": "execute_result",
          "data": {
            "text/plain": [
              "120.0"
            ]
          },
          "metadata": {
            "tags": []
          },
          "execution_count": 42
        }
      ]
    },
    {
      "cell_type": "markdown",
      "metadata": {
        "id": "8By1H0PxGuXx",
        "colab_type": "text"
      },
      "source": [
        "## 1) EDA"
      ]
    },
    {
      "cell_type": "code",
      "metadata": {
        "id": "NTNhZc1zIMeU",
        "colab_type": "code",
        "colab": {}
      },
      "source": [
        "ele = train_long.loc[:,['ele_usage','fr_yn']]\n",
        "gas = train_long.loc[:,['gas_usage','fr_yn']]\n",
        "lw1 = train_long.loc[:,'lw_13101010':'lw_13141011']\n",
        "lw = pd.concat([lw1,train_set.loc[:,'fr_yn']], axis = 1)"
      ],
      "execution_count": 0,
      "outputs": []
    },
    {
      "cell_type": "code",
      "metadata": {
        "id": "khIczjH2I7ul",
        "colab_type": "code",
        "colab": {
          "base_uri": "https://localhost:8080/",
          "height": 204
        },
        "outputId": "410b6fd1-186b-42c4-8e97-fafd2cbcab62"
      },
      "source": [
        "ele.head()"
      ],
      "execution_count": 45,
      "outputs": [
        {
          "output_type": "execute_result",
          "data": {
            "text/html": [
              "<div>\n",
              "<style scoped>\n",
              "    .dataframe tbody tr th:only-of-type {\n",
              "        vertical-align: middle;\n",
              "    }\n",
              "\n",
              "    .dataframe tbody tr th {\n",
              "        vertical-align: top;\n",
              "    }\n",
              "\n",
              "    .dataframe thead th {\n",
              "        text-align: right;\n",
              "    }\n",
              "</style>\n",
              "<table border=\"1\" class=\"dataframe\">\n",
              "  <thead>\n",
              "    <tr style=\"text-align: right;\">\n",
              "      <th></th>\n",
              "      <th>ele_usage</th>\n",
              "      <th>fr_yn</th>\n",
              "    </tr>\n",
              "  </thead>\n",
              "  <tbody>\n",
              "    <tr>\n",
              "      <th>0</th>\n",
              "      <td>NaN</td>\n",
              "      <td>Y</td>\n",
              "    </tr>\n",
              "    <tr>\n",
              "      <th>1</th>\n",
              "      <td>NaN</td>\n",
              "      <td>N</td>\n",
              "    </tr>\n",
              "    <tr>\n",
              "      <th>2</th>\n",
              "      <td>NaN</td>\n",
              "      <td>Y</td>\n",
              "    </tr>\n",
              "    <tr>\n",
              "      <th>3</th>\n",
              "      <td>NaN</td>\n",
              "      <td>N</td>\n",
              "    </tr>\n",
              "    <tr>\n",
              "      <th>4</th>\n",
              "      <td>NaN</td>\n",
              "      <td>N</td>\n",
              "    </tr>\n",
              "  </tbody>\n",
              "</table>\n",
              "</div>"
            ],
            "text/plain": [
              "   ele_usage fr_yn\n",
              "0        NaN     Y\n",
              "1        NaN     N\n",
              "2        NaN     Y\n",
              "3        NaN     N\n",
              "4        NaN     N"
            ]
          },
          "metadata": {
            "tags": []
          },
          "execution_count": 45
        }
      ]
    },
    {
      "cell_type": "code",
      "metadata": {
        "id": "OBmOyxs-I01F",
        "colab_type": "code",
        "colab": {
          "base_uri": "https://localhost:8080/",
          "height": 224
        },
        "outputId": "9e9042f6-f6b1-4b78-81c9-c17433af386b"
      },
      "source": [
        "lw.head()"
      ],
      "execution_count": 56,
      "outputs": [
        {
          "output_type": "execute_result",
          "data": {
            "text/html": [
              "<div>\n",
              "<style scoped>\n",
              "    .dataframe tbody tr th:only-of-type {\n",
              "        vertical-align: middle;\n",
              "    }\n",
              "\n",
              "    .dataframe tbody tr th {\n",
              "        vertical-align: top;\n",
              "    }\n",
              "\n",
              "    .dataframe thead th {\n",
              "        text-align: right;\n",
              "    }\n",
              "</style>\n",
              "<table border=\"1\" class=\"dataframe\">\n",
              "  <thead>\n",
              "    <tr style=\"text-align: right;\">\n",
              "      <th></th>\n",
              "      <th>lw_13101010</th>\n",
              "      <th>lw_13101110</th>\n",
              "      <th>lw_13101210</th>\n",
              "      <th>lw_13101211</th>\n",
              "      <th>lw_13101310</th>\n",
              "      <th>lw_13101410</th>\n",
              "      <th>lw_13111010</th>\n",
              "      <th>lw_13111110</th>\n",
              "      <th>lw_13121010</th>\n",
              "      <th>lw_13121011</th>\n",
              "      <th>lw_13131010</th>\n",
              "      <th>lw_13131110</th>\n",
              "      <th>lw_13141010</th>\n",
              "      <th>lw_13141011</th>\n",
              "      <th>fr_yn</th>\n",
              "    </tr>\n",
              "  </thead>\n",
              "  <tbody>\n",
              "    <tr>\n",
              "      <th>0</th>\n",
              "      <td>NaN</td>\n",
              "      <td>NaN</td>\n",
              "      <td>NaN</td>\n",
              "      <td>NaN</td>\n",
              "      <td>NaN</td>\n",
              "      <td>NaN</td>\n",
              "      <td>NaN</td>\n",
              "      <td>NaN</td>\n",
              "      <td>NaN</td>\n",
              "      <td>NaN</td>\n",
              "      <td>NaN</td>\n",
              "      <td>NaN</td>\n",
              "      <td>NaN</td>\n",
              "      <td>NaN</td>\n",
              "      <td>Y</td>\n",
              "    </tr>\n",
              "    <tr>\n",
              "      <th>1</th>\n",
              "      <td>NaN</td>\n",
              "      <td>NaN</td>\n",
              "      <td>NaN</td>\n",
              "      <td>NaN</td>\n",
              "      <td>NaN</td>\n",
              "      <td>NaN</td>\n",
              "      <td>NaN</td>\n",
              "      <td>NaN</td>\n",
              "      <td>NaN</td>\n",
              "      <td>NaN</td>\n",
              "      <td>NaN</td>\n",
              "      <td>NaN</td>\n",
              "      <td>NaN</td>\n",
              "      <td>NaN</td>\n",
              "      <td>N</td>\n",
              "    </tr>\n",
              "    <tr>\n",
              "      <th>2</th>\n",
              "      <td>NaN</td>\n",
              "      <td>NaN</td>\n",
              "      <td>NaN</td>\n",
              "      <td>NaN</td>\n",
              "      <td>NaN</td>\n",
              "      <td>NaN</td>\n",
              "      <td>NaN</td>\n",
              "      <td>NaN</td>\n",
              "      <td>NaN</td>\n",
              "      <td>NaN</td>\n",
              "      <td>NaN</td>\n",
              "      <td>NaN</td>\n",
              "      <td>NaN</td>\n",
              "      <td>NaN</td>\n",
              "      <td>Y</td>\n",
              "    </tr>\n",
              "    <tr>\n",
              "      <th>3</th>\n",
              "      <td>NaN</td>\n",
              "      <td>NaN</td>\n",
              "      <td>NaN</td>\n",
              "      <td>NaN</td>\n",
              "      <td>NaN</td>\n",
              "      <td>NaN</td>\n",
              "      <td>NaN</td>\n",
              "      <td>NaN</td>\n",
              "      <td>NaN</td>\n",
              "      <td>NaN</td>\n",
              "      <td>NaN</td>\n",
              "      <td>NaN</td>\n",
              "      <td>NaN</td>\n",
              "      <td>NaN</td>\n",
              "      <td>N</td>\n",
              "    </tr>\n",
              "    <tr>\n",
              "      <th>4</th>\n",
              "      <td>NaN</td>\n",
              "      <td>NaN</td>\n",
              "      <td>NaN</td>\n",
              "      <td>NaN</td>\n",
              "      <td>NaN</td>\n",
              "      <td>NaN</td>\n",
              "      <td>NaN</td>\n",
              "      <td>NaN</td>\n",
              "      <td>NaN</td>\n",
              "      <td>NaN</td>\n",
              "      <td>NaN</td>\n",
              "      <td>NaN</td>\n",
              "      <td>NaN</td>\n",
              "      <td>NaN</td>\n",
              "      <td>N</td>\n",
              "    </tr>\n",
              "  </tbody>\n",
              "</table>\n",
              "</div>"
            ],
            "text/plain": [
              "   lw_13101010  lw_13101110  lw_13101210  ...  lw_13141010  lw_13141011  fr_yn\n",
              "0          NaN          NaN          NaN  ...          NaN          NaN      Y\n",
              "1          NaN          NaN          NaN  ...          NaN          NaN      N\n",
              "2          NaN          NaN          NaN  ...          NaN          NaN      Y\n",
              "3          NaN          NaN          NaN  ...          NaN          NaN      N\n",
              "4          NaN          NaN          NaN  ...          NaN          NaN      N\n",
              "\n",
              "[5 rows x 15 columns]"
            ]
          },
          "metadata": {
            "tags": []
          },
          "execution_count": 56
        }
      ]
    },
    {
      "cell_type": "code",
      "metadata": {
        "id": "z3M_JLDoJc0k",
        "colab_type": "code",
        "colab": {
          "base_uri": "https://localhost:8080/",
          "height": 307
        },
        "outputId": "3eb88e05-04d7-44dd-bfb7-b476df6decc8"
      },
      "source": [
        "# 화재 여부에 따른 가스 사용량의 차이가 있는지를 시각화 합니다. \n",
        "# 기본적으로 1st bin의 도수가 너무 높으므로 log-scale로 진행합니다.\n",
        "\n",
        "X_y = ele.loc[ele.iloc[:,1]=='Y','ele_usage'].dropna()\n",
        "X_n = ele.loc[ele.iloc[:,1]=='N','ele_usage'].dropna()\n",
        "\n",
        "fig, axes = plt.subplots(1, 2)\n",
        "fig.suptitle('Ele - fire plot')\n",
        "\n",
        "axes[0].set_title(\"Fire - Yes\")\n",
        "axes[0].hist(X_y, log = True)\n",
        "\n",
        "axes[1].set_title(\"Fire - No\")\n",
        "axes[1].hist(X_n, log = True)\n",
        "\n",
        "plt.show()"
      ],
      "execution_count": 83,
      "outputs": [
        {
          "output_type": "display_data",
          "data": {
            "image/png": "[encoded data removed]",
            "text/plain": [
              "<Figure size 432x288 with 2 Axes>"
            ]
          },
          "metadata": {
            "tags": []
          }
        }
      ]
    },
    {
      "cell_type": "markdown",
      "metadata": {
        "id": "DUBEMJ1cL6_r",
        "colab_type": "text"
      },
      "source": [
        "Fire - Yes일 때 보다 오른쪽으로 치우쳐져 있어야 할 것 같은데, 크게 차이가 없어 보입니다. 그러나 x축을 자세히 보면 단위가 다른 것을 확인할 수 있습니다. Fire - Yes는 단위가 1e8, No는 1e7입니다. 이를 보면 확실히 불이 났을 경우의 전기 사용량이 훨씬 큰 것을 알 수 있습니다. "
      ]
    },
    {
      "cell_type": "code",
      "metadata": {
        "id": "IuDOXYsVLnuG",
        "colab_type": "code",
        "colab": {
          "base_uri": "https://localhost:8080/",
          "height": 307
        },
        "outputId": "4bdad9ce-cd80-4ad5-e0cc-ec26c57ce4c9"
      },
      "source": [
        "# 화재 여부에 따른 전기 사용량의 차이가 있는지를 시각화 합니다. \n",
        "# 마찬가지로 1st bin의 도수가 너무 높으므로 log-scale로 진행합니다.\n",
        "\n",
        "X_y = gas.loc[gas.iloc[:,1]=='Y','gas_usage'].dropna()\n",
        "X_n = gas.loc[gas.iloc[:,1]=='N','gas_usage'].dropna()\n",
        "\n",
        "fig, axes = plt.subplots(1, 2)\n",
        "fig.suptitle('Gas - fire plot')\n",
        "\n",
        "axes[0].set_title(\"Fire - Yes\")\n",
        "axes[0].hist(X_y, log = True)\n",
        "\n",
        "axes[1].set_title(\"Fire - No\")\n",
        "axes[1].hist(X_n, log = True)\n",
        "\n",
        "plt.show()"
      ],
      "execution_count": 94,
      "outputs": [
        {
          "output_type": "display_data",
          "data": {
            "image/png": "[encoded data removed]",
            "text/plain": [
              "<Figure size 432x288 with 2 Axes>"
            ]
          },
          "metadata": {
            "tags": []
          }
        }
      ]
    },
    {
      "cell_type": "markdown",
      "metadata": {
        "id": "RtPsQwp3LEbp",
        "colab_type": "text"
      },
      "source": [
        "마찬가지로 일견 비슷해 보이나, X축의 단위가 다릅니다. 따라서 gas역시 불이 났을 때 큰 것을 알 수 있습니다."
      ]
    },
    {
      "cell_type": "code",
      "metadata": {
        "id": "pMR5A14FNzzD",
        "colab_type": "code",
        "colab": {
          "base_uri": "https://localhost:8080/",
          "height": 294
        },
        "outputId": "ecfe9b08-b7e0-41a7-a892-b5338dc070d4"
      },
      "source": [
        "# 이제부터 lw의 시각화 입니다. lw가 왜 정수단위가 아닌지 모르겠지만 일단 해 봅시다\n",
        "\n",
        "X_y = lw.loc[gas.loc[:,'fr_yn']=='Y','lw_13101010'].dropna()\n",
        "X_n = lw.loc[gas.loc[:,'fr_yn']=='N','lw_13101010'].dropna()\n",
        "\n",
        "fig, axes = plt.subplots(1, 2)\n",
        "fig.suptitle('13101010 - fire plot')\n",
        "\n",
        "axes[0].set_title(\"Fire - Yes\")\n",
        "axes[0].hist(X_y, bins = 5,rwidth=0.8)\n",
        "\n",
        "axes[1].set_title(\"Fire - No\")\n",
        "axes[1].hist(X_n, bins = 5,rwidth=0.8)\n",
        "\n",
        "plt.show()"
      ],
      "execution_count": 99,
      "outputs": [
        {
          "output_type": "display_data",
          "data": {
            "image/png": "[encoded data removed]",
            "text/plain": [
              "<Figure size 432x288 with 2 Axes>"
            ]
          },
          "metadata": {
            "tags": []
          }
        }
      ]
    },
    {
      "cell_type": "code",
      "metadata": {
        "id": "wzSsN0xwNwoN",
        "colab_type": "code",
        "colab": {
          "base_uri": "https://localhost:8080/",
          "height": 297
        },
        "outputId": "2c360d12-cfcb-42ae-df73-ed294baca9cb"
      },
      "source": [
        "# lw가 float로 되어있는 값의 정체를 질문했으나 아직 답을 받지 못했습니다. 일단은 시각화를 위해서 반올림하겠습니다.\n",
        "lw_round = lw.dropna().round()\n",
        "lw_13101010_tap = pd.crosstab(lw_round.fr_yn,lw_round.lw_13101010)\n",
        "lw_13101010_tap.loc[:,'yn'] = ['Y',\"N\"]\n",
        "lw_13101010_1 = lw_13101010_tap.melt(id_vars = 'yn')\n",
        "lw_13101010_1"
      ],
      "execution_count": 201,
      "outputs": [
        {
          "output_type": "execute_result",
          "data": {
            "text/html": [
              "<div>\n",
              "<style scoped>\n",
              "    .dataframe tbody tr th:only-of-type {\n",
              "        vertical-align: middle;\n",
              "    }\n",
              "\n",
              "    .dataframe tbody tr th {\n",
              "        vertical-align: top;\n",
              "    }\n",
              "\n",
              "    .dataframe thead th {\n",
              "        text-align: right;\n",
              "    }\n",
              "</style>\n",
              "<table border=\"1\" class=\"dataframe\">\n",
              "  <thead>\n",
              "    <tr style=\"text-align: right;\">\n",
              "      <th></th>\n",
              "      <th>yn</th>\n",
              "      <th>lw_13101010</th>\n",
              "      <th>value</th>\n",
              "    </tr>\n",
              "  </thead>\n",
              "  <tbody>\n",
              "    <tr>\n",
              "      <th>0</th>\n",
              "      <td>Y</td>\n",
              "      <td>2</td>\n",
              "      <td>8</td>\n",
              "    </tr>\n",
              "    <tr>\n",
              "      <th>1</th>\n",
              "      <td>N</td>\n",
              "      <td>2</td>\n",
              "      <td>11</td>\n",
              "    </tr>\n",
              "    <tr>\n",
              "      <th>2</th>\n",
              "      <td>Y</td>\n",
              "      <td>3</td>\n",
              "      <td>59</td>\n",
              "    </tr>\n",
              "    <tr>\n",
              "      <th>3</th>\n",
              "      <td>N</td>\n",
              "      <td>3</td>\n",
              "      <td>46</td>\n",
              "    </tr>\n",
              "    <tr>\n",
              "      <th>4</th>\n",
              "      <td>Y</td>\n",
              "      <td>4</td>\n",
              "      <td>69</td>\n",
              "    </tr>\n",
              "    <tr>\n",
              "      <th>5</th>\n",
              "      <td>N</td>\n",
              "      <td>4</td>\n",
              "      <td>74</td>\n",
              "    </tr>\n",
              "    <tr>\n",
              "      <th>6</th>\n",
              "      <td>Y</td>\n",
              "      <td>5</td>\n",
              "      <td>2</td>\n",
              "    </tr>\n",
              "    <tr>\n",
              "      <th>7</th>\n",
              "      <td>N</td>\n",
              "      <td>5</td>\n",
              "      <td>0</td>\n",
              "    </tr>\n",
              "  </tbody>\n",
              "</table>\n",
              "</div>"
            ],
            "text/plain": [
              "  yn lw_13101010  value\n",
              "0  Y           2      8\n",
              "1  N           2     11\n",
              "2  Y           3     59\n",
              "3  N           3     46\n",
              "4  Y           4     69\n",
              "5  N           4     74\n",
              "6  Y           5      2\n",
              "7  N           5      0"
            ]
          },
          "metadata": {
            "tags": []
          },
          "execution_count": 201
        }
      ]
    },
    {
      "cell_type": "code",
      "metadata": {
        "id": "3DIgaVSFNufx",
        "colab_type": "code",
        "colab": {
          "base_uri": "https://localhost:8080/",
          "height": 296
        },
        "outputId": "b5eb0860-086b-40ec-b6a1-8ddf2be9b463"
      },
      "source": [
        "import seaborn as sns \n",
        "sns.barplot(x='lw_13101010', y='value', hue='yn', data=lw_13101010_1,dodge=True) \n",
        "plt.title('lw_13101010 - Fire y - n') #복도 계단 출입구의 성능 유지여부\n",
        "plt.show()"
      ],
      "execution_count": 202,
      "outputs": [
        {
          "output_type": "display_data",
          "data": {
            "image/png": "[encoded data removed]",
            "text/plain": [
              "<Figure size 432x288 with 1 Axes>"
            ]
          },
          "metadata": {
            "tags": []
          }
        }
      ]
    },
    {
      "cell_type": "code",
      "metadata": {
        "id": "sl8gP768Bc2s",
        "colab_type": "code",
        "colab": {
          "base_uri": "https://localhost:8080/",
          "height": 296
        },
        "outputId": "ab724b9e-7c81-4c36-d9f8-bb6649c90c01"
      },
      "source": [
        "lw_13101110_tap = pd.crosstab(lw_round.fr_yn,lw_round.lw_13101110)\n",
        "lw_13101110_tap.loc[:,'yn'] = ['Y',\"N\"]\n",
        "lw_13101110_1 = lw_13101110_tap.melt(id_vars = 'yn')\n",
        "\n",
        "sns.barplot(x='lw_13101110', y='value', hue='yn', data=lw_13101110_1,dodge=True) \n",
        "plt.title('lw_13101110 - Fire y - n') #옥상광장의 피난성능 유지여부\n",
        "plt.show()"
      ],
      "execution_count": 204,
      "outputs": [
        {
          "output_type": "display_data",
          "data": {
            "image/png": "[encoded data removed]",
            "text/plain": [
              "<Figure size 432x288 with 1 Axes>"
            ]
          },
          "metadata": {
            "tags": []
          }
        }
      ]
    },
    {
      "cell_type": "code",
      "metadata": {
        "id": "jzMMTFcSfUGj",
        "colab_type": "code",
        "colab": {
          "base_uri": "https://localhost:8080/",
          "height": 296
        },
        "outputId": "0cdece85-ed89-41b2-ba55-9adf3100e485"
      },
      "source": [
        "lw_13101210_tap = pd.crosstab(lw_round.fr_yn,lw_round.lw_13101210)\n",
        "lw_13101210_tap.loc[:,'yn'] = ['Y',\"N\"]\n",
        "lw_13101210_1 = lw_13101210_tap.melt(id_vars = 'yn')\n",
        "\n",
        "sns.barplot(x='lw_13101210', y='value', hue='yn', data=lw_13101210_1,dodge=True) \n",
        "plt.title('lw_13101210 - Fire y - n') #방화문, 방화셔터등의 성능 유지여부\n",
        "plt.show()"
      ],
      "execution_count": 205,
      "outputs": [
        {
          "output_type": "display_data",
          "data": {
            "image/png": "[encoded data removed]",
            "text/plain": [
              "<Figure size 432x288 with 1 Axes>"
            ]
          },
          "metadata": {
            "tags": []
          }
        }
      ]
    },
    {
      "cell_type": "code",
      "metadata": {
        "id": "5waWBhkuFCMc",
        "colab_type": "code",
        "colab": {
          "base_uri": "https://localhost:8080/",
          "height": 296
        },
        "outputId": "ca936871-c8bb-492f-f50b-af97573827e7"
      },
      "source": [
        "lw_13101211_tap = pd.crosstab(lw_round.fr_yn,lw_round.lw_13101211)\n",
        "lw_13101211_tap.loc[:,'yn'] = ['Y',\"N\"]\n",
        "lw_13101211_1 = lw_13101211_tap.melt(id_vars = 'yn')\n",
        "\n",
        "sns.barplot(x='lw_13101211', y='value', hue='yn', data=lw_13101211_1,dodge=True) \n",
        "plt.title('lw_13101211 - Fire y - n') # 방화구획 적합 여부\n",
        "plt.show()"
      ],
      "execution_count": 206,
      "outputs": [
        {
          "output_type": "display_data",
          "data": {
            "image/png": "[encoded data removed]",
            "text/plain": [
              "<Figure size 432x288 with 1 Axes>"
            ]
          },
          "metadata": {
            "tags": []
          }
        }
      ]
    },
    {
      "cell_type": "code",
      "metadata": {
        "id": "ZLWWAq3LfkDr",
        "colab_type": "code",
        "colab": {
          "base_uri": "https://localhost:8080/",
          "height": 296
        },
        "outputId": "7fef4d0a-6017-4b1d-90ac-db63a9f305ff"
      },
      "source": [
        "lw_13101310_tap = pd.crosstab(lw_round.fr_yn,lw_round.lw_13101310)\n",
        "lw_13101310_tap.loc[:,'yn'] = ['Y',\"N\"]\n",
        "lw_13101310_1 = lw_13101310_tap.melt(id_vars = 'yn')\n",
        "\n",
        "sns.barplot(x='lw_13101310', y='value', hue='yn', data=lw_13101310_1,dodge=True) \n",
        "plt.title('lw_13101310 - Fire y - n') #경계벽 및 칸막이벽의 변경 등 방화성능 유지여부(0~5)\n",
        "plt.show()"
      ],
      "execution_count": 208,
      "outputs": [
        {
          "output_type": "display_data",
          "data": {
            "image/png": "[encoded data removed]",
            "text/plain": [
              "<Figure size 432x288 with 1 Axes>"
            ]
          },
          "metadata": {
            "tags": []
          }
        }
      ]
    },
    {
      "cell_type": "code",
      "metadata": {
        "id": "kgz2AXLdfz-f",
        "colab_type": "code",
        "colab": {
          "base_uri": "https://localhost:8080/",
          "height": 296
        },
        "outputId": "63f340b0-778a-4335-c0c1-c6aa2eef37df"
      },
      "source": [
        "lw_13101410_tap = pd.crosstab(lw_round.fr_yn,lw_round.lw_13101410)\n",
        "lw_13101410_tap.loc[:,'yn'] = ['Y',\"N\"]\n",
        "lw_13101410_1 = lw_13101410_tap.melt(id_vars = 'yn')\n",
        "\n",
        "sns.barplot(x='lw_13101410', y='value', hue='yn', data=lw_13101410_1,dodge=True) \n",
        "plt.title('lw_13101410 - Fire y - n') #배연설비의 성능 유지여부(0~5)\n",
        "plt.show()"
      ],
      "execution_count": 209,
      "outputs": [
        {
          "output_type": "display_data",
          "data": {
            "image/png": "[encoded data removed]",
            "text/plain": [
              "<Figure size 432x288 with 1 Axes>"
            ]
          },
          "metadata": {
            "tags": []
          }
        }
      ]
    },
    {
      "cell_type": "code",
      "metadata": {
        "id": "0KTBfg9Qf-gR",
        "colab_type": "code",
        "colab": {
          "base_uri": "https://localhost:8080/",
          "height": 296
        },
        "outputId": "fe7bbea6-8b04-4019-94bd-c9fb169a0a31"
      },
      "source": [
        "lw_13111010_tap = pd.crosstab(lw_round.fr_yn,lw_round.lw_13111010)\n",
        "lw_13111010_tap.loc[:,'yn'] = ['Y',\"N\"]\n",
        "lw_13111010_1 = lw_13111010_tap.melt(id_vars = 'yn')\n",
        "\n",
        "sns.barplot(x='lw_13111010', y='value', hue='yn', data=lw_13111010_1,dodge=True) \n",
        "plt.title('lw_13111010 - Fire y - n') #내화구조의 성능 유지여부(0~5)\n",
        "plt.show()"
      ],
      "execution_count": 210,
      "outputs": [
        {
          "output_type": "display_data",
          "data": {
            "image/png": "[encoded data removed]",
            "text/plain": [
              "<Figure size 432x288 with 1 Axes>"
            ]
          },
          "metadata": {
            "tags": []
          }
        }
      ]
    },
    {
      "cell_type": "code",
      "metadata": {
        "id": "FrTF2Jg0gGc_",
        "colab_type": "code",
        "colab": {
          "base_uri": "https://localhost:8080/",
          "height": 296
        },
        "outputId": "7261205b-1564-491f-e34e-90b441960313"
      },
      "source": [
        "lw_13111110_tap = pd.crosstab(lw_round.fr_yn,lw_round.lw_13111110)\n",
        "lw_13111110_tap.loc[:,'yn'] = ['Y',\"N\"]\n",
        "lw_13111110_1 = lw_13111110_tap.melt(id_vars = 'yn')\n",
        "\n",
        "sns.barplot(x='lw_13111110', y='value', hue='yn', data=lw_13111110_1,dodge=True) \n",
        "plt.title('lw_13111110 - Fire y - n') #방화벽의 성능 유지여부\n",
        "plt.show()"
      ],
      "execution_count": 211,
      "outputs": [
        {
          "output_type": "display_data",
          "data": {
            "image/png": "[encoded data removed]",
            "text/plain": [
              "<Figure size 432x288 with 1 Axes>"
            ]
          },
          "metadata": {
            "tags": []
          }
        }
      ]
    },
    {
      "cell_type": "code",
      "metadata": {
        "id": "KDCS3V_Lgd_w",
        "colab_type": "code",
        "colab": {
          "base_uri": "https://localhost:8080/",
          "height": 296
        },
        "outputId": "4cc471e0-5f81-43b0-d89a-0807367fd7c3"
      },
      "source": [
        "lw_13121010_tap = pd.crosstab(lw_round.fr_yn,lw_round.lw_13121010)\n",
        "lw_13121010_tap.loc[:,'yn'] = ['Y',\"N\"]\n",
        "lw_13121010_1 = lw_13121010_tap.melt(id_vars = 'yn')\n",
        "\n",
        "sns.barplot(x='lw_13121010', y='value', hue='yn', data=lw_13121010_1,dodge=True) \n",
        "plt.title('lw_13121010 - Fire y - n') # 외벽의 성능 유지여부\n",
        "plt.show()"
      ],
      "execution_count": 212,
      "outputs": [
        {
          "output_type": "display_data",
          "data": {
            "image/png": "[encoded data removed]",
            "text/plain": [
              "<Figure size 432x288 with 1 Axes>"
            ]
          },
          "metadata": {
            "tags": []
          }
        }
      ]
    },
    {
      "cell_type": "code",
      "metadata": {
        "id": "w8VBMGqYgntK",
        "colab_type": "code",
        "colab": {
          "base_uri": "https://localhost:8080/",
          "height": 296
        },
        "outputId": "36bcda75-21cc-4b13-f8e7-d76da6d1f1a9"
      },
      "source": [
        "lw_13121011_tap = pd.crosstab(lw_round.fr_yn,lw_round.lw_13121011)\n",
        "lw_13121011_tap.loc[:,'yn'] = ['Y',\"N\"]\n",
        "lw_13121011_1 = lw_13121011_tap.melt(id_vars = 'yn')\n",
        "\n",
        "sns.barplot(x='lw_13121011', y='value', hue='yn', data=lw_13121011_1,dodge=True) \n",
        "plt.title('lw_13121011 - Fire y - n') # 창호의 성능 유지여부\n",
        "plt.show()"
      ],
      "execution_count": 213,
      "outputs": [
        {
          "output_type": "display_data",
          "data": {
            "image/png": "[encoded data removed]",
            "text/plain": [
              "<Figure size 432x288 with 1 Axes>"
            ]
          },
          "metadata": {
            "tags": []
          }
        }
      ]
    },
    {
      "cell_type": "code",
      "metadata": {
        "id": "aiotNISZgxLL",
        "colab_type": "code",
        "colab": {
          "base_uri": "https://localhost:8080/",
          "height": 296
        },
        "outputId": "b109c227-39fd-4f0e-c91f-5a483892e7d0"
      },
      "source": [
        "lw_13131010_tap = pd.crosstab(lw_round.fr_yn,lw_round.lw_13131010)\n",
        "lw_13131010_tap.loc[:,'yn'] = ['Y',\"N\"]\n",
        "lw_13131010_1 = lw_13131010_tap.melt(id_vars = 'yn')\n",
        "\n",
        "sns.barplot(x='lw_13131010', y='value', hue='yn', data=lw_13131010_1,dodge=True) \n",
        "plt.title('lw_13131010 - Fire y - n') # 내부마감의 방화성능 유지여부\n",
        "plt.show()"
      ],
      "execution_count": 214,
      "outputs": [
        {
          "output_type": "display_data",
          "data": {
            "image/png": "[encoded data removed]",
            "text/plain": [
              "<Figure size 432x288 with 1 Axes>"
            ]
          },
          "metadata": {
            "tags": []
          }
        }
      ]
    },
    {
      "cell_type": "code",
      "metadata": {
        "id": "jW8KcVhog87e",
        "colab_type": "code",
        "colab": {
          "base_uri": "https://localhost:8080/",
          "height": 296
        },
        "outputId": "cf74b381-25f6-42ce-f89e-caf5a327bb57"
      },
      "source": [
        "lw_13131110_tap = pd.crosstab(lw_round.fr_yn,lw_round.lw_13131110)\n",
        "lw_13131110_tap.loc[:,'yn'] = ['Y',\"N\"]\n",
        "lw_13131110_1 = lw_13131110_tap.melt(id_vars = 'yn')\n",
        "\n",
        "sns.barplot(x='lw_13131110', y='value', hue='yn', data=lw_13131110_1,dodge=True) \n",
        "plt.title('lw_13131110 - Fire y - n') # 외부마감의 노후화 및 마감재 탈락 여부\n",
        "plt.show()"
      ],
      "execution_count": 215,
      "outputs": [
        {
          "output_type": "display_data",
          "data": {
            "image/png": "[encoded data removed]",
            "text/plain": [
              "<Figure size 432x288 with 1 Axes>"
            ]
          },
          "metadata": {
            "tags": []
          }
        }
      ]
    },
    {
      "cell_type": "code",
      "metadata": {
        "id": "2t3KfLzChGrD",
        "colab_type": "code",
        "colab": {
          "base_uri": "https://localhost:8080/",
          "height": 296
        },
        "outputId": "2cfc0eb5-fbdb-4c27-bc62-238ab2b9bafa"
      },
      "source": [
        "lw_13141010_tap = pd.crosstab(lw_round.fr_yn,lw_round.lw_13141010)\n",
        "lw_13141010_tap.loc[:,'yn'] = ['Y',\"N\"]\n",
        "lw_13141010_1 = lw_13141010_tap.melt(id_vars = 'yn')\n",
        "\n",
        "sns.barplot(x='lw_13141010', y='value', hue='yn', data=lw_13141010_1,dodge=True) \n",
        "plt.title('lw_13141010 - Fire y - n') # 지하층의 소방설비 성능 유지여부\n",
        "plt.show()"
      ],
      "execution_count": 216,
      "outputs": [
        {
          "output_type": "display_data",
          "data": {
            "image/png": "[encoded data removed]",
            "text/plain": [
              "<Figure size 432x288 with 1 Axes>"
            ]
          },
          "metadata": {
            "tags": []
          }
        }
      ]
    },
    {
      "cell_type": "code",
      "metadata": {
        "id": "l_U9Iei5hP2O",
        "colab_type": "code",
        "colab": {
          "base_uri": "https://localhost:8080/",
          "height": 296
        },
        "outputId": "d91cc83c-da4a-49c0-dd99-9ad6a3c9c28b"
      },
      "source": [
        "lw_13141011_tap = pd.crosstab(lw_round.fr_yn,lw_round.lw_13141011)\n",
        "lw_13141011_tap.loc[:,'yn'] = ['Y',\"N\"]\n",
        "lw_13141011_1 = lw_13141011_tap.melt(id_vars = 'yn')\n",
        "\n",
        "sns.barplot(x='lw_13141011', y='value', hue='yn', data=lw_13141011_1,dodge=True) \n",
        "plt.title('lw_13141011 - Fire y - n') # 자하층 피난구, 피난계단의 성능 유지여부\n",
        "plt.show()"
      ],
      "execution_count": 217,
      "outputs": [
        {
          "output_type": "display_data",
          "data": {
            "image/png": "[encoded data removed]",
            "text/plain": [
              "<Figure size 432x288 with 1 Axes>"
            ]
          },
          "metadata": {
            "tags": []
          }
        }
      ]
    },
    {
      "cell_type": "code",
      "metadata": {
        "id": "rPAlaRfBhXwh",
        "colab_type": "code",
        "colab": {}
      },
      "source": [
        ""
      ],
      "execution_count": 0,
      "outputs": []
    }
  ]
}