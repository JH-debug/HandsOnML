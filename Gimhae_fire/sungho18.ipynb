{
 "cells": [
  {
   "cell_type": "code",
   "execution_count": 2,
   "metadata": {},
   "outputs": [
    {
     "name": "stderr",
     "output_type": "stream",
     "text": [
      "C:\\Users\\Caleb\\Anaconda3\\lib\\site-packages\\IPython\\core\\interactiveshell.py:3057: DtypeWarning: Columns (8,172,173,174,175,176,177,178,179) have mixed types. Specify dtype option on import or set low_memory=False.\n",
      "  interactivity=interactivity, compiler=compiler, result=result)\n"
     ]
    }
   ],
   "source": [
    "import pandas as pd\n",
    "import numpy as np\n",
    "import matplotlib\n",
    "import matplotlib.pyplot as plt\n",
    "\n",
    "train = pd.read_csv(\"D:\\project/PJT002_train.csv\", encoding = 'utf-8')"
   ]
  },
  {
   "cell_type": "code",
   "execution_count": 3,
   "metadata": {},
   "outputs": [
    {
     "data": {
      "text/plain": [
       "<matplotlib.axes._subplots.AxesSubplot at 0x25b569fa9e8>"
      ]
     },
     "execution_count": 3,
     "metadata": {},
     "output_type": "execute_result"
    },
    {
     "data": {
      "image/png": "[encoded data removed]",
      "text/plain": [
       "<Figure size 432x288 with 1 Axes>"
      ]
     },
     "metadata": {
      "needs_background": "light"
     },
     "output_type": "display_data"
    }
   ],
   "source": [
    "train['fr_yn'].value_counts().plot(kind='bar')"
   ]
  },
  {
   "cell_type": "code",
   "execution_count": 9,
   "metadata": {
    "scrolled": true
   },
   "outputs": [
    {
     "data": {
      "text/html": [
       "<div>\n",
       "<style scoped>\n",
       "    .dataframe tbody tr th:only-of-type {\n",
       "        vertical-align: middle;\n",
       "    }\n",
       "\n",
       "    .dataframe tbody tr th {\n",
       "        vertical-align: top;\n",
       "    }\n",
       "\n",
       "    .dataframe thead th {\n",
       "        text-align: right;\n",
       "    }\n",
       "</style>\n",
       "<table border=\"1\" class=\"dataframe\">\n",
       "  <thead>\n",
       "    <tr style=\"text-align: right;\">\n",
       "      <th></th>\n",
       "      <th>fr_sttn_dstnc</th>\n",
       "      <th>fr_wthr_fclt_dstnc</th>\n",
       "      <th>cctv_dstnc</th>\n",
       "      <th>fr_wthr_fclt_in_100m</th>\n",
       "      <th>cctv_in_100m</th>\n",
       "      <th>tbc_rtl_str_dstnc</th>\n",
       "      <th>sft_emrgnc_bll_dstnc</th>\n",
       "      <th>ahsm_dstnc</th>\n",
       "      <th>no_tbc_zn_dstnc</th>\n",
       "    </tr>\n",
       "  </thead>\n",
       "  <tbody>\n",
       "    <tr>\n",
       "      <td>0</td>\n",
       "      <td>4547</td>\n",
       "      <td>133</td>\n",
       "      <td>112</td>\n",
       "      <td>0</td>\n",
       "      <td>0</td>\n",
       "      <td>1891</td>\n",
       "      <td>29231</td>\n",
       "      <td>11322</td>\n",
       "      <td>88</td>\n",
       "    </tr>\n",
       "    <tr>\n",
       "      <td>1</td>\n",
       "      <td>6388</td>\n",
       "      <td>489</td>\n",
       "      <td>818</td>\n",
       "      <td>0</td>\n",
       "      <td>0</td>\n",
       "      <td>4533</td>\n",
       "      <td>20480</td>\n",
       "      <td>3369</td>\n",
       "      <td>7727</td>\n",
       "    </tr>\n",
       "    <tr>\n",
       "      <td>2</td>\n",
       "      <td>3340</td>\n",
       "      <td>143</td>\n",
       "      <td>165</td>\n",
       "      <td>0</td>\n",
       "      <td>0</td>\n",
       "      <td>277</td>\n",
       "      <td>31197</td>\n",
       "      <td>12451</td>\n",
       "      <td>72</td>\n",
       "    </tr>\n",
       "    <tr>\n",
       "      <td>3</td>\n",
       "      <td>179</td>\n",
       "      <td>1585</td>\n",
       "      <td>131</td>\n",
       "      <td>0</td>\n",
       "      <td>0</td>\n",
       "      <td>438</td>\n",
       "      <td>4270</td>\n",
       "      <td>407</td>\n",
       "      <td>508</td>\n",
       "    </tr>\n",
       "    <tr>\n",
       "      <td>4</td>\n",
       "      <td>4822</td>\n",
       "      <td>603</td>\n",
       "      <td>686</td>\n",
       "      <td>0</td>\n",
       "      <td>0</td>\n",
       "      <td>1702</td>\n",
       "      <td>29778</td>\n",
       "      <td>12487</td>\n",
       "      <td>707</td>\n",
       "    </tr>\n",
       "  </tbody>\n",
       "</table>\n",
       "</div>"
      ],
      "text/plain": [
       "   fr_sttn_dstnc  fr_wthr_fclt_dstnc  cctv_dstnc  fr_wthr_fclt_in_100m  \\\n",
       "0           4547                 133         112                     0   \n",
       "1           6388                 489         818                     0   \n",
       "2           3340                 143         165                     0   \n",
       "3            179                1585         131                     0   \n",
       "4           4822                 603         686                     0   \n",
       "\n",
       "   cctv_in_100m  tbc_rtl_str_dstnc  sft_emrgnc_bll_dstnc  ahsm_dstnc  \\\n",
       "0             0               1891                 29231       11322   \n",
       "1             0               4533                 20480        3369   \n",
       "2             0                277                 31197       12451   \n",
       "3             0                438                  4270         407   \n",
       "4             0               1702                 29778       12487   \n",
       "\n",
       "   no_tbc_zn_dstnc  \n",
       "0               88  \n",
       "1             7727  \n",
       "2               72  \n",
       "3              508  \n",
       "4              707  "
      ]
     },
     "execution_count": 9,
     "metadata": {},
     "output_type": "execute_result"
    }
   ],
   "source": [
    "train.iloc[0:5,[159,161,164,165,166,167,168,169,170]]"
   ]
  },
  {
   "attachments": {},
   "cell_type": "markdown",
   "metadata": {},
   "source": [
    "# 거리\n",
    "119 안전센터와의 거리\n",
    "소방용수시설(소화전 등)과의 최소 거리\n",
    "공공 CCTV와의 최소 거리\n",
    "반경 100m 이내 공공 CCTV\n",
    "반경 100m 이내 소방용수 시설 수\n",
    "담배 소매점과의 최소 거리\n",
    "안전 비상벨과의 최소 거리\n",
    "자동 심장 충격기와의 최소 거리\n",
    "금연구역과의 최소 거리"
   ]
  },
  {
   "cell_type": "code",
   "execution_count": 48,
   "metadata": {},
   "outputs": [
    {
     "data": {
      "text/plain": [
       "array([ 4547,  6388,  3340, ..., 18530, 10671,  4622], dtype=int64)"
      ]
     },
     "execution_count": 48,
     "metadata": {},
     "output_type": "execute_result"
    }
   ],
   "source": [
    "train['fr_sttn_dstnc'].unique()"
   ]
  },
  {
   "cell_type": "code",
   "execution_count": 49,
   "metadata": {},
   "outputs": [
    {
     "data": {
      "text/html": [
       "<div>\n",
       "<style scoped>\n",
       "    .dataframe tbody tr th:only-of-type {\n",
       "        vertical-align: middle;\n",
       "    }\n",
       "\n",
       "    .dataframe tbody tr th {\n",
       "        vertical-align: top;\n",
       "    }\n",
       "\n",
       "    .dataframe thead th {\n",
       "        text-align: right;\n",
       "    }\n",
       "</style>\n",
       "<table border=\"1\" class=\"dataframe\">\n",
       "  <thead>\n",
       "    <tr style=\"text-align: right;\">\n",
       "      <th>fr_yn</th>\n",
       "      <th>N</th>\n",
       "      <th>Y</th>\n",
       "      <th>All</th>\n",
       "    </tr>\n",
       "    <tr>\n",
       "      <th>fr_sttn_dstnc</th>\n",
       "      <th></th>\n",
       "      <th></th>\n",
       "      <th></th>\n",
       "    </tr>\n",
       "  </thead>\n",
       "  <tbody>\n",
       "    <tr>\n",
       "      <td>4</td>\n",
       "      <td>1</td>\n",
       "      <td>0</td>\n",
       "      <td>1</td>\n",
       "    </tr>\n",
       "    <tr>\n",
       "      <td>5</td>\n",
       "      <td>0</td>\n",
       "      <td>1</td>\n",
       "      <td>1</td>\n",
       "    </tr>\n",
       "    <tr>\n",
       "      <td>7</td>\n",
       "      <td>1</td>\n",
       "      <td>0</td>\n",
       "      <td>1</td>\n",
       "    </tr>\n",
       "    <tr>\n",
       "      <td>10</td>\n",
       "      <td>1</td>\n",
       "      <td>0</td>\n",
       "      <td>1</td>\n",
       "    </tr>\n",
       "    <tr>\n",
       "      <td>15</td>\n",
       "      <td>0</td>\n",
       "      <td>1</td>\n",
       "      <td>1</td>\n",
       "    </tr>\n",
       "    <tr>\n",
       "      <td>...</td>\n",
       "      <td>...</td>\n",
       "      <td>...</td>\n",
       "      <td>...</td>\n",
       "    </tr>\n",
       "    <tr>\n",
       "      <td>35243</td>\n",
       "      <td>0</td>\n",
       "      <td>1</td>\n",
       "      <td>1</td>\n",
       "    </tr>\n",
       "    <tr>\n",
       "      <td>35245</td>\n",
       "      <td>1</td>\n",
       "      <td>0</td>\n",
       "      <td>1</td>\n",
       "    </tr>\n",
       "    <tr>\n",
       "      <td>35752</td>\n",
       "      <td>1</td>\n",
       "      <td>0</td>\n",
       "      <td>1</td>\n",
       "    </tr>\n",
       "    <tr>\n",
       "      <td>38044</td>\n",
       "      <td>1</td>\n",
       "      <td>0</td>\n",
       "      <td>1</td>\n",
       "    </tr>\n",
       "    <tr>\n",
       "      <td>All</td>\n",
       "      <td>51542</td>\n",
       "      <td>7657</td>\n",
       "      <td>59199</td>\n",
       "    </tr>\n",
       "  </tbody>\n",
       "</table>\n",
       "<p>15956 rows × 3 columns</p>\n",
       "</div>"
      ],
      "text/plain": [
       "fr_yn              N     Y    All\n",
       "fr_sttn_dstnc                    \n",
       "4                  1     0      1\n",
       "5                  0     1      1\n",
       "7                  1     0      1\n",
       "10                 1     0      1\n",
       "15                 0     1      1\n",
       "...              ...   ...    ...\n",
       "35243              0     1      1\n",
       "35245              1     0      1\n",
       "35752              1     0      1\n",
       "38044              1     0      1\n",
       "All            51542  7657  59199\n",
       "\n",
       "[15956 rows x 3 columns]"
      ]
     },
     "execution_count": 49,
     "metadata": {},
     "output_type": "execute_result"
    }
   ],
   "source": [
    "pd.crosstab(train['fr_sttn_dstnc'], train['fr_yn'], margins=True)"
   ]
  },
  {
   "cell_type": "code",
   "execution_count": 50,
   "metadata": {},
   "outputs": [
    {
     "name": "stdout",
     "output_type": "stream",
     "text": [
      "최고 25\n",
      "최하 1\n",
      "평균 3.7103729238483236\n",
      "중위 3.0\n"
     ]
    }
   ],
   "source": [
    "fr_sttn_dstnc_number = train['fr_sttn_dstnc'].value_counts()\n",
    "print(\"최고\", np.max(fr_sttn_dstnc_number))\n",
    "print(\"최하\", np.min(fr_sttn_dstnc_number))\n",
    "print(\"평균\", np.mean(fr_sttn_dstnc_number))\n",
    "print(\"중위\", np.median(fr_sttn_dstnc_number))"
   ]
  },
  {
   "cell_type": "code",
   "execution_count": 46,
   "metadata": {},
   "outputs": [
    {
     "data": {
      "text/plain": [
       "array([ 133,  489,  143, ..., 5523, 7675, 5125], dtype=int64)"
      ]
     },
     "execution_count": 46,
     "metadata": {},
     "output_type": "execute_result"
    }
   ],
   "source": [
    "train['fr_wthr_fclt_dstnc'].unique()"
   ]
  },
  {
   "cell_type": "code",
   "execution_count": 51,
   "metadata": {},
   "outputs": [
    {
     "data": {
      "text/html": [
       "<div>\n",
       "<style scoped>\n",
       "    .dataframe tbody tr th:only-of-type {\n",
       "        vertical-align: middle;\n",
       "    }\n",
       "\n",
       "    .dataframe tbody tr th {\n",
       "        vertical-align: top;\n",
       "    }\n",
       "\n",
       "    .dataframe thead th {\n",
       "        text-align: right;\n",
       "    }\n",
       "</style>\n",
       "<table border=\"1\" class=\"dataframe\">\n",
       "  <thead>\n",
       "    <tr style=\"text-align: right;\">\n",
       "      <th>fr_yn</th>\n",
       "      <th>N</th>\n",
       "      <th>Y</th>\n",
       "      <th>All</th>\n",
       "    </tr>\n",
       "    <tr>\n",
       "      <th>fr_wthr_fclt_dstnc</th>\n",
       "      <th></th>\n",
       "      <th></th>\n",
       "      <th></th>\n",
       "    </tr>\n",
       "  </thead>\n",
       "  <tbody>\n",
       "    <tr>\n",
       "      <td>0</td>\n",
       "      <td>7</td>\n",
       "      <td>4</td>\n",
       "      <td>11</td>\n",
       "    </tr>\n",
       "    <tr>\n",
       "      <td>1</td>\n",
       "      <td>41</td>\n",
       "      <td>24</td>\n",
       "      <td>65</td>\n",
       "    </tr>\n",
       "    <tr>\n",
       "      <td>2</td>\n",
       "      <td>31</td>\n",
       "      <td>24</td>\n",
       "      <td>55</td>\n",
       "    </tr>\n",
       "    <tr>\n",
       "      <td>3</td>\n",
       "      <td>46</td>\n",
       "      <td>16</td>\n",
       "      <td>62</td>\n",
       "    </tr>\n",
       "    <tr>\n",
       "      <td>4</td>\n",
       "      <td>40</td>\n",
       "      <td>7</td>\n",
       "      <td>47</td>\n",
       "    </tr>\n",
       "    <tr>\n",
       "      <td>...</td>\n",
       "      <td>...</td>\n",
       "      <td>...</td>\n",
       "      <td>...</td>\n",
       "    </tr>\n",
       "    <tr>\n",
       "      <td>14363</td>\n",
       "      <td>1</td>\n",
       "      <td>0</td>\n",
       "      <td>1</td>\n",
       "    </tr>\n",
       "    <tr>\n",
       "      <td>14609</td>\n",
       "      <td>1</td>\n",
       "      <td>0</td>\n",
       "      <td>1</td>\n",
       "    </tr>\n",
       "    <tr>\n",
       "      <td>14663</td>\n",
       "      <td>1</td>\n",
       "      <td>0</td>\n",
       "      <td>1</td>\n",
       "    </tr>\n",
       "    <tr>\n",
       "      <td>17716</td>\n",
       "      <td>1</td>\n",
       "      <td>0</td>\n",
       "      <td>1</td>\n",
       "    </tr>\n",
       "    <tr>\n",
       "      <td>All</td>\n",
       "      <td>51542</td>\n",
       "      <td>7657</td>\n",
       "      <td>59199</td>\n",
       "    </tr>\n",
       "  </tbody>\n",
       "</table>\n",
       "<p>9091 rows × 3 columns</p>\n",
       "</div>"
      ],
      "text/plain": [
       "fr_yn                   N     Y    All\n",
       "fr_wthr_fclt_dstnc                    \n",
       "0                       7     4     11\n",
       "1                      41    24     65\n",
       "2                      31    24     55\n",
       "3                      46    16     62\n",
       "4                      40     7     47\n",
       "...                   ...   ...    ...\n",
       "14363                   1     0      1\n",
       "14609                   1     0      1\n",
       "14663                   1     0      1\n",
       "17716                   1     0      1\n",
       "All                 51542  7657  59199\n",
       "\n",
       "[9091 rows x 3 columns]"
      ]
     },
     "execution_count": 51,
     "metadata": {},
     "output_type": "execute_result"
    }
   ],
   "source": [
    "pd.crosstab(train['fr_wthr_fclt_dstnc'], train['fr_yn'], margins=True)"
   ]
  },
  {
   "cell_type": "code",
   "execution_count": 47,
   "metadata": {
    "scrolled": true
   },
   "outputs": [
    {
     "name": "stdout",
     "output_type": "stream",
     "text": [
      "최고 204\n",
      "최하 1\n",
      "평균 6.512541254125413\n",
      "중위 3.0\n"
     ]
    }
   ],
   "source": [
    "fr_wthr_fclt_dstnc_number = train['fr_wthr_fclt_dstnc'].value_counts()\n",
    "print(\"최고\", np.max(fr_wthr_fclt_dstnc_number))\n",
    "print(\"최하\", np.min(fr_wthr_fclt_dstnc_number))\n",
    "print(\"평균\", np.mean(fr_wthr_fclt_dstnc_number))\n",
    "print(\"중위\", np.median(fr_wthr_fclt_dstnc_number))"
   ]
  },
  {
   "cell_type": "code",
   "execution_count": 52,
   "metadata": {},
   "outputs": [
    {
     "data": {
      "text/plain": [
       "array([ 112,  818,  165, ..., 2951, 3551, 2443], dtype=int64)"
      ]
     },
     "execution_count": 52,
     "metadata": {},
     "output_type": "execute_result"
    }
   ],
   "source": [
    "train['cctv_dstnc'].unique()"
   ]
  },
  {
   "cell_type": "code",
   "execution_count": 53,
   "metadata": {},
   "outputs": [
    {
     "data": {
      "text/html": [
       "<div>\n",
       "<style scoped>\n",
       "    .dataframe tbody tr th:only-of-type {\n",
       "        vertical-align: middle;\n",
       "    }\n",
       "\n",
       "    .dataframe tbody tr th {\n",
       "        vertical-align: top;\n",
       "    }\n",
       "\n",
       "    .dataframe thead th {\n",
       "        text-align: right;\n",
       "    }\n",
       "</style>\n",
       "<table border=\"1\" class=\"dataframe\">\n",
       "  <thead>\n",
       "    <tr style=\"text-align: right;\">\n",
       "      <th>fr_yn</th>\n",
       "      <th>N</th>\n",
       "      <th>Y</th>\n",
       "      <th>All</th>\n",
       "    </tr>\n",
       "    <tr>\n",
       "      <th>cctv_dstnc</th>\n",
       "      <th></th>\n",
       "      <th></th>\n",
       "      <th></th>\n",
       "    </tr>\n",
       "  </thead>\n",
       "  <tbody>\n",
       "    <tr>\n",
       "      <td>0</td>\n",
       "      <td>5</td>\n",
       "      <td>0</td>\n",
       "      <td>5</td>\n",
       "    </tr>\n",
       "    <tr>\n",
       "      <td>1</td>\n",
       "      <td>5</td>\n",
       "      <td>0</td>\n",
       "      <td>5</td>\n",
       "    </tr>\n",
       "    <tr>\n",
       "      <td>2</td>\n",
       "      <td>9</td>\n",
       "      <td>3</td>\n",
       "      <td>12</td>\n",
       "    </tr>\n",
       "    <tr>\n",
       "      <td>3</td>\n",
       "      <td>14</td>\n",
       "      <td>1</td>\n",
       "      <td>15</td>\n",
       "    </tr>\n",
       "    <tr>\n",
       "      <td>4</td>\n",
       "      <td>6</td>\n",
       "      <td>5</td>\n",
       "      <td>11</td>\n",
       "    </tr>\n",
       "    <tr>\n",
       "      <td>...</td>\n",
       "      <td>...</td>\n",
       "      <td>...</td>\n",
       "      <td>...</td>\n",
       "    </tr>\n",
       "    <tr>\n",
       "      <td>12169</td>\n",
       "      <td>1</td>\n",
       "      <td>0</td>\n",
       "      <td>1</td>\n",
       "    </tr>\n",
       "    <tr>\n",
       "      <td>12172</td>\n",
       "      <td>1</td>\n",
       "      <td>0</td>\n",
       "      <td>1</td>\n",
       "    </tr>\n",
       "    <tr>\n",
       "      <td>12209</td>\n",
       "      <td>1</td>\n",
       "      <td>0</td>\n",
       "      <td>1</td>\n",
       "    </tr>\n",
       "    <tr>\n",
       "      <td>12278</td>\n",
       "      <td>1</td>\n",
       "      <td>0</td>\n",
       "      <td>1</td>\n",
       "    </tr>\n",
       "    <tr>\n",
       "      <td>All</td>\n",
       "      <td>51542</td>\n",
       "      <td>7657</td>\n",
       "      <td>59199</td>\n",
       "    </tr>\n",
       "  </tbody>\n",
       "</table>\n",
       "<p>4880 rows × 3 columns</p>\n",
       "</div>"
      ],
      "text/plain": [
       "fr_yn           N     Y    All\n",
       "cctv_dstnc                    \n",
       "0               5     0      5\n",
       "1               5     0      5\n",
       "2               9     3     12\n",
       "3              14     1     15\n",
       "4               6     5     11\n",
       "...           ...   ...    ...\n",
       "12169           1     0      1\n",
       "12172           1     0      1\n",
       "12209           1     0      1\n",
       "12278           1     0      1\n",
       "All         51542  7657  59199\n",
       "\n",
       "[4880 rows x 3 columns]"
      ]
     },
     "execution_count": 53,
     "metadata": {},
     "output_type": "execute_result"
    }
   ],
   "source": [
    "pd.crosstab(train['cctv_dstnc'], train['fr_yn'], margins=True)"
   ]
  },
  {
   "cell_type": "code",
   "execution_count": 58,
   "metadata": {},
   "outputs": [
    {
     "name": "stdout",
     "output_type": "stream",
     "text": [
      "최고 227\n",
      "최하 1\n",
      "평균 12.133428981348636\n",
      "중위 2.0\n"
     ]
    }
   ],
   "source": [
    "cctv_dstnc_number = train['cctv_dstnc'].value_counts()\n",
    "print(\"최고\", np.max(cctv_dstnc_number))\n",
    "print(\"최하\", np.min(cctv_dstnc_number))\n",
    "print(\"평균\", np.mean(cctv_dstnc_number))\n",
    "print(\"중위\", np.median(cctv_dstnc_number))"
   ]
  },
  {
   "cell_type": "code",
   "execution_count": 59,
   "metadata": {},
   "outputs": [
    {
     "data": {
      "text/plain": [
       "array([ 0,  2,  1,  4,  3,  6,  5,  7,  8, 11, 14, 12,  9, 13, 15, 19, 10,\n",
       "       16, 21, 18, 20, 17, 24], dtype=int64)"
      ]
     },
     "execution_count": 59,
     "metadata": {},
     "output_type": "execute_result"
    }
   ],
   "source": [
    "train['cctv_in_100m'].unique()"
   ]
  },
  {
   "cell_type": "code",
   "execution_count": 60,
   "metadata": {},
   "outputs": [
    {
     "data": {
      "text/html": [
       "<div>\n",
       "<style scoped>\n",
       "    .dataframe tbody tr th:only-of-type {\n",
       "        vertical-align: middle;\n",
       "    }\n",
       "\n",
       "    .dataframe tbody tr th {\n",
       "        vertical-align: top;\n",
       "    }\n",
       "\n",
       "    .dataframe thead th {\n",
       "        text-align: right;\n",
       "    }\n",
       "</style>\n",
       "<table border=\"1\" class=\"dataframe\">\n",
       "  <thead>\n",
       "    <tr style=\"text-align: right;\">\n",
       "      <th>fr_yn</th>\n",
       "      <th>N</th>\n",
       "      <th>Y</th>\n",
       "      <th>All</th>\n",
       "    </tr>\n",
       "    <tr>\n",
       "      <th>cctv_in_100m</th>\n",
       "      <th></th>\n",
       "      <th></th>\n",
       "      <th></th>\n",
       "    </tr>\n",
       "  </thead>\n",
       "  <tbody>\n",
       "    <tr>\n",
       "      <td>0</td>\n",
       "      <td>41726</td>\n",
       "      <td>5933</td>\n",
       "      <td>47659</td>\n",
       "    </tr>\n",
       "    <tr>\n",
       "      <td>1</td>\n",
       "      <td>4978</td>\n",
       "      <td>882</td>\n",
       "      <td>5860</td>\n",
       "    </tr>\n",
       "    <tr>\n",
       "      <td>2</td>\n",
       "      <td>2325</td>\n",
       "      <td>421</td>\n",
       "      <td>2746</td>\n",
       "    </tr>\n",
       "    <tr>\n",
       "      <td>3</td>\n",
       "      <td>1074</td>\n",
       "      <td>169</td>\n",
       "      <td>1243</td>\n",
       "    </tr>\n",
       "    <tr>\n",
       "      <td>4</td>\n",
       "      <td>596</td>\n",
       "      <td>103</td>\n",
       "      <td>699</td>\n",
       "    </tr>\n",
       "    <tr>\n",
       "      <td>5</td>\n",
       "      <td>376</td>\n",
       "      <td>53</td>\n",
       "      <td>429</td>\n",
       "    </tr>\n",
       "    <tr>\n",
       "      <td>6</td>\n",
       "      <td>170</td>\n",
       "      <td>17</td>\n",
       "      <td>187</td>\n",
       "    </tr>\n",
       "    <tr>\n",
       "      <td>7</td>\n",
       "      <td>116</td>\n",
       "      <td>24</td>\n",
       "      <td>140</td>\n",
       "    </tr>\n",
       "    <tr>\n",
       "      <td>8</td>\n",
       "      <td>80</td>\n",
       "      <td>12</td>\n",
       "      <td>92</td>\n",
       "    </tr>\n",
       "    <tr>\n",
       "      <td>9</td>\n",
       "      <td>26</td>\n",
       "      <td>10</td>\n",
       "      <td>36</td>\n",
       "    </tr>\n",
       "    <tr>\n",
       "      <td>10</td>\n",
       "      <td>23</td>\n",
       "      <td>7</td>\n",
       "      <td>30</td>\n",
       "    </tr>\n",
       "    <tr>\n",
       "      <td>11</td>\n",
       "      <td>14</td>\n",
       "      <td>5</td>\n",
       "      <td>19</td>\n",
       "    </tr>\n",
       "    <tr>\n",
       "      <td>12</td>\n",
       "      <td>7</td>\n",
       "      <td>5</td>\n",
       "      <td>12</td>\n",
       "    </tr>\n",
       "    <tr>\n",
       "      <td>13</td>\n",
       "      <td>10</td>\n",
       "      <td>3</td>\n",
       "      <td>13</td>\n",
       "    </tr>\n",
       "    <tr>\n",
       "      <td>14</td>\n",
       "      <td>6</td>\n",
       "      <td>2</td>\n",
       "      <td>8</td>\n",
       "    </tr>\n",
       "    <tr>\n",
       "      <td>15</td>\n",
       "      <td>4</td>\n",
       "      <td>4</td>\n",
       "      <td>8</td>\n",
       "    </tr>\n",
       "    <tr>\n",
       "      <td>16</td>\n",
       "      <td>1</td>\n",
       "      <td>0</td>\n",
       "      <td>1</td>\n",
       "    </tr>\n",
       "    <tr>\n",
       "      <td>17</td>\n",
       "      <td>1</td>\n",
       "      <td>0</td>\n",
       "      <td>1</td>\n",
       "    </tr>\n",
       "    <tr>\n",
       "      <td>18</td>\n",
       "      <td>3</td>\n",
       "      <td>1</td>\n",
       "      <td>4</td>\n",
       "    </tr>\n",
       "    <tr>\n",
       "      <td>19</td>\n",
       "      <td>3</td>\n",
       "      <td>2</td>\n",
       "      <td>5</td>\n",
       "    </tr>\n",
       "    <tr>\n",
       "      <td>20</td>\n",
       "      <td>1</td>\n",
       "      <td>0</td>\n",
       "      <td>1</td>\n",
       "    </tr>\n",
       "    <tr>\n",
       "      <td>21</td>\n",
       "      <td>1</td>\n",
       "      <td>1</td>\n",
       "      <td>2</td>\n",
       "    </tr>\n",
       "    <tr>\n",
       "      <td>24</td>\n",
       "      <td>1</td>\n",
       "      <td>3</td>\n",
       "      <td>4</td>\n",
       "    </tr>\n",
       "    <tr>\n",
       "      <td>All</td>\n",
       "      <td>51542</td>\n",
       "      <td>7657</td>\n",
       "      <td>59199</td>\n",
       "    </tr>\n",
       "  </tbody>\n",
       "</table>\n",
       "</div>"
      ],
      "text/plain": [
       "fr_yn             N     Y    All\n",
       "cctv_in_100m                    \n",
       "0             41726  5933  47659\n",
       "1              4978   882   5860\n",
       "2              2325   421   2746\n",
       "3              1074   169   1243\n",
       "4               596   103    699\n",
       "5               376    53    429\n",
       "6               170    17    187\n",
       "7               116    24    140\n",
       "8                80    12     92\n",
       "9                26    10     36\n",
       "10               23     7     30\n",
       "11               14     5     19\n",
       "12                7     5     12\n",
       "13               10     3     13\n",
       "14                6     2      8\n",
       "15                4     4      8\n",
       "16                1     0      1\n",
       "17                1     0      1\n",
       "18                3     1      4\n",
       "19                3     2      5\n",
       "20                1     0      1\n",
       "21                1     1      2\n",
       "24                1     3      4\n",
       "All           51542  7657  59199"
      ]
     },
     "execution_count": 60,
     "metadata": {},
     "output_type": "execute_result"
    }
   ],
   "source": [
    "pd.crosstab(train['cctv_in_100m'], train['fr_yn'], margins=True)"
   ]
  },
  {
   "cell_type": "code",
   "execution_count": 61,
   "metadata": {},
   "outputs": [
    {
     "name": "stdout",
     "output_type": "stream",
     "text": [
      "최고 47659\n",
      "최하 1\n",
      "평균 2573.8695652173915\n",
      "중위 19.0\n"
     ]
    }
   ],
   "source": [
    "cctv_in_100m_number = train['cctv_in_100m'].value_counts()\n",
    "print(\"최고\", np.max(cctv_in_100m_number))\n",
    "print(\"최하\", np.min(cctv_in_100m_number))\n",
    "print(\"평균\", np.mean(cctv_in_100m_number))\n",
    "print(\"중위\", np.median(cctv_in_100m_number))"
   ]
  },
  {
   "cell_type": "code",
   "execution_count": 62,
   "metadata": {},
   "outputs": [
    {
     "data": {
      "text/plain": [
       "<seaborn.axisgrid.FacetGrid at 0x25b0ed24438>"
      ]
     },
     "execution_count": 62,
     "metadata": {},
     "output_type": "execute_result"
    },
    {
     "data": {
      "image/png": "[encoded data removed]",
      "text/plain": [
       "<Figure size 403.75x360 with 1 Axes>"
      ]
     },
     "metadata": {
      "needs_background": "light"
     },
     "output_type": "display_data"
    }
   ],
   "source": [
    "import seaborn as sns\n",
    "\n",
    "sns.lmplot(data = train, x = 'cctv_dstnc', y = 'cctv_in_100m', hue = 'fr_yn')"
   ]
  },
  {
   "cell_type": "code",
   "execution_count": 64,
   "metadata": {},
   "outputs": [
    {
     "data": {
      "text/plain": [
       "array([ 0,  1,  2,  3,  4,  8,  5,  6,  7, 10], dtype=int64)"
      ]
     },
     "execution_count": 64,
     "metadata": {},
     "output_type": "execute_result"
    }
   ],
   "source": [
    "train['fr_wthr_fclt_in_100m'].unique()"
   ]
  },
  {
   "cell_type": "code",
   "execution_count": 65,
   "metadata": {},
   "outputs": [
    {
     "data": {
      "text/html": [
       "<div>\n",
       "<style scoped>\n",
       "    .dataframe tbody tr th:only-of-type {\n",
       "        vertical-align: middle;\n",
       "    }\n",
       "\n",
       "    .dataframe tbody tr th {\n",
       "        vertical-align: top;\n",
       "    }\n",
       "\n",
       "    .dataframe thead th {\n",
       "        text-align: right;\n",
       "    }\n",
       "</style>\n",
       "<table border=\"1\" class=\"dataframe\">\n",
       "  <thead>\n",
       "    <tr style=\"text-align: right;\">\n",
       "      <th>fr_yn</th>\n",
       "      <th>N</th>\n",
       "      <th>Y</th>\n",
       "      <th>All</th>\n",
       "    </tr>\n",
       "    <tr>\n",
       "      <th>fr_wthr_fclt_in_100m</th>\n",
       "      <th></th>\n",
       "      <th></th>\n",
       "      <th></th>\n",
       "    </tr>\n",
       "  </thead>\n",
       "  <tbody>\n",
       "    <tr>\n",
       "      <td>0</td>\n",
       "      <td>43069</td>\n",
       "      <td>5540</td>\n",
       "      <td>48609</td>\n",
       "    </tr>\n",
       "    <tr>\n",
       "      <td>1</td>\n",
       "      <td>6220</td>\n",
       "      <td>1448</td>\n",
       "      <td>7668</td>\n",
       "    </tr>\n",
       "    <tr>\n",
       "      <td>2</td>\n",
       "      <td>1683</td>\n",
       "      <td>485</td>\n",
       "      <td>2168</td>\n",
       "    </tr>\n",
       "    <tr>\n",
       "      <td>3</td>\n",
       "      <td>409</td>\n",
       "      <td>124</td>\n",
       "      <td>533</td>\n",
       "    </tr>\n",
       "    <tr>\n",
       "      <td>4</td>\n",
       "      <td>122</td>\n",
       "      <td>45</td>\n",
       "      <td>167</td>\n",
       "    </tr>\n",
       "    <tr>\n",
       "      <td>5</td>\n",
       "      <td>25</td>\n",
       "      <td>11</td>\n",
       "      <td>36</td>\n",
       "    </tr>\n",
       "    <tr>\n",
       "      <td>6</td>\n",
       "      <td>9</td>\n",
       "      <td>2</td>\n",
       "      <td>11</td>\n",
       "    </tr>\n",
       "    <tr>\n",
       "      <td>7</td>\n",
       "      <td>3</td>\n",
       "      <td>2</td>\n",
       "      <td>5</td>\n",
       "    </tr>\n",
       "    <tr>\n",
       "      <td>8</td>\n",
       "      <td>1</td>\n",
       "      <td>0</td>\n",
       "      <td>1</td>\n",
       "    </tr>\n",
       "    <tr>\n",
       "      <td>10</td>\n",
       "      <td>1</td>\n",
       "      <td>0</td>\n",
       "      <td>1</td>\n",
       "    </tr>\n",
       "    <tr>\n",
       "      <td>All</td>\n",
       "      <td>51542</td>\n",
       "      <td>7657</td>\n",
       "      <td>59199</td>\n",
       "    </tr>\n",
       "  </tbody>\n",
       "</table>\n",
       "</div>"
      ],
      "text/plain": [
       "fr_yn                     N     Y    All\n",
       "fr_wthr_fclt_in_100m                    \n",
       "0                     43069  5540  48609\n",
       "1                      6220  1448   7668\n",
       "2                      1683   485   2168\n",
       "3                       409   124    533\n",
       "4                       122    45    167\n",
       "5                        25    11     36\n",
       "6                         9     2     11\n",
       "7                         3     2      5\n",
       "8                         1     0      1\n",
       "10                        1     0      1\n",
       "All                   51542  7657  59199"
      ]
     },
     "execution_count": 65,
     "metadata": {},
     "output_type": "execute_result"
    }
   ],
   "source": [
    "pd.crosstab(train['fr_wthr_fclt_in_100m'], train['fr_yn'], margins=True)"
   ]
  },
  {
   "cell_type": "code",
   "execution_count": 63,
   "metadata": {},
   "outputs": [
    {
     "name": "stdout",
     "output_type": "stream",
     "text": [
      "최고 48609\n",
      "최하 1\n",
      "평균 5919.9\n",
      "중위 101.5\n"
     ]
    }
   ],
   "source": [
    "fr_wthr_fclt_in_100m_number = train['fr_wthr_fclt_in_100m'].value_counts()\n",
    "print(\"최고\", np.max(fr_wthr_fclt_in_100m_number))\n",
    "print(\"최하\", np.min(fr_wthr_fclt_in_100m_number))\n",
    "print(\"평균\", np.mean(fr_wthr_fclt_in_100m_number))\n",
    "print(\"중위\", np.median(fr_wthr_fclt_in_100m_number))"
   ]
  },
  {
   "cell_type": "code",
   "execution_count": 66,
   "metadata": {},
   "outputs": [
    {
     "data": {
      "text/plain": [
       "array([ 1891,  4533,   277, ..., 11077,  9043,  6658], dtype=int64)"
      ]
     },
     "execution_count": 66,
     "metadata": {},
     "output_type": "execute_result"
    }
   ],
   "source": [
    "train['tbc_rtl_str_dstnc'].unique()"
   ]
  },
  {
   "cell_type": "code",
   "execution_count": 67,
   "metadata": {},
   "outputs": [
    {
     "data": {
      "text/html": [
       "<div>\n",
       "<style scoped>\n",
       "    .dataframe tbody tr th:only-of-type {\n",
       "        vertical-align: middle;\n",
       "    }\n",
       "\n",
       "    .dataframe tbody tr th {\n",
       "        vertical-align: top;\n",
       "    }\n",
       "\n",
       "    .dataframe thead th {\n",
       "        text-align: right;\n",
       "    }\n",
       "</style>\n",
       "<table border=\"1\" class=\"dataframe\">\n",
       "  <thead>\n",
       "    <tr style=\"text-align: right;\">\n",
       "      <th>fr_yn</th>\n",
       "      <th>N</th>\n",
       "      <th>Y</th>\n",
       "      <th>All</th>\n",
       "    </tr>\n",
       "    <tr>\n",
       "      <th>tbc_rtl_str_dstnc</th>\n",
       "      <th></th>\n",
       "      <th></th>\n",
       "      <th></th>\n",
       "    </tr>\n",
       "  </thead>\n",
       "  <tbody>\n",
       "    <tr>\n",
       "      <td>0</td>\n",
       "      <td>42</td>\n",
       "      <td>40</td>\n",
       "      <td>82</td>\n",
       "    </tr>\n",
       "    <tr>\n",
       "      <td>1</td>\n",
       "      <td>8</td>\n",
       "      <td>13</td>\n",
       "      <td>21</td>\n",
       "    </tr>\n",
       "    <tr>\n",
       "      <td>2</td>\n",
       "      <td>6</td>\n",
       "      <td>9</td>\n",
       "      <td>15</td>\n",
       "    </tr>\n",
       "    <tr>\n",
       "      <td>3</td>\n",
       "      <td>6</td>\n",
       "      <td>7</td>\n",
       "      <td>13</td>\n",
       "    </tr>\n",
       "    <tr>\n",
       "      <td>4</td>\n",
       "      <td>2</td>\n",
       "      <td>1</td>\n",
       "      <td>3</td>\n",
       "    </tr>\n",
       "    <tr>\n",
       "      <td>...</td>\n",
       "      <td>...</td>\n",
       "      <td>...</td>\n",
       "      <td>...</td>\n",
       "    </tr>\n",
       "    <tr>\n",
       "      <td>19939</td>\n",
       "      <td>1</td>\n",
       "      <td>0</td>\n",
       "      <td>1</td>\n",
       "    </tr>\n",
       "    <tr>\n",
       "      <td>20047</td>\n",
       "      <td>1</td>\n",
       "      <td>0</td>\n",
       "      <td>1</td>\n",
       "    </tr>\n",
       "    <tr>\n",
       "      <td>20186</td>\n",
       "      <td>1</td>\n",
       "      <td>0</td>\n",
       "      <td>1</td>\n",
       "    </tr>\n",
       "    <tr>\n",
       "      <td>23228</td>\n",
       "      <td>1</td>\n",
       "      <td>0</td>\n",
       "      <td>1</td>\n",
       "    </tr>\n",
       "    <tr>\n",
       "      <td>All</td>\n",
       "      <td>51542</td>\n",
       "      <td>7657</td>\n",
       "      <td>59199</td>\n",
       "    </tr>\n",
       "  </tbody>\n",
       "</table>\n",
       "<p>11575 rows × 3 columns</p>\n",
       "</div>"
      ],
      "text/plain": [
       "fr_yn                  N     Y    All\n",
       "tbc_rtl_str_dstnc                    \n",
       "0                     42    40     82\n",
       "1                      8    13     21\n",
       "2                      6     9     15\n",
       "3                      6     7     13\n",
       "4                      2     1      3\n",
       "...                  ...   ...    ...\n",
       "19939                  1     0      1\n",
       "20047                  1     0      1\n",
       "20186                  1     0      1\n",
       "23228                  1     0      1\n",
       "All                51542  7657  59199\n",
       "\n",
       "[11575 rows x 3 columns]"
      ]
     },
     "execution_count": 67,
     "metadata": {},
     "output_type": "execute_result"
    }
   ],
   "source": [
    "pd.crosstab(train['tbc_rtl_str_dstnc'], train['fr_yn'], margins=True)"
   ]
  },
  {
   "cell_type": "code",
   "execution_count": 68,
   "metadata": {},
   "outputs": [
    {
     "name": "stdout",
     "output_type": "stream",
     "text": [
      "최고 82\n",
      "최하 1\n",
      "평균 5.114826334888543\n",
      "중위 3.0\n"
     ]
    }
   ],
   "source": [
    "tbc_rtl_str_dstnc_number = train['tbc_rtl_str_dstnc'].value_counts()\n",
    "print(\"최고\", np.max(tbc_rtl_str_dstnc_number))\n",
    "print(\"최하\", np.min(tbc_rtl_str_dstnc_number))\n",
    "print(\"평균\", np.mean(tbc_rtl_str_dstnc_number))\n",
    "print(\"중위\", np.median(tbc_rtl_str_dstnc_number))"
   ]
  },
  {
   "cell_type": "code",
   "execution_count": null,
   "metadata": {},
   "outputs": [],
   "source": [
    "train['tbc_rtl_str_dstnc'].unique()"
   ]
  },
  {
   "cell_type": "code",
   "execution_count": null,
   "metadata": {},
   "outputs": [],
   "source": [
    "pd.crosstab(train['tbc_rtl_str_dstnc'], train['fr_yn'], margins=True)"
   ]
  },
  {
   "cell_type": "code",
   "execution_count": null,
   "metadata": {},
   "outputs": [],
   "source": [
    "tbc_rtl_str_dstnc_number = train['tbc_rtl_str_dstnc'].value_counts()\n",
    "print(\"최고\", np.max(tbc_rtl_str_dstnc_number))\n",
    "print(\"최하\", np.min(tbc_rtl_str_dstnc_number))\n",
    "print(\"평균\", np.mean(tbc_rtl_str_dstnc_number))\n",
    "print(\"중위\", np.median(tbc_rtl_str_dstnc_number))"
   ]
  },
  {
   "cell_type": "code",
   "execution_count": 69,
   "metadata": {},
   "outputs": [
    {
     "data": {
      "text/plain": [
       "array([29231, 20480, 31197, ...,  5185,  5023,  6139], dtype=int64)"
      ]
     },
     "execution_count": 69,
     "metadata": {},
     "output_type": "execute_result"
    }
   ],
   "source": [
    "train['sft_emrgnc_bll_dstnc'].unique()"
   ]
  },
  {
   "cell_type": "code",
   "execution_count": 70,
   "metadata": {},
   "outputs": [
    {
     "data": {
      "text/html": [
       "<div>\n",
       "<style scoped>\n",
       "    .dataframe tbody tr th:only-of-type {\n",
       "        vertical-align: middle;\n",
       "    }\n",
       "\n",
       "    .dataframe tbody tr th {\n",
       "        vertical-align: top;\n",
       "    }\n",
       "\n",
       "    .dataframe thead th {\n",
       "        text-align: right;\n",
       "    }\n",
       "</style>\n",
       "<table border=\"1\" class=\"dataframe\">\n",
       "  <thead>\n",
       "    <tr style=\"text-align: right;\">\n",
       "      <th>fr_yn</th>\n",
       "      <th>N</th>\n",
       "      <th>Y</th>\n",
       "      <th>All</th>\n",
       "    </tr>\n",
       "    <tr>\n",
       "      <th>sft_emrgnc_bll_dstnc</th>\n",
       "      <th></th>\n",
       "      <th></th>\n",
       "      <th></th>\n",
       "    </tr>\n",
       "  </thead>\n",
       "  <tbody>\n",
       "    <tr>\n",
       "      <td>5</td>\n",
       "      <td>1</td>\n",
       "      <td>0</td>\n",
       "      <td>1</td>\n",
       "    </tr>\n",
       "    <tr>\n",
       "      <td>6</td>\n",
       "      <td>1</td>\n",
       "      <td>0</td>\n",
       "      <td>1</td>\n",
       "    </tr>\n",
       "    <tr>\n",
       "      <td>7</td>\n",
       "      <td>1</td>\n",
       "      <td>0</td>\n",
       "      <td>1</td>\n",
       "    </tr>\n",
       "    <tr>\n",
       "      <td>8</td>\n",
       "      <td>0</td>\n",
       "      <td>1</td>\n",
       "      <td>1</td>\n",
       "    </tr>\n",
       "    <tr>\n",
       "      <td>11</td>\n",
       "      <td>1</td>\n",
       "      <td>0</td>\n",
       "      <td>1</td>\n",
       "    </tr>\n",
       "    <tr>\n",
       "      <td>...</td>\n",
       "      <td>...</td>\n",
       "      <td>...</td>\n",
       "      <td>...</td>\n",
       "    </tr>\n",
       "    <tr>\n",
       "      <td>103380</td>\n",
       "      <td>1</td>\n",
       "      <td>0</td>\n",
       "      <td>1</td>\n",
       "    </tr>\n",
       "    <tr>\n",
       "      <td>103410</td>\n",
       "      <td>1</td>\n",
       "      <td>0</td>\n",
       "      <td>1</td>\n",
       "    </tr>\n",
       "    <tr>\n",
       "      <td>103424</td>\n",
       "      <td>1</td>\n",
       "      <td>0</td>\n",
       "      <td>1</td>\n",
       "    </tr>\n",
       "    <tr>\n",
       "      <td>103571</td>\n",
       "      <td>1</td>\n",
       "      <td>0</td>\n",
       "      <td>1</td>\n",
       "    </tr>\n",
       "    <tr>\n",
       "      <td>All</td>\n",
       "      <td>51542</td>\n",
       "      <td>7657</td>\n",
       "      <td>59199</td>\n",
       "    </tr>\n",
       "  </tbody>\n",
       "</table>\n",
       "<p>38879 rows × 3 columns</p>\n",
       "</div>"
      ],
      "text/plain": [
       "fr_yn                     N     Y    All\n",
       "sft_emrgnc_bll_dstnc                    \n",
       "5                         1     0      1\n",
       "6                         1     0      1\n",
       "7                         1     0      1\n",
       "8                         0     1      1\n",
       "11                        1     0      1\n",
       "...                     ...   ...    ...\n",
       "103380                    1     0      1\n",
       "103410                    1     0      1\n",
       "103424                    1     0      1\n",
       "103571                    1     0      1\n",
       "All                   51542  7657  59199\n",
       "\n",
       "[38879 rows x 3 columns]"
      ]
     },
     "execution_count": 70,
     "metadata": {},
     "output_type": "execute_result"
    }
   ],
   "source": [
    "pd.crosstab(train['sft_emrgnc_bll_dstnc'], train['fr_yn'], margins=True)"
   ]
  },
  {
   "cell_type": "code",
   "execution_count": 71,
   "metadata": {},
   "outputs": [
    {
     "name": "stdout",
     "output_type": "stream",
     "text": [
      "최고 12\n",
      "최하 1\n",
      "평균 1.52268635217861\n",
      "중위 1.0\n"
     ]
    }
   ],
   "source": [
    "sft_emrgnc_bll_dstnc_number = train['sft_emrgnc_bll_dstnc'].value_counts()\n",
    "print(\"최고\", np.max(sft_emrgnc_bll_dstnc_number))\n",
    "print(\"최하\", np.min(sft_emrgnc_bll_dstnc_number))\n",
    "print(\"평균\", np.mean(sft_emrgnc_bll_dstnc_number))\n",
    "print(\"중위\", np.median(sft_emrgnc_bll_dstnc_number))"
   ]
  },
  {
   "cell_type": "code",
   "execution_count": 72,
   "metadata": {},
   "outputs": [
    {
     "data": {
      "text/plain": [
       "array([11322,  3369, 12451, ...,  8578,  8953,  6679], dtype=int64)"
      ]
     },
     "execution_count": 72,
     "metadata": {},
     "output_type": "execute_result"
    }
   ],
   "source": [
    "train['ahsm_dstnc'].unique()"
   ]
  },
  {
   "cell_type": "code",
   "execution_count": 73,
   "metadata": {},
   "outputs": [
    {
     "data": {
      "text/html": [
       "<div>\n",
       "<style scoped>\n",
       "    .dataframe tbody tr th:only-of-type {\n",
       "        vertical-align: middle;\n",
       "    }\n",
       "\n",
       "    .dataframe tbody tr th {\n",
       "        vertical-align: top;\n",
       "    }\n",
       "\n",
       "    .dataframe thead th {\n",
       "        text-align: right;\n",
       "    }\n",
       "</style>\n",
       "<table border=\"1\" class=\"dataframe\">\n",
       "  <thead>\n",
       "    <tr style=\"text-align: right;\">\n",
       "      <th>fr_yn</th>\n",
       "      <th>N</th>\n",
       "      <th>Y</th>\n",
       "      <th>All</th>\n",
       "    </tr>\n",
       "    <tr>\n",
       "      <th>ahsm_dstnc</th>\n",
       "      <th></th>\n",
       "      <th></th>\n",
       "      <th></th>\n",
       "    </tr>\n",
       "  </thead>\n",
       "  <tbody>\n",
       "    <tr>\n",
       "      <td>0</td>\n",
       "      <td>30</td>\n",
       "      <td>2</td>\n",
       "      <td>32</td>\n",
       "    </tr>\n",
       "    <tr>\n",
       "      <td>1</td>\n",
       "      <td>0</td>\n",
       "      <td>1</td>\n",
       "      <td>1</td>\n",
       "    </tr>\n",
       "    <tr>\n",
       "      <td>2</td>\n",
       "      <td>2</td>\n",
       "      <td>2</td>\n",
       "      <td>4</td>\n",
       "    </tr>\n",
       "    <tr>\n",
       "      <td>4</td>\n",
       "      <td>2</td>\n",
       "      <td>0</td>\n",
       "      <td>2</td>\n",
       "    </tr>\n",
       "    <tr>\n",
       "      <td>5</td>\n",
       "      <td>0</td>\n",
       "      <td>2</td>\n",
       "      <td>2</td>\n",
       "    </tr>\n",
       "    <tr>\n",
       "      <td>...</td>\n",
       "      <td>...</td>\n",
       "      <td>...</td>\n",
       "      <td>...</td>\n",
       "    </tr>\n",
       "    <tr>\n",
       "      <td>56009</td>\n",
       "      <td>1</td>\n",
       "      <td>0</td>\n",
       "      <td>1</td>\n",
       "    </tr>\n",
       "    <tr>\n",
       "      <td>56055</td>\n",
       "      <td>1</td>\n",
       "      <td>0</td>\n",
       "      <td>1</td>\n",
       "    </tr>\n",
       "    <tr>\n",
       "      <td>56169</td>\n",
       "      <td>1</td>\n",
       "      <td>0</td>\n",
       "      <td>1</td>\n",
       "    </tr>\n",
       "    <tr>\n",
       "      <td>56485</td>\n",
       "      <td>0</td>\n",
       "      <td>1</td>\n",
       "      <td>1</td>\n",
       "    </tr>\n",
       "    <tr>\n",
       "      <td>All</td>\n",
       "      <td>51542</td>\n",
       "      <td>7657</td>\n",
       "      <td>59199</td>\n",
       "    </tr>\n",
       "  </tbody>\n",
       "</table>\n",
       "<p>21893 rows × 3 columns</p>\n",
       "</div>"
      ],
      "text/plain": [
       "fr_yn           N     Y    All\n",
       "ahsm_dstnc                    \n",
       "0              30     2     32\n",
       "1               0     1      1\n",
       "2               2     2      4\n",
       "4               2     0      2\n",
       "5               0     2      2\n",
       "...           ...   ...    ...\n",
       "56009           1     0      1\n",
       "56055           1     0      1\n",
       "56169           1     0      1\n",
       "56485           0     1      1\n",
       "All         51542  7657  59199\n",
       "\n",
       "[21893 rows x 3 columns]"
      ]
     },
     "execution_count": 73,
     "metadata": {},
     "output_type": "execute_result"
    }
   ],
   "source": [
    "pd.crosstab(train['ahsm_dstnc'], train['fr_yn'], margins=True)"
   ]
  },
  {
   "cell_type": "code",
   "execution_count": 74,
   "metadata": {},
   "outputs": [
    {
     "name": "stdout",
     "output_type": "stream",
     "text": [
      "최고 50\n",
      "최하 1\n",
      "평균 2.704138498081491\n",
      "중위 1.0\n"
     ]
    }
   ],
   "source": [
    "ahsm_dstnc_number = train['ahsm_dstnc'].value_counts()\n",
    "print(\"최고\", np.max(ahsm_dstnc_number))\n",
    "print(\"최하\", np.min(ahsm_dstnc_number))\n",
    "print(\"평균\", np.mean(ahsm_dstnc_number))\n",
    "print(\"중위\", np.median(ahsm_dstnc_number))"
   ]
  },
  {
   "cell_type": "code",
   "execution_count": 76,
   "metadata": {},
   "outputs": [
    {
     "data": {
      "text/plain": [
       "array([  88, 7727,   72, ..., 3902, 3223, 5360], dtype=int64)"
      ]
     },
     "execution_count": 76,
     "metadata": {},
     "output_type": "execute_result"
    }
   ],
   "source": [
    "train['no_tbc_zn_dstnc'].unique()"
   ]
  },
  {
   "cell_type": "code",
   "execution_count": 77,
   "metadata": {},
   "outputs": [
    {
     "data": {
      "text/html": [
       "<div>\n",
       "<style scoped>\n",
       "    .dataframe tbody tr th:only-of-type {\n",
       "        vertical-align: middle;\n",
       "    }\n",
       "\n",
       "    .dataframe tbody tr th {\n",
       "        vertical-align: top;\n",
       "    }\n",
       "\n",
       "    .dataframe thead th {\n",
       "        text-align: right;\n",
       "    }\n",
       "</style>\n",
       "<table border=\"1\" class=\"dataframe\">\n",
       "  <thead>\n",
       "    <tr style=\"text-align: right;\">\n",
       "      <th>fr_yn</th>\n",
       "      <th>N</th>\n",
       "      <th>Y</th>\n",
       "      <th>All</th>\n",
       "    </tr>\n",
       "    <tr>\n",
       "      <th>no_tbc_zn_dstnc</th>\n",
       "      <th></th>\n",
       "      <th></th>\n",
       "      <th></th>\n",
       "    </tr>\n",
       "  </thead>\n",
       "  <tbody>\n",
       "    <tr>\n",
       "      <td>0</td>\n",
       "      <td>34</td>\n",
       "      <td>27</td>\n",
       "      <td>61</td>\n",
       "    </tr>\n",
       "    <tr>\n",
       "      <td>1</td>\n",
       "      <td>125</td>\n",
       "      <td>114</td>\n",
       "      <td>239</td>\n",
       "    </tr>\n",
       "    <tr>\n",
       "      <td>2</td>\n",
       "      <td>216</td>\n",
       "      <td>167</td>\n",
       "      <td>383</td>\n",
       "    </tr>\n",
       "    <tr>\n",
       "      <td>3</td>\n",
       "      <td>289</td>\n",
       "      <td>157</td>\n",
       "      <td>446</td>\n",
       "    </tr>\n",
       "    <tr>\n",
       "      <td>4</td>\n",
       "      <td>178</td>\n",
       "      <td>99</td>\n",
       "      <td>277</td>\n",
       "    </tr>\n",
       "    <tr>\n",
       "      <td>...</td>\n",
       "      <td>...</td>\n",
       "      <td>...</td>\n",
       "      <td>...</td>\n",
       "    </tr>\n",
       "    <tr>\n",
       "      <td>11979</td>\n",
       "      <td>1</td>\n",
       "      <td>0</td>\n",
       "      <td>1</td>\n",
       "    </tr>\n",
       "    <tr>\n",
       "      <td>11993</td>\n",
       "      <td>1</td>\n",
       "      <td>0</td>\n",
       "      <td>1</td>\n",
       "    </tr>\n",
       "    <tr>\n",
       "      <td>12005</td>\n",
       "      <td>1</td>\n",
       "      <td>0</td>\n",
       "      <td>1</td>\n",
       "    </tr>\n",
       "    <tr>\n",
       "      <td>16164</td>\n",
       "      <td>1</td>\n",
       "      <td>0</td>\n",
       "      <td>1</td>\n",
       "    </tr>\n",
       "    <tr>\n",
       "      <td>All</td>\n",
       "      <td>51542</td>\n",
       "      <td>7657</td>\n",
       "      <td>59199</td>\n",
       "    </tr>\n",
       "  </tbody>\n",
       "</table>\n",
       "<p>6538 rows × 3 columns</p>\n",
       "</div>"
      ],
      "text/plain": [
       "fr_yn                N     Y    All\n",
       "no_tbc_zn_dstnc                    \n",
       "0                   34    27     61\n",
       "1                  125   114    239\n",
       "2                  216   167    383\n",
       "3                  289   157    446\n",
       "4                  178    99    277\n",
       "...                ...   ...    ...\n",
       "11979                1     0      1\n",
       "11993                1     0      1\n",
       "12005                1     0      1\n",
       "16164                1     0      1\n",
       "All              51542  7657  59199\n",
       "\n",
       "[6538 rows x 3 columns]"
      ]
     },
     "execution_count": 77,
     "metadata": {},
     "output_type": "execute_result"
    }
   ],
   "source": [
    "pd.crosstab(train['no_tbc_zn_dstnc'], train['fr_yn'], margins=True)"
   ]
  },
  {
   "cell_type": "code",
   "execution_count": 79,
   "metadata": {},
   "outputs": [
    {
     "name": "stdout",
     "output_type": "stream",
     "text": [
      "최고 446\n",
      "최하 1\n",
      "평균 9.05598898577329\n",
      "중위 3.0\n"
     ]
    }
   ],
   "source": [
    "no_tbc_zn_dstnc_number = train['no_tbc_zn_dstnc'].value_counts()\n",
    "print(\"최고\", np.max(no_tbc_zn_dstnc_number))\n",
    "print(\"최하\", np.min(no_tbc_zn_dstnc_number))\n",
    "print(\"평균\", np.mean(no_tbc_zn_dstnc_number))\n",
    "print(\"중위\", np.median(no_tbc_zn_dstnc_number))"
   ]
  },
  {
   "cell_type": "code",
   "execution_count": 81,
   "metadata": {},
   "outputs": [
    {
     "data": {
      "text/plain": [
       "array([ 0, 14, 11,  5,  7,  1, 12,  3,  8, 20,  2,  4, 17,  9, 19, 10, 54,\n",
       "       16,  6, 45, 21, 27, 32, 13, 44, 15, 25, 18, 29, 39, 23, 37, 52, 41,\n",
       "       35, 24, 36, 26, 31, 22, 43, 34, 46, 38, 28, 33, 30, 51, 48, 42, 40,\n",
       "       53, 49, 47, 50, 57, 65, 58, 64, 59, 60, 56, 55, 70, 62, 63, 61, 68,\n",
       "       74, 66, 84, 75, 72, 71, 67], dtype=int64)"
      ]
     },
     "execution_count": 81,
     "metadata": {},
     "output_type": "execute_result"
    }
   ],
   "source": [
    "train['bldng_cnt_in_50m'].unique()"
   ]
  },
  {
   "cell_type": "code",
   "execution_count": 82,
   "metadata": {},
   "outputs": [
    {
     "data": {
      "text/html": [
       "<div>\n",
       "<style scoped>\n",
       "    .dataframe tbody tr th:only-of-type {\n",
       "        vertical-align: middle;\n",
       "    }\n",
       "\n",
       "    .dataframe tbody tr th {\n",
       "        vertical-align: top;\n",
       "    }\n",
       "\n",
       "    .dataframe thead th {\n",
       "        text-align: right;\n",
       "    }\n",
       "</style>\n",
       "<table border=\"1\" class=\"dataframe\">\n",
       "  <thead>\n",
       "    <tr style=\"text-align: right;\">\n",
       "      <th>fr_yn</th>\n",
       "      <th>N</th>\n",
       "      <th>Y</th>\n",
       "      <th>All</th>\n",
       "    </tr>\n",
       "    <tr>\n",
       "      <th>bldng_cnt_in_50m</th>\n",
       "      <th></th>\n",
       "      <th></th>\n",
       "      <th></th>\n",
       "    </tr>\n",
       "  </thead>\n",
       "  <tbody>\n",
       "    <tr>\n",
       "      <td>0</td>\n",
       "      <td>32911</td>\n",
       "      <td>4553</td>\n",
       "      <td>37464</td>\n",
       "    </tr>\n",
       "    <tr>\n",
       "      <td>1</td>\n",
       "      <td>3292</td>\n",
       "      <td>496</td>\n",
       "      <td>3788</td>\n",
       "    </tr>\n",
       "    <tr>\n",
       "      <td>2</td>\n",
       "      <td>2089</td>\n",
       "      <td>361</td>\n",
       "      <td>2450</td>\n",
       "    </tr>\n",
       "    <tr>\n",
       "      <td>3</td>\n",
       "      <td>1533</td>\n",
       "      <td>292</td>\n",
       "      <td>1825</td>\n",
       "    </tr>\n",
       "    <tr>\n",
       "      <td>4</td>\n",
       "      <td>1132</td>\n",
       "      <td>201</td>\n",
       "      <td>1333</td>\n",
       "    </tr>\n",
       "    <tr>\n",
       "      <td>...</td>\n",
       "      <td>...</td>\n",
       "      <td>...</td>\n",
       "      <td>...</td>\n",
       "    </tr>\n",
       "    <tr>\n",
       "      <td>72</td>\n",
       "      <td>1</td>\n",
       "      <td>0</td>\n",
       "      <td>1</td>\n",
       "    </tr>\n",
       "    <tr>\n",
       "      <td>74</td>\n",
       "      <td>1</td>\n",
       "      <td>0</td>\n",
       "      <td>1</td>\n",
       "    </tr>\n",
       "    <tr>\n",
       "      <td>75</td>\n",
       "      <td>1</td>\n",
       "      <td>1</td>\n",
       "      <td>2</td>\n",
       "    </tr>\n",
       "    <tr>\n",
       "      <td>84</td>\n",
       "      <td>1</td>\n",
       "      <td>0</td>\n",
       "      <td>1</td>\n",
       "    </tr>\n",
       "    <tr>\n",
       "      <td>All</td>\n",
       "      <td>51542</td>\n",
       "      <td>7657</td>\n",
       "      <td>59199</td>\n",
       "    </tr>\n",
       "  </tbody>\n",
       "</table>\n",
       "<p>76 rows × 3 columns</p>\n",
       "</div>"
      ],
      "text/plain": [
       "fr_yn                 N     Y    All\n",
       "bldng_cnt_in_50m                    \n",
       "0                 32911  4553  37464\n",
       "1                  3292   496   3788\n",
       "2                  2089   361   2450\n",
       "3                  1533   292   1825\n",
       "4                  1132   201   1333\n",
       "...                 ...   ...    ...\n",
       "72                    1     0      1\n",
       "74                    1     0      1\n",
       "75                    1     1      2\n",
       "84                    1     0      1\n",
       "All               51542  7657  59199\n",
       "\n",
       "[76 rows x 3 columns]"
      ]
     },
     "execution_count": 82,
     "metadata": {},
     "output_type": "execute_result"
    }
   ],
   "source": [
    "pd.crosstab(train['bldng_cnt_in_50m'], train['fr_yn'], margins=True)"
   ]
  },
  {
   "cell_type": "code",
   "execution_count": 80,
   "metadata": {},
   "outputs": [
    {
     "name": "stdout",
     "output_type": "stream",
     "text": [
      "최고 37464\n",
      "최하 1\n",
      "평균 789.32\n",
      "중위 75.0\n"
     ]
    }
   ],
   "source": [
    "bldng_cnt_in_50m_number = train['bldng_cnt_in_50m'].value_counts()\n",
    "print(\"최고\", np.max(bldng_cnt_in_50m_number))\n",
    "print(\"최하\", np.min(bldng_cnt_in_50m_number))\n",
    "print(\"평균\", np.mean(bldng_cnt_in_50m_number))\n",
    "print(\"중위\", np.median(bldng_cnt_in_50m_number))"
   ]
  },
  {
   "cell_type": "code",
   "execution_count": null,
   "metadata": {},
   "outputs": [],
   "source": [
    "train['tbc_rtl_str_dstnc'].unique()"
   ]
  },
  {
   "cell_type": "code",
   "execution_count": null,
   "metadata": {},
   "outputs": [],
   "source": [
    "pd.crosstab(train['tbc_rtl_str_dstnc'], train['fr_yn'], margins=True)"
   ]
  },
  {
   "cell_type": "code",
   "execution_count": null,
   "metadata": {},
   "outputs": [],
   "source": [
    "tbc_rtl_str_dstnc_number = train['tbc_rtl_str_dstnc'].value_counts()\n",
    "print(\"최고\", np.max(tbc_rtl_str_dstnc_number))\n",
    "print(\"최하\", np.min(tbc_rtl_str_dstnc_number))\n",
    "print(\"평균\", np.mean(tbc_rtl_str_dstnc_number))\n",
    "print(\"중위\", np.median(tbc_rtl_str_dstnc_number))"
   ]
  },
  {
   "cell_type": "markdown",
   "metadata": {},
   "source": [
    "# 관할 소방서 인원"
   ]
  },
  {
   "cell_type": "code",
   "execution_count": 84,
   "metadata": {},
   "outputs": [
    {
     "data": {
      "text/plain": [
       "array([137.,  85., 176., 139., 194., 106., 109., 174., 161., 205., 118.,\n",
       "       210., 112., 164., 121., 111., 108.,  nan])"
      ]
     },
     "execution_count": 84,
     "metadata": {},
     "output_type": "execute_result"
    }
   ],
   "source": [
    "train['fr_mn_cnt'].unique()"
   ]
  },
  {
   "cell_type": "code",
   "execution_count": 85,
   "metadata": {},
   "outputs": [
    {
     "data": {
      "text/html": [
       "<div>\n",
       "<style scoped>\n",
       "    .dataframe tbody tr th:only-of-type {\n",
       "        vertical-align: middle;\n",
       "    }\n",
       "\n",
       "    .dataframe tbody tr th {\n",
       "        vertical-align: top;\n",
       "    }\n",
       "\n",
       "    .dataframe thead th {\n",
       "        text-align: right;\n",
       "    }\n",
       "</style>\n",
       "<table border=\"1\" class=\"dataframe\">\n",
       "  <thead>\n",
       "    <tr style=\"text-align: right;\">\n",
       "      <th>fr_yn</th>\n",
       "      <th>N</th>\n",
       "      <th>Y</th>\n",
       "      <th>All</th>\n",
       "    </tr>\n",
       "    <tr>\n",
       "      <th>fr_mn_cnt</th>\n",
       "      <th></th>\n",
       "      <th></th>\n",
       "      <th></th>\n",
       "    </tr>\n",
       "  </thead>\n",
       "  <tbody>\n",
       "    <tr>\n",
       "      <td>85.0</td>\n",
       "      <td>1545</td>\n",
       "      <td>228</td>\n",
       "      <td>1773</td>\n",
       "    </tr>\n",
       "    <tr>\n",
       "      <td>106.0</td>\n",
       "      <td>2788</td>\n",
       "      <td>397</td>\n",
       "      <td>3185</td>\n",
       "    </tr>\n",
       "    <tr>\n",
       "      <td>108.0</td>\n",
       "      <td>2089</td>\n",
       "      <td>342</td>\n",
       "      <td>2431</td>\n",
       "    </tr>\n",
       "    <tr>\n",
       "      <td>109.0</td>\n",
       "      <td>2512</td>\n",
       "      <td>364</td>\n",
       "      <td>2876</td>\n",
       "    </tr>\n",
       "    <tr>\n",
       "      <td>111.0</td>\n",
       "      <td>2188</td>\n",
       "      <td>346</td>\n",
       "      <td>2534</td>\n",
       "    </tr>\n",
       "    <tr>\n",
       "      <td>112.0</td>\n",
       "      <td>2813</td>\n",
       "      <td>429</td>\n",
       "      <td>3242</td>\n",
       "    </tr>\n",
       "    <tr>\n",
       "      <td>118.0</td>\n",
       "      <td>2569</td>\n",
       "      <td>364</td>\n",
       "      <td>2933</td>\n",
       "    </tr>\n",
       "    <tr>\n",
       "      <td>121.0</td>\n",
       "      <td>2866</td>\n",
       "      <td>404</td>\n",
       "      <td>3270</td>\n",
       "    </tr>\n",
       "    <tr>\n",
       "      <td>137.0</td>\n",
       "      <td>2956</td>\n",
       "      <td>448</td>\n",
       "      <td>3404</td>\n",
       "    </tr>\n",
       "    <tr>\n",
       "      <td>139.0</td>\n",
       "      <td>2091</td>\n",
       "      <td>400</td>\n",
       "      <td>2491</td>\n",
       "    </tr>\n",
       "    <tr>\n",
       "      <td>161.0</td>\n",
       "      <td>2120</td>\n",
       "      <td>538</td>\n",
       "      <td>2658</td>\n",
       "    </tr>\n",
       "    <tr>\n",
       "      <td>164.0</td>\n",
       "      <td>2790</td>\n",
       "      <td>445</td>\n",
       "      <td>3235</td>\n",
       "    </tr>\n",
       "    <tr>\n",
       "      <td>174.0</td>\n",
       "      <td>3829</td>\n",
       "      <td>485</td>\n",
       "      <td>4314</td>\n",
       "    </tr>\n",
       "    <tr>\n",
       "      <td>176.0</td>\n",
       "      <td>8434</td>\n",
       "      <td>0</td>\n",
       "      <td>8434</td>\n",
       "    </tr>\n",
       "    <tr>\n",
       "      <td>194.0</td>\n",
       "      <td>5121</td>\n",
       "      <td>886</td>\n",
       "      <td>6007</td>\n",
       "    </tr>\n",
       "    <tr>\n",
       "      <td>205.0</td>\n",
       "      <td>2014</td>\n",
       "      <td>790</td>\n",
       "      <td>2804</td>\n",
       "    </tr>\n",
       "    <tr>\n",
       "      <td>210.0</td>\n",
       "      <td>2790</td>\n",
       "      <td>777</td>\n",
       "      <td>3567</td>\n",
       "    </tr>\n",
       "    <tr>\n",
       "      <td>All</td>\n",
       "      <td>51515</td>\n",
       "      <td>7643</td>\n",
       "      <td>59158</td>\n",
       "    </tr>\n",
       "  </tbody>\n",
       "</table>\n",
       "</div>"
      ],
      "text/plain": [
       "fr_yn          N     Y    All\n",
       "fr_mn_cnt                    \n",
       "85.0        1545   228   1773\n",
       "106.0       2788   397   3185\n",
       "108.0       2089   342   2431\n",
       "109.0       2512   364   2876\n",
       "111.0       2188   346   2534\n",
       "112.0       2813   429   3242\n",
       "118.0       2569   364   2933\n",
       "121.0       2866   404   3270\n",
       "137.0       2956   448   3404\n",
       "139.0       2091   400   2491\n",
       "161.0       2120   538   2658\n",
       "164.0       2790   445   3235\n",
       "174.0       3829   485   4314\n",
       "176.0       8434     0   8434\n",
       "194.0       5121   886   6007\n",
       "205.0       2014   790   2804\n",
       "210.0       2790   777   3567\n",
       "All        51515  7643  59158"
      ]
     },
     "execution_count": 85,
     "metadata": {},
     "output_type": "execute_result"
    }
   ],
   "source": [
    "pd.crosstab(train['fr_mn_cnt'], train['fr_yn'], margins=True)"
   ]
  },
  {
   "cell_type": "code",
   "execution_count": 83,
   "metadata": {},
   "outputs": [
    {
     "name": "stdout",
     "output_type": "stream",
     "text": [
      "최고 8434\n",
      "최하 1773\n",
      "평균 3479.8823529411766\n",
      "중위 3185.0\n"
     ]
    }
   ],
   "source": [
    "fr_mn_cnt_number = train['fr_mn_cnt'].value_counts()\n",
    "print(\"최고\", np.max(fr_mn_cnt_number))\n",
    "print(\"최하\", np.min(fr_mn_cnt_number))\n",
    "print(\"평균\", np.mean(fr_mn_cnt_number))\n",
    "print(\"중위\", np.median(fr_mn_cnt_number))"
   ]
  },
  {
   "cell_type": "code",
   "execution_count": null,
   "metadata": {},
   "outputs": [],
   "source": [
    "train['fr_mn_cnt'].unique()"
   ]
  },
  {
   "cell_type": "code",
   "execution_count": null,
   "metadata": {},
   "outputs": [],
   "source": [
    "pd.crosstab(train['fr_mn_cnt'], train['fr_yn'], margins=True)"
   ]
  },
  {
   "cell_type": "code",
   "execution_count": null,
   "metadata": {},
   "outputs": [],
   "source": [
    "fr_mn_cnt_number = train['fr_mn_cnt'].value_counts()\n",
    "print(\"최고\", np.max(fr_mn_cnt_number))\n",
    "print(\"최하\", np.min(fr_mn_cnt_number))\n",
    "print(\"평균\", np.mean(fr_mn_cnt_number))\n",
    "print(\"중위\", np.median(fr_mn_cnt_number))"
   ]
  },
  {
   "cell_type": "markdown",
   "metadata": {},
   "source": [
    "# 기준 및 여부"
   ]
  },
  {
   "cell_type": "code",
   "execution_count": 86,
   "metadata": {},
   "outputs": [
    {
     "data": {
      "text/plain": [
       "array([nan, '일반대상물', '민박7실이하', '옥내소화전설치대상', '민박7실이상', '자동화재탐지설치대상',\n",
       "       '11층이상', '연면적 15,000 이상', '기타(가설건축물분류)', '펜션7실이하',\n",
       "       '스프링클러,물분무등설치대상', '콘테이너하우스', '주거용비닐하우스',\n",
       "       '공동주택(주택법시행령제63조제1항각호1에해당)', '견본주택(모델하우스)', '임시사무실,창고,숙소', '기타',\n",
       "       '펜션7실이상'], dtype=object)"
      ]
     },
     "execution_count": 86,
     "metadata": {},
     "output_type": "execute_result"
    }
   ],
   "source": [
    "train['trgt_crtr'].unique()"
   ]
  },
  {
   "cell_type": "code",
   "execution_count": 87,
   "metadata": {},
   "outputs": [
    {
     "data": {
      "text/html": [
       "<div>\n",
       "<style scoped>\n",
       "    .dataframe tbody tr th:only-of-type {\n",
       "        vertical-align: middle;\n",
       "    }\n",
       "\n",
       "    .dataframe tbody tr th {\n",
       "        vertical-align: top;\n",
       "    }\n",
       "\n",
       "    .dataframe thead th {\n",
       "        text-align: right;\n",
       "    }\n",
       "</style>\n",
       "<table border=\"1\" class=\"dataframe\">\n",
       "  <thead>\n",
       "    <tr style=\"text-align: right;\">\n",
       "      <th>fr_yn</th>\n",
       "      <th>N</th>\n",
       "      <th>Y</th>\n",
       "      <th>All</th>\n",
       "    </tr>\n",
       "    <tr>\n",
       "      <th>trgt_crtr</th>\n",
       "      <th></th>\n",
       "      <th></th>\n",
       "      <th></th>\n",
       "    </tr>\n",
       "  </thead>\n",
       "  <tbody>\n",
       "    <tr>\n",
       "      <td>11층이상</td>\n",
       "      <td>1</td>\n",
       "      <td>1</td>\n",
       "      <td>2</td>\n",
       "    </tr>\n",
       "    <tr>\n",
       "      <td>견본주택(모델하우스)</td>\n",
       "      <td>1</td>\n",
       "      <td>0</td>\n",
       "      <td>1</td>\n",
       "    </tr>\n",
       "    <tr>\n",
       "      <td>공동주택(주택법시행령제63조제1항각호1에해당)</td>\n",
       "      <td>1</td>\n",
       "      <td>5</td>\n",
       "      <td>6</td>\n",
       "    </tr>\n",
       "    <tr>\n",
       "      <td>기타</td>\n",
       "      <td>0</td>\n",
       "      <td>1</td>\n",
       "      <td>1</td>\n",
       "    </tr>\n",
       "    <tr>\n",
       "      <td>기타(가설건축물분류)</td>\n",
       "      <td>2</td>\n",
       "      <td>0</td>\n",
       "      <td>2</td>\n",
       "    </tr>\n",
       "    <tr>\n",
       "      <td>민박7실이상</td>\n",
       "      <td>15</td>\n",
       "      <td>1</td>\n",
       "      <td>16</td>\n",
       "    </tr>\n",
       "    <tr>\n",
       "      <td>민박7실이하</td>\n",
       "      <td>239</td>\n",
       "      <td>55</td>\n",
       "      <td>294</td>\n",
       "    </tr>\n",
       "    <tr>\n",
       "      <td>스프링클러,물분무등설치대상</td>\n",
       "      <td>14</td>\n",
       "      <td>14</td>\n",
       "      <td>28</td>\n",
       "    </tr>\n",
       "    <tr>\n",
       "      <td>연면적 15,000 이상</td>\n",
       "      <td>4</td>\n",
       "      <td>2</td>\n",
       "      <td>6</td>\n",
       "    </tr>\n",
       "    <tr>\n",
       "      <td>옥내소화전설치대상</td>\n",
       "      <td>42</td>\n",
       "      <td>27</td>\n",
       "      <td>69</td>\n",
       "    </tr>\n",
       "    <tr>\n",
       "      <td>일반대상물</td>\n",
       "      <td>6362</td>\n",
       "      <td>1227</td>\n",
       "      <td>7589</td>\n",
       "    </tr>\n",
       "    <tr>\n",
       "      <td>임시사무실,창고,숙소</td>\n",
       "      <td>1</td>\n",
       "      <td>0</td>\n",
       "      <td>1</td>\n",
       "    </tr>\n",
       "    <tr>\n",
       "      <td>자동화재탐지설치대상</td>\n",
       "      <td>90</td>\n",
       "      <td>56</td>\n",
       "      <td>146</td>\n",
       "    </tr>\n",
       "    <tr>\n",
       "      <td>주거용비닐하우스</td>\n",
       "      <td>1</td>\n",
       "      <td>0</td>\n",
       "      <td>1</td>\n",
       "    </tr>\n",
       "    <tr>\n",
       "      <td>콘테이너하우스</td>\n",
       "      <td>1</td>\n",
       "      <td>0</td>\n",
       "      <td>1</td>\n",
       "    </tr>\n",
       "    <tr>\n",
       "      <td>펜션7실이상</td>\n",
       "      <td>2</td>\n",
       "      <td>0</td>\n",
       "      <td>2</td>\n",
       "    </tr>\n",
       "    <tr>\n",
       "      <td>펜션7실이하</td>\n",
       "      <td>7</td>\n",
       "      <td>5</td>\n",
       "      <td>12</td>\n",
       "    </tr>\n",
       "    <tr>\n",
       "      <td>All</td>\n",
       "      <td>6783</td>\n",
       "      <td>1394</td>\n",
       "      <td>8177</td>\n",
       "    </tr>\n",
       "  </tbody>\n",
       "</table>\n",
       "</div>"
      ],
      "text/plain": [
       "fr_yn                         N     Y   All\n",
       "trgt_crtr                                  \n",
       "11층이상                         1     1     2\n",
       "견본주택(모델하우스)                   1     0     1\n",
       "공동주택(주택법시행령제63조제1항각호1에해당)     1     5     6\n",
       "기타                            0     1     1\n",
       "기타(가설건축물분류)                   2     0     2\n",
       "민박7실이상                       15     1    16\n",
       "민박7실이하                      239    55   294\n",
       "스프링클러,물분무등설치대상               14    14    28\n",
       "연면적 15,000 이상                 4     2     6\n",
       "옥내소화전설치대상                    42    27    69\n",
       "일반대상물                      6362  1227  7589\n",
       "임시사무실,창고,숙소                   1     0     1\n",
       "자동화재탐지설치대상                   90    56   146\n",
       "주거용비닐하우스                      1     0     1\n",
       "콘테이너하우스                       1     0     1\n",
       "펜션7실이상                        2     0     2\n",
       "펜션7실이하                        7     5    12\n",
       "All                        6783  1394  8177"
      ]
     },
     "execution_count": 87,
     "metadata": {},
     "output_type": "execute_result"
    }
   ],
   "source": [
    "pd.crosstab(train['trgt_crtr'], train['fr_yn'], margins=True)"
   ]
  },
  {
   "cell_type": "code",
   "execution_count": 88,
   "metadata": {},
   "outputs": [
    {
     "name": "stdout",
     "output_type": "stream",
     "text": [
      "최고 7589\n",
      "최하 1\n",
      "평균 481.0\n",
      "중위 6.0\n"
     ]
    }
   ],
   "source": [
    "trgt_crtr_number = train['trgt_crtr'].value_counts()\n",
    "print(\"최고\", np.max(trgt_crtr_number))\n",
    "print(\"최하\", np.min(trgt_crtr_number))\n",
    "print(\"평균\", np.mean(trgt_crtr_number))\n",
    "print(\"중위\", np.median(trgt_crtr_number))"
   ]
  },
  {
   "cell_type": "code",
   "execution_count": 89,
   "metadata": {},
   "outputs": [
    {
     "data": {
      "text/plain": [
       "Text(0.5, 1.0, '건물용도 분류명')"
      ]
     },
     "execution_count": 89,
     "metadata": {},
     "output_type": "execute_result"
    },
    {
     "data": {
      "image/png": "[encoded data removed]",
      "text/plain": [
       "<Figure size 1080x720 with 1 Axes>"
      ]
     },
     "metadata": {
      "needs_background": "light"
     },
     "output_type": "display_data"
    }
   ],
   "source": [
    "df = train.groupby(['trgt_crtr','fr_yn'])['fr_yn'].count().unstack('fr_yn')\n",
    "df.plot(kind='bar', figsize=(15,10))\n",
    "plt.title('건물용도 분류명')"
   ]
  },
  {
   "cell_type": "code",
   "execution_count": 90,
   "metadata": {},
   "outputs": [
    {
     "data": {
      "text/plain": [
       "array([nan, 'N'], dtype=object)"
      ]
     },
     "execution_count": 90,
     "metadata": {},
     "output_type": "execute_result"
    }
   ],
   "source": [
    "train['fr_fghtng_fclt_spcl_css_5_yn'].unique()"
   ]
  },
  {
   "cell_type": "code",
   "execution_count": 91,
   "metadata": {},
   "outputs": [
    {
     "data": {
      "text/html": [
       "<div>\n",
       "<style scoped>\n",
       "    .dataframe tbody tr th:only-of-type {\n",
       "        vertical-align: middle;\n",
       "    }\n",
       "\n",
       "    .dataframe tbody tr th {\n",
       "        vertical-align: top;\n",
       "    }\n",
       "\n",
       "    .dataframe thead th {\n",
       "        text-align: right;\n",
       "    }\n",
       "</style>\n",
       "<table border=\"1\" class=\"dataframe\">\n",
       "  <thead>\n",
       "    <tr style=\"text-align: right;\">\n",
       "      <th>fr_yn</th>\n",
       "      <th>N</th>\n",
       "      <th>Y</th>\n",
       "      <th>All</th>\n",
       "    </tr>\n",
       "    <tr>\n",
       "      <th>fr_fghtng_fclt_spcl_css_5_yn</th>\n",
       "      <th></th>\n",
       "      <th></th>\n",
       "      <th></th>\n",
       "    </tr>\n",
       "  </thead>\n",
       "  <tbody>\n",
       "    <tr>\n",
       "      <td>N</td>\n",
       "      <td>6830</td>\n",
       "      <td>1607</td>\n",
       "      <td>8437</td>\n",
       "    </tr>\n",
       "    <tr>\n",
       "      <td>All</td>\n",
       "      <td>6830</td>\n",
       "      <td>1607</td>\n",
       "      <td>8437</td>\n",
       "    </tr>\n",
       "  </tbody>\n",
       "</table>\n",
       "</div>"
      ],
      "text/plain": [
       "fr_yn                            N     Y   All\n",
       "fr_fghtng_fclt_spcl_css_5_yn                  \n",
       "N                             6830  1607  8437\n",
       "All                           6830  1607  8437"
      ]
     },
     "execution_count": 91,
     "metadata": {},
     "output_type": "execute_result"
    }
   ],
   "source": [
    "pd.crosstab(train['fr_fghtng_fclt_spcl_css_5_yn'], train['fr_yn'], margins=True)"
   ]
  },
  {
   "cell_type": "code",
   "execution_count": 92,
   "metadata": {},
   "outputs": [
    {
     "name": "stdout",
     "output_type": "stream",
     "text": [
      "최고 8437\n",
      "최하 8437\n",
      "평균 8437.0\n",
      "중위 8437.0\n"
     ]
    }
   ],
   "source": [
    "fr_fghtng_fclt_spcl_css_5_yn_number = train['fr_fghtng_fclt_spcl_css_5_yn'].value_counts()\n",
    "print(\"최고\", np.max(fr_fghtng_fclt_spcl_css_5_yn_number))\n",
    "print(\"최하\", np.min(fr_fghtng_fclt_spcl_css_5_yn_number))\n",
    "print(\"평균\", np.mean(fr_fghtng_fclt_spcl_css_5_yn_number))\n",
    "print(\"중위\", np.median(fr_fghtng_fclt_spcl_css_5_yn_number))"
   ]
  },
  {
   "cell_type": "code",
   "execution_count": 94,
   "metadata": {},
   "outputs": [
    {
     "data": {
      "text/plain": [
       "array([nan, 'N'], dtype=object)"
      ]
     },
     "execution_count": 94,
     "metadata": {},
     "output_type": "execute_result"
    }
   ],
   "source": [
    "train['fr_fghtng_fclt_spcl_css_6_yn'].unique()"
   ]
  },
  {
   "cell_type": "code",
   "execution_count": 95,
   "metadata": {},
   "outputs": [
    {
     "data": {
      "text/html": [
       "<div>\n",
       "<style scoped>\n",
       "    .dataframe tbody tr th:only-of-type {\n",
       "        vertical-align: middle;\n",
       "    }\n",
       "\n",
       "    .dataframe tbody tr th {\n",
       "        vertical-align: top;\n",
       "    }\n",
       "\n",
       "    .dataframe thead th {\n",
       "        text-align: right;\n",
       "    }\n",
       "</style>\n",
       "<table border=\"1\" class=\"dataframe\">\n",
       "  <thead>\n",
       "    <tr style=\"text-align: right;\">\n",
       "      <th>fr_yn</th>\n",
       "      <th>N</th>\n",
       "      <th>Y</th>\n",
       "      <th>All</th>\n",
       "    </tr>\n",
       "    <tr>\n",
       "      <th>fr_fghtng_fclt_spcl_css_6_yn</th>\n",
       "      <th></th>\n",
       "      <th></th>\n",
       "      <th></th>\n",
       "    </tr>\n",
       "  </thead>\n",
       "  <tbody>\n",
       "    <tr>\n",
       "      <td>N</td>\n",
       "      <td>6830</td>\n",
       "      <td>1607</td>\n",
       "      <td>8437</td>\n",
       "    </tr>\n",
       "    <tr>\n",
       "      <td>All</td>\n",
       "      <td>6830</td>\n",
       "      <td>1607</td>\n",
       "      <td>8437</td>\n",
       "    </tr>\n",
       "  </tbody>\n",
       "</table>\n",
       "</div>"
      ],
      "text/plain": [
       "fr_yn                            N     Y   All\n",
       "fr_fghtng_fclt_spcl_css_6_yn                  \n",
       "N                             6830  1607  8437\n",
       "All                           6830  1607  8437"
      ]
     },
     "execution_count": 95,
     "metadata": {},
     "output_type": "execute_result"
    }
   ],
   "source": [
    "pd.crosstab(train['fr_fghtng_fclt_spcl_css_6_yn'], train['fr_yn'], margins=True)"
   ]
  },
  {
   "cell_type": "code",
   "execution_count": 93,
   "metadata": {},
   "outputs": [
    {
     "name": "stdout",
     "output_type": "stream",
     "text": [
      "최고 8437\n",
      "최하 8437\n",
      "평균 8437.0\n",
      "중위 8437.0\n"
     ]
    }
   ],
   "source": [
    "fr_fghtng_fclt_spcl_css_6_yn_number = train['fr_fghtng_fclt_spcl_css_6_yn'].value_counts()\n",
    "print(\"최고\", np.max(fr_fghtng_fclt_spcl_css_6_yn_number))\n",
    "print(\"최하\", np.min(fr_fghtng_fclt_spcl_css_6_yn_number))\n",
    "print(\"평균\", np.mean(fr_fghtng_fclt_spcl_css_6_yn_number))\n",
    "print(\"중위\", np.median(fr_fghtng_fclt_spcl_css_6_yn_number))"
   ]
  },
  {
   "cell_type": "code",
   "execution_count": 101,
   "metadata": {},
   "outputs": [
    {
     "data": {
      "text/plain": [
       "array([nan, 'Y', 'N', 'T'], dtype=object)"
      ]
     },
     "execution_count": 101,
     "metadata": {},
     "output_type": "execute_result"
    }
   ],
   "source": [
    "train['us_yn'].unique()"
   ]
  },
  {
   "cell_type": "code",
   "execution_count": 102,
   "metadata": {},
   "outputs": [
    {
     "data": {
      "text/html": [
       "<div>\n",
       "<style scoped>\n",
       "    .dataframe tbody tr th:only-of-type {\n",
       "        vertical-align: middle;\n",
       "    }\n",
       "\n",
       "    .dataframe tbody tr th {\n",
       "        vertical-align: top;\n",
       "    }\n",
       "\n",
       "    .dataframe thead th {\n",
       "        text-align: right;\n",
       "    }\n",
       "</style>\n",
       "<table border=\"1\" class=\"dataframe\">\n",
       "  <thead>\n",
       "    <tr style=\"text-align: right;\">\n",
       "      <th>fr_yn</th>\n",
       "      <th>N</th>\n",
       "      <th>Y</th>\n",
       "      <th>All</th>\n",
       "    </tr>\n",
       "    <tr>\n",
       "      <th>us_yn</th>\n",
       "      <th></th>\n",
       "      <th></th>\n",
       "      <th></th>\n",
       "    </tr>\n",
       "  </thead>\n",
       "  <tbody>\n",
       "    <tr>\n",
       "      <td>N</td>\n",
       "      <td>1021</td>\n",
       "      <td>298</td>\n",
       "      <td>1319</td>\n",
       "    </tr>\n",
       "    <tr>\n",
       "      <td>T</td>\n",
       "      <td>280</td>\n",
       "      <td>251</td>\n",
       "      <td>531</td>\n",
       "    </tr>\n",
       "    <tr>\n",
       "      <td>Y</td>\n",
       "      <td>6582</td>\n",
       "      <td>1320</td>\n",
       "      <td>7902</td>\n",
       "    </tr>\n",
       "    <tr>\n",
       "      <td>All</td>\n",
       "      <td>7883</td>\n",
       "      <td>1869</td>\n",
       "      <td>9752</td>\n",
       "    </tr>\n",
       "  </tbody>\n",
       "</table>\n",
       "</div>"
      ],
      "text/plain": [
       "fr_yn     N     Y   All\n",
       "us_yn                  \n",
       "N      1021   298  1319\n",
       "T       280   251   531\n",
       "Y      6582  1320  7902\n",
       "All    7883  1869  9752"
      ]
     },
     "execution_count": 102,
     "metadata": {},
     "output_type": "execute_result"
    }
   ],
   "source": [
    "pd.crosstab(train['us_yn'], train['fr_yn'], margins=True)"
   ]
  },
  {
   "cell_type": "code",
   "execution_count": 103,
   "metadata": {},
   "outputs": [
    {
     "name": "stdout",
     "output_type": "stream",
     "text": [
      "최고 7902\n",
      "최하 531\n",
      "평균 3250.6666666666665\n",
      "중위 1319.0\n"
     ]
    }
   ],
   "source": [
    "us_yn_number = train['us_yn'].value_counts()\n",
    "print(\"최고\", np.max(us_yn_number))\n",
    "print(\"최하\", np.min(us_yn_number))\n",
    "print(\"평균\", np.mean(us_yn_number))\n",
    "print(\"중위\", np.median(us_yn_number))"
   ]
  },
  {
   "cell_type": "code",
   "execution_count": 105,
   "metadata": {},
   "outputs": [
    {
     "data": {
      "text/plain": [
       "array([nan, 'N', 'Y'], dtype=object)"
      ]
     },
     "execution_count": 105,
     "metadata": {},
     "output_type": "execute_result"
    }
   ],
   "source": [
    "train['dngrs_thng_yn'].unique()"
   ]
  },
  {
   "cell_type": "code",
   "execution_count": 106,
   "metadata": {},
   "outputs": [
    {
     "data": {
      "text/html": [
       "<div>\n",
       "<style scoped>\n",
       "    .dataframe tbody tr th:only-of-type {\n",
       "        vertical-align: middle;\n",
       "    }\n",
       "\n",
       "    .dataframe tbody tr th {\n",
       "        vertical-align: top;\n",
       "    }\n",
       "\n",
       "    .dataframe thead th {\n",
       "        text-align: right;\n",
       "    }\n",
       "</style>\n",
       "<table border=\"1\" class=\"dataframe\">\n",
       "  <thead>\n",
       "    <tr style=\"text-align: right;\">\n",
       "      <th>fr_yn</th>\n",
       "      <th>N</th>\n",
       "      <th>Y</th>\n",
       "      <th>All</th>\n",
       "    </tr>\n",
       "    <tr>\n",
       "      <th>dngrs_thng_yn</th>\n",
       "      <th></th>\n",
       "      <th></th>\n",
       "      <th></th>\n",
       "    </tr>\n",
       "  </thead>\n",
       "  <tbody>\n",
       "    <tr>\n",
       "      <td>N</td>\n",
       "      <td>7878</td>\n",
       "      <td>1868</td>\n",
       "      <td>9746</td>\n",
       "    </tr>\n",
       "    <tr>\n",
       "      <td>Y</td>\n",
       "      <td>5</td>\n",
       "      <td>1</td>\n",
       "      <td>6</td>\n",
       "    </tr>\n",
       "    <tr>\n",
       "      <td>All</td>\n",
       "      <td>7883</td>\n",
       "      <td>1869</td>\n",
       "      <td>9752</td>\n",
       "    </tr>\n",
       "  </tbody>\n",
       "</table>\n",
       "</div>"
      ],
      "text/plain": [
       "fr_yn             N     Y   All\n",
       "dngrs_thng_yn                  \n",
       "N              7878  1868  9746\n",
       "Y                 5     1     6\n",
       "All            7883  1869  9752"
      ]
     },
     "execution_count": 106,
     "metadata": {},
     "output_type": "execute_result"
    }
   ],
   "source": [
    "pd.crosstab(train['dngrs_thng_yn'], train['fr_yn'], margins=True)"
   ]
  },
  {
   "cell_type": "code",
   "execution_count": 104,
   "metadata": {},
   "outputs": [
    {
     "name": "stdout",
     "output_type": "stream",
     "text": [
      "최고 9746\n",
      "최하 6\n",
      "평균 4876.0\n",
      "중위 4876.0\n"
     ]
    }
   ],
   "source": [
    "dngrs_thng_yn_number = train['dngrs_thng_yn'].value_counts()\n",
    "print(\"최고\", np.max(dngrs_thng_yn_number))\n",
    "print(\"최하\", np.min(dngrs_thng_yn_number))\n",
    "print(\"평균\", np.mean(dngrs_thng_yn_number))\n",
    "print(\"중위\", np.median(dngrs_thng_yn_number))"
   ]
  },
  {
   "cell_type": "code",
   "execution_count": 108,
   "metadata": {},
   "outputs": [
    {
     "data": {
      "text/plain": [
       "array([nan, 'N'], dtype=object)"
      ]
     },
     "execution_count": 108,
     "metadata": {},
     "output_type": "execute_result"
    }
   ],
   "source": [
    "train['slf_fr_brgd_yn'].unique()"
   ]
  },
  {
   "cell_type": "code",
   "execution_count": 109,
   "metadata": {},
   "outputs": [
    {
     "data": {
      "text/html": [
       "<div>\n",
       "<style scoped>\n",
       "    .dataframe tbody tr th:only-of-type {\n",
       "        vertical-align: middle;\n",
       "    }\n",
       "\n",
       "    .dataframe tbody tr th {\n",
       "        vertical-align: top;\n",
       "    }\n",
       "\n",
       "    .dataframe thead th {\n",
       "        text-align: right;\n",
       "    }\n",
       "</style>\n",
       "<table border=\"1\" class=\"dataframe\">\n",
       "  <thead>\n",
       "    <tr style=\"text-align: right;\">\n",
       "      <th>fr_yn</th>\n",
       "      <th>N</th>\n",
       "      <th>Y</th>\n",
       "      <th>All</th>\n",
       "    </tr>\n",
       "    <tr>\n",
       "      <th>slf_fr_brgd_yn</th>\n",
       "      <th></th>\n",
       "      <th></th>\n",
       "      <th></th>\n",
       "    </tr>\n",
       "  </thead>\n",
       "  <tbody>\n",
       "    <tr>\n",
       "      <td>N</td>\n",
       "      <td>7883</td>\n",
       "      <td>1869</td>\n",
       "      <td>9752</td>\n",
       "    </tr>\n",
       "    <tr>\n",
       "      <td>All</td>\n",
       "      <td>7883</td>\n",
       "      <td>1869</td>\n",
       "      <td>9752</td>\n",
       "    </tr>\n",
       "  </tbody>\n",
       "</table>\n",
       "</div>"
      ],
      "text/plain": [
       "fr_yn              N     Y   All\n",
       "slf_fr_brgd_yn                  \n",
       "N               7883  1869  9752\n",
       "All             7883  1869  9752"
      ]
     },
     "execution_count": 109,
     "metadata": {},
     "output_type": "execute_result"
    }
   ],
   "source": [
    "pd.crosstab(train['slf_fr_brgd_yn'], train['fr_yn'], margins=True)"
   ]
  },
  {
   "cell_type": "code",
   "execution_count": 107,
   "metadata": {},
   "outputs": [
    {
     "name": "stdout",
     "output_type": "stream",
     "text": [
      "최고 9752\n",
      "최하 9752\n",
      "평균 9752.0\n",
      "중위 9752.0\n"
     ]
    }
   ],
   "source": [
    "slf_fr_brgd_yn_number = train['slf_fr_brgd_yn'].value_counts()\n",
    "print(\"최고\", np.max(slf_fr_brgd_yn_number))\n",
    "print(\"최하\", np.min(slf_fr_brgd_yn_number))\n",
    "print(\"평균\", np.mean(slf_fr_brgd_yn_number))\n",
    "print(\"중위\", np.median(slf_fr_brgd_yn_number))"
   ]
  },
  {
   "cell_type": "code",
   "execution_count": 110,
   "metadata": {},
   "outputs": [
    {
     "data": {
      "text/plain": [
       "array([nan, 'N', 'Y'], dtype=object)"
      ]
     },
     "execution_count": 110,
     "metadata": {},
     "output_type": "execute_result"
    }
   ],
   "source": [
    "train['blk_dngrs_thng_mnfctr_yn'].unique()"
   ]
  },
  {
   "cell_type": "code",
   "execution_count": 111,
   "metadata": {},
   "outputs": [
    {
     "data": {
      "text/html": [
       "<div>\n",
       "<style scoped>\n",
       "    .dataframe tbody tr th:only-of-type {\n",
       "        vertical-align: middle;\n",
       "    }\n",
       "\n",
       "    .dataframe tbody tr th {\n",
       "        vertical-align: top;\n",
       "    }\n",
       "\n",
       "    .dataframe thead th {\n",
       "        text-align: right;\n",
       "    }\n",
       "</style>\n",
       "<table border=\"1\" class=\"dataframe\">\n",
       "  <thead>\n",
       "    <tr style=\"text-align: right;\">\n",
       "      <th>fr_yn</th>\n",
       "      <th>N</th>\n",
       "      <th>Y</th>\n",
       "      <th>All</th>\n",
       "    </tr>\n",
       "    <tr>\n",
       "      <th>blk_dngrs_thng_mnfctr_yn</th>\n",
       "      <th></th>\n",
       "      <th></th>\n",
       "      <th></th>\n",
       "    </tr>\n",
       "  </thead>\n",
       "  <tbody>\n",
       "    <tr>\n",
       "      <td>N</td>\n",
       "      <td>7882</td>\n",
       "      <td>1869</td>\n",
       "      <td>9751</td>\n",
       "    </tr>\n",
       "    <tr>\n",
       "      <td>Y</td>\n",
       "      <td>1</td>\n",
       "      <td>0</td>\n",
       "      <td>1</td>\n",
       "    </tr>\n",
       "    <tr>\n",
       "      <td>All</td>\n",
       "      <td>7883</td>\n",
       "      <td>1869</td>\n",
       "      <td>9752</td>\n",
       "    </tr>\n",
       "  </tbody>\n",
       "</table>\n",
       "</div>"
      ],
      "text/plain": [
       "fr_yn                        N     Y   All\n",
       "blk_dngrs_thng_mnfctr_yn                  \n",
       "N                         7882  1869  9751\n",
       "Y                            1     0     1\n",
       "All                       7883  1869  9752"
      ]
     },
     "execution_count": 111,
     "metadata": {},
     "output_type": "execute_result"
    }
   ],
   "source": [
    "pd.crosstab(train['blk_dngrs_thng_mnfctr_yn'], train['fr_yn'], margins=True)"
   ]
  },
  {
   "cell_type": "code",
   "execution_count": 112,
   "metadata": {},
   "outputs": [
    {
     "name": "stdout",
     "output_type": "stream",
     "text": [
      "최고 9751\n",
      "최하 1\n",
      "평균 4876.0\n",
      "중위 4876.0\n"
     ]
    }
   ],
   "source": [
    "blk_dngrs_thng_mnfctr_yn_number = train['blk_dngrs_thng_mnfctr_yn'].value_counts()\n",
    "print(\"최고\", np.max(blk_dngrs_thng_mnfctr_yn_number))\n",
    "print(\"최하\", np.min(blk_dngrs_thng_mnfctr_yn_number))\n",
    "print(\"평균\", np.mean(blk_dngrs_thng_mnfctr_yn_number))\n",
    "print(\"중위\", np.median(blk_dngrs_thng_mnfctr_yn_number))"
   ]
  },
  {
   "cell_type": "code",
   "execution_count": 113,
   "metadata": {},
   "outputs": [
    {
     "data": {
      "text/plain": [
       "array([nan, 'N', 'Y'], dtype=object)"
      ]
     },
     "execution_count": 113,
     "metadata": {},
     "output_type": "execute_result"
    }
   ],
   "source": [
    "train['cltrl_hrtg_yn'].unique()"
   ]
  },
  {
   "cell_type": "code",
   "execution_count": 114,
   "metadata": {},
   "outputs": [
    {
     "data": {
      "text/html": [
       "<div>\n",
       "<style scoped>\n",
       "    .dataframe tbody tr th:only-of-type {\n",
       "        vertical-align: middle;\n",
       "    }\n",
       "\n",
       "    .dataframe tbody tr th {\n",
       "        vertical-align: top;\n",
       "    }\n",
       "\n",
       "    .dataframe thead th {\n",
       "        text-align: right;\n",
       "    }\n",
       "</style>\n",
       "<table border=\"1\" class=\"dataframe\">\n",
       "  <thead>\n",
       "    <tr style=\"text-align: right;\">\n",
       "      <th>fr_yn</th>\n",
       "      <th>N</th>\n",
       "      <th>Y</th>\n",
       "      <th>All</th>\n",
       "    </tr>\n",
       "    <tr>\n",
       "      <th>cltrl_hrtg_yn</th>\n",
       "      <th></th>\n",
       "      <th></th>\n",
       "      <th></th>\n",
       "    </tr>\n",
       "  </thead>\n",
       "  <tbody>\n",
       "    <tr>\n",
       "      <td>N</td>\n",
       "      <td>7882</td>\n",
       "      <td>1869</td>\n",
       "      <td>9751</td>\n",
       "    </tr>\n",
       "    <tr>\n",
       "      <td>Y</td>\n",
       "      <td>1</td>\n",
       "      <td>0</td>\n",
       "      <td>1</td>\n",
       "    </tr>\n",
       "    <tr>\n",
       "      <td>All</td>\n",
       "      <td>7883</td>\n",
       "      <td>1869</td>\n",
       "      <td>9752</td>\n",
       "    </tr>\n",
       "  </tbody>\n",
       "</table>\n",
       "</div>"
      ],
      "text/plain": [
       "fr_yn             N     Y   All\n",
       "cltrl_hrtg_yn                  \n",
       "N              7882  1869  9751\n",
       "Y                 1     0     1\n",
       "All            7883  1869  9752"
      ]
     },
     "execution_count": 114,
     "metadata": {},
     "output_type": "execute_result"
    }
   ],
   "source": [
    "pd.crosstab(train['cltrl_hrtg_yn'], train['fr_yn'], margins=True)"
   ]
  },
  {
   "cell_type": "code",
   "execution_count": 115,
   "metadata": {},
   "outputs": [
    {
     "name": "stdout",
     "output_type": "stream",
     "text": [
      "최고 9751\n",
      "최하 1\n",
      "평균 4876.0\n",
      "중위 4876.0\n"
     ]
    }
   ],
   "source": [
    "cltrl_hrtg_yn_number = train['cltrl_hrtg_yn'].value_counts()\n",
    "print(\"최고\", np.max(cltrl_hrtg_yn_number))\n",
    "print(\"최하\", np.min(cltrl_hrtg_yn_number))\n",
    "print(\"평균\", np.mean(cltrl_hrtg_yn_number))\n",
    "print(\"중위\", np.median(cltrl_hrtg_yn_number))"
   ]
  },
  {
   "cell_type": "code",
   "execution_count": null,
   "metadata": {},
   "outputs": [],
   "source": []
  },
  {
   "cell_type": "code",
   "execution_count": null,
   "metadata": {},
   "outputs": [],
   "source": []
  },
  {
   "cell_type": "code",
   "execution_count": null,
   "metadata": {},
   "outputs": [],
   "source": []
  },
  {
   "cell_type": "code",
   "execution_count": null,
   "metadata": {},
   "outputs": [],
   "source": []
  }
 ],
 "metadata": {
  "kernelspec": {
   "display_name": "Python 3",
   "language": "python",
   "name": "python3"
  },
  "language_info": {
   "codemirror_mode": {
    "name": "ipython",
    "version": 3
   },
   "file_extension": ".py",
   "mimetype": "text/x-python",
   "name": "python",
   "nbconvert_exporter": "python",
   "pygments_lexer": "ipython3",
   "version": "3.7.3"
  }
 },
 "nbformat": 4,
 "nbformat_minor": 2
}
