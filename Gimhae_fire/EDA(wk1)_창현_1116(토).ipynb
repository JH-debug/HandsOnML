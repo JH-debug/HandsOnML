{
  "nbformat": 4,
  "nbformat_minor": 0,
  "metadata": {
    "kernelspec": {
      "display_name": "Python 3",
      "language": "python",
      "name": "python3"
    },
    "language_info": {
      "codemirror_mode": {
        "name": "ipython",
        "version": 3
      },
      "file_extension": ".py",
      "mimetype": "text/x-python",
      "name": "python",
      "nbconvert_exporter": "python",
      "pygments_lexer": "ipython3",
      "version": "3.7.4"
    },
    "colab": {
      "name": "EDA(wk1)_창현_1116(토).ipynb",
      "provenance": [],
      "collapsed_sections": []
    }
  },
  "cells": [
    {
      "cell_type": "markdown",
      "metadata": {
        "id": "wf4EuEE7xE8M",
        "colab_type": "text"
      },
      "source": [
        "QnA 에서 찾은 정보\n",
        "\n",
        "1. Validation set도 최종 학습에 사용 가능.\n",
        "2. 발생일시는 해당 일시에 화재가 발생했는지의 의미 -> 해당 인자로 인해 기후 정보등이 도출 -> 시간별, 계절별 요인을 도출하는 인자로 활용 가능\n",
        "3. 인구수는 통계청 데이터를 기반( 2018년 기준 )\n",
        "4. lw 변수들은 '건축법 시행령 제5조의5 제4호'에 정의된 건축물(다중이용건축물), 연면적 합계 3천제곱미더이상인 건축물, 다중이용업소등을 대상으로 조사된 값들입니다. 해당 변수들은 0~5점 까지의 분포이며, 높을수록 좋습니다. 가스와 전기 에너지 사용량 데이터는 건축데이터 민간개방시스템(http://open.eais.go.kr/) 에서 수급된 데이터로서, 값이 없는 것들은 해당 시스템에 대상이 아닌 건축물이라는 의미이며, 0인 경우는 값이 실제 0인 경우입니다. \n",
        "5. bldng_cnt 의미 : 해당 데이터는 지적(땅의 1필지)를 기준으로 작성된 데이터 입니다. 즉 1필지의 땅에 여러채의 건물이 있는 경우가 있습니다.(예: 아파트) 그 때 건물수를 건물채수라고 함.\n",
        "6. lnd_ar (토지면적) 의미 : 토지면적은 해당 필지의 면적 입니다. 토지면적이 0인 경우는 값이 누락된 경우라고 생각하시면 됩니다. \n",
        "7. 강수량같은 경우 0인 경우는 강우가 있기는 했지만 그 양이 거의 측정되지 않은 경우이며, NA의 경우는 실제 전혀 강우가 없는 경우임.\n",
        "8. \n",
        "\n",
        "\n",
        "\n",
        "\n",
        "\n",
        "\n",
        "\n",
        "\n",
        "\n",
        "\n",
        "\n"
      ]
    },
    {
      "cell_type": "markdown",
      "metadata": {
        "id": "co42L-sTxE8d",
        "colab_type": "text"
      },
      "source": [
        "## 0. Load Dependencies & Data "
      ]
    },
    {
      "cell_type": "code",
      "metadata": {
        "id": "CEAhyesL1Kdb",
        "colab_type": "code",
        "outputId": "83567f76-8a1e-46e4-9d00-0c9a5d383fa7",
        "colab": {
          "base_uri": "https://localhost:8080/",
          "height": 53
        }
      },
      "source": [
        "from google.colab import drive\n",
        "drive.mount('/content/drive')\n",
        "import os\n",
        "os.listdir(\"/content/drive/My Drive/gimhae\")"
      ],
      "execution_count": 2,
      "outputs": [
        {
          "output_type": "stream",
          "text": [
            "Drive already mounted at /content/drive; to attempt to forcibly remount, call drive.mount(\"/content/drive\", force_remount=True).\n"
          ],
          "name": "stdout"
        },
        {
          "output_type": "execute_result",
          "data": {
            "text/plain": [
              "['PJT002_test.csv', 'PJT002_validation.csv', 'PJT002_train.csv']"
            ]
          },
          "metadata": {
            "tags": []
          },
          "execution_count": 2
        }
      ]
    },
    {
      "cell_type": "code",
      "metadata": {
        "colab_type": "code",
        "id": "LkGYFYtS469H",
        "colab": {
          "base_uri": "https://localhost:8080/",
          "height": 35
        },
        "outputId": "b2e3432f-7d84-4eef-c36d-56316b57d445"
      },
      "source": [
        "from google.colab import drive\n",
        "drive.mount('/content/drive')"
      ],
      "execution_count": 3,
      "outputs": [
        {
          "output_type": "stream",
          "text": [
            "Drive already mounted at /content/drive; to attempt to forcibly remount, call drive.mount(\"/content/drive\", force_remount=True).\n"
          ],
          "name": "stdout"
        }
      ]
    },
    {
      "cell_type": "code",
      "metadata": {
        "id": "Uz8S2NEhxE8l",
        "colab_type": "code",
        "colab": {}
      },
      "source": [
        "import pandas as pd\n",
        "import numpy as np\n",
        "import matplotlib\n",
        "import matplotlib.pyplot as plt"
      ],
      "execution_count": 0,
      "outputs": []
    },
    {
      "cell_type": "code",
      "metadata": {
        "id": "b0DP9eFQxE82",
        "colab_type": "code",
        "outputId": "88292cb5-7503-4de2-d48d-94945b939fea",
        "colab": {
          "base_uri": "https://localhost:8080/",
          "height": 73
        }
      },
      "source": [
        "work_dir = '/content/drive/My Drive/gimhae/'\n",
        "\n",
        "train_set = pd.read_csv((work_dir + 'PJT002_train.csv'),encoding='utf-8' )\n",
        "validation_set = pd.read_csv((work_dir + 'PJT002_validation.csv'),encoding='utf-8' )\n",
        "# 일단 무거우니까 test_set 놔 둠.\n",
        "# test_set = pd.read_csv((work_dir + '/' + 'PJT002_test.csv')"
      ],
      "execution_count": 5,
      "outputs": [
        {
          "output_type": "stream",
          "text": [
            "/usr/local/lib/python3.6/dist-packages/IPython/core/interactiveshell.py:2718: DtypeWarning: Columns (8,172,173,174,175,176,177,178,179) have mixed types. Specify dtype option on import or set low_memory=False.\n",
            "  interactivity=interactivity, compiler=compiler, result=result)\n"
          ],
          "name": "stderr"
        }
      ]
    },
    {
      "cell_type": "code",
      "metadata": {
        "id": "teVzv__lxE9G",
        "colab_type": "code",
        "outputId": "31cf0a67-35ea-49a7-d8b5-a31c5bbf8f12",
        "colab": {
          "base_uri": "https://localhost:8080/",
          "height": 35
        }
      },
      "source": [
        "train_set[train_set['fr_yn']=='Y'].shape"
      ],
      "execution_count": 6,
      "outputs": [
        {
          "output_type": "execute_result",
          "data": {
            "text/plain": [
              "(7657, 180)"
            ]
          },
          "metadata": {
            "tags": []
          },
          "execution_count": 6
        }
      ]
    },
    {
      "cell_type": "code",
      "metadata": {
        "id": "jWeZypr2xE9Y",
        "colab_type": "code",
        "outputId": "35ef4f3f-f874-490c-e500-54ade2fb32ba",
        "colab": {
          "base_uri": "https://localhost:8080/",
          "height": 233
        }
      },
      "source": [
        "train_set['lw_13101010']"
      ],
      "execution_count": 7,
      "outputs": [
        {
          "output_type": "execute_result",
          "data": {
            "text/plain": [
              "0       NaN\n",
              "1       NaN\n",
              "2       NaN\n",
              "3       NaN\n",
              "4       NaN\n",
              "         ..\n",
              "59194   NaN\n",
              "59195   NaN\n",
              "59196   NaN\n",
              "59197   NaN\n",
              "59198   NaN\n",
              "Name: lw_13101010, Length: 59199, dtype: float64"
            ]
          },
          "metadata": {
            "tags": []
          },
          "execution_count": 7
        }
      ]
    },
    {
      "cell_type": "markdown",
      "metadata": {
        "id": "8Xw9WXltxE9p",
        "colab_type": "text"
      },
      "source": [
        "## 1. EDA"
      ]
    },
    {
      "cell_type": "code",
      "metadata": {
        "id": "BE7m1C4SxE9t",
        "colab_type": "code",
        "outputId": "a3daa05d-cccf-4276-b6e8-909dbbf214d2",
        "colab": {
          "base_uri": "https://localhost:8080/",
          "height": 525
        }
      },
      "source": [
        "train_set.head()"
      ],
      "execution_count": 8,
      "outputs": [
        {
          "output_type": "execute_result",
          "data": {
            "text/html": [
              "<div>\n",
              "<style scoped>\n",
              "    .dataframe tbody tr th:only-of-type {\n",
              "        vertical-align: middle;\n",
              "    }\n",
              "\n",
              "    .dataframe tbody tr th {\n",
              "        vertical-align: top;\n",
              "    }\n",
              "\n",
              "    .dataframe thead th {\n",
              "        text-align: right;\n",
              "    }\n",
              "</style>\n",
              "<table border=\"1\" class=\"dataframe\">\n",
              "  <thead>\n",
              "    <tr style=\"text-align: right;\">\n",
              "      <th></th>\n",
              "      <th>dt_of_fr</th>\n",
              "      <th>fr_yn</th>\n",
              "      <th>bldng_us</th>\n",
              "      <th>bldng_archtctr</th>\n",
              "      <th>bldng_cnt</th>\n",
              "      <th>bldng_ar</th>\n",
              "      <th>ttl_ar</th>\n",
              "      <th>lnd_ar</th>\n",
              "      <th>dt_of_athrztn</th>\n",
              "      <th>ttl_grnd_flr</th>\n",
              "      <th>ttl_dwn_flr</th>\n",
              "      <th>bldng_us_clssfctn</th>\n",
              "      <th>tmprtr</th>\n",
              "      <th>prcpttn</th>\n",
              "      <th>wnd_spd</th>\n",
              "      <th>wnd_drctn</th>\n",
              "      <th>hmdt</th>\n",
              "      <th>gas_engry_us_201401</th>\n",
              "      <th>ele_engry_us_201401</th>\n",
              "      <th>gas_engry_us_201402</th>\n",
              "      <th>ele_engry_us_201402</th>\n",
              "      <th>gas_engry_us_201403</th>\n",
              "      <th>ele_engry_us_201403</th>\n",
              "      <th>gas_engry_us_201404</th>\n",
              "      <th>ele_engry_us_201404</th>\n",
              "      <th>gas_engry_us_201405</th>\n",
              "      <th>ele_engry_us_201405</th>\n",
              "      <th>gas_engry_us_201406</th>\n",
              "      <th>ele_engry_us_201406</th>\n",
              "      <th>gas_engry_us_201407</th>\n",
              "      <th>ele_engry_us_201407</th>\n",
              "      <th>gas_engry_us_201408</th>\n",
              "      <th>ele_engry_us_201408</th>\n",
              "      <th>gas_engry_us_201409</th>\n",
              "      <th>ele_engry_us_201409</th>\n",
              "      <th>gas_engry_us_201410</th>\n",
              "      <th>ele_engry_us_201410</th>\n",
              "      <th>gas_engry_us_201411</th>\n",
              "      <th>ele_engry_us_201411</th>\n",
              "      <th>gas_engry_us_201412</th>\n",
              "      <th>...</th>\n",
              "      <th>lw_13101211</th>\n",
              "      <th>lw_13101310</th>\n",
              "      <th>lw_13101410</th>\n",
              "      <th>lw_13111010</th>\n",
              "      <th>lw_13111110</th>\n",
              "      <th>lw_13121010</th>\n",
              "      <th>lw_13121011</th>\n",
              "      <th>lw_13131010</th>\n",
              "      <th>lw_13131110</th>\n",
              "      <th>lw_13141010</th>\n",
              "      <th>lw_13141011</th>\n",
              "      <th>jmk</th>\n",
              "      <th>id</th>\n",
              "      <th>rgnl_ar_nm</th>\n",
              "      <th>rgnl_ar_nm2</th>\n",
              "      <th>lnd_us_sttn_nm</th>\n",
              "      <th>rd_sd_nm</th>\n",
              "      <th>emd_nm</th>\n",
              "      <th>hm_cnt</th>\n",
              "      <th>fr_sttn_dstnc</th>\n",
              "      <th>bldng_ar_prc</th>\n",
              "      <th>fr_wthr_fclt_dstnc</th>\n",
              "      <th>fr_mn_cnt</th>\n",
              "      <th>mlt_us_yn</th>\n",
              "      <th>cctv_dstnc</th>\n",
              "      <th>fr_wthr_fclt_in_100m</th>\n",
              "      <th>cctv_in_100m</th>\n",
              "      <th>tbc_rtl_str_dstnc</th>\n",
              "      <th>sft_emrgnc_bll_dstnc</th>\n",
              "      <th>ahsm_dstnc</th>\n",
              "      <th>no_tbc_zn_dstnc</th>\n",
              "      <th>bldng_cnt_in_50m</th>\n",
              "      <th>trgt_crtr</th>\n",
              "      <th>fr_fghtng_fclt_spcl_css_5_yn</th>\n",
              "      <th>fr_fghtng_fclt_spcl_css_6_yn</th>\n",
              "      <th>us_yn</th>\n",
              "      <th>dngrs_thng_yn</th>\n",
              "      <th>slf_fr_brgd_yn</th>\n",
              "      <th>blk_dngrs_thng_mnfctr_yn</th>\n",
              "      <th>cltrl_hrtg_yn</th>\n",
              "    </tr>\n",
              "  </thead>\n",
              "  <tbody>\n",
              "    <tr>\n",
              "      <th>0</th>\n",
              "      <td>2017-10-20 05:54:00</td>\n",
              "      <td>Y</td>\n",
              "      <td>단독주택</td>\n",
              "      <td>블록구조</td>\n",
              "      <td>3</td>\n",
              "      <td>69.42</td>\n",
              "      <td>69.42</td>\n",
              "      <td>0.0</td>\n",
              "      <td>1977</td>\n",
              "      <td>1.0</td>\n",
              "      <td>0.0</td>\n",
              "      <td>주거용</td>\n",
              "      <td>10.7</td>\n",
              "      <td>NaN</td>\n",
              "      <td>0.9</td>\n",
              "      <td>200.0</td>\n",
              "      <td>96.0</td>\n",
              "      <td>0.0</td>\n",
              "      <td>0.0</td>\n",
              "      <td>0.0</td>\n",
              "      <td>0.0</td>\n",
              "      <td>0.0</td>\n",
              "      <td>0.0</td>\n",
              "      <td>0.0</td>\n",
              "      <td>0.0</td>\n",
              "      <td>0.0</td>\n",
              "      <td>0.0</td>\n",
              "      <td>0.0</td>\n",
              "      <td>0.0</td>\n",
              "      <td>0.0</td>\n",
              "      <td>0.0</td>\n",
              "      <td>0.0</td>\n",
              "      <td>0.0</td>\n",
              "      <td>0.0</td>\n",
              "      <td>0.0</td>\n",
              "      <td>0.0</td>\n",
              "      <td>0.0</td>\n",
              "      <td>0.0</td>\n",
              "      <td>0.0</td>\n",
              "      <td>0.0</td>\n",
              "      <td>...</td>\n",
              "      <td>NaN</td>\n",
              "      <td>NaN</td>\n",
              "      <td>NaN</td>\n",
              "      <td>NaN</td>\n",
              "      <td>NaN</td>\n",
              "      <td>NaN</td>\n",
              "      <td>NaN</td>\n",
              "      <td>NaN</td>\n",
              "      <td>NaN</td>\n",
              "      <td>NaN</td>\n",
              "      <td>NaN</td>\n",
              "      <td>대</td>\n",
              "      <td>106536</td>\n",
              "      <td>자연녹지지역</td>\n",
              "      <td>지정되지않음</td>\n",
              "      <td>단독</td>\n",
              "      <td>세로한면(불)</td>\n",
              "      <td>경상남도 창녕군 창녕읍</td>\n",
              "      <td>17360.0</td>\n",
              "      <td>4547</td>\n",
              "      <td>NaN</td>\n",
              "      <td>133</td>\n",
              "      <td>137.0</td>\n",
              "      <td>N</td>\n",
              "      <td>112</td>\n",
              "      <td>0</td>\n",
              "      <td>0</td>\n",
              "      <td>1891</td>\n",
              "      <td>29231</td>\n",
              "      <td>11322</td>\n",
              "      <td>88</td>\n",
              "      <td>0</td>\n",
              "      <td>NaN</td>\n",
              "      <td>NaN</td>\n",
              "      <td>NaN</td>\n",
              "      <td>NaN</td>\n",
              "      <td>NaN</td>\n",
              "      <td>NaN</td>\n",
              "      <td>NaN</td>\n",
              "      <td>NaN</td>\n",
              "    </tr>\n",
              "    <tr>\n",
              "      <th>1</th>\n",
              "      <td>2018-09-30 08:26:15</td>\n",
              "      <td>N</td>\n",
              "      <td>NaN</td>\n",
              "      <td>NaN</td>\n",
              "      <td>3</td>\n",
              "      <td>46.29</td>\n",
              "      <td>46.29</td>\n",
              "      <td>0.0</td>\n",
              "      <td>NaN</td>\n",
              "      <td>1.0</td>\n",
              "      <td>0.0</td>\n",
              "      <td>NaN</td>\n",
              "      <td>19.5</td>\n",
              "      <td>NaN</td>\n",
              "      <td>0.5</td>\n",
              "      <td>20.0</td>\n",
              "      <td>74.0</td>\n",
              "      <td>NaN</td>\n",
              "      <td>NaN</td>\n",
              "      <td>NaN</td>\n",
              "      <td>NaN</td>\n",
              "      <td>NaN</td>\n",
              "      <td>NaN</td>\n",
              "      <td>NaN</td>\n",
              "      <td>NaN</td>\n",
              "      <td>NaN</td>\n",
              "      <td>NaN</td>\n",
              "      <td>NaN</td>\n",
              "      <td>NaN</td>\n",
              "      <td>NaN</td>\n",
              "      <td>NaN</td>\n",
              "      <td>NaN</td>\n",
              "      <td>NaN</td>\n",
              "      <td>NaN</td>\n",
              "      <td>NaN</td>\n",
              "      <td>NaN</td>\n",
              "      <td>NaN</td>\n",
              "      <td>NaN</td>\n",
              "      <td>NaN</td>\n",
              "      <td>NaN</td>\n",
              "      <td>...</td>\n",
              "      <td>NaN</td>\n",
              "      <td>NaN</td>\n",
              "      <td>NaN</td>\n",
              "      <td>NaN</td>\n",
              "      <td>NaN</td>\n",
              "      <td>NaN</td>\n",
              "      <td>NaN</td>\n",
              "      <td>NaN</td>\n",
              "      <td>NaN</td>\n",
              "      <td>NaN</td>\n",
              "      <td>NaN</td>\n",
              "      <td>대</td>\n",
              "      <td>86366</td>\n",
              "      <td>계획관리지역</td>\n",
              "      <td>지정되지않음</td>\n",
              "      <td>단독</td>\n",
              "      <td>세로한면(가)</td>\n",
              "      <td>경상남도 의령군 가례면</td>\n",
              "      <td>1791.0</td>\n",
              "      <td>6388</td>\n",
              "      <td>122581.0</td>\n",
              "      <td>489</td>\n",
              "      <td>85.0</td>\n",
              "      <td>N</td>\n",
              "      <td>818</td>\n",
              "      <td>0</td>\n",
              "      <td>0</td>\n",
              "      <td>4533</td>\n",
              "      <td>20480</td>\n",
              "      <td>3369</td>\n",
              "      <td>7727</td>\n",
              "      <td>0</td>\n",
              "      <td>NaN</td>\n",
              "      <td>NaN</td>\n",
              "      <td>NaN</td>\n",
              "      <td>NaN</td>\n",
              "      <td>NaN</td>\n",
              "      <td>NaN</td>\n",
              "      <td>NaN</td>\n",
              "      <td>NaN</td>\n",
              "    </tr>\n",
              "    <tr>\n",
              "      <th>2</th>\n",
              "      <td>2016-10-30 14:57:00</td>\n",
              "      <td>Y</td>\n",
              "      <td>공동주택</td>\n",
              "      <td>철근콘크리트구조</td>\n",
              "      <td>1</td>\n",
              "      <td>583.80</td>\n",
              "      <td>2516.76</td>\n",
              "      <td>1446.0</td>\n",
              "      <td>2.00011e+07</td>\n",
              "      <td>5.0</td>\n",
              "      <td>0.0</td>\n",
              "      <td>주거용</td>\n",
              "      <td>15.5</td>\n",
              "      <td>NaN</td>\n",
              "      <td>2.0</td>\n",
              "      <td>90.0</td>\n",
              "      <td>21.0</td>\n",
              "      <td>0.0</td>\n",
              "      <td>0.0</td>\n",
              "      <td>0.0</td>\n",
              "      <td>0.0</td>\n",
              "      <td>0.0</td>\n",
              "      <td>0.0</td>\n",
              "      <td>0.0</td>\n",
              "      <td>0.0</td>\n",
              "      <td>0.0</td>\n",
              "      <td>0.0</td>\n",
              "      <td>0.0</td>\n",
              "      <td>0.0</td>\n",
              "      <td>0.0</td>\n",
              "      <td>0.0</td>\n",
              "      <td>0.0</td>\n",
              "      <td>0.0</td>\n",
              "      <td>0.0</td>\n",
              "      <td>0.0</td>\n",
              "      <td>0.0</td>\n",
              "      <td>0.0</td>\n",
              "      <td>0.0</td>\n",
              "      <td>0.0</td>\n",
              "      <td>0.0</td>\n",
              "      <td>...</td>\n",
              "      <td>NaN</td>\n",
              "      <td>NaN</td>\n",
              "      <td>NaN</td>\n",
              "      <td>NaN</td>\n",
              "      <td>NaN</td>\n",
              "      <td>NaN</td>\n",
              "      <td>NaN</td>\n",
              "      <td>NaN</td>\n",
              "      <td>NaN</td>\n",
              "      <td>NaN</td>\n",
              "      <td>NaN</td>\n",
              "      <td>답</td>\n",
              "      <td>107560</td>\n",
              "      <td>제2종일반주거지역</td>\n",
              "      <td>지정되지않음</td>\n",
              "      <td>연립</td>\n",
              "      <td>중로한면</td>\n",
              "      <td>경상남도 창녕군 창녕읍</td>\n",
              "      <td>17285.0</td>\n",
              "      <td>3340</td>\n",
              "      <td>618105.0</td>\n",
              "      <td>143</td>\n",
              "      <td>137.0</td>\n",
              "      <td>N</td>\n",
              "      <td>165</td>\n",
              "      <td>0</td>\n",
              "      <td>0</td>\n",
              "      <td>277</td>\n",
              "      <td>31197</td>\n",
              "      <td>12451</td>\n",
              "      <td>72</td>\n",
              "      <td>14</td>\n",
              "      <td>NaN</td>\n",
              "      <td>NaN</td>\n",
              "      <td>NaN</td>\n",
              "      <td>NaN</td>\n",
              "      <td>NaN</td>\n",
              "      <td>NaN</td>\n",
              "      <td>NaN</td>\n",
              "      <td>NaN</td>\n",
              "    </tr>\n",
              "    <tr>\n",
              "      <th>3</th>\n",
              "      <td>2016-06-14 05:23:58</td>\n",
              "      <td>N</td>\n",
              "      <td>단독주택</td>\n",
              "      <td>일반목구조</td>\n",
              "      <td>2</td>\n",
              "      <td>48.92</td>\n",
              "      <td>48.92</td>\n",
              "      <td>0.0</td>\n",
              "      <td>1936</td>\n",
              "      <td>1.0</td>\n",
              "      <td>0.0</td>\n",
              "      <td>주거용</td>\n",
              "      <td>20.6</td>\n",
              "      <td>NaN</td>\n",
              "      <td>0.4</td>\n",
              "      <td>0.0</td>\n",
              "      <td>91.0</td>\n",
              "      <td>0.0</td>\n",
              "      <td>0.0</td>\n",
              "      <td>0.0</td>\n",
              "      <td>0.0</td>\n",
              "      <td>0.0</td>\n",
              "      <td>0.0</td>\n",
              "      <td>0.0</td>\n",
              "      <td>0.0</td>\n",
              "      <td>0.0</td>\n",
              "      <td>0.0</td>\n",
              "      <td>0.0</td>\n",
              "      <td>0.0</td>\n",
              "      <td>0.0</td>\n",
              "      <td>0.0</td>\n",
              "      <td>0.0</td>\n",
              "      <td>0.0</td>\n",
              "      <td>0.0</td>\n",
              "      <td>0.0</td>\n",
              "      <td>0.0</td>\n",
              "      <td>0.0</td>\n",
              "      <td>0.0</td>\n",
              "      <td>0.0</td>\n",
              "      <td>0.0</td>\n",
              "      <td>...</td>\n",
              "      <td>NaN</td>\n",
              "      <td>NaN</td>\n",
              "      <td>NaN</td>\n",
              "      <td>NaN</td>\n",
              "      <td>NaN</td>\n",
              "      <td>NaN</td>\n",
              "      <td>NaN</td>\n",
              "      <td>NaN</td>\n",
              "      <td>NaN</td>\n",
              "      <td>NaN</td>\n",
              "      <td>NaN</td>\n",
              "      <td>대</td>\n",
              "      <td>97550</td>\n",
              "      <td>제1종일반주거지역</td>\n",
              "      <td>지정되지않음</td>\n",
              "      <td>단독</td>\n",
              "      <td>세로한면(불)</td>\n",
              "      <td>경상남도 창원시의창구 대산면</td>\n",
              "      <td>7327.0</td>\n",
              "      <td>179</td>\n",
              "      <td>719542.0</td>\n",
              "      <td>1585</td>\n",
              "      <td>176.0</td>\n",
              "      <td>N</td>\n",
              "      <td>131</td>\n",
              "      <td>0</td>\n",
              "      <td>0</td>\n",
              "      <td>438</td>\n",
              "      <td>4270</td>\n",
              "      <td>407</td>\n",
              "      <td>508</td>\n",
              "      <td>11</td>\n",
              "      <td>NaN</td>\n",
              "      <td>NaN</td>\n",
              "      <td>NaN</td>\n",
              "      <td>NaN</td>\n",
              "      <td>NaN</td>\n",
              "      <td>NaN</td>\n",
              "      <td>NaN</td>\n",
              "      <td>NaN</td>\n",
              "    </tr>\n",
              "    <tr>\n",
              "      <th>4</th>\n",
              "      <td>2018-04-22 05:38:59</td>\n",
              "      <td>N</td>\n",
              "      <td>NaN</td>\n",
              "      <td>NaN</td>\n",
              "      <td>2</td>\n",
              "      <td>0.00</td>\n",
              "      <td>0.00</td>\n",
              "      <td>0.0</td>\n",
              "      <td>NaN</td>\n",
              "      <td>NaN</td>\n",
              "      <td>NaN</td>\n",
              "      <td>NaN</td>\n",
              "      <td>12.7</td>\n",
              "      <td>NaN</td>\n",
              "      <td>0.6</td>\n",
              "      <td>360.0</td>\n",
              "      <td>89.0</td>\n",
              "      <td>NaN</td>\n",
              "      <td>NaN</td>\n",
              "      <td>NaN</td>\n",
              "      <td>NaN</td>\n",
              "      <td>NaN</td>\n",
              "      <td>NaN</td>\n",
              "      <td>NaN</td>\n",
              "      <td>NaN</td>\n",
              "      <td>NaN</td>\n",
              "      <td>NaN</td>\n",
              "      <td>NaN</td>\n",
              "      <td>NaN</td>\n",
              "      <td>NaN</td>\n",
              "      <td>NaN</td>\n",
              "      <td>NaN</td>\n",
              "      <td>NaN</td>\n",
              "      <td>NaN</td>\n",
              "      <td>NaN</td>\n",
              "      <td>NaN</td>\n",
              "      <td>NaN</td>\n",
              "      <td>NaN</td>\n",
              "      <td>NaN</td>\n",
              "      <td>NaN</td>\n",
              "      <td>...</td>\n",
              "      <td>NaN</td>\n",
              "      <td>NaN</td>\n",
              "      <td>NaN</td>\n",
              "      <td>NaN</td>\n",
              "      <td>NaN</td>\n",
              "      <td>NaN</td>\n",
              "      <td>NaN</td>\n",
              "      <td>NaN</td>\n",
              "      <td>NaN</td>\n",
              "      <td>NaN</td>\n",
              "      <td>NaN</td>\n",
              "      <td>임</td>\n",
              "      <td>130501</td>\n",
              "      <td>자연환경보전지역</td>\n",
              "      <td>지정되지않음</td>\n",
              "      <td>자연림</td>\n",
              "      <td>세로한면(불)</td>\n",
              "      <td>경상남도 창녕군 창녕읍</td>\n",
              "      <td>17278.0</td>\n",
              "      <td>4822</td>\n",
              "      <td>NaN</td>\n",
              "      <td>603</td>\n",
              "      <td>137.0</td>\n",
              "      <td>N</td>\n",
              "      <td>686</td>\n",
              "      <td>0</td>\n",
              "      <td>0</td>\n",
              "      <td>1702</td>\n",
              "      <td>29778</td>\n",
              "      <td>12487</td>\n",
              "      <td>707</td>\n",
              "      <td>0</td>\n",
              "      <td>NaN</td>\n",
              "      <td>NaN</td>\n",
              "      <td>NaN</td>\n",
              "      <td>NaN</td>\n",
              "      <td>NaN</td>\n",
              "      <td>NaN</td>\n",
              "      <td>NaN</td>\n",
              "      <td>NaN</td>\n",
              "    </tr>\n",
              "  </tbody>\n",
              "</table>\n",
              "<p>5 rows × 180 columns</p>\n",
              "</div>"
            ],
            "text/plain": [
              "              dt_of_fr fr_yn  ... blk_dngrs_thng_mnfctr_yn cltrl_hrtg_yn\n",
              "0  2017-10-20 05:54:00     Y  ...                      NaN           NaN\n",
              "1  2018-09-30 08:26:15     N  ...                      NaN           NaN\n",
              "2  2016-10-30 14:57:00     Y  ...                      NaN           NaN\n",
              "3  2016-06-14 05:23:58     N  ...                      NaN           NaN\n",
              "4  2018-04-22 05:38:59     N  ...                      NaN           NaN\n",
              "\n",
              "[5 rows x 180 columns]"
            ]
          },
          "metadata": {
            "tags": []
          },
          "execution_count": 8
        }
      ]
    },
    {
      "cell_type": "code",
      "metadata": {
        "id": "ADfilGbuxE9-",
        "colab_type": "code",
        "outputId": "25e7f06e-b6d7-4f37-f5f9-a6334c52ebab",
        "colab": {
          "base_uri": "https://localhost:8080/",
          "height": 107
        }
      },
      "source": [
        "train_set.info()"
      ],
      "execution_count": 9,
      "outputs": [
        {
          "output_type": "stream",
          "text": [
            "<class 'pandas.core.frame.DataFrame'>\n",
            "RangeIndex: 59199 entries, 0 to 59198\n",
            "Columns: 180 entries, dt_of_fr to cltrl_hrtg_yn\n",
            "dtypes: float64(147), int64(12), object(21)\n",
            "memory usage: 81.3+ MB\n"
          ],
          "name": "stdout"
        }
      ]
    },
    {
      "cell_type": "markdown",
      "metadata": {
        "id": "6Yud_Y7rxE-N",
        "colab_type": "text"
      },
      "source": [
        "\n",
        "#####  일단 3가지 맡은 변수를 나누고, 할당했습니다. "
      ]
    },
    {
      "cell_type": "code",
      "metadata": {
        "id": "qp5BUUq8xE-Q",
        "colab_type": "code",
        "colab": {}
      },
      "source": [
        "id = train_set.loc[:,'id']\n",
        "ele = train_set.loc[:,'ele_engry_us_201401':'ele_engry_us_201812']\n",
        "ele = pd.concat([ele,id], axis = 1)\n",
        "gas = train_set.loc[:,'gas_engry_us_201401':'gas_engry_us_201812']\n",
        "gas = pd.concat([gas,id], axis = 1)\n",
        "lw = train_set.loc[:,'lw_13101010':'lw_13141011']\n",
        "lw = pd.concat([lw,id], axis = 1)"
      ],
      "execution_count": 0,
      "outputs": []
    },
    {
      "cell_type": "code",
      "metadata": {
        "scrolled": true,
        "id": "tK2s0ZwmxE-x",
        "colab_type": "code",
        "outputId": "548a4ba4-f0be-4c52-8476-df88a040cb02",
        "colab": {
          "base_uri": "https://localhost:8080/",
          "height": 71
        }
      },
      "source": [
        "print(ele.shape)\n",
        "print(gas.shape)\n",
        "print(lw.shape)"
      ],
      "execution_count": 14,
      "outputs": [
        {
          "output_type": "stream",
          "text": [
            "(59199, 120)\n",
            "(59199, 120)\n",
            "(59199, 15)\n"
          ],
          "name": "stdout"
        }
      ]
    },
    {
      "cell_type": "code",
      "metadata": {
        "id": "R4WE3US6xE_I",
        "colab_type": "code",
        "outputId": "50cf633d-3934-4485-935b-5b9ecf6ded03",
        "colab": {
          "base_uri": "https://localhost:8080/",
          "height": 233
        }
      },
      "source": [
        "ele.iloc[:,0].value_counts(dropna=False) # 14년 1월 전기 사용량\n",
        "# 전체 데이터가 59199인데, 대충 결측이거나 0에 가까운 데이터가 58600이 넘습니다. "
      ],
      "execution_count": 15,
      "outputs": [
        {
          "output_type": "execute_result",
          "data": {
            "text/plain": [
              "0.0        31189\n",
              "NaN        27581\n",
              "273.0          3\n",
              "3318.0         3\n",
              "7203.0         3\n",
              "           ...  \n",
              "95382.0        1\n",
              "19755.0        1\n",
              "35454.0        1\n",
              "1440.0         1\n",
              "69657.0        1\n",
              "Name: ele_engry_us_201401, Length: 381, dtype: int64"
            ]
          },
          "metadata": {
            "tags": []
          },
          "execution_count": 15
        }
      ]
    },
    {
      "cell_type": "code",
      "metadata": {
        "colab_type": "code",
        "outputId": "2701cce4-3a50-4744-f3ea-986df0e5e632",
        "id": "M1CAgcLf7XMf",
        "colab": {
          "base_uri": "https://localhost:8080/",
          "height": 233
        }
      },
      "source": [
        "gas.iloc[:,0].value_counts(dropna=False) # 14년 1월 가스 사용량\n",
        "# 이쪽도 마찬가지입니다."
      ],
      "execution_count": 16,
      "outputs": [
        {
          "output_type": "execute_result",
          "data": {
            "text/plain": [
              "0.0           31332\n",
              "NaN           27581\n",
              "25665200.0        5\n",
              "50752.0           4\n",
              "987056.0          4\n",
              "              ...  \n",
              "3500.0            1\n",
              "16284.0           1\n",
              "2004.0            1\n",
              "27965.0           1\n",
              "127194.0          1\n",
              "Name: gas_engry_us_201401, Length: 255, dtype: int64"
            ]
          },
          "metadata": {
            "tags": []
          },
          "execution_count": 16
        }
      ]
    },
    {
      "cell_type": "code",
      "metadata": {
        "colab_type": "code",
        "outputId": "199be5c4-0814-48cb-e6f1-3fcfa0f0548f",
        "id": "kyxQIvaX7XWI",
        "colab": {
          "base_uri": "https://localhost:8080/",
          "height": 35
        }
      },
      "source": [
        "lw.iloc[:,0].value_counts(dropna=False) # lw1 : 복도, 계단, 출입구의 성능 유지여부\n",
        "lw.iloc[:,0].value_counts(dropna=True).values.sum() # lw1 : 복도, 계단, 출입구의 성능 유지여부 중 결측이 아닌 값의 개수. 302입니다."
      ],
      "execution_count": 17,
      "outputs": [
        {
          "output_type": "execute_result",
          "data": {
            "text/plain": [
              "302"
            ]
          },
          "metadata": {
            "tags": []
          },
          "execution_count": 17
        }
      ]
    },
    {
      "cell_type": "code",
      "metadata": {
        "colab_type": "code",
        "id": "HBthZ3Ay-Lq9",
        "colab": {
          "base_uri": "https://localhost:8080/",
          "height": 35
        },
        "outputId": "4eddf6b7-5638-4ba1-95fb-df89173ea46b"
      },
      "source": [
        "train_set.loc[train_set['mlt_us_yn']=='Y',:].shape[0] \n",
        "# mlt_us_yn열이 다중이용시설 포함여부기에 어떻게 써먹을 수 없을까 하고 일단 개수를 봤는데 당장 lw보다 개수가 적습니다. \n",
        "# 아마도 lw변수는 다중이용시설 뿐 아니라 면적, 다중이용업소등을 모두 포함하기 때문인 것으로 추정됩니다.\n",
        "# Q&A에 질문은 올려두겠습니다."
      ],
      "execution_count": 18,
      "outputs": [
        {
          "output_type": "execute_result",
          "data": {
            "text/plain": [
              "189"
            ]
          },
          "metadata": {
            "tags": []
          },
          "execution_count": 18
        }
      ]
    },
    {
      "cell_type": "markdown",
      "metadata": {
        "id": "jIfbo4OTxFEq",
        "colab_type": "text"
      },
      "source": [
        "## 1-2) EDA_2 ( 맡은 변수)"
      ]
    },
    {
      "cell_type": "code",
      "metadata": {
        "id": "fsusnowAxFEv",
        "colab_type": "code",
        "outputId": "35dad66f-6f97-4b6f-f6ca-f4edf716c638",
        "colab": {
          "base_uri": "https://localhost:8080/",
          "height": 125
        }
      },
      "source": [
        "# 내가 만질 변수_1\n",
        "print(ele.info())"
      ],
      "execution_count": 19,
      "outputs": [
        {
          "output_type": "stream",
          "text": [
            "<class 'pandas.core.frame.DataFrame'>\n",
            "RangeIndex: 59199 entries, 0 to 59198\n",
            "Columns: 120 entries, ele_engry_us_201401 to id\n",
            "dtypes: float64(119), int64(1)\n",
            "memory usage: 54.2 MB\n",
            "None\n"
          ],
          "name": "stdout"
        }
      ]
    },
    {
      "cell_type": "markdown",
      "metadata": {
        "id": "YEgTjgpVxFFI",
        "colab_type": "text"
      },
      "source": [
        "*0은 없는 값, NaN은 결측*"
      ]
    },
    {
      "cell_type": "code",
      "metadata": {
        "id": "mBlYNYF1xFFL",
        "colab_type": "code",
        "outputId": "a34badab-100d-48f5-9fc4-71534f5ca4ad",
        "colab": {
          "base_uri": "https://localhost:8080/",
          "height": 125
        }
      },
      "source": [
        "# 내가 만질 변수_2\n",
        "print(gas.info())"
      ],
      "execution_count": 20,
      "outputs": [
        {
          "output_type": "stream",
          "text": [
            "<class 'pandas.core.frame.DataFrame'>\n",
            "RangeIndex: 59199 entries, 0 to 59198\n",
            "Columns: 120 entries, gas_engry_us_201401 to id\n",
            "dtypes: float64(119), int64(1)\n",
            "memory usage: 54.2 MB\n",
            "None\n"
          ],
          "name": "stdout"
        }
      ]
    },
    {
      "cell_type": "markdown",
      "metadata": {
        "id": "5O7s1aWzxFFa",
        "colab_type": "text"
      },
      "source": [
        "*마찬가지 0은 없는 값, NaN은 결측*"
      ]
    },
    {
      "cell_type": "code",
      "metadata": {
        "id": "s6TTiTUdxFFe",
        "colab_type": "code",
        "colab": {
          "base_uri": "https://localhost:8080/",
          "height": 395
        },
        "outputId": "8170c766-f50c-4782-96a1-a55ac01ce135"
      },
      "source": [
        "# 변수가 너무 많이서 대체 뭘 어떻게 해야 할지 감이 안옵니다. 일단 데이터를 수집한 기간이 같으니 평균 강수량, 가스사용량 열을 생성해서 뭘 해보겠습니다.\n",
        "ele['tot'] = ele.mean(1, skipna=True)\n",
        "print(ele['tot'].sort_values(ascending = False).head(20)"
      ],
      "execution_count": 24,
      "outputs": [
        {
          "output_type": "execute_result",
          "data": {
            "text/plain": [
              "12786    2.087865e+08\n",
              "12645    2.087863e+08\n",
              "12658    2.087862e+08\n",
              "12637    2.087862e+08\n",
              "12664    2.087861e+08\n",
              "56616    1.725066e+08\n",
              "56619    1.725065e+08\n",
              "56622    1.725064e+08\n",
              "56615    1.725063e+08\n",
              "56626    1.725062e+08\n",
              "56624    1.725061e+08\n",
              "36378    1.691603e+08\n",
              "30341    1.691602e+08\n",
              "33079    1.691602e+08\n",
              "36377    1.691600e+08\n",
              "36381    1.691597e+08\n",
              "36380    1.691597e+08\n",
              "2694     9.074334e+07\n",
              "2714     9.074291e+07\n",
              "2704     9.074289e+07\n",
              "Name: tot, dtype: float64"
            ]
          },
          "metadata": {
            "tags": []
          },
          "execution_count": 24
        }
      ]
    },
    {
      "cell_type": "code",
      "metadata": {
        "scrolled": false,
        "id": "9rlNbHdwxFF2",
        "colab_type": "code",
        "outputId": "10add601-9c2c-42c7-eefd-ba4efb2c1a10",
        "colab": {
          "base_uri": "https://localhost:8080/",
          "height": 161
        }
      },
      "source": [
        "# 총 전력 사용량이 동일한 애들이 많아서, 같은 건물인가 싶어 id value를 찍어봤습니다. \n",
        "ele['tot'].sort_values(ascending = False).head(20).keys()\n",
        "print(ele.loc[[12664,12637,12786,12645,12658],]) # 다릅니다."
      ],
      "execution_count": 35,
      "outputs": [
        {
          "output_type": "stream",
          "text": [
            "       ele_engry_us_201401  gas_engry_us_201402  ...      id           tot\n",
            "12664                  0.0           30016800.0  ...   72136  2.087861e+08\n",
            "12637                  0.0           30016800.0  ...   88029  2.087862e+08\n",
            "12786                  0.0           30016800.0  ...  126509  2.087865e+08\n",
            "12645                  0.0           30016800.0  ...  104888  2.087863e+08\n",
            "12658                  0.0           30016800.0  ...   90812  2.087862e+08\n",
            "\n",
            "[5 rows x 121 columns]\n"
          ],
          "name": "stdout"
        }
      ]
    },
    {
      "cell_type": "code",
      "metadata": {
        "id": "xZmiEQokxFGE",
        "colab_type": "code",
        "colab": {
          "base_uri": "https://localhost:8080/",
          "height": 233
        },
        "outputId": "2850bb42-37eb-427f-e655-d9d9f64c4b06"
      },
      "source": [
        "# 일단 이상하니 주소를 찍었습니다. \n",
        "print(train_set.loc[train_set['id'].isin([72136,88029,126509,104888,90812]),'emd_nm']) #같습니다.\n",
        "\n",
        "# 다른 것도 찍어봅시다.\n",
        "print(train_set.loc[train_set['id'].isin([72136,88029,126509,104888,90812]),['bldng_ar_prc','cctv_dstnc']]) #같습니다.\n",
        "\n",
        "# 아주 높은 확률로 같은 건물인 것으로 추정됩니다.\n",
        "# 아마도 불이 여러번 난 것이 아닐까 생각합니다. "
      ],
      "execution_count": 43,
      "outputs": [
        {
          "output_type": "stream",
          "text": [
            "12637    경상남도 거제시 수양동\n",
            "12645    경상남도 거제시 수양동\n",
            "12658    경상남도 거제시 수양동\n",
            "12664    경상남도 거제시 수양동\n",
            "12786    경상남도 거제시 수양동\n",
            "Name: emd_nm, dtype: object\n",
            "       bldng_ar_prc  cctv_dstnc\n",
            "12637     2024453.0          88\n",
            "12645     2024453.0          88\n",
            "12658     2024453.0          88\n",
            "12664     2024453.0          88\n",
            "12786     2024453.0          88\n"
          ],
          "name": "stdout"
        }
      ]
    },
    {
      "cell_type": "code",
      "metadata": {
        "id": "QpLdw5LAxFGQ",
        "colab_type": "code",
        "colab": {
          "base_uri": "https://localhost:8080/",
          "height": 125
        },
        "outputId": "785a511d-dd55-4e16-8931-8437238d32b5"
      },
      "source": [
        "# 그러면 dt_of_fr을 찍어봅시다. \n",
        "print(train_set.loc[train_set['id'].isin([72136,88029,126509,104888,90812]),['dt_of_fr']])\n",
        "# 예상대로입니다. 데이터가 굉장히 Tidy하지 않은 것을 확인할 수 있습니다. \n",
        "# 어떡하죠 이거. EDA전에 reshaping이 급해보입니다.\n",
        "# 이 raw data를 그냥 쓰는 것은 의미가 없습니다. 중지합니다."
      ],
      "execution_count": 44,
      "outputs": [
        {
          "output_type": "stream",
          "text": [
            "                  dt_of_fr\n",
            "12637  2014-10-23 16:33:00\n",
            "12645  2017-10-16 16:59:00\n",
            "12658  2017-09-17 04:05:00\n",
            "12664  2018-07-23 14:43:00\n",
            "12786  2015-02-11 21:11:00\n"
          ],
          "name": "stdout"
        }
      ]
    },
    {
      "cell_type": "code",
      "metadata": {
        "id": "6rbdpG_mxFGc",
        "colab_type": "code",
        "colab": {}
      },
      "source": [
        ""
      ],
      "execution_count": 0,
      "outputs": []
    },
    {
      "cell_type": "code",
      "metadata": {
        "id": "-mlbD-raxFG9",
        "colab_type": "code",
        "colab": {}
      },
      "source": [
        ""
      ],
      "execution_count": 0,
      "outputs": []
    },
    {
      "cell_type": "code",
      "metadata": {
        "id": "E7Cg70jxxFHQ",
        "colab_type": "code",
        "colab": {}
      },
      "source": [
        ""
      ],
      "execution_count": 0,
      "outputs": []
    }
  ]
}