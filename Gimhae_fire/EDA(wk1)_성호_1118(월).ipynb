{
 "cells": [
  {
   "cell_type": "code",
   "execution_count": 2,
   "metadata": {},
   "outputs": [
    {
     "name": "stderr",
     "output_type": "stream",
     "text": [
      "C:\\Users\\Caleb\\Anaconda3\\lib\\site-packages\\IPython\\core\\interactiveshell.py:3057: DtypeWarning: Columns (8,172,173,174,175,176,177,178,179) have mixed types. Specify dtype option on import or set low_memory=False.\n",
      "  interactivity=interactivity, compiler=compiler, result=result)\n"
     ]
    }
   ],
   "source": [
    "import pandas as pd\n",
    "import numpy as np\n",
    "import matplotlib\n",
    "import matplotlib.pyplot as plt\n",
    "\n",
    "train = pd.read_csv(\"D:\\project/PJT002_train.csv\", encoding = 'utf-8')"
   ]
  },
  {
   "cell_type": "code",
   "execution_count": 3,
   "metadata": {},
   "outputs": [
    {
     "data": {
      "text/plain": [
       "<matplotlib.axes._subplots.AxesSubplot at 0x242b41fd4e0>"
      ]
     },
     "execution_count": 3,
     "metadata": {},
     "output_type": "execute_result"
    },
    {
     "data": {
      "image/png": "[encoded data removed]",
      "text/plain": [
       "<Figure size 432x288 with 1 Axes>"
      ]
     },
     "metadata": {
      "needs_background": "light"
     },
     "output_type": "display_data"
    }
   ],
   "source": [
    "train['fr_yn'].value_counts().plot(kind='bar')"
   ]
  },
  {
   "cell_type": "code",
   "execution_count": 4,
   "metadata": {
    "scrolled": true
   },
   "outputs": [
    {
     "data": {
      "text/html": [
       "<div>\n",
       "<style scoped>\n",
       "    .dataframe tbody tr th:only-of-type {\n",
       "        vertical-align: middle;\n",
       "    }\n",
       "\n",
       "    .dataframe tbody tr th {\n",
       "        vertical-align: top;\n",
       "    }\n",
       "\n",
       "    .dataframe thead th {\n",
       "        text-align: right;\n",
       "    }\n",
       "</style>\n",
       "<table border=\"1\" class=\"dataframe\">\n",
       "  <thead>\n",
       "    <tr style=\"text-align: right;\">\n",
       "      <th></th>\n",
       "      <th>fr_sttn_dstnc</th>\n",
       "      <th>fr_wthr_fclt_dstnc</th>\n",
       "      <th>cctv_dstnc</th>\n",
       "      <th>fr_wthr_fclt_in_100m</th>\n",
       "      <th>cctv_in_100m</th>\n",
       "      <th>tbc_rtl_str_dstnc</th>\n",
       "      <th>sft_emrgnc_bll_dstnc</th>\n",
       "      <th>ahsm_dstnc</th>\n",
       "      <th>no_tbc_zn_dstnc</th>\n",
       "    </tr>\n",
       "  </thead>\n",
       "  <tbody>\n",
       "    <tr>\n",
       "      <td>0</td>\n",
       "      <td>4547</td>\n",
       "      <td>133</td>\n",
       "      <td>112</td>\n",
       "      <td>0</td>\n",
       "      <td>0</td>\n",
       "      <td>1891</td>\n",
       "      <td>29231</td>\n",
       "      <td>11322</td>\n",
       "      <td>88</td>\n",
       "    </tr>\n",
       "    <tr>\n",
       "      <td>1</td>\n",
       "      <td>6388</td>\n",
       "      <td>489</td>\n",
       "      <td>818</td>\n",
       "      <td>0</td>\n",
       "      <td>0</td>\n",
       "      <td>4533</td>\n",
       "      <td>20480</td>\n",
       "      <td>3369</td>\n",
       "      <td>7727</td>\n",
       "    </tr>\n",
       "    <tr>\n",
       "      <td>2</td>\n",
       "      <td>3340</td>\n",
       "      <td>143</td>\n",
       "      <td>165</td>\n",
       "      <td>0</td>\n",
       "      <td>0</td>\n",
       "      <td>277</td>\n",
       "      <td>31197</td>\n",
       "      <td>12451</td>\n",
       "      <td>72</td>\n",
       "    </tr>\n",
       "    <tr>\n",
       "      <td>3</td>\n",
       "      <td>179</td>\n",
       "      <td>1585</td>\n",
       "      <td>131</td>\n",
       "      <td>0</td>\n",
       "      <td>0</td>\n",
       "      <td>438</td>\n",
       "      <td>4270</td>\n",
       "      <td>407</td>\n",
       "      <td>508</td>\n",
       "    </tr>\n",
       "    <tr>\n",
       "      <td>4</td>\n",
       "      <td>4822</td>\n",
       "      <td>603</td>\n",
       "      <td>686</td>\n",
       "      <td>0</td>\n",
       "      <td>0</td>\n",
       "      <td>1702</td>\n",
       "      <td>29778</td>\n",
       "      <td>12487</td>\n",
       "      <td>707</td>\n",
       "    </tr>\n",
       "  </tbody>\n",
       "</table>\n",
       "</div>"
      ],
      "text/plain": [
       "   fr_sttn_dstnc  fr_wthr_fclt_dstnc  cctv_dstnc  fr_wthr_fclt_in_100m  \\\n",
       "0           4547                 133         112                     0   \n",
       "1           6388                 489         818                     0   \n",
       "2           3340                 143         165                     0   \n",
       "3            179                1585         131                     0   \n",
       "4           4822                 603         686                     0   \n",
       "\n",
       "   cctv_in_100m  tbc_rtl_str_dstnc  sft_emrgnc_bll_dstnc  ahsm_dstnc  \\\n",
       "0             0               1891                 29231       11322   \n",
       "1             0               4533                 20480        3369   \n",
       "2             0                277                 31197       12451   \n",
       "3             0                438                  4270         407   \n",
       "4             0               1702                 29778       12487   \n",
       "\n",
       "   no_tbc_zn_dstnc  \n",
       "0               88  \n",
       "1             7727  \n",
       "2               72  \n",
       "3              508  \n",
       "4              707  "
      ]
     },
     "execution_count": 4,
     "metadata": {},
     "output_type": "execute_result"
    }
   ],
   "source": [
    "train.iloc[0:5,[159,161,164,165,166,167,168,169,170]]"
   ]
  },
  {
   "cell_type": "markdown",
   "metadata": {},
   "source": [
    "# 거리\n",
    "119 안전센터와의 거리\n",
    "소방용수시설(소화전 등)과의 최소 거리\n",
    "공공 CCTV와의 최소 거리\n",
    "반경 100m 이내 공공 CCTV\n",
    "반경 100m 이내 소방용수 시설 수\n",
    "담배 소매점과의 최소 거리\n",
    "안전 비상벨과의 최소 거리\n",
    "자동 심장 충격기와의 최소 거리\n",
    "금연구역과의 최소 거리"
   ]
  },
  {
   "cell_type": "markdown",
   "metadata": {},
   "source": [
    "## 119 안전센터와의 거리"
   ]
  },
  {
   "cell_type": "code",
   "execution_count": 60,
   "metadata": {},
   "outputs": [],
   "source": [
    "def cat_search(var1,var2) : \n",
    "    var1_name = var1.name\n",
    "    var2_name = var2.name\n",
    "    \n",
    "    var1_cat_nums = var1.unique()\n",
    "    var1_count = var1.value_counts()\n",
    "    var2_total = len(var2)\n",
    "\n",
    "    var1_var2 = pd.DataFrame(np.c_[var1,var2],columns=[var1_name,var2_name])\n",
    "    \n",
    "    var2_count_by_cat = var1_var2.groupby(axis=0,by=var1_name).count()\n",
    "    var2_count_Y_by_cat = var1_var2[ var1_var2[var2.name]=='Y' ].groupby(by=var1_name).count()\n",
    "    var2_count_N_by_cat = var1_var2[ var1_var2[var2.name]=='N' ].groupby(by=var1_name).count()\n",
    "    \n",
    "    weights = (var2_count_by_cat / len(var2)).round(3)\n",
    "    \n",
    "    output= pd.concat([var2_count_by_cat,var2_count_Y_by_cat,var2_count_N_by_cat,weights],axis=1,join='outer')\n",
    "    output= output.fillna(0)\n",
    "    output.columns = ['Total','Y','N','weights']\n",
    "    \n",
    "    output['Y/Total'] = (output['Y']/output['Total']).round(2)\n",
    "    output['N/Total'] = (output['N']/output['Total']).round(2)\n",
    "    \n",
    "    return output"
   ]
  },
  {
   "cell_type": "code",
   "execution_count": 72,
   "metadata": {},
   "outputs": [
    {
     "data": {
      "text/plain": [
       "<matplotlib.axes._subplots.AxesSubplot at 0x242b51d7128>"
      ]
     },
     "execution_count": 72,
     "metadata": {},
     "output_type": "execute_result"
    },
    {
     "data": {
      "image/png": "[encoded data removed]",
      "text/plain": [
       "<Figure size 432x288 with 1 Axes>"
      ]
     },
     "metadata": {
      "needs_background": "light"
     },
     "output_type": "display_data"
    }
   ],
   "source": [
    "pd.DataFrame(train[['fr_sttn_dstnc','fr_yn']]).boxplot(by='fr_yn')"
   ]
  },
  {
   "cell_type": "code",
   "execution_count": 76,
   "metadata": {
    "scrolled": true
   },
   "outputs": [
    {
     "name": "stdout",
     "output_type": "stream",
     "text": [
      "4\n",
      "38044\n"
     ]
    },
    {
     "data": {
      "text/plain": [
       "0           (-4, 5000]\n",
       "1        (5000, 10000]\n",
       "2           (-4, 5000]\n",
       "3           (-4, 5000]\n",
       "4           (-4, 5000]\n",
       "             ...      \n",
       "59194       (-4, 5000]\n",
       "59195       (-4, 5000]\n",
       "59196    (5000, 10000]\n",
       "59197    (5000, 10000]\n",
       "59198       (-4, 5000]\n",
       "Name: fr_sttn_dstnc_bins, Length: 59199, dtype: category\n",
       "Categories (12, interval[int64]): [(-4, 5000] < (5000, 10000] < (10000, 15000] < (15000, 20000] ... (40000, 45000] < (45000, 50000] < (50000, 55000] < (55000, 60000]]"
      ]
     },
     "execution_count": 76,
     "metadata": {},
     "output_type": "execute_result"
    }
   ],
   "source": [
    "print(min(train.fr_sttn_dstnc))\n",
    "print(max(train.fr_sttn_dstnc))\n",
    "bins_temrtr = [-4, 5000, 10000, 15000,20000,25000,30000,35000,40000,45000,50000,55000,60000]\n",
    "train['fr_sttn_dstnc_bins'] = pd.cut(train['fr_sttn_dstnc'], bins_temrtr)\n",
    "train['fr_sttn_dstnc_bins']"
   ]
  },
  {
   "cell_type": "code",
   "execution_count": 89,
   "metadata": {},
   "outputs": [
    {
     "data": {
      "text/plain": [
       "180"
      ]
     },
     "execution_count": 89,
     "metadata": {},
     "output_type": "execute_result"
    }
   ],
   "source": [
    "train.columns.get_loc('fr_sttn_dstnc_bins')"
   ]
  },
  {
   "cell_type": "code",
   "execution_count": 92,
   "metadata": {
    "scrolled": true
   },
   "outputs": [
    {
     "data": {
      "text/html": [
       "<div>\n",
       "<style scoped>\n",
       "    .dataframe tbody tr th:only-of-type {\n",
       "        vertical-align: middle;\n",
       "    }\n",
       "\n",
       "    .dataframe tbody tr th {\n",
       "        vertical-align: top;\n",
       "    }\n",
       "\n",
       "    .dataframe thead th {\n",
       "        text-align: right;\n",
       "    }\n",
       "</style>\n",
       "<table border=\"1\" class=\"dataframe\">\n",
       "  <thead>\n",
       "    <tr style=\"text-align: right;\">\n",
       "      <th></th>\n",
       "      <th>Total</th>\n",
       "      <th>Y</th>\n",
       "      <th>N</th>\n",
       "      <th>weights</th>\n",
       "      <th>Y/Total</th>\n",
       "      <th>N/Total</th>\n",
       "    </tr>\n",
       "    <tr>\n",
       "      <th>fr_sttn_dstnc_bins</th>\n",
       "      <th></th>\n",
       "      <th></th>\n",
       "      <th></th>\n",
       "      <th></th>\n",
       "      <th></th>\n",
       "      <th></th>\n",
       "    </tr>\n",
       "  </thead>\n",
       "  <tbody>\n",
       "    <tr>\n",
       "      <td>(-4, 5000]</td>\n",
       "      <td>31619</td>\n",
       "      <td>4816</td>\n",
       "      <td>26803</td>\n",
       "      <td>0.534</td>\n",
       "      <td>0.15</td>\n",
       "      <td>0.85</td>\n",
       "    </tr>\n",
       "    <tr>\n",
       "      <td>(5000, 10000]</td>\n",
       "      <td>16593</td>\n",
       "      <td>1822</td>\n",
       "      <td>14771</td>\n",
       "      <td>0.280</td>\n",
       "      <td>0.11</td>\n",
       "      <td>0.89</td>\n",
       "    </tr>\n",
       "    <tr>\n",
       "      <td>(10000, 15000]</td>\n",
       "      <td>8022</td>\n",
       "      <td>744</td>\n",
       "      <td>7278</td>\n",
       "      <td>0.136</td>\n",
       "      <td>0.09</td>\n",
       "      <td>0.91</td>\n",
       "    </tr>\n",
       "    <tr>\n",
       "      <td>(15000, 20000]</td>\n",
       "      <td>2354</td>\n",
       "      <td>225</td>\n",
       "      <td>2129</td>\n",
       "      <td>0.040</td>\n",
       "      <td>0.10</td>\n",
       "      <td>0.90</td>\n",
       "    </tr>\n",
       "    <tr>\n",
       "      <td>(20000, 25000]</td>\n",
       "      <td>426</td>\n",
       "      <td>38</td>\n",
       "      <td>388</td>\n",
       "      <td>0.007</td>\n",
       "      <td>0.09</td>\n",
       "      <td>0.91</td>\n",
       "    </tr>\n",
       "    <tr>\n",
       "      <td>(25000, 30000]</td>\n",
       "      <td>55</td>\n",
       "      <td>3</td>\n",
       "      <td>52</td>\n",
       "      <td>0.001</td>\n",
       "      <td>0.05</td>\n",
       "      <td>0.95</td>\n",
       "    </tr>\n",
       "    <tr>\n",
       "      <td>(30000, 35000]</td>\n",
       "      <td>126</td>\n",
       "      <td>8</td>\n",
       "      <td>118</td>\n",
       "      <td>0.002</td>\n",
       "      <td>0.06</td>\n",
       "      <td>0.94</td>\n",
       "    </tr>\n",
       "    <tr>\n",
       "      <td>(35000, 40000]</td>\n",
       "      <td>4</td>\n",
       "      <td>1</td>\n",
       "      <td>3</td>\n",
       "      <td>0.000</td>\n",
       "      <td>0.25</td>\n",
       "      <td>0.75</td>\n",
       "    </tr>\n",
       "  </tbody>\n",
       "</table>\n",
       "</div>"
      ],
      "text/plain": [
       "                    Total     Y      N  weights  Y/Total  N/Total\n",
       "fr_sttn_dstnc_bins                                               \n",
       "(-4, 5000]          31619  4816  26803    0.534     0.15     0.85\n",
       "(5000, 10000]       16593  1822  14771    0.280     0.11     0.89\n",
       "(10000, 15000]       8022   744   7278    0.136     0.09     0.91\n",
       "(15000, 20000]       2354   225   2129    0.040     0.10     0.90\n",
       "(20000, 25000]        426    38    388    0.007     0.09     0.91\n",
       "(25000, 30000]         55     3     52    0.001     0.05     0.95\n",
       "(30000, 35000]        126     8    118    0.002     0.06     0.94\n",
       "(35000, 40000]          4     1      3    0.000     0.25     0.75"
      ]
     },
     "execution_count": 92,
     "metadata": {},
     "output_type": "execute_result"
    }
   ],
   "source": [
    "cat_search(train.iloc[:,180],train.iloc[:,1])"
   ]
  },
  {
   "cell_type": "code",
   "execution_count": 91,
   "metadata": {},
   "outputs": [
    {
     "data": {
      "text/plain": [
       "fr_yn\n",
       "N    AxesSubplot(0.125,0.125;0.775x0.755)\n",
       "Y    AxesSubplot(0.125,0.125;0.775x0.755)\n",
       "Name: fr_sttn_dstnc, dtype: object"
      ]
     },
     "execution_count": 91,
     "metadata": {},
     "output_type": "execute_result"
    },
    {
     "data": {
      "image/png": "[encoded data removed]",
      "text/plain": [
       "<Figure size 432x288 with 1 Axes>"
      ]
     },
     "metadata": {
      "needs_background": "light"
     },
     "output_type": "display_data"
    }
   ],
   "source": [
    "train.groupby(by='fr_yn').fr_sttn_dstnc.hist()"
   ]
  },
  {
   "cell_type": "markdown",
   "metadata": {},
   "source": [
    "## 소방용수시설(소화전 등)과의 최소 거리"
   ]
  },
  {
   "cell_type": "code",
   "execution_count": 81,
   "metadata": {},
   "outputs": [
    {
     "data": {
      "text/plain": [
       "<matplotlib.axes._subplots.AxesSubplot at 0x242b5773fd0>"
      ]
     },
     "execution_count": 81,
     "metadata": {},
     "output_type": "execute_result"
    },
    {
     "data": {
      "image/png": "[encoded data removed]",
      "text/plain": [
       "<Figure size 432x288 with 1 Axes>"
      ]
     },
     "metadata": {
      "needs_background": "light"
     },
     "output_type": "display_data"
    }
   ],
   "source": [
    "pd.DataFrame(train[['fr_wthr_fclt_dstnc','fr_yn']]).boxplot(by='fr_yn')"
   ]
  },
  {
   "cell_type": "code",
   "execution_count": 83,
   "metadata": {},
   "outputs": [
    {
     "name": "stdout",
     "output_type": "stream",
     "text": [
      "0\n",
      "17716\n"
     ]
    },
    {
     "data": {
      "text/plain": [
       "0           (0, 1000]\n",
       "1           (0, 1000]\n",
       "2           (0, 1000]\n",
       "3        (1000, 2000]\n",
       "4           (0, 1000]\n",
       "             ...     \n",
       "59194       (0, 1000]\n",
       "59195       (0, 1000]\n",
       "59196       (0, 1000]\n",
       "59197       (0, 1000]\n",
       "59198       (0, 1000]\n",
       "Name: fr_wthr_fclt_dstnc_bins, Length: 59199, dtype: category\n",
       "Categories (17, interval[int64]): [(0, 1000] < (1000, 2000] < (2000, 3000] < (3000, 4000] ... (13000, 14000] < (14000, 15000] < (15000, 16000] < (16000, 18000]]"
      ]
     },
     "execution_count": 83,
     "metadata": {},
     "output_type": "execute_result"
    }
   ],
   "source": [
    "print(min(train.fr_wthr_fclt_dstnc))\n",
    "print(max(train.fr_wthr_fclt_dstnc))\n",
    "bins_temrtr = [0, 1000, 2000, 3000,4000,5000,6000,7000,8000,9000,10000,11000,12000,13000,14000,15000,16000,18000]\n",
    "train['fr_wthr_fclt_dstnc_bins'] = pd.cut(train['fr_wthr_fclt_dstnc'], bins_temrtr)\n",
    "train['fr_wthr_fclt_dstnc_bins']\n"
   ]
  },
  {
   "cell_type": "code",
   "execution_count": 84,
   "metadata": {
    "scrolled": true
   },
   "outputs": [
    {
     "data": {
      "text/plain": [
       "181"
      ]
     },
     "execution_count": 84,
     "metadata": {},
     "output_type": "execute_result"
    }
   ],
   "source": [
    "train.columns.get_loc('fr_wthr_fclt_dstnc_bins')"
   ]
  },
  {
   "cell_type": "code",
   "execution_count": 85,
   "metadata": {
    "scrolled": true
   },
   "outputs": [
    {
     "data": {
      "text/html": [
       "<div>\n",
       "<style scoped>\n",
       "    .dataframe tbody tr th:only-of-type {\n",
       "        vertical-align: middle;\n",
       "    }\n",
       "\n",
       "    .dataframe tbody tr th {\n",
       "        vertical-align: top;\n",
       "    }\n",
       "\n",
       "    .dataframe thead th {\n",
       "        text-align: right;\n",
       "    }\n",
       "</style>\n",
       "<table border=\"1\" class=\"dataframe\">\n",
       "  <thead>\n",
       "    <tr style=\"text-align: right;\">\n",
       "      <th></th>\n",
       "      <th>Total</th>\n",
       "      <th>Y</th>\n",
       "      <th>N</th>\n",
       "      <th>weights</th>\n",
       "      <th>Y/Total</th>\n",
       "      <th>N/Total</th>\n",
       "    </tr>\n",
       "    <tr>\n",
       "      <th>fr_wthr_fclt_dstnc_bins</th>\n",
       "      <th></th>\n",
       "      <th></th>\n",
       "      <th></th>\n",
       "      <th></th>\n",
       "      <th></th>\n",
       "      <th></th>\n",
       "    </tr>\n",
       "  </thead>\n",
       "  <tbody>\n",
       "    <tr>\n",
       "      <td>(0.0, 1000.0]</td>\n",
       "      <td>33979</td>\n",
       "      <td>5909.0</td>\n",
       "      <td>28070</td>\n",
       "      <td>0.574</td>\n",
       "      <td>0.17</td>\n",
       "      <td>0.83</td>\n",
       "    </tr>\n",
       "    <tr>\n",
       "      <td>(1000.0, 2000.0]</td>\n",
       "      <td>8044</td>\n",
       "      <td>846.0</td>\n",
       "      <td>7198</td>\n",
       "      <td>0.136</td>\n",
       "      <td>0.11</td>\n",
       "      <td>0.89</td>\n",
       "    </tr>\n",
       "    <tr>\n",
       "      <td>(2000.0, 3000.0]</td>\n",
       "      <td>3981</td>\n",
       "      <td>390.0</td>\n",
       "      <td>3591</td>\n",
       "      <td>0.067</td>\n",
       "      <td>0.10</td>\n",
       "      <td>0.90</td>\n",
       "    </tr>\n",
       "    <tr>\n",
       "      <td>(3000.0, 4000.0]</td>\n",
       "      <td>2393</td>\n",
       "      <td>212.0</td>\n",
       "      <td>2181</td>\n",
       "      <td>0.040</td>\n",
       "      <td>0.09</td>\n",
       "      <td>0.91</td>\n",
       "    </tr>\n",
       "    <tr>\n",
       "      <td>(4000.0, 5000.0]</td>\n",
       "      <td>2043</td>\n",
       "      <td>107.0</td>\n",
       "      <td>1936</td>\n",
       "      <td>0.035</td>\n",
       "      <td>0.05</td>\n",
       "      <td>0.95</td>\n",
       "    </tr>\n",
       "    <tr>\n",
       "      <td>(5000.0, 6000.0]</td>\n",
       "      <td>1687</td>\n",
       "      <td>69.0</td>\n",
       "      <td>1618</td>\n",
       "      <td>0.028</td>\n",
       "      <td>0.04</td>\n",
       "      <td>0.96</td>\n",
       "    </tr>\n",
       "    <tr>\n",
       "      <td>(6000.0, 7000.0]</td>\n",
       "      <td>2046</td>\n",
       "      <td>41.0</td>\n",
       "      <td>2005</td>\n",
       "      <td>0.035</td>\n",
       "      <td>0.02</td>\n",
       "      <td>0.98</td>\n",
       "    </tr>\n",
       "    <tr>\n",
       "      <td>(7000.0, 8000.0]</td>\n",
       "      <td>2297</td>\n",
       "      <td>45.0</td>\n",
       "      <td>2252</td>\n",
       "      <td>0.039</td>\n",
       "      <td>0.02</td>\n",
       "      <td>0.98</td>\n",
       "    </tr>\n",
       "    <tr>\n",
       "      <td>(8000.0, 9000.0]</td>\n",
       "      <td>1267</td>\n",
       "      <td>19.0</td>\n",
       "      <td>1248</td>\n",
       "      <td>0.021</td>\n",
       "      <td>0.01</td>\n",
       "      <td>0.99</td>\n",
       "    </tr>\n",
       "    <tr>\n",
       "      <td>(9000.0, 10000.0]</td>\n",
       "      <td>733</td>\n",
       "      <td>11.0</td>\n",
       "      <td>722</td>\n",
       "      <td>0.012</td>\n",
       "      <td>0.02</td>\n",
       "      <td>0.98</td>\n",
       "    </tr>\n",
       "    <tr>\n",
       "      <td>(10000.0, 11000.0]</td>\n",
       "      <td>513</td>\n",
       "      <td>4.0</td>\n",
       "      <td>509</td>\n",
       "      <td>0.009</td>\n",
       "      <td>0.01</td>\n",
       "      <td>0.99</td>\n",
       "    </tr>\n",
       "    <tr>\n",
       "      <td>(11000.0, 12000.0]</td>\n",
       "      <td>105</td>\n",
       "      <td>0.0</td>\n",
       "      <td>105</td>\n",
       "      <td>0.002</td>\n",
       "      <td>0.00</td>\n",
       "      <td>1.00</td>\n",
       "    </tr>\n",
       "    <tr>\n",
       "      <td>(12000.0, 13000.0]</td>\n",
       "      <td>40</td>\n",
       "      <td>0.0</td>\n",
       "      <td>40</td>\n",
       "      <td>0.001</td>\n",
       "      <td>0.00</td>\n",
       "      <td>1.00</td>\n",
       "    </tr>\n",
       "    <tr>\n",
       "      <td>(13000.0, 14000.0]</td>\n",
       "      <td>47</td>\n",
       "      <td>0.0</td>\n",
       "      <td>47</td>\n",
       "      <td>0.001</td>\n",
       "      <td>0.00</td>\n",
       "      <td>1.00</td>\n",
       "    </tr>\n",
       "    <tr>\n",
       "      <td>(14000.0, 15000.0]</td>\n",
       "      <td>12</td>\n",
       "      <td>0.0</td>\n",
       "      <td>12</td>\n",
       "      <td>0.000</td>\n",
       "      <td>0.00</td>\n",
       "      <td>1.00</td>\n",
       "    </tr>\n",
       "    <tr>\n",
       "      <td>(16000.0, 18000.0]</td>\n",
       "      <td>1</td>\n",
       "      <td>0.0</td>\n",
       "      <td>1</td>\n",
       "      <td>0.000</td>\n",
       "      <td>0.00</td>\n",
       "      <td>1.00</td>\n",
       "    </tr>\n",
       "  </tbody>\n",
       "</table>\n",
       "</div>"
      ],
      "text/plain": [
       "                         Total       Y      N  weights  Y/Total  N/Total\n",
       "fr_wthr_fclt_dstnc_bins                                                 \n",
       "(0.0, 1000.0]            33979  5909.0  28070    0.574     0.17     0.83\n",
       "(1000.0, 2000.0]          8044   846.0   7198    0.136     0.11     0.89\n",
       "(2000.0, 3000.0]          3981   390.0   3591    0.067     0.10     0.90\n",
       "(3000.0, 4000.0]          2393   212.0   2181    0.040     0.09     0.91\n",
       "(4000.0, 5000.0]          2043   107.0   1936    0.035     0.05     0.95\n",
       "(5000.0, 6000.0]          1687    69.0   1618    0.028     0.04     0.96\n",
       "(6000.0, 7000.0]          2046    41.0   2005    0.035     0.02     0.98\n",
       "(7000.0, 8000.0]          2297    45.0   2252    0.039     0.02     0.98\n",
       "(8000.0, 9000.0]          1267    19.0   1248    0.021     0.01     0.99\n",
       "(9000.0, 10000.0]          733    11.0    722    0.012     0.02     0.98\n",
       "(10000.0, 11000.0]         513     4.0    509    0.009     0.01     0.99\n",
       "(11000.0, 12000.0]         105     0.0    105    0.002     0.00     1.00\n",
       "(12000.0, 13000.0]          40     0.0     40    0.001     0.00     1.00\n",
       "(13000.0, 14000.0]          47     0.0     47    0.001     0.00     1.00\n",
       "(14000.0, 15000.0]          12     0.0     12    0.000     0.00     1.00\n",
       "(16000.0, 18000.0]           1     0.0      1    0.000     0.00     1.00"
      ]
     },
     "execution_count": 85,
     "metadata": {},
     "output_type": "execute_result"
    }
   ],
   "source": [
    "cat_search(train.iloc[:,181],train.iloc[:,1])"
   ]
  },
  {
   "cell_type": "code",
   "execution_count": 86,
   "metadata": {},
   "outputs": [
    {
     "data": {
      "text/plain": [
       "fr_yn\n",
       "N    AxesSubplot(0.125,0.125;0.775x0.755)\n",
       "Y    AxesSubplot(0.125,0.125;0.775x0.755)\n",
       "Name: fr_wthr_fclt_dstnc, dtype: object"
      ]
     },
     "execution_count": 86,
     "metadata": {},
     "output_type": "execute_result"
    },
    {
     "data": {
      "image/png": "[encoded data removed]",
      "text/plain": [
       "<Figure size 432x288 with 1 Axes>"
      ]
     },
     "metadata": {
      "needs_background": "light"
     },
     "output_type": "display_data"
    }
   ],
   "source": [
    "train.groupby(by='fr_yn').fr_wthr_fclt_dstnc.hist()"
   ]
  },
  {
   "cell_type": "markdown",
   "metadata": {},
   "source": [
    "## 공공 CCTV와의 최소 거리"
   ]
  },
  {
   "cell_type": "code",
   "execution_count": 93,
   "metadata": {},
   "outputs": [
    {
     "data": {
      "text/plain": [
       "<matplotlib.axes._subplots.AxesSubplot at 0x242b62cda90>"
      ]
     },
     "execution_count": 93,
     "metadata": {},
     "output_type": "execute_result"
    },
    {
     "data": {
      "image/png": "[encoded data removed]",
      "text/plain": [
       "<Figure size 432x288 with 1 Axes>"
      ]
     },
     "metadata": {
      "needs_background": "light"
     },
     "output_type": "display_data"
    }
   ],
   "source": [
    "pd.DataFrame(train[['cctv_dstnc','fr_yn']]).boxplot(by='fr_yn')"
   ]
  },
  {
   "cell_type": "markdown",
   "metadata": {},
   "source": [
    "## 반경 100m 이내 공공 CCTV"
   ]
  },
  {
   "cell_type": "code",
   "execution_count": 13,
   "metadata": {},
   "outputs": [
    {
     "data": {
      "text/plain": [
       "array([ 0,  2,  1,  4,  3,  6,  5,  7,  8, 11, 14, 12,  9, 13, 15, 19, 10,\n",
       "       16, 21, 18, 20, 17, 24], dtype=int64)"
      ]
     },
     "execution_count": 13,
     "metadata": {},
     "output_type": "execute_result"
    }
   ],
   "source": [
    "train['cctv_in_100m'].unique()"
   ]
  },
  {
   "cell_type": "code",
   "execution_count": 95,
   "metadata": {},
   "outputs": [
    {
     "name": "stdout",
     "output_type": "stream",
     "text": [
      "0\n",
      "12278\n"
     ]
    },
    {
     "data": {
      "text/plain": [
       "0           (0, 1000]\n",
       "1           (0, 1000]\n",
       "2           (0, 1000]\n",
       "3           (0, 1000]\n",
       "4           (0, 1000]\n",
       "             ...     \n",
       "59194    (1000, 2000]\n",
       "59195       (0, 1000]\n",
       "59196       (0, 1000]\n",
       "59197       (0, 1000]\n",
       "59198       (0, 1000]\n",
       "Name: cctv_dstnc_bins, Length: 59199, dtype: category\n",
       "Categories (12, interval[int64]): [(0, 1000] < (1000, 2000] < (2000, 3000] < (3000, 4000] ... (8000, 9000] < (9000, 10000] < (10000, 11000] < (11000, 13000]]"
      ]
     },
     "execution_count": 95,
     "metadata": {},
     "output_type": "execute_result"
    }
   ],
   "source": [
    "print(min(train.cctv_dstnc))\n",
    "print(max(train.cctv_dstnc))\n",
    "bins_temrtr = [0, 1000, 2000, 3000,4000,5000,6000,7000,8000,9000,10000,11000,13000]\n",
    "train['cctv_dstnc_bins'] = pd.cut(train['cctv_dstnc'], bins_temrtr)\n",
    "train['cctv_dstnc_bins']"
   ]
  },
  {
   "cell_type": "code",
   "execution_count": 96,
   "metadata": {},
   "outputs": [
    {
     "data": {
      "text/plain": [
       "182"
      ]
     },
     "execution_count": 96,
     "metadata": {},
     "output_type": "execute_result"
    }
   ],
   "source": [
    "train.columns.get_loc('cctv_dstnc_bins')"
   ]
  },
  {
   "cell_type": "code",
   "execution_count": 98,
   "metadata": {},
   "outputs": [
    {
     "data": {
      "text/html": [
       "<div>\n",
       "<style scoped>\n",
       "    .dataframe tbody tr th:only-of-type {\n",
       "        vertical-align: middle;\n",
       "    }\n",
       "\n",
       "    .dataframe tbody tr th {\n",
       "        vertical-align: top;\n",
       "    }\n",
       "\n",
       "    .dataframe thead th {\n",
       "        text-align: right;\n",
       "    }\n",
       "</style>\n",
       "<table border=\"1\" class=\"dataframe\">\n",
       "  <thead>\n",
       "    <tr style=\"text-align: right;\">\n",
       "      <th></th>\n",
       "      <th>Total</th>\n",
       "      <th>Y</th>\n",
       "      <th>N</th>\n",
       "      <th>weights</th>\n",
       "      <th>Y/Total</th>\n",
       "      <th>N/Total</th>\n",
       "    </tr>\n",
       "    <tr>\n",
       "      <th>cctv_dstnc_bins</th>\n",
       "      <th></th>\n",
       "      <th></th>\n",
       "      <th></th>\n",
       "      <th></th>\n",
       "      <th></th>\n",
       "      <th></th>\n",
       "    </tr>\n",
       "  </thead>\n",
       "  <tbody>\n",
       "    <tr>\n",
       "      <td>(0.0, 1000.0]</td>\n",
       "      <td>46069</td>\n",
       "      <td>6295</td>\n",
       "      <td>39774</td>\n",
       "      <td>0.778</td>\n",
       "      <td>0.14</td>\n",
       "      <td>0.86</td>\n",
       "    </tr>\n",
       "    <tr>\n",
       "      <td>(1000.0, 2000.0]</td>\n",
       "      <td>8483</td>\n",
       "      <td>866</td>\n",
       "      <td>7617</td>\n",
       "      <td>0.143</td>\n",
       "      <td>0.10</td>\n",
       "      <td>0.90</td>\n",
       "    </tr>\n",
       "    <tr>\n",
       "      <td>(2000.0, 3000.0]</td>\n",
       "      <td>2065</td>\n",
       "      <td>190</td>\n",
       "      <td>1875</td>\n",
       "      <td>0.035</td>\n",
       "      <td>0.09</td>\n",
       "      <td>0.91</td>\n",
       "    </tr>\n",
       "    <tr>\n",
       "      <td>(3000.0, 4000.0]</td>\n",
       "      <td>788</td>\n",
       "      <td>87</td>\n",
       "      <td>701</td>\n",
       "      <td>0.013</td>\n",
       "      <td>0.11</td>\n",
       "      <td>0.89</td>\n",
       "    </tr>\n",
       "    <tr>\n",
       "      <td>(4000.0, 5000.0]</td>\n",
       "      <td>437</td>\n",
       "      <td>61</td>\n",
       "      <td>376</td>\n",
       "      <td>0.007</td>\n",
       "      <td>0.14</td>\n",
       "      <td>0.86</td>\n",
       "    </tr>\n",
       "    <tr>\n",
       "      <td>(5000.0, 6000.0]</td>\n",
       "      <td>339</td>\n",
       "      <td>47</td>\n",
       "      <td>292</td>\n",
       "      <td>0.006</td>\n",
       "      <td>0.14</td>\n",
       "      <td>0.86</td>\n",
       "    </tr>\n",
       "    <tr>\n",
       "      <td>(6000.0, 7000.0]</td>\n",
       "      <td>246</td>\n",
       "      <td>30</td>\n",
       "      <td>216</td>\n",
       "      <td>0.004</td>\n",
       "      <td>0.12</td>\n",
       "      <td>0.88</td>\n",
       "    </tr>\n",
       "    <tr>\n",
       "      <td>(7000.0, 8000.0]</td>\n",
       "      <td>226</td>\n",
       "      <td>31</td>\n",
       "      <td>195</td>\n",
       "      <td>0.004</td>\n",
       "      <td>0.14</td>\n",
       "      <td>0.86</td>\n",
       "    </tr>\n",
       "    <tr>\n",
       "      <td>(8000.0, 9000.0]</td>\n",
       "      <td>161</td>\n",
       "      <td>10</td>\n",
       "      <td>151</td>\n",
       "      <td>0.003</td>\n",
       "      <td>0.06</td>\n",
       "      <td>0.94</td>\n",
       "    </tr>\n",
       "    <tr>\n",
       "      <td>(9000.0, 10000.0]</td>\n",
       "      <td>204</td>\n",
       "      <td>18</td>\n",
       "      <td>186</td>\n",
       "      <td>0.003</td>\n",
       "      <td>0.09</td>\n",
       "      <td>0.91</td>\n",
       "    </tr>\n",
       "    <tr>\n",
       "      <td>(10000.0, 11000.0]</td>\n",
       "      <td>86</td>\n",
       "      <td>6</td>\n",
       "      <td>80</td>\n",
       "      <td>0.001</td>\n",
       "      <td>0.07</td>\n",
       "      <td>0.93</td>\n",
       "    </tr>\n",
       "    <tr>\n",
       "      <td>(11000.0, 13000.0]</td>\n",
       "      <td>90</td>\n",
       "      <td>16</td>\n",
       "      <td>74</td>\n",
       "      <td>0.002</td>\n",
       "      <td>0.18</td>\n",
       "      <td>0.82</td>\n",
       "    </tr>\n",
       "  </tbody>\n",
       "</table>\n",
       "</div>"
      ],
      "text/plain": [
       "                    Total     Y      N  weights  Y/Total  N/Total\n",
       "cctv_dstnc_bins                                                  \n",
       "(0.0, 1000.0]       46069  6295  39774    0.778     0.14     0.86\n",
       "(1000.0, 2000.0]     8483   866   7617    0.143     0.10     0.90\n",
       "(2000.0, 3000.0]     2065   190   1875    0.035     0.09     0.91\n",
       "(3000.0, 4000.0]      788    87    701    0.013     0.11     0.89\n",
       "(4000.0, 5000.0]      437    61    376    0.007     0.14     0.86\n",
       "(5000.0, 6000.0]      339    47    292    0.006     0.14     0.86\n",
       "(6000.0, 7000.0]      246    30    216    0.004     0.12     0.88\n",
       "(7000.0, 8000.0]      226    31    195    0.004     0.14     0.86\n",
       "(8000.0, 9000.0]      161    10    151    0.003     0.06     0.94\n",
       "(9000.0, 10000.0]     204    18    186    0.003     0.09     0.91\n",
       "(10000.0, 11000.0]     86     6     80    0.001     0.07     0.93\n",
       "(11000.0, 13000.0]     90    16     74    0.002     0.18     0.82"
      ]
     },
     "execution_count": 98,
     "metadata": {},
     "output_type": "execute_result"
    }
   ],
   "source": [
    "cat_search(train.iloc[:,182],train.iloc[:,1])"
   ]
  },
  {
   "cell_type": "code",
   "execution_count": 99,
   "metadata": {},
   "outputs": [
    {
     "data": {
      "text/plain": [
       "fr_yn\n",
       "N    AxesSubplot(0.125,0.125;0.775x0.755)\n",
       "Y    AxesSubplot(0.125,0.125;0.775x0.755)\n",
       "Name: cctv_dstnc, dtype: object"
      ]
     },
     "execution_count": 99,
     "metadata": {},
     "output_type": "execute_result"
    },
    {
     "data": {
      "image/png": "[encoded data removed]",
      "text/plain": [
       "<Figure size 432x288 with 1 Axes>"
      ]
     },
     "metadata": {
      "needs_background": "light"
     },
     "output_type": "display_data"
    }
   ],
   "source": [
    "train.groupby(by='fr_yn').cctv_dstnc.hist()"
   ]
  },
  {
   "cell_type": "markdown",
   "metadata": {},
   "source": [
    "## 반경 100m 이내 소방용수 시설 수"
   ]
  },
  {
   "cell_type": "code",
   "execution_count": 100,
   "metadata": {},
   "outputs": [
    {
     "data": {
      "text/plain": [
       "<matplotlib.axes._subplots.AxesSubplot at 0x242b5b88f28>"
      ]
     },
     "execution_count": 100,
     "metadata": {},
     "output_type": "execute_result"
    },
    {
     "data": {
      "image/png": "[encoded data removed]",
      "text/plain": [
       "<Figure size 432x288 with 1 Axes>"
      ]
     },
     "metadata": {
      "needs_background": "light"
     },
     "output_type": "display_data"
    }
   ],
   "source": [
    "pd.DataFrame(train[['fr_wthr_fclt_in_100m','fr_yn']]).boxplot(by='fr_yn')"
   ]
  },
  {
   "cell_type": "code",
   "execution_count": 102,
   "metadata": {},
   "outputs": [
    {
     "name": "stdout",
     "output_type": "stream",
     "text": [
      "0\n",
      "10\n"
     ]
    },
    {
     "data": {
      "text/plain": [
       "0               NaN\n",
       "1               NaN\n",
       "2               NaN\n",
       "3               NaN\n",
       "4               NaN\n",
       "            ...    \n",
       "59194           NaN\n",
       "59195           NaN\n",
       "59196    (1.0, 2.0]\n",
       "59197           NaN\n",
       "59198           NaN\n",
       "Name: fr_wthr_fclt_in_100m_bins, Length: 59199, dtype: category\n",
       "Categories (10, interval[int64]): [(0, 1] < (1, 2] < (2, 3] < (3, 4] ... (6, 7] < (7, 8] < (8, 9] < (9, 10]]"
      ]
     },
     "execution_count": 102,
     "metadata": {},
     "output_type": "execute_result"
    }
   ],
   "source": [
    "print(min(train.fr_wthr_fclt_in_100m))\n",
    "print(max(train.fr_wthr_fclt_in_100m))\n",
    "bins_temrtr = [0, 1, 2, 3,4,5,6,7,8,9,10]\n",
    "train['fr_wthr_fclt_in_100m_bins'] = pd.cut(train['fr_wthr_fclt_in_100m'], bins_temrtr)\n",
    "train['fr_wthr_fclt_in_100m_bins']\n"
   ]
  },
  {
   "cell_type": "code",
   "execution_count": 103,
   "metadata": {},
   "outputs": [
    {
     "data": {
      "text/plain": [
       "183"
      ]
     },
     "execution_count": 103,
     "metadata": {},
     "output_type": "execute_result"
    }
   ],
   "source": [
    "train.columns.get_loc('fr_wthr_fclt_in_100m_bins')"
   ]
  },
  {
   "cell_type": "code",
   "execution_count": 104,
   "metadata": {
    "scrolled": true
   },
   "outputs": [
    {
     "data": {
      "text/html": [
       "<div>\n",
       "<style scoped>\n",
       "    .dataframe tbody tr th:only-of-type {\n",
       "        vertical-align: middle;\n",
       "    }\n",
       "\n",
       "    .dataframe tbody tr th {\n",
       "        vertical-align: top;\n",
       "    }\n",
       "\n",
       "    .dataframe thead th {\n",
       "        text-align: right;\n",
       "    }\n",
       "</style>\n",
       "<table border=\"1\" class=\"dataframe\">\n",
       "  <thead>\n",
       "    <tr style=\"text-align: right;\">\n",
       "      <th></th>\n",
       "      <th>Total</th>\n",
       "      <th>Y</th>\n",
       "      <th>N</th>\n",
       "      <th>weights</th>\n",
       "      <th>Y/Total</th>\n",
       "      <th>N/Total</th>\n",
       "    </tr>\n",
       "    <tr>\n",
       "      <th>fr_wthr_fclt_in_100m_bins</th>\n",
       "      <th></th>\n",
       "      <th></th>\n",
       "      <th></th>\n",
       "      <th></th>\n",
       "      <th></th>\n",
       "      <th></th>\n",
       "    </tr>\n",
       "  </thead>\n",
       "  <tbody>\n",
       "    <tr>\n",
       "      <td>(0.0, 1.0]</td>\n",
       "      <td>7668</td>\n",
       "      <td>1448.0</td>\n",
       "      <td>6220</td>\n",
       "      <td>0.130</td>\n",
       "      <td>0.19</td>\n",
       "      <td>0.81</td>\n",
       "    </tr>\n",
       "    <tr>\n",
       "      <td>(1.0, 2.0]</td>\n",
       "      <td>2168</td>\n",
       "      <td>485.0</td>\n",
       "      <td>1683</td>\n",
       "      <td>0.037</td>\n",
       "      <td>0.22</td>\n",
       "      <td>0.78</td>\n",
       "    </tr>\n",
       "    <tr>\n",
       "      <td>(2.0, 3.0]</td>\n",
       "      <td>533</td>\n",
       "      <td>124.0</td>\n",
       "      <td>409</td>\n",
       "      <td>0.009</td>\n",
       "      <td>0.23</td>\n",
       "      <td>0.77</td>\n",
       "    </tr>\n",
       "    <tr>\n",
       "      <td>(3.0, 4.0]</td>\n",
       "      <td>167</td>\n",
       "      <td>45.0</td>\n",
       "      <td>122</td>\n",
       "      <td>0.003</td>\n",
       "      <td>0.27</td>\n",
       "      <td>0.73</td>\n",
       "    </tr>\n",
       "    <tr>\n",
       "      <td>(4.0, 5.0]</td>\n",
       "      <td>36</td>\n",
       "      <td>11.0</td>\n",
       "      <td>25</td>\n",
       "      <td>0.001</td>\n",
       "      <td>0.31</td>\n",
       "      <td>0.69</td>\n",
       "    </tr>\n",
       "    <tr>\n",
       "      <td>(5.0, 6.0]</td>\n",
       "      <td>11</td>\n",
       "      <td>2.0</td>\n",
       "      <td>9</td>\n",
       "      <td>0.000</td>\n",
       "      <td>0.18</td>\n",
       "      <td>0.82</td>\n",
       "    </tr>\n",
       "    <tr>\n",
       "      <td>(6.0, 7.0]</td>\n",
       "      <td>5</td>\n",
       "      <td>2.0</td>\n",
       "      <td>3</td>\n",
       "      <td>0.000</td>\n",
       "      <td>0.40</td>\n",
       "      <td>0.60</td>\n",
       "    </tr>\n",
       "    <tr>\n",
       "      <td>(7.0, 8.0]</td>\n",
       "      <td>1</td>\n",
       "      <td>0.0</td>\n",
       "      <td>1</td>\n",
       "      <td>0.000</td>\n",
       "      <td>0.00</td>\n",
       "      <td>1.00</td>\n",
       "    </tr>\n",
       "    <tr>\n",
       "      <td>(9.0, 10.0]</td>\n",
       "      <td>1</td>\n",
       "      <td>0.0</td>\n",
       "      <td>1</td>\n",
       "      <td>0.000</td>\n",
       "      <td>0.00</td>\n",
       "      <td>1.00</td>\n",
       "    </tr>\n",
       "  </tbody>\n",
       "</table>\n",
       "</div>"
      ],
      "text/plain": [
       "                           Total       Y     N  weights  Y/Total  N/Total\n",
       "fr_wthr_fclt_in_100m_bins                                                \n",
       "(0.0, 1.0]                  7668  1448.0  6220    0.130     0.19     0.81\n",
       "(1.0, 2.0]                  2168   485.0  1683    0.037     0.22     0.78\n",
       "(2.0, 3.0]                   533   124.0   409    0.009     0.23     0.77\n",
       "(3.0, 4.0]                   167    45.0   122    0.003     0.27     0.73\n",
       "(4.0, 5.0]                    36    11.0    25    0.001     0.31     0.69\n",
       "(5.0, 6.0]                    11     2.0     9    0.000     0.18     0.82\n",
       "(6.0, 7.0]                     5     2.0     3    0.000     0.40     0.60\n",
       "(7.0, 8.0]                     1     0.0     1    0.000     0.00     1.00\n",
       "(9.0, 10.0]                    1     0.0     1    0.000     0.00     1.00"
      ]
     },
     "execution_count": 104,
     "metadata": {},
     "output_type": "execute_result"
    }
   ],
   "source": [
    "cat_search(train.iloc[:,183],train.iloc[:,1])"
   ]
  },
  {
   "cell_type": "code",
   "execution_count": 105,
   "metadata": {},
   "outputs": [
    {
     "data": {
      "text/plain": [
       "fr_yn\n",
       "N    AxesSubplot(0.125,0.125;0.775x0.755)\n",
       "Y    AxesSubplot(0.125,0.125;0.775x0.755)\n",
       "Name: fr_wthr_fclt_in_100m, dtype: object"
      ]
     },
     "execution_count": 105,
     "metadata": {},
     "output_type": "execute_result"
    },
    {
     "data": {
      "image/png": "[encoded data removed]",
      "text/plain": [
       "<Figure size 432x288 with 1 Axes>"
      ]
     },
     "metadata": {
      "needs_background": "light"
     },
     "output_type": "display_data"
    }
   ],
   "source": [
    "train.groupby(by='fr_yn').fr_wthr_fclt_in_100m.hist()"
   ]
  },
  {
   "cell_type": "markdown",
   "metadata": {},
   "source": [
    "## 담배 소매점과의 최소 거리"
   ]
  },
  {
   "cell_type": "code",
   "execution_count": 106,
   "metadata": {
    "scrolled": false
   },
   "outputs": [
    {
     "data": {
      "text/plain": [
       "<matplotlib.axes._subplots.AxesSubplot at 0x242b5bccda0>"
      ]
     },
     "execution_count": 106,
     "metadata": {},
     "output_type": "execute_result"
    },
    {
     "data": {
      "image/png": "[encoded data removed]",
      "text/plain": [
       "<Figure size 432x288 with 1 Axes>"
      ]
     },
     "metadata": {
      "needs_background": "light"
     },
     "output_type": "display_data"
    }
   ],
   "source": [
    "pd.DataFrame(train[['tbc_rtl_str_dstnc','fr_yn']]).boxplot(by='fr_yn')"
   ]
  },
  {
   "cell_type": "code",
   "execution_count": 108,
   "metadata": {
    "scrolled": true
   },
   "outputs": [
    {
     "name": "stdout",
     "output_type": "stream",
     "text": [
      "0\n",
      "23228\n"
     ]
    },
    {
     "data": {
      "text/plain": [
       "0           (0, 2000]\n",
       "1        (4000, 6000]\n",
       "2           (0, 2000]\n",
       "3           (0, 2000]\n",
       "4           (0, 2000]\n",
       "             ...     \n",
       "59194    (2000, 4000]\n",
       "59195    (2000, 4000]\n",
       "59196    (4000, 6000]\n",
       "59197       (0, 2000]\n",
       "59198       (0, 2000]\n",
       "Name: tbc_rtl_str_dstnc_bins, Length: 59199, dtype: category\n",
       "Categories (12, interval[int64]): [(0, 2000] < (2000, 4000] < (4000, 6000] < (6000, 8000] ... (16000, 18000] < (18000, 20000] < (20000, 22000] < (22000, 24000]]"
      ]
     },
     "execution_count": 108,
     "metadata": {},
     "output_type": "execute_result"
    }
   ],
   "source": [
    "print(min(train.tbc_rtl_str_dstnc))\n",
    "print(max(train.tbc_rtl_str_dstnc))\n",
    "bins_temrtr = [0, 2000, 4000, 6000,8000,10000,12000,14000,16000,18000,20000,22000,24000]\n",
    "train['tbc_rtl_str_dstnc_bins'] = pd.cut(train['tbc_rtl_str_dstnc'], bins_temrtr)\n",
    "train['tbc_rtl_str_dstnc_bins']"
   ]
  },
  {
   "cell_type": "code",
   "execution_count": 109,
   "metadata": {},
   "outputs": [
    {
     "data": {
      "text/plain": [
       "184"
      ]
     },
     "execution_count": 109,
     "metadata": {},
     "output_type": "execute_result"
    }
   ],
   "source": [
    "train.columns.get_loc('tbc_rtl_str_dstnc_bins')"
   ]
  },
  {
   "cell_type": "code",
   "execution_count": 110,
   "metadata": {},
   "outputs": [
    {
     "data": {
      "text/html": [
       "<div>\n",
       "<style scoped>\n",
       "    .dataframe tbody tr th:only-of-type {\n",
       "        vertical-align: middle;\n",
       "    }\n",
       "\n",
       "    .dataframe tbody tr th {\n",
       "        vertical-align: top;\n",
       "    }\n",
       "\n",
       "    .dataframe thead th {\n",
       "        text-align: right;\n",
       "    }\n",
       "</style>\n",
       "<table border=\"1\" class=\"dataframe\">\n",
       "  <thead>\n",
       "    <tr style=\"text-align: right;\">\n",
       "      <th></th>\n",
       "      <th>Total</th>\n",
       "      <th>Y</th>\n",
       "      <th>N</th>\n",
       "      <th>weights</th>\n",
       "      <th>Y/Total</th>\n",
       "      <th>N/Total</th>\n",
       "    </tr>\n",
       "    <tr>\n",
       "      <th>tbc_rtl_str_dstnc_bins</th>\n",
       "      <th></th>\n",
       "      <th></th>\n",
       "      <th></th>\n",
       "      <th></th>\n",
       "      <th></th>\n",
       "      <th></th>\n",
       "    </tr>\n",
       "  </thead>\n",
       "  <tbody>\n",
       "    <tr>\n",
       "      <td>(0.0, 2000.0]</td>\n",
       "      <td>28264</td>\n",
       "      <td>4361.0</td>\n",
       "      <td>23903</td>\n",
       "      <td>0.477</td>\n",
       "      <td>0.15</td>\n",
       "      <td>0.85</td>\n",
       "    </tr>\n",
       "    <tr>\n",
       "      <td>(2000.0, 4000.0]</td>\n",
       "      <td>11683</td>\n",
       "      <td>1370.0</td>\n",
       "      <td>10313</td>\n",
       "      <td>0.197</td>\n",
       "      <td>0.12</td>\n",
       "      <td>0.88</td>\n",
       "    </tr>\n",
       "    <tr>\n",
       "      <td>(4000.0, 6000.0]</td>\n",
       "      <td>8346</td>\n",
       "      <td>821.0</td>\n",
       "      <td>7525</td>\n",
       "      <td>0.141</td>\n",
       "      <td>0.10</td>\n",
       "      <td>0.90</td>\n",
       "    </tr>\n",
       "    <tr>\n",
       "      <td>(6000.0, 8000.0]</td>\n",
       "      <td>4715</td>\n",
       "      <td>443.0</td>\n",
       "      <td>4272</td>\n",
       "      <td>0.080</td>\n",
       "      <td>0.09</td>\n",
       "      <td>0.91</td>\n",
       "    </tr>\n",
       "    <tr>\n",
       "      <td>(8000.0, 10000.0]</td>\n",
       "      <td>2835</td>\n",
       "      <td>297.0</td>\n",
       "      <td>2538</td>\n",
       "      <td>0.048</td>\n",
       "      <td>0.10</td>\n",
       "      <td>0.90</td>\n",
       "    </tr>\n",
       "    <tr>\n",
       "      <td>(10000.0, 12000.0]</td>\n",
       "      <td>1896</td>\n",
       "      <td>210.0</td>\n",
       "      <td>1686</td>\n",
       "      <td>0.032</td>\n",
       "      <td>0.11</td>\n",
       "      <td>0.89</td>\n",
       "    </tr>\n",
       "    <tr>\n",
       "      <td>(12000.0, 14000.0]</td>\n",
       "      <td>826</td>\n",
       "      <td>66.0</td>\n",
       "      <td>760</td>\n",
       "      <td>0.014</td>\n",
       "      <td>0.08</td>\n",
       "      <td>0.92</td>\n",
       "    </tr>\n",
       "    <tr>\n",
       "      <td>(14000.0, 16000.0]</td>\n",
       "      <td>382</td>\n",
       "      <td>34.0</td>\n",
       "      <td>348</td>\n",
       "      <td>0.006</td>\n",
       "      <td>0.09</td>\n",
       "      <td>0.91</td>\n",
       "    </tr>\n",
       "    <tr>\n",
       "      <td>(16000.0, 18000.0]</td>\n",
       "      <td>111</td>\n",
       "      <td>14.0</td>\n",
       "      <td>97</td>\n",
       "      <td>0.002</td>\n",
       "      <td>0.13</td>\n",
       "      <td>0.87</td>\n",
       "    </tr>\n",
       "    <tr>\n",
       "      <td>(18000.0, 20000.0]</td>\n",
       "      <td>56</td>\n",
       "      <td>1.0</td>\n",
       "      <td>55</td>\n",
       "      <td>0.001</td>\n",
       "      <td>0.02</td>\n",
       "      <td>0.98</td>\n",
       "    </tr>\n",
       "    <tr>\n",
       "      <td>(20000.0, 22000.0]</td>\n",
       "      <td>2</td>\n",
       "      <td>0.0</td>\n",
       "      <td>2</td>\n",
       "      <td>0.000</td>\n",
       "      <td>0.00</td>\n",
       "      <td>1.00</td>\n",
       "    </tr>\n",
       "    <tr>\n",
       "      <td>(22000.0, 24000.0]</td>\n",
       "      <td>1</td>\n",
       "      <td>0.0</td>\n",
       "      <td>1</td>\n",
       "      <td>0.000</td>\n",
       "      <td>0.00</td>\n",
       "      <td>1.00</td>\n",
       "    </tr>\n",
       "  </tbody>\n",
       "</table>\n",
       "</div>"
      ],
      "text/plain": [
       "                        Total       Y      N  weights  Y/Total  N/Total\n",
       "tbc_rtl_str_dstnc_bins                                                 \n",
       "(0.0, 2000.0]           28264  4361.0  23903    0.477     0.15     0.85\n",
       "(2000.0, 4000.0]        11683  1370.0  10313    0.197     0.12     0.88\n",
       "(4000.0, 6000.0]         8346   821.0   7525    0.141     0.10     0.90\n",
       "(6000.0, 8000.0]         4715   443.0   4272    0.080     0.09     0.91\n",
       "(8000.0, 10000.0]        2835   297.0   2538    0.048     0.10     0.90\n",
       "(10000.0, 12000.0]       1896   210.0   1686    0.032     0.11     0.89\n",
       "(12000.0, 14000.0]        826    66.0    760    0.014     0.08     0.92\n",
       "(14000.0, 16000.0]        382    34.0    348    0.006     0.09     0.91\n",
       "(16000.0, 18000.0]        111    14.0     97    0.002     0.13     0.87\n",
       "(18000.0, 20000.0]         56     1.0     55    0.001     0.02     0.98\n",
       "(20000.0, 22000.0]          2     0.0      2    0.000     0.00     1.00\n",
       "(22000.0, 24000.0]          1     0.0      1    0.000     0.00     1.00"
      ]
     },
     "execution_count": 110,
     "metadata": {},
     "output_type": "execute_result"
    }
   ],
   "source": [
    "cat_search(train.iloc[:,184],train.iloc[:,1])"
   ]
  },
  {
   "cell_type": "code",
   "execution_count": 111,
   "metadata": {},
   "outputs": [
    {
     "data": {
      "text/plain": [
       "fr_yn\n",
       "N    AxesSubplot(0.125,0.125;0.775x0.755)\n",
       "Y    AxesSubplot(0.125,0.125;0.775x0.755)\n",
       "Name: tbc_rtl_str_dstnc, dtype: object"
      ]
     },
     "execution_count": 111,
     "metadata": {},
     "output_type": "execute_result"
    },
    {
     "data": {
      "image/png": "[encoded data removed]",
      "text/plain": [
       "<Figure size 432x288 with 1 Axes>"
      ]
     },
     "metadata": {
      "needs_background": "light"
     },
     "output_type": "display_data"
    }
   ],
   "source": [
    "train.groupby(by='fr_yn').tbc_rtl_str_dstnc.hist()"
   ]
  },
  {
   "cell_type": "markdown",
   "metadata": {},
   "source": [
    "## 안전 비상벨과의 최소 거리"
   ]
  },
  {
   "cell_type": "code",
   "execution_count": 112,
   "metadata": {},
   "outputs": [
    {
     "data": {
      "text/plain": [
       "<matplotlib.axes._subplots.AxesSubplot at 0x242b5cb5160>"
      ]
     },
     "execution_count": 112,
     "metadata": {},
     "output_type": "execute_result"
    },
    {
     "data": {
      "image/png": "[encoded data removed]",
      "text/plain": [
       "<Figure size 432x288 with 1 Axes>"
      ]
     },
     "metadata": {
      "needs_background": "light"
     },
     "output_type": "display_data"
    }
   ],
   "source": [
    "pd.DataFrame(train[['sft_emrgnc_bll_dstnc','fr_yn']]).boxplot(by='fr_yn')"
   ]
  },
  {
   "cell_type": "code",
   "execution_count": 115,
   "metadata": {},
   "outputs": [
    {
     "name": "stdout",
     "output_type": "stream",
     "text": [
      "5\n",
      "103571\n"
     ]
    },
    {
     "data": {
      "text/plain": [
       "0                      NaN\n",
       "1                      NaN\n",
       "2                      NaN\n",
       "3         (4000.0, 5000.0]\n",
       "4                      NaN\n",
       "               ...        \n",
       "59194     (3000.0, 4000.0]\n",
       "59195        (0.0, 1000.0]\n",
       "59196     (6000.0, 7000.0]\n",
       "59197    (9000.0, 11000.0]\n",
       "59198                  NaN\n",
       "Name: sft_emrgnc_bll_dstnc_bins, Length: 59199, dtype: category\n",
       "Categories (10, interval[int64]): [(0, 1000] < (1000, 2000] < (2000, 3000] < (3000, 4000] ... (6000, 7000] < (7000, 8000] < (8000, 9000] < (9000, 11000]]"
      ]
     },
     "execution_count": 115,
     "metadata": {},
     "output_type": "execute_result"
    }
   ],
   "source": [
    "print(min(train.sft_emrgnc_bll_dstnc))\n",
    "print(max(train.sft_emrgnc_bll_dstnc))\n",
    "bins_temrtr = [0, 1000, 2000, 3000,4000,5000,6000,7000,8000,9000,11000]\n",
    "train['sft_emrgnc_bll_dstnc_bins'] = pd.cut(train['sft_emrgnc_bll_dstnc'], bins_temrtr)\n",
    "train['sft_emrgnc_bll_dstnc_bins']"
   ]
  },
  {
   "cell_type": "code",
   "execution_count": 116,
   "metadata": {
    "scrolled": true
   },
   "outputs": [
    {
     "data": {
      "text/plain": [
       "185"
      ]
     },
     "execution_count": 116,
     "metadata": {},
     "output_type": "execute_result"
    }
   ],
   "source": [
    "train.columns.get_loc('sft_emrgnc_bll_dstnc_bins')"
   ]
  },
  {
   "cell_type": "code",
   "execution_count": 117,
   "metadata": {},
   "outputs": [
    {
     "data": {
      "text/html": [
       "<div>\n",
       "<style scoped>\n",
       "    .dataframe tbody tr th:only-of-type {\n",
       "        vertical-align: middle;\n",
       "    }\n",
       "\n",
       "    .dataframe tbody tr th {\n",
       "        vertical-align: top;\n",
       "    }\n",
       "\n",
       "    .dataframe thead th {\n",
       "        text-align: right;\n",
       "    }\n",
       "</style>\n",
       "<table border=\"1\" class=\"dataframe\">\n",
       "  <thead>\n",
       "    <tr style=\"text-align: right;\">\n",
       "      <th></th>\n",
       "      <th>Total</th>\n",
       "      <th>Y</th>\n",
       "      <th>N</th>\n",
       "      <th>weights</th>\n",
       "      <th>Y/Total</th>\n",
       "      <th>N/Total</th>\n",
       "    </tr>\n",
       "    <tr>\n",
       "      <th>sft_emrgnc_bll_dstnc_bins</th>\n",
       "      <th></th>\n",
       "      <th></th>\n",
       "      <th></th>\n",
       "      <th></th>\n",
       "      <th></th>\n",
       "      <th></th>\n",
       "    </tr>\n",
       "  </thead>\n",
       "  <tbody>\n",
       "    <tr>\n",
       "      <td>(0.0, 1000.0]</td>\n",
       "      <td>2902</td>\n",
       "      <td>745</td>\n",
       "      <td>2157</td>\n",
       "      <td>0.049</td>\n",
       "      <td>0.26</td>\n",
       "      <td>0.74</td>\n",
       "    </tr>\n",
       "    <tr>\n",
       "      <td>(1000.0, 2000.0]</td>\n",
       "      <td>1469</td>\n",
       "      <td>350</td>\n",
       "      <td>1119</td>\n",
       "      <td>0.025</td>\n",
       "      <td>0.24</td>\n",
       "      <td>0.76</td>\n",
       "    </tr>\n",
       "    <tr>\n",
       "      <td>(2000.0, 3000.0]</td>\n",
       "      <td>1297</td>\n",
       "      <td>157</td>\n",
       "      <td>1140</td>\n",
       "      <td>0.022</td>\n",
       "      <td>0.12</td>\n",
       "      <td>0.88</td>\n",
       "    </tr>\n",
       "    <tr>\n",
       "      <td>(3000.0, 4000.0]</td>\n",
       "      <td>1006</td>\n",
       "      <td>119</td>\n",
       "      <td>887</td>\n",
       "      <td>0.017</td>\n",
       "      <td>0.12</td>\n",
       "      <td>0.88</td>\n",
       "    </tr>\n",
       "    <tr>\n",
       "      <td>(4000.0, 5000.0]</td>\n",
       "      <td>688</td>\n",
       "      <td>79</td>\n",
       "      <td>609</td>\n",
       "      <td>0.012</td>\n",
       "      <td>0.11</td>\n",
       "      <td>0.89</td>\n",
       "    </tr>\n",
       "    <tr>\n",
       "      <td>(5000.0, 6000.0]</td>\n",
       "      <td>498</td>\n",
       "      <td>56</td>\n",
       "      <td>442</td>\n",
       "      <td>0.008</td>\n",
       "      <td>0.11</td>\n",
       "      <td>0.89</td>\n",
       "    </tr>\n",
       "    <tr>\n",
       "      <td>(6000.0, 7000.0]</td>\n",
       "      <td>822</td>\n",
       "      <td>60</td>\n",
       "      <td>762</td>\n",
       "      <td>0.014</td>\n",
       "      <td>0.07</td>\n",
       "      <td>0.93</td>\n",
       "    </tr>\n",
       "    <tr>\n",
       "      <td>(7000.0, 8000.0]</td>\n",
       "      <td>791</td>\n",
       "      <td>33</td>\n",
       "      <td>758</td>\n",
       "      <td>0.013</td>\n",
       "      <td>0.04</td>\n",
       "      <td>0.96</td>\n",
       "    </tr>\n",
       "    <tr>\n",
       "      <td>(8000.0, 9000.0]</td>\n",
       "      <td>1459</td>\n",
       "      <td>78</td>\n",
       "      <td>1381</td>\n",
       "      <td>0.025</td>\n",
       "      <td>0.05</td>\n",
       "      <td>0.95</td>\n",
       "    </tr>\n",
       "    <tr>\n",
       "      <td>(9000.0, 11000.0]</td>\n",
       "      <td>3450</td>\n",
       "      <td>121</td>\n",
       "      <td>3329</td>\n",
       "      <td>0.058</td>\n",
       "      <td>0.04</td>\n",
       "      <td>0.96</td>\n",
       "    </tr>\n",
       "  </tbody>\n",
       "</table>\n",
       "</div>"
      ],
      "text/plain": [
       "                           Total    Y     N  weights  Y/Total  N/Total\n",
       "sft_emrgnc_bll_dstnc_bins                                             \n",
       "(0.0, 1000.0]               2902  745  2157    0.049     0.26     0.74\n",
       "(1000.0, 2000.0]            1469  350  1119    0.025     0.24     0.76\n",
       "(2000.0, 3000.0]            1297  157  1140    0.022     0.12     0.88\n",
       "(3000.0, 4000.0]            1006  119   887    0.017     0.12     0.88\n",
       "(4000.0, 5000.0]             688   79   609    0.012     0.11     0.89\n",
       "(5000.0, 6000.0]             498   56   442    0.008     0.11     0.89\n",
       "(6000.0, 7000.0]             822   60   762    0.014     0.07     0.93\n",
       "(7000.0, 8000.0]             791   33   758    0.013     0.04     0.96\n",
       "(8000.0, 9000.0]            1459   78  1381    0.025     0.05     0.95\n",
       "(9000.0, 11000.0]           3450  121  3329    0.058     0.04     0.96"
      ]
     },
     "execution_count": 117,
     "metadata": {},
     "output_type": "execute_result"
    }
   ],
   "source": [
    "cat_search(train.iloc[:,185],train.iloc[:,1])"
   ]
  },
  {
   "cell_type": "code",
   "execution_count": 118,
   "metadata": {},
   "outputs": [
    {
     "data": {
      "text/plain": [
       "fr_yn\n",
       "N    AxesSubplot(0.125,0.125;0.775x0.755)\n",
       "Y    AxesSubplot(0.125,0.125;0.775x0.755)\n",
       "Name: sft_emrgnc_bll_dstnc, dtype: object"
      ]
     },
     "execution_count": 118,
     "metadata": {},
     "output_type": "execute_result"
    },
    {
     "data": {
      "image/png": "[encoded data removed]",
      "text/plain": [
       "<Figure size 432x288 with 1 Axes>"
      ]
     },
     "metadata": {
      "needs_background": "light"
     },
     "output_type": "display_data"
    }
   ],
   "source": [
    "train.groupby(by='fr_yn').sft_emrgnc_bll_dstnc.hist()"
   ]
  },
  {
   "cell_type": "markdown",
   "metadata": {},
   "source": [
    "## 자동 심장 충격기와의 최소 거리"
   ]
  },
  {
   "cell_type": "code",
   "execution_count": 119,
   "metadata": {},
   "outputs": [
    {
     "data": {
      "text/plain": [
       "<matplotlib.axes._subplots.AxesSubplot at 0x242b5e14e48>"
      ]
     },
     "execution_count": 119,
     "metadata": {},
     "output_type": "execute_result"
    },
    {
     "data": {
      "image/png": "[encoded data removed]",
      "text/plain": [
       "<Figure size 432x288 with 1 Axes>"
      ]
     },
     "metadata": {
      "needs_background": "light"
     },
     "output_type": "display_data"
    }
   ],
   "source": [
    "pd.DataFrame(train[['ahsm_dstnc','fr_yn']]).boxplot(by='fr_yn')"
   ]
  },
  {
   "cell_type": "code",
   "execution_count": 121,
   "metadata": {},
   "outputs": [
    {
     "name": "stdout",
     "output_type": "stream",
     "text": [
      "0\n",
      "56485\n"
     ]
    },
    {
     "data": {
      "text/plain": [
       "0        (10000, 15000]\n",
       "1             (0, 5000]\n",
       "2        (10000, 15000]\n",
       "3             (0, 5000]\n",
       "4        (10000, 15000]\n",
       "              ...      \n",
       "59194     (5000, 10000]\n",
       "59195         (0, 5000]\n",
       "59196         (0, 5000]\n",
       "59197         (0, 5000]\n",
       "59198    (10000, 15000]\n",
       "Name: ahsm_dstnc_bins, Length: 59199, dtype: category\n",
       "Categories (11, interval[int64]): [(0, 5000] < (5000, 10000] < (10000, 15000] < (15000, 20000] ... (35000, 40000] < (40000, 45000] < (45000, 50000] < (50000, 57000]]"
      ]
     },
     "execution_count": 121,
     "metadata": {},
     "output_type": "execute_result"
    }
   ],
   "source": [
    "print(min(train.ahsm_dstnc))\n",
    "print(max(train.ahsm_dstnc))\n",
    "bins_temrtr = [0, 5000, 10000, 15000,20000,25000,30000,35000,40000,45000,50000,57000]\n",
    "train['ahsm_dstnc_bins'] = pd.cut(train['ahsm_dstnc'], bins_temrtr)\n",
    "train['ahsm_dstnc_bins']"
   ]
  },
  {
   "cell_type": "code",
   "execution_count": 122,
   "metadata": {},
   "outputs": [
    {
     "data": {
      "text/plain": [
       "186"
      ]
     },
     "execution_count": 122,
     "metadata": {},
     "output_type": "execute_result"
    }
   ],
   "source": [
    "train.columns.get_loc('ahsm_dstnc_bins')"
   ]
  },
  {
   "cell_type": "code",
   "execution_count": 123,
   "metadata": {},
   "outputs": [
    {
     "data": {
      "text/html": [
       "<div>\n",
       "<style scoped>\n",
       "    .dataframe tbody tr th:only-of-type {\n",
       "        vertical-align: middle;\n",
       "    }\n",
       "\n",
       "    .dataframe tbody tr th {\n",
       "        vertical-align: top;\n",
       "    }\n",
       "\n",
       "    .dataframe thead th {\n",
       "        text-align: right;\n",
       "    }\n",
       "</style>\n",
       "<table border=\"1\" class=\"dataframe\">\n",
       "  <thead>\n",
       "    <tr style=\"text-align: right;\">\n",
       "      <th></th>\n",
       "      <th>Total</th>\n",
       "      <th>Y</th>\n",
       "      <th>N</th>\n",
       "      <th>weights</th>\n",
       "      <th>Y/Total</th>\n",
       "      <th>N/Total</th>\n",
       "    </tr>\n",
       "    <tr>\n",
       "      <th>ahsm_dstnc_bins</th>\n",
       "      <th></th>\n",
       "      <th></th>\n",
       "      <th></th>\n",
       "      <th></th>\n",
       "      <th></th>\n",
       "      <th></th>\n",
       "    </tr>\n",
       "  </thead>\n",
       "  <tbody>\n",
       "    <tr>\n",
       "      <td>(0.0, 5000.0]</td>\n",
       "      <td>33784</td>\n",
       "      <td>3451</td>\n",
       "      <td>30333</td>\n",
       "      <td>0.571</td>\n",
       "      <td>0.10</td>\n",
       "      <td>0.90</td>\n",
       "    </tr>\n",
       "    <tr>\n",
       "      <td>(5000.0, 10000.0]</td>\n",
       "      <td>6247</td>\n",
       "      <td>748</td>\n",
       "      <td>5499</td>\n",
       "      <td>0.106</td>\n",
       "      <td>0.12</td>\n",
       "      <td>0.88</td>\n",
       "    </tr>\n",
       "    <tr>\n",
       "      <td>(10000.0, 15000.0]</td>\n",
       "      <td>5100</td>\n",
       "      <td>727</td>\n",
       "      <td>4373</td>\n",
       "      <td>0.086</td>\n",
       "      <td>0.14</td>\n",
       "      <td>0.86</td>\n",
       "    </tr>\n",
       "    <tr>\n",
       "      <td>(15000.0, 20000.0]</td>\n",
       "      <td>3915</td>\n",
       "      <td>675</td>\n",
       "      <td>3240</td>\n",
       "      <td>0.066</td>\n",
       "      <td>0.17</td>\n",
       "      <td>0.83</td>\n",
       "    </tr>\n",
       "    <tr>\n",
       "      <td>(20000.0, 25000.0]</td>\n",
       "      <td>3986</td>\n",
       "      <td>798</td>\n",
       "      <td>3188</td>\n",
       "      <td>0.067</td>\n",
       "      <td>0.20</td>\n",
       "      <td>0.80</td>\n",
       "    </tr>\n",
       "    <tr>\n",
       "      <td>(25000.0, 30000.0]</td>\n",
       "      <td>2068</td>\n",
       "      <td>352</td>\n",
       "      <td>1716</td>\n",
       "      <td>0.035</td>\n",
       "      <td>0.17</td>\n",
       "      <td>0.83</td>\n",
       "    </tr>\n",
       "    <tr>\n",
       "      <td>(30000.0, 35000.0]</td>\n",
       "      <td>1187</td>\n",
       "      <td>202</td>\n",
       "      <td>985</td>\n",
       "      <td>0.020</td>\n",
       "      <td>0.17</td>\n",
       "      <td>0.83</td>\n",
       "    </tr>\n",
       "    <tr>\n",
       "      <td>(35000.0, 40000.0]</td>\n",
       "      <td>1433</td>\n",
       "      <td>377</td>\n",
       "      <td>1056</td>\n",
       "      <td>0.024</td>\n",
       "      <td>0.26</td>\n",
       "      <td>0.74</td>\n",
       "    </tr>\n",
       "    <tr>\n",
       "      <td>(40000.0, 45000.0]</td>\n",
       "      <td>568</td>\n",
       "      <td>90</td>\n",
       "      <td>478</td>\n",
       "      <td>0.010</td>\n",
       "      <td>0.16</td>\n",
       "      <td>0.84</td>\n",
       "    </tr>\n",
       "    <tr>\n",
       "      <td>(45000.0, 50000.0]</td>\n",
       "      <td>400</td>\n",
       "      <td>104</td>\n",
       "      <td>296</td>\n",
       "      <td>0.007</td>\n",
       "      <td>0.26</td>\n",
       "      <td>0.74</td>\n",
       "    </tr>\n",
       "    <tr>\n",
       "      <td>(50000.0, 57000.0]</td>\n",
       "      <td>479</td>\n",
       "      <td>131</td>\n",
       "      <td>348</td>\n",
       "      <td>0.008</td>\n",
       "      <td>0.27</td>\n",
       "      <td>0.73</td>\n",
       "    </tr>\n",
       "  </tbody>\n",
       "</table>\n",
       "</div>"
      ],
      "text/plain": [
       "                    Total     Y      N  weights  Y/Total  N/Total\n",
       "ahsm_dstnc_bins                                                  \n",
       "(0.0, 5000.0]       33784  3451  30333    0.571     0.10     0.90\n",
       "(5000.0, 10000.0]    6247   748   5499    0.106     0.12     0.88\n",
       "(10000.0, 15000.0]   5100   727   4373    0.086     0.14     0.86\n",
       "(15000.0, 20000.0]   3915   675   3240    0.066     0.17     0.83\n",
       "(20000.0, 25000.0]   3986   798   3188    0.067     0.20     0.80\n",
       "(25000.0, 30000.0]   2068   352   1716    0.035     0.17     0.83\n",
       "(30000.0, 35000.0]   1187   202    985    0.020     0.17     0.83\n",
       "(35000.0, 40000.0]   1433   377   1056    0.024     0.26     0.74\n",
       "(40000.0, 45000.0]    568    90    478    0.010     0.16     0.84\n",
       "(45000.0, 50000.0]    400   104    296    0.007     0.26     0.74\n",
       "(50000.0, 57000.0]    479   131    348    0.008     0.27     0.73"
      ]
     },
     "execution_count": 123,
     "metadata": {},
     "output_type": "execute_result"
    }
   ],
   "source": [
    "cat_search(train.iloc[:,186],train.iloc[:,1])"
   ]
  },
  {
   "cell_type": "code",
   "execution_count": 124,
   "metadata": {},
   "outputs": [
    {
     "data": {
      "text/plain": [
       "fr_yn\n",
       "N    AxesSubplot(0.125,0.125;0.775x0.755)\n",
       "Y    AxesSubplot(0.125,0.125;0.775x0.755)\n",
       "Name: ahsm_dstnc, dtype: object"
      ]
     },
     "execution_count": 124,
     "metadata": {},
     "output_type": "execute_result"
    },
    {
     "data": {
      "image/png": "[encoded data removed]",
      "text/plain": [
       "<Figure size 432x288 with 1 Axes>"
      ]
     },
     "metadata": {
      "needs_background": "light"
     },
     "output_type": "display_data"
    }
   ],
   "source": [
    "train.groupby(by='fr_yn').ahsm_dstnc.hist()"
   ]
  },
  {
   "cell_type": "markdown",
   "metadata": {},
   "source": [
    "## 금연구역과의 최소 거리"
   ]
  },
  {
   "cell_type": "code",
   "execution_count": 125,
   "metadata": {},
   "outputs": [
    {
     "data": {
      "text/plain": [
       "<matplotlib.axes._subplots.AxesSubplot at 0x242b5f0c198>"
      ]
     },
     "execution_count": 125,
     "metadata": {},
     "output_type": "execute_result"
    },
    {
     "data": {
      "image/png": "[encoded data removed]",
      "text/plain": [
       "<Figure size 432x288 with 1 Axes>"
      ]
     },
     "metadata": {
      "needs_background": "light"
     },
     "output_type": "display_data"
    }
   ],
   "source": [
    "pd.DataFrame(train[['no_tbc_zn_dstnc','fr_yn']]).boxplot(by='fr_yn')"
   ]
  },
  {
   "cell_type": "code",
   "execution_count": 127,
   "metadata": {},
   "outputs": [
    {
     "name": "stdout",
     "output_type": "stream",
     "text": [
      "0\n",
      "16164\n"
     ]
    },
    {
     "data": {
      "text/plain": [
       "0           (0, 1000]\n",
       "1        (7000, 8000]\n",
       "2           (0, 1000]\n",
       "3           (0, 1000]\n",
       "4           (0, 1000]\n",
       "             ...     \n",
       "59194       (0, 1000]\n",
       "59195       (0, 1000]\n",
       "59196       (0, 1000]\n",
       "59197       (0, 1000]\n",
       "59198       (0, 1000]\n",
       "Name: no_tbc_zn_dstnc_bins, Length: 59199, dtype: category\n",
       "Categories (16, interval[int64]): [(0, 1000] < (1000, 2000] < (2000, 3000] < (3000, 4000] ... (12000, 13000] < (13000, 14000] < (14000, 15000] < (15000, 17000]]"
      ]
     },
     "execution_count": 127,
     "metadata": {},
     "output_type": "execute_result"
    }
   ],
   "source": [
    "print(min(train.no_tbc_zn_dstnc))\n",
    "print(max(train.no_tbc_zn_dstnc))\n",
    "bins_temrtr = [0, 1000, 2000, 3000,4000,5000,6000,7000,8000,9000,10000,11000,12000,13000,14000,15000,17000]\n",
    "train['no_tbc_zn_dstnc_bins'] = pd.cut(train['no_tbc_zn_dstnc'], bins_temrtr)\n",
    "train['no_tbc_zn_dstnc_bins']"
   ]
  },
  {
   "cell_type": "code",
   "execution_count": 128,
   "metadata": {},
   "outputs": [
    {
     "data": {
      "text/plain": [
       "187"
      ]
     },
     "execution_count": 128,
     "metadata": {},
     "output_type": "execute_result"
    }
   ],
   "source": [
    "train.columns.get_loc('no_tbc_zn_dstnc_bins')"
   ]
  },
  {
   "cell_type": "code",
   "execution_count": 131,
   "metadata": {},
   "outputs": [
    {
     "data": {
      "text/html": [
       "<div>\n",
       "<style scoped>\n",
       "    .dataframe tbody tr th:only-of-type {\n",
       "        vertical-align: middle;\n",
       "    }\n",
       "\n",
       "    .dataframe tbody tr th {\n",
       "        vertical-align: top;\n",
       "    }\n",
       "\n",
       "    .dataframe thead th {\n",
       "        text-align: right;\n",
       "    }\n",
       "</style>\n",
       "<table border=\"1\" class=\"dataframe\">\n",
       "  <thead>\n",
       "    <tr style=\"text-align: right;\">\n",
       "      <th></th>\n",
       "      <th>Total</th>\n",
       "      <th>Y</th>\n",
       "      <th>N</th>\n",
       "      <th>weights</th>\n",
       "      <th>Y/Total</th>\n",
       "      <th>N/Total</th>\n",
       "    </tr>\n",
       "    <tr>\n",
       "      <th>no_tbc_zn_dstnc_bins</th>\n",
       "      <th></th>\n",
       "      <th></th>\n",
       "      <th></th>\n",
       "      <th></th>\n",
       "      <th></th>\n",
       "      <th></th>\n",
       "    </tr>\n",
       "  </thead>\n",
       "  <tbody>\n",
       "    <tr>\n",
       "      <td>(0.0, 1000.0]</td>\n",
       "      <td>39399</td>\n",
       "      <td>5676.0</td>\n",
       "      <td>33723</td>\n",
       "      <td>0.666</td>\n",
       "      <td>0.14</td>\n",
       "      <td>0.86</td>\n",
       "    </tr>\n",
       "    <tr>\n",
       "      <td>(1000.0, 2000.0]</td>\n",
       "      <td>8526</td>\n",
       "      <td>821.0</td>\n",
       "      <td>7705</td>\n",
       "      <td>0.144</td>\n",
       "      <td>0.10</td>\n",
       "      <td>0.90</td>\n",
       "    </tr>\n",
       "    <tr>\n",
       "      <td>(2000.0, 3000.0]</td>\n",
       "      <td>4464</td>\n",
       "      <td>390.0</td>\n",
       "      <td>4074</td>\n",
       "      <td>0.075</td>\n",
       "      <td>0.09</td>\n",
       "      <td>0.91</td>\n",
       "    </tr>\n",
       "    <tr>\n",
       "      <td>(3000.0, 4000.0]</td>\n",
       "      <td>2505</td>\n",
       "      <td>253.0</td>\n",
       "      <td>2252</td>\n",
       "      <td>0.042</td>\n",
       "      <td>0.10</td>\n",
       "      <td>0.90</td>\n",
       "    </tr>\n",
       "    <tr>\n",
       "      <td>(4000.0, 5000.0]</td>\n",
       "      <td>1724</td>\n",
       "      <td>203.0</td>\n",
       "      <td>1521</td>\n",
       "      <td>0.029</td>\n",
       "      <td>0.12</td>\n",
       "      <td>0.88</td>\n",
       "    </tr>\n",
       "    <tr>\n",
       "      <td>(5000.0, 6000.0]</td>\n",
       "      <td>1102</td>\n",
       "      <td>103.0</td>\n",
       "      <td>999</td>\n",
       "      <td>0.019</td>\n",
       "      <td>0.09</td>\n",
       "      <td>0.91</td>\n",
       "    </tr>\n",
       "    <tr>\n",
       "      <td>(6000.0, 7000.0]</td>\n",
       "      <td>428</td>\n",
       "      <td>54.0</td>\n",
       "      <td>374</td>\n",
       "      <td>0.007</td>\n",
       "      <td>0.13</td>\n",
       "      <td>0.87</td>\n",
       "    </tr>\n",
       "    <tr>\n",
       "      <td>(7000.0, 8000.0]</td>\n",
       "      <td>431</td>\n",
       "      <td>52.0</td>\n",
       "      <td>379</td>\n",
       "      <td>0.007</td>\n",
       "      <td>0.12</td>\n",
       "      <td>0.88</td>\n",
       "    </tr>\n",
       "    <tr>\n",
       "      <td>(8000.0, 9000.0]</td>\n",
       "      <td>233</td>\n",
       "      <td>31.0</td>\n",
       "      <td>202</td>\n",
       "      <td>0.004</td>\n",
       "      <td>0.13</td>\n",
       "      <td>0.87</td>\n",
       "    </tr>\n",
       "    <tr>\n",
       "      <td>(9000.0, 10000.0]</td>\n",
       "      <td>118</td>\n",
       "      <td>20.0</td>\n",
       "      <td>98</td>\n",
       "      <td>0.002</td>\n",
       "      <td>0.17</td>\n",
       "      <td>0.83</td>\n",
       "    </tr>\n",
       "    <tr>\n",
       "      <td>(10000.0, 11000.0]</td>\n",
       "      <td>143</td>\n",
       "      <td>20.0</td>\n",
       "      <td>123</td>\n",
       "      <td>0.002</td>\n",
       "      <td>0.14</td>\n",
       "      <td>0.86</td>\n",
       "    </tr>\n",
       "    <tr>\n",
       "      <td>(11000.0, 12000.0]</td>\n",
       "      <td>63</td>\n",
       "      <td>7.0</td>\n",
       "      <td>56</td>\n",
       "      <td>0.001</td>\n",
       "      <td>0.11</td>\n",
       "      <td>0.89</td>\n",
       "    </tr>\n",
       "    <tr>\n",
       "      <td>(12000.0, 13000.0]</td>\n",
       "      <td>1</td>\n",
       "      <td>0.0</td>\n",
       "      <td>1</td>\n",
       "      <td>0.000</td>\n",
       "      <td>0.00</td>\n",
       "      <td>1.00</td>\n",
       "    </tr>\n",
       "    <tr>\n",
       "      <td>(15000.0, 17000.0]</td>\n",
       "      <td>1</td>\n",
       "      <td>0.0</td>\n",
       "      <td>1</td>\n",
       "      <td>0.000</td>\n",
       "      <td>0.00</td>\n",
       "      <td>1.00</td>\n",
       "    </tr>\n",
       "  </tbody>\n",
       "</table>\n",
       "</div>"
      ],
      "text/plain": [
       "                      Total       Y      N  weights  Y/Total  N/Total\n",
       "no_tbc_zn_dstnc_bins                                                 \n",
       "(0.0, 1000.0]         39399  5676.0  33723    0.666     0.14     0.86\n",
       "(1000.0, 2000.0]       8526   821.0   7705    0.144     0.10     0.90\n",
       "(2000.0, 3000.0]       4464   390.0   4074    0.075     0.09     0.91\n",
       "(3000.0, 4000.0]       2505   253.0   2252    0.042     0.10     0.90\n",
       "(4000.0, 5000.0]       1724   203.0   1521    0.029     0.12     0.88\n",
       "(5000.0, 6000.0]       1102   103.0    999    0.019     0.09     0.91\n",
       "(6000.0, 7000.0]        428    54.0    374    0.007     0.13     0.87\n",
       "(7000.0, 8000.0]        431    52.0    379    0.007     0.12     0.88\n",
       "(8000.0, 9000.0]        233    31.0    202    0.004     0.13     0.87\n",
       "(9000.0, 10000.0]       118    20.0     98    0.002     0.17     0.83\n",
       "(10000.0, 11000.0]      143    20.0    123    0.002     0.14     0.86\n",
       "(11000.0, 12000.0]       63     7.0     56    0.001     0.11     0.89\n",
       "(12000.0, 13000.0]        1     0.0      1    0.000     0.00     1.00\n",
       "(15000.0, 17000.0]        1     0.0      1    0.000     0.00     1.00"
      ]
     },
     "execution_count": 131,
     "metadata": {},
     "output_type": "execute_result"
    }
   ],
   "source": [
    "cat_search(train.iloc[:,187],train.iloc[:,1])"
   ]
  },
  {
   "cell_type": "code",
   "execution_count": 132,
   "metadata": {},
   "outputs": [
    {
     "data": {
      "text/plain": [
       "fr_yn\n",
       "N    AxesSubplot(0.125,0.125;0.775x0.755)\n",
       "Y    AxesSubplot(0.125,0.125;0.775x0.755)\n",
       "Name: no_tbc_zn_dstnc, dtype: object"
      ]
     },
     "execution_count": 132,
     "metadata": {},
     "output_type": "execute_result"
    },
    {
     "data": {
      "image/png": "[encoded data removed]",
      "text/plain": [
       "<Figure size 432x288 with 1 Axes>"
      ]
     },
     "metadata": {
      "needs_background": "light"
     },
     "output_type": "display_data"
    }
   ],
   "source": [
    "train.groupby(by='fr_yn').no_tbc_zn_dstnc.hist()"
   ]
  },
  {
   "cell_type": "markdown",
   "metadata": {},
   "source": [
    "## 반경 50M 이내의 건물 수"
   ]
  },
  {
   "cell_type": "code",
   "execution_count": 133,
   "metadata": {},
   "outputs": [
    {
     "data": {
      "text/plain": [
       "<matplotlib.axes._subplots.AxesSubplot at 0x242b6137b38>"
      ]
     },
     "execution_count": 133,
     "metadata": {},
     "output_type": "execute_result"
    },
    {
     "data": {
      "image/png": "[encoded data removed]",
      "text/plain": [
       "<Figure size 432x288 with 1 Axes>"
      ]
     },
     "metadata": {
      "needs_background": "light"
     },
     "output_type": "display_data"
    }
   ],
   "source": [
    "pd.DataFrame(train[['bldng_cnt_in_50m','fr_yn']]).boxplot(by='fr_yn')"
   ]
  },
  {
   "cell_type": "code",
   "execution_count": 135,
   "metadata": {},
   "outputs": [
    {
     "name": "stdout",
     "output_type": "stream",
     "text": [
      "0\n",
      "84\n"
     ]
    },
    {
     "data": {
      "text/plain": [
       "0                 NaN\n",
       "1                 NaN\n",
       "2        (10.0, 20.0]\n",
       "3        (10.0, 20.0]\n",
       "4                 NaN\n",
       "             ...     \n",
       "59194             NaN\n",
       "59195             NaN\n",
       "59196             NaN\n",
       "59197             NaN\n",
       "59198             NaN\n",
       "Name: bldng_cnt_in_50m_bins, Length: 59199, dtype: category\n",
       "Categories (8, interval[int64]): [(0, 10] < (10, 20] < (20, 30] < (30, 40] < (40, 50] < (50, 60] < (60, 70] < (70, 90]]"
      ]
     },
     "execution_count": 135,
     "metadata": {},
     "output_type": "execute_result"
    }
   ],
   "source": [
    "print(min(train.bldng_cnt_in_50m))\n",
    "print(max(train.bldng_cnt_in_50m))\n",
    "bins_temrtr = [0,10,20,30,40,50,60,70,90]\n",
    "train['bldng_cnt_in_50m_bins'] = pd.cut(train['bldng_cnt_in_50m'], bins_temrtr)\n",
    "train['bldng_cnt_in_50m_bins']"
   ]
  },
  {
   "cell_type": "code",
   "execution_count": 136,
   "metadata": {},
   "outputs": [
    {
     "data": {
      "text/plain": [
       "188"
      ]
     },
     "execution_count": 136,
     "metadata": {},
     "output_type": "execute_result"
    }
   ],
   "source": [
    "train.columns.get_loc('bldng_cnt_in_50m_bins')"
   ]
  },
  {
   "cell_type": "code",
   "execution_count": 137,
   "metadata": {},
   "outputs": [
    {
     "data": {
      "text/html": [
       "<div>\n",
       "<style scoped>\n",
       "    .dataframe tbody tr th:only-of-type {\n",
       "        vertical-align: middle;\n",
       "    }\n",
       "\n",
       "    .dataframe tbody tr th {\n",
       "        vertical-align: top;\n",
       "    }\n",
       "\n",
       "    .dataframe thead th {\n",
       "        text-align: right;\n",
       "    }\n",
       "</style>\n",
       "<table border=\"1\" class=\"dataframe\">\n",
       "  <thead>\n",
       "    <tr style=\"text-align: right;\">\n",
       "      <th></th>\n",
       "      <th>Total</th>\n",
       "      <th>Y</th>\n",
       "      <th>N</th>\n",
       "      <th>weights</th>\n",
       "      <th>Y/Total</th>\n",
       "      <th>N/Total</th>\n",
       "    </tr>\n",
       "    <tr>\n",
       "      <th>bldng_cnt_in_50m_bins</th>\n",
       "      <th></th>\n",
       "      <th></th>\n",
       "      <th></th>\n",
       "      <th></th>\n",
       "      <th></th>\n",
       "      <th></th>\n",
       "    </tr>\n",
       "  </thead>\n",
       "  <tbody>\n",
       "    <tr>\n",
       "      <td>(0.0, 10.0]</td>\n",
       "      <td>14059</td>\n",
       "      <td>2001</td>\n",
       "      <td>12058</td>\n",
       "      <td>0.237</td>\n",
       "      <td>0.14</td>\n",
       "      <td>0.86</td>\n",
       "    </tr>\n",
       "    <tr>\n",
       "      <td>(10.0, 20.0]</td>\n",
       "      <td>4010</td>\n",
       "      <td>545</td>\n",
       "      <td>3465</td>\n",
       "      <td>0.068</td>\n",
       "      <td>0.14</td>\n",
       "      <td>0.86</td>\n",
       "    </tr>\n",
       "    <tr>\n",
       "      <td>(20.0, 30.0]</td>\n",
       "      <td>2172</td>\n",
       "      <td>321</td>\n",
       "      <td>1851</td>\n",
       "      <td>0.037</td>\n",
       "      <td>0.15</td>\n",
       "      <td>0.85</td>\n",
       "    </tr>\n",
       "    <tr>\n",
       "      <td>(30.0, 40.0]</td>\n",
       "      <td>930</td>\n",
       "      <td>137</td>\n",
       "      <td>793</td>\n",
       "      <td>0.016</td>\n",
       "      <td>0.15</td>\n",
       "      <td>0.85</td>\n",
       "    </tr>\n",
       "    <tr>\n",
       "      <td>(40.0, 50.0]</td>\n",
       "      <td>404</td>\n",
       "      <td>65</td>\n",
       "      <td>339</td>\n",
       "      <td>0.007</td>\n",
       "      <td>0.16</td>\n",
       "      <td>0.84</td>\n",
       "    </tr>\n",
       "    <tr>\n",
       "      <td>(50.0, 60.0]</td>\n",
       "      <td>129</td>\n",
       "      <td>29</td>\n",
       "      <td>100</td>\n",
       "      <td>0.002</td>\n",
       "      <td>0.22</td>\n",
       "      <td>0.78</td>\n",
       "    </tr>\n",
       "    <tr>\n",
       "      <td>(60.0, 70.0]</td>\n",
       "      <td>25</td>\n",
       "      <td>5</td>\n",
       "      <td>20</td>\n",
       "      <td>0.000</td>\n",
       "      <td>0.20</td>\n",
       "      <td>0.80</td>\n",
       "    </tr>\n",
       "    <tr>\n",
       "      <td>(70.0, 90.0]</td>\n",
       "      <td>6</td>\n",
       "      <td>1</td>\n",
       "      <td>5</td>\n",
       "      <td>0.000</td>\n",
       "      <td>0.17</td>\n",
       "      <td>0.83</td>\n",
       "    </tr>\n",
       "  </tbody>\n",
       "</table>\n",
       "</div>"
      ],
      "text/plain": [
       "                       Total     Y      N  weights  Y/Total  N/Total\n",
       "bldng_cnt_in_50m_bins                                               \n",
       "(0.0, 10.0]            14059  2001  12058    0.237     0.14     0.86\n",
       "(10.0, 20.0]            4010   545   3465    0.068     0.14     0.86\n",
       "(20.0, 30.0]            2172   321   1851    0.037     0.15     0.85\n",
       "(30.0, 40.0]             930   137    793    0.016     0.15     0.85\n",
       "(40.0, 50.0]             404    65    339    0.007     0.16     0.84\n",
       "(50.0, 60.0]             129    29    100    0.002     0.22     0.78\n",
       "(60.0, 70.0]              25     5     20    0.000     0.20     0.80\n",
       "(70.0, 90.0]               6     1      5    0.000     0.17     0.83"
      ]
     },
     "execution_count": 137,
     "metadata": {},
     "output_type": "execute_result"
    }
   ],
   "source": [
    "cat_search(train.iloc[:,188],train.iloc[:,1])"
   ]
  },
  {
   "cell_type": "code",
   "execution_count": 138,
   "metadata": {},
   "outputs": [
    {
     "data": {
      "text/plain": [
       "fr_yn\n",
       "N    AxesSubplot(0.125,0.125;0.775x0.755)\n",
       "Y    AxesSubplot(0.125,0.125;0.775x0.755)\n",
       "Name: bldng_cnt_in_50m, dtype: object"
      ]
     },
     "execution_count": 138,
     "metadata": {},
     "output_type": "execute_result"
    },
    {
     "data": {
      "image/png": "[encoded data removed]",
      "text/plain": [
       "<Figure size 432x288 with 1 Axes>"
      ]
     },
     "metadata": {
      "needs_background": "light"
     },
     "output_type": "display_data"
    }
   ],
   "source": [
    "train.groupby(by='fr_yn').bldng_cnt_in_50m.hist()"
   ]
  },
  {
   "cell_type": "markdown",
   "metadata": {},
   "source": [
    "## 관할 소방서 인원"
   ]
  },
  {
   "cell_type": "code",
   "execution_count": 139,
   "metadata": {},
   "outputs": [
    {
     "data": {
      "text/plain": [
       "<matplotlib.axes._subplots.AxesSubplot at 0x242b6301e10>"
      ]
     },
     "execution_count": 139,
     "metadata": {},
     "output_type": "execute_result"
    },
    {
     "data": {
      "image/png": "[encoded data removed]",
      "text/plain": [
       "<Figure size 432x288 with 1 Axes>"
      ]
     },
     "metadata": {
      "needs_background": "light"
     },
     "output_type": "display_data"
    }
   ],
   "source": [
    "pd.DataFrame(train[['fr_mn_cnt','fr_yn']]).boxplot(by='fr_yn')"
   ]
  },
  {
   "cell_type": "code",
   "execution_count": 141,
   "metadata": {},
   "outputs": [
    {
     "name": "stdout",
     "output_type": "stream",
     "text": [
      "85.0\n",
      "210.0\n"
     ]
    },
    {
     "data": {
      "text/plain": [
       "0        (130, 140]\n",
       "1          (80, 90]\n",
       "2        (130, 140]\n",
       "3        (170, 180]\n",
       "4        (130, 140]\n",
       "            ...    \n",
       "59194    (130, 140]\n",
       "59195    (130, 140]\n",
       "59196    (130, 140]\n",
       "59197    (130, 140]\n",
       "59198    (130, 140]\n",
       "Name: fr_mn_cnt_bins, Length: 59199, dtype: category\n",
       "Categories (13, interval[int64]): [(80, 90] < (90, 100] < (100, 110] < (110, 120] ... (170, 180] < (180, 190] < (190, 200] < (200, 210]]"
      ]
     },
     "execution_count": 141,
     "metadata": {},
     "output_type": "execute_result"
    }
   ],
   "source": [
    "print(min(train.fr_mn_cnt))\n",
    "print(max(train.fr_mn_cnt))\n",
    "bins_temrtr = [80, 90, 100, 110,120,130,140,150,160,170,180,190,200,210]\n",
    "train['fr_mn_cnt_bins'] = pd.cut(train['fr_mn_cnt'], bins_temrtr)\n",
    "train['fr_mn_cnt_bins']\n"
   ]
  },
  {
   "cell_type": "code",
   "execution_count": 142,
   "metadata": {
    "scrolled": true
   },
   "outputs": [
    {
     "data": {
      "text/plain": [
       "189"
      ]
     },
     "execution_count": 142,
     "metadata": {},
     "output_type": "execute_result"
    }
   ],
   "source": [
    "train.columns.get_loc('fr_mn_cnt_bins')"
   ]
  },
  {
   "cell_type": "code",
   "execution_count": 143,
   "metadata": {},
   "outputs": [
    {
     "data": {
      "text/html": [
       "<div>\n",
       "<style scoped>\n",
       "    .dataframe tbody tr th:only-of-type {\n",
       "        vertical-align: middle;\n",
       "    }\n",
       "\n",
       "    .dataframe tbody tr th {\n",
       "        vertical-align: top;\n",
       "    }\n",
       "\n",
       "    .dataframe thead th {\n",
       "        text-align: right;\n",
       "    }\n",
       "</style>\n",
       "<table border=\"1\" class=\"dataframe\">\n",
       "  <thead>\n",
       "    <tr style=\"text-align: right;\">\n",
       "      <th></th>\n",
       "      <th>Total</th>\n",
       "      <th>Y</th>\n",
       "      <th>N</th>\n",
       "      <th>weights</th>\n",
       "      <th>Y/Total</th>\n",
       "      <th>N/Total</th>\n",
       "    </tr>\n",
       "    <tr>\n",
       "      <th>fr_mn_cnt_bins</th>\n",
       "      <th></th>\n",
       "      <th></th>\n",
       "      <th></th>\n",
       "      <th></th>\n",
       "      <th></th>\n",
       "      <th></th>\n",
       "    </tr>\n",
       "  </thead>\n",
       "  <tbody>\n",
       "    <tr>\n",
       "      <td>(80.0, 90.0]</td>\n",
       "      <td>1773</td>\n",
       "      <td>228</td>\n",
       "      <td>1545</td>\n",
       "      <td>0.030</td>\n",
       "      <td>0.13</td>\n",
       "      <td>0.87</td>\n",
       "    </tr>\n",
       "    <tr>\n",
       "      <td>(100.0, 110.0]</td>\n",
       "      <td>8492</td>\n",
       "      <td>1103</td>\n",
       "      <td>7389</td>\n",
       "      <td>0.143</td>\n",
       "      <td>0.13</td>\n",
       "      <td>0.87</td>\n",
       "    </tr>\n",
       "    <tr>\n",
       "      <td>(110.0, 120.0]</td>\n",
       "      <td>8709</td>\n",
       "      <td>1139</td>\n",
       "      <td>7570</td>\n",
       "      <td>0.147</td>\n",
       "      <td>0.13</td>\n",
       "      <td>0.87</td>\n",
       "    </tr>\n",
       "    <tr>\n",
       "      <td>(120.0, 130.0]</td>\n",
       "      <td>3270</td>\n",
       "      <td>404</td>\n",
       "      <td>2866</td>\n",
       "      <td>0.055</td>\n",
       "      <td>0.12</td>\n",
       "      <td>0.88</td>\n",
       "    </tr>\n",
       "    <tr>\n",
       "      <td>(130.0, 140.0]</td>\n",
       "      <td>5895</td>\n",
       "      <td>848</td>\n",
       "      <td>5047</td>\n",
       "      <td>0.100</td>\n",
       "      <td>0.14</td>\n",
       "      <td>0.86</td>\n",
       "    </tr>\n",
       "    <tr>\n",
       "      <td>(160.0, 170.0]</td>\n",
       "      <td>5893</td>\n",
       "      <td>983</td>\n",
       "      <td>4910</td>\n",
       "      <td>0.100</td>\n",
       "      <td>0.17</td>\n",
       "      <td>0.83</td>\n",
       "    </tr>\n",
       "    <tr>\n",
       "      <td>(170.0, 180.0]</td>\n",
       "      <td>12748</td>\n",
       "      <td>485</td>\n",
       "      <td>12263</td>\n",
       "      <td>0.215</td>\n",
       "      <td>0.04</td>\n",
       "      <td>0.96</td>\n",
       "    </tr>\n",
       "    <tr>\n",
       "      <td>(190.0, 200.0]</td>\n",
       "      <td>6007</td>\n",
       "      <td>886</td>\n",
       "      <td>5121</td>\n",
       "      <td>0.101</td>\n",
       "      <td>0.15</td>\n",
       "      <td>0.85</td>\n",
       "    </tr>\n",
       "    <tr>\n",
       "      <td>(200.0, 210.0]</td>\n",
       "      <td>6371</td>\n",
       "      <td>1567</td>\n",
       "      <td>4804</td>\n",
       "      <td>0.108</td>\n",
       "      <td>0.25</td>\n",
       "      <td>0.75</td>\n",
       "    </tr>\n",
       "  </tbody>\n",
       "</table>\n",
       "</div>"
      ],
      "text/plain": [
       "                Total     Y      N  weights  Y/Total  N/Total\n",
       "fr_mn_cnt_bins                                               \n",
       "(80.0, 90.0]     1773   228   1545    0.030     0.13     0.87\n",
       "(100.0, 110.0]   8492  1103   7389    0.143     0.13     0.87\n",
       "(110.0, 120.0]   8709  1139   7570    0.147     0.13     0.87\n",
       "(120.0, 130.0]   3270   404   2866    0.055     0.12     0.88\n",
       "(130.0, 140.0]   5895   848   5047    0.100     0.14     0.86\n",
       "(160.0, 170.0]   5893   983   4910    0.100     0.17     0.83\n",
       "(170.0, 180.0]  12748   485  12263    0.215     0.04     0.96\n",
       "(190.0, 200.0]   6007   886   5121    0.101     0.15     0.85\n",
       "(200.0, 210.0]   6371  1567   4804    0.108     0.25     0.75"
      ]
     },
     "execution_count": 143,
     "metadata": {},
     "output_type": "execute_result"
    }
   ],
   "source": [
    "cat_search(train.iloc[:,189],train.iloc[:,1])"
   ]
  },
  {
   "cell_type": "code",
   "execution_count": 144,
   "metadata": {},
   "outputs": [
    {
     "data": {
      "text/plain": [
       "fr_yn\n",
       "N    AxesSubplot(0.125,0.125;0.775x0.755)\n",
       "Y    AxesSubplot(0.125,0.125;0.775x0.755)\n",
       "Name: fr_mn_cnt, dtype: object"
      ]
     },
     "execution_count": 144,
     "metadata": {},
     "output_type": "execute_result"
    },
    {
     "data": {
      "image/png": "[encoded data removed]",
      "text/plain": [
       "<Figure size 432x288 with 1 Axes>"
      ]
     },
     "metadata": {
      "needs_background": "light"
     },
     "output_type": "display_data"
    }
   ],
   "source": [
    "train.groupby(by='fr_yn').fr_mn_cnt.hist()"
   ]
  },
  {
   "cell_type": "markdown",
   "metadata": {},
   "source": [
    "## 소방점검대상물기준"
   ]
  },
  {
   "cell_type": "code",
   "execution_count": 38,
   "metadata": {},
   "outputs": [
    {
     "data": {
      "text/plain": [
       "array([nan, '일반대상물', '민박7실이하', '옥내소화전설치대상', '민박7실이상', '자동화재탐지설치대상',\n",
       "       '11층이상', '연면적 15,000 이상', '기타(가설건축물분류)', '펜션7실이하',\n",
       "       '스프링클러,물분무등설치대상', '콘테이너하우스', '주거용비닐하우스',\n",
       "       '공동주택(주택법시행령제63조제1항각호1에해당)', '견본주택(모델하우스)', '임시사무실,창고,숙소', '기타',\n",
       "       '펜션7실이상'], dtype=object)"
      ]
     },
     "execution_count": 38,
     "metadata": {},
     "output_type": "execute_result"
    }
   ],
   "source": [
    "train['trgt_crtr'].unique()"
   ]
  },
  {
   "cell_type": "code",
   "execution_count": 39,
   "metadata": {},
   "outputs": [
    {
     "data": {
      "text/html": [
       "<div>\n",
       "<style scoped>\n",
       "    .dataframe tbody tr th:only-of-type {\n",
       "        vertical-align: middle;\n",
       "    }\n",
       "\n",
       "    .dataframe tbody tr th {\n",
       "        vertical-align: top;\n",
       "    }\n",
       "\n",
       "    .dataframe thead th {\n",
       "        text-align: right;\n",
       "    }\n",
       "</style>\n",
       "<table border=\"1\" class=\"dataframe\">\n",
       "  <thead>\n",
       "    <tr style=\"text-align: right;\">\n",
       "      <th>fr_yn</th>\n",
       "      <th>N</th>\n",
       "      <th>Y</th>\n",
       "      <th>All</th>\n",
       "    </tr>\n",
       "    <tr>\n",
       "      <th>trgt_crtr</th>\n",
       "      <th></th>\n",
       "      <th></th>\n",
       "      <th></th>\n",
       "    </tr>\n",
       "  </thead>\n",
       "  <tbody>\n",
       "    <tr>\n",
       "      <td>11층이상</td>\n",
       "      <td>1</td>\n",
       "      <td>1</td>\n",
       "      <td>2</td>\n",
       "    </tr>\n",
       "    <tr>\n",
       "      <td>견본주택(모델하우스)</td>\n",
       "      <td>1</td>\n",
       "      <td>0</td>\n",
       "      <td>1</td>\n",
       "    </tr>\n",
       "    <tr>\n",
       "      <td>공동주택(주택법시행령제63조제1항각호1에해당)</td>\n",
       "      <td>1</td>\n",
       "      <td>5</td>\n",
       "      <td>6</td>\n",
       "    </tr>\n",
       "    <tr>\n",
       "      <td>기타</td>\n",
       "      <td>0</td>\n",
       "      <td>1</td>\n",
       "      <td>1</td>\n",
       "    </tr>\n",
       "    <tr>\n",
       "      <td>기타(가설건축물분류)</td>\n",
       "      <td>2</td>\n",
       "      <td>0</td>\n",
       "      <td>2</td>\n",
       "    </tr>\n",
       "    <tr>\n",
       "      <td>민박7실이상</td>\n",
       "      <td>15</td>\n",
       "      <td>1</td>\n",
       "      <td>16</td>\n",
       "    </tr>\n",
       "    <tr>\n",
       "      <td>민박7실이하</td>\n",
       "      <td>239</td>\n",
       "      <td>55</td>\n",
       "      <td>294</td>\n",
       "    </tr>\n",
       "    <tr>\n",
       "      <td>스프링클러,물분무등설치대상</td>\n",
       "      <td>14</td>\n",
       "      <td>14</td>\n",
       "      <td>28</td>\n",
       "    </tr>\n",
       "    <tr>\n",
       "      <td>연면적 15,000 이상</td>\n",
       "      <td>4</td>\n",
       "      <td>2</td>\n",
       "      <td>6</td>\n",
       "    </tr>\n",
       "    <tr>\n",
       "      <td>옥내소화전설치대상</td>\n",
       "      <td>42</td>\n",
       "      <td>27</td>\n",
       "      <td>69</td>\n",
       "    </tr>\n",
       "    <tr>\n",
       "      <td>일반대상물</td>\n",
       "      <td>6362</td>\n",
       "      <td>1227</td>\n",
       "      <td>7589</td>\n",
       "    </tr>\n",
       "    <tr>\n",
       "      <td>임시사무실,창고,숙소</td>\n",
       "      <td>1</td>\n",
       "      <td>0</td>\n",
       "      <td>1</td>\n",
       "    </tr>\n",
       "    <tr>\n",
       "      <td>자동화재탐지설치대상</td>\n",
       "      <td>90</td>\n",
       "      <td>56</td>\n",
       "      <td>146</td>\n",
       "    </tr>\n",
       "    <tr>\n",
       "      <td>주거용비닐하우스</td>\n",
       "      <td>1</td>\n",
       "      <td>0</td>\n",
       "      <td>1</td>\n",
       "    </tr>\n",
       "    <tr>\n",
       "      <td>콘테이너하우스</td>\n",
       "      <td>1</td>\n",
       "      <td>0</td>\n",
       "      <td>1</td>\n",
       "    </tr>\n",
       "    <tr>\n",
       "      <td>펜션7실이상</td>\n",
       "      <td>2</td>\n",
       "      <td>0</td>\n",
       "      <td>2</td>\n",
       "    </tr>\n",
       "    <tr>\n",
       "      <td>펜션7실이하</td>\n",
       "      <td>7</td>\n",
       "      <td>5</td>\n",
       "      <td>12</td>\n",
       "    </tr>\n",
       "    <tr>\n",
       "      <td>All</td>\n",
       "      <td>6783</td>\n",
       "      <td>1394</td>\n",
       "      <td>8177</td>\n",
       "    </tr>\n",
       "  </tbody>\n",
       "</table>\n",
       "</div>"
      ],
      "text/plain": [
       "fr_yn                         N     Y   All\n",
       "trgt_crtr                                  \n",
       "11층이상                         1     1     2\n",
       "견본주택(모델하우스)                   1     0     1\n",
       "공동주택(주택법시행령제63조제1항각호1에해당)     1     5     6\n",
       "기타                            0     1     1\n",
       "기타(가설건축물분류)                   2     0     2\n",
       "민박7실이상                       15     1    16\n",
       "민박7실이하                      239    55   294\n",
       "스프링클러,물분무등설치대상               14    14    28\n",
       "연면적 15,000 이상                 4     2     6\n",
       "옥내소화전설치대상                    42    27    69\n",
       "일반대상물                      6362  1227  7589\n",
       "임시사무실,창고,숙소                   1     0     1\n",
       "자동화재탐지설치대상                   90    56   146\n",
       "주거용비닐하우스                      1     0     1\n",
       "콘테이너하우스                       1     0     1\n",
       "펜션7실이상                        2     0     2\n",
       "펜션7실이하                        7     5    12\n",
       "All                        6783  1394  8177"
      ]
     },
     "execution_count": 39,
     "metadata": {},
     "output_type": "execute_result"
    }
   ],
   "source": [
    "pd.crosstab(train['trgt_crtr'], train['fr_yn'], margins=True)"
   ]
  },
  {
   "cell_type": "code",
   "execution_count": 41,
   "metadata": {
    "scrolled": false
   },
   "outputs": [
    {
     "data": {
      "text/plain": [
       "Text(0.5, 1.0, '건물용도 분류명')"
      ]
     },
     "execution_count": 41,
     "metadata": {},
     "output_type": "execute_result"
    },
    {
     "name": "stderr",
     "output_type": "stream",
     "text": [
      "C:\\Users\\Caleb\\Anaconda3\\lib\\site-packages\\matplotlib\\backends\\backend_agg.py:211: RuntimeWarning: Glyph 44148 missing from current font.\n",
      "  font.set_text(s, 0.0, flags=flags)\n",
      "C:\\Users\\Caleb\\Anaconda3\\lib\\site-packages\\matplotlib\\backends\\backend_agg.py:211: RuntimeWarning: Glyph 47932 missing from current font.\n",
      "  font.set_text(s, 0.0, flags=flags)\n",
      "C:\\Users\\Caleb\\Anaconda3\\lib\\site-packages\\matplotlib\\backends\\backend_agg.py:211: RuntimeWarning: Glyph 50857 missing from current font.\n",
      "  font.set_text(s, 0.0, flags=flags)\n",
      "C:\\Users\\Caleb\\Anaconda3\\lib\\site-packages\\matplotlib\\backends\\backend_agg.py:211: RuntimeWarning: Glyph 46020 missing from current font.\n",
      "  font.set_text(s, 0.0, flags=flags)\n",
      "C:\\Users\\Caleb\\Anaconda3\\lib\\site-packages\\matplotlib\\backends\\backend_agg.py:211: RuntimeWarning: Glyph 48516 missing from current font.\n",
      "  font.set_text(s, 0.0, flags=flags)\n",
      "C:\\Users\\Caleb\\Anaconda3\\lib\\site-packages\\matplotlib\\backends\\backend_agg.py:211: RuntimeWarning: Glyph 47448 missing from current font.\n",
      "  font.set_text(s, 0.0, flags=flags)\n",
      "C:\\Users\\Caleb\\Anaconda3\\lib\\site-packages\\matplotlib\\backends\\backend_agg.py:211: RuntimeWarning: Glyph 47749 missing from current font.\n",
      "  font.set_text(s, 0.0, flags=flags)\n",
      "C:\\Users\\Caleb\\Anaconda3\\lib\\site-packages\\matplotlib\\backends\\backend_agg.py:211: RuntimeWarning: Glyph 52789 missing from current font.\n",
      "  font.set_text(s, 0.0, flags=flags)\n",
      "C:\\Users\\Caleb\\Anaconda3\\lib\\site-packages\\matplotlib\\backends\\backend_agg.py:211: RuntimeWarning: Glyph 51060 missing from current font.\n",
      "  font.set_text(s, 0.0, flags=flags)\n",
      "C:\\Users\\Caleb\\Anaconda3\\lib\\site-packages\\matplotlib\\backends\\backend_agg.py:211: RuntimeWarning: Glyph 49345 missing from current font.\n",
      "  font.set_text(s, 0.0, flags=flags)\n",
      "C:\\Users\\Caleb\\Anaconda3\\lib\\site-packages\\matplotlib\\backends\\backend_agg.py:211: RuntimeWarning: Glyph 44204 missing from current font.\n",
      "  font.set_text(s, 0.0, flags=flags)\n",
      "C:\\Users\\Caleb\\Anaconda3\\lib\\site-packages\\matplotlib\\backends\\backend_agg.py:211: RuntimeWarning: Glyph 48376 missing from current font.\n",
      "  font.set_text(s, 0.0, flags=flags)\n",
      "C:\\Users\\Caleb\\Anaconda3\\lib\\site-packages\\matplotlib\\backends\\backend_agg.py:211: RuntimeWarning: Glyph 51452 missing from current font.\n",
      "  font.set_text(s, 0.0, flags=flags)\n",
      "C:\\Users\\Caleb\\Anaconda3\\lib\\site-packages\\matplotlib\\backends\\backend_agg.py:211: RuntimeWarning: Glyph 53469 missing from current font.\n",
      "  font.set_text(s, 0.0, flags=flags)\n",
      "C:\\Users\\Caleb\\Anaconda3\\lib\\site-packages\\matplotlib\\backends\\backend_agg.py:211: RuntimeWarning: Glyph 47784 missing from current font.\n",
      "  font.set_text(s, 0.0, flags=flags)\n",
      "C:\\Users\\Caleb\\Anaconda3\\lib\\site-packages\\matplotlib\\backends\\backend_agg.py:211: RuntimeWarning: Glyph 45944 missing from current font.\n",
      "  font.set_text(s, 0.0, flags=flags)\n",
      "C:\\Users\\Caleb\\Anaconda3\\lib\\site-packages\\matplotlib\\backends\\backend_agg.py:211: RuntimeWarning: Glyph 54616 missing from current font.\n",
      "  font.set_text(s, 0.0, flags=flags)\n",
      "C:\\Users\\Caleb\\Anaconda3\\lib\\site-packages\\matplotlib\\backends\\backend_agg.py:211: RuntimeWarning: Glyph 50864 missing from current font.\n",
      "  font.set_text(s, 0.0, flags=flags)\n",
      "C:\\Users\\Caleb\\Anaconda3\\lib\\site-packages\\matplotlib\\backends\\backend_agg.py:211: RuntimeWarning: Glyph 49828 missing from current font.\n",
      "  font.set_text(s, 0.0, flags=flags)\n",
      "C:\\Users\\Caleb\\Anaconda3\\lib\\site-packages\\matplotlib\\backends\\backend_agg.py:211: RuntimeWarning: Glyph 44277 missing from current font.\n",
      "  font.set_text(s, 0.0, flags=flags)\n",
      "C:\\Users\\Caleb\\Anaconda3\\lib\\site-packages\\matplotlib\\backends\\backend_agg.py:211: RuntimeWarning: Glyph 46041 missing from current font.\n",
      "  font.set_text(s, 0.0, flags=flags)\n",
      "C:\\Users\\Caleb\\Anaconda3\\lib\\site-packages\\matplotlib\\backends\\backend_agg.py:211: RuntimeWarning: Glyph 48277 missing from current font.\n",
      "  font.set_text(s, 0.0, flags=flags)\n",
      "C:\\Users\\Caleb\\Anaconda3\\lib\\site-packages\\matplotlib\\backends\\backend_agg.py:211: RuntimeWarning: Glyph 49884 missing from current font.\n",
      "  font.set_text(s, 0.0, flags=flags)\n",
      "C:\\Users\\Caleb\\Anaconda3\\lib\\site-packages\\matplotlib\\backends\\backend_agg.py:211: RuntimeWarning: Glyph 54665 missing from current font.\n",
      "  font.set_text(s, 0.0, flags=flags)\n",
      "C:\\Users\\Caleb\\Anaconda3\\lib\\site-packages\\matplotlib\\backends\\backend_agg.py:211: RuntimeWarning: Glyph 47161 missing from current font.\n",
      "  font.set_text(s, 0.0, flags=flags)\n",
      "C:\\Users\\Caleb\\Anaconda3\\lib\\site-packages\\matplotlib\\backends\\backend_agg.py:211: RuntimeWarning: Glyph 51228 missing from current font.\n",
      "  font.set_text(s, 0.0, flags=flags)\n",
      "C:\\Users\\Caleb\\Anaconda3\\lib\\site-packages\\matplotlib\\backends\\backend_agg.py:211: RuntimeWarning: Glyph 51312 missing from current font.\n",
      "  font.set_text(s, 0.0, flags=flags)\n",
      "C:\\Users\\Caleb\\Anaconda3\\lib\\site-packages\\matplotlib\\backends\\backend_agg.py:211: RuntimeWarning: Glyph 54637 missing from current font.\n",
      "  font.set_text(s, 0.0, flags=flags)\n",
      "C:\\Users\\Caleb\\Anaconda3\\lib\\site-packages\\matplotlib\\backends\\backend_agg.py:211: RuntimeWarning: Glyph 44033 missing from current font.\n",
      "  font.set_text(s, 0.0, flags=flags)\n",
      "C:\\Users\\Caleb\\Anaconda3\\lib\\site-packages\\matplotlib\\backends\\backend_agg.py:211: RuntimeWarning: Glyph 54840 missing from current font.\n",
      "  font.set_text(s, 0.0, flags=flags)\n",
      "C:\\Users\\Caleb\\Anaconda3\\lib\\site-packages\\matplotlib\\backends\\backend_agg.py:211: RuntimeWarning: Glyph 50640 missing from current font.\n",
      "  font.set_text(s, 0.0, flags=flags)\n",
      "C:\\Users\\Caleb\\Anaconda3\\lib\\site-packages\\matplotlib\\backends\\backend_agg.py:211: RuntimeWarning: Glyph 54644 missing from current font.\n",
      "  font.set_text(s, 0.0, flags=flags)\n",
      "C:\\Users\\Caleb\\Anaconda3\\lib\\site-packages\\matplotlib\\backends\\backend_agg.py:211: RuntimeWarning: Glyph 45817 missing from current font.\n",
      "  font.set_text(s, 0.0, flags=flags)\n",
      "C:\\Users\\Caleb\\Anaconda3\\lib\\site-packages\\matplotlib\\backends\\backend_agg.py:211: RuntimeWarning: Glyph 44592 missing from current font.\n",
      "  font.set_text(s, 0.0, flags=flags)\n",
      "C:\\Users\\Caleb\\Anaconda3\\lib\\site-packages\\matplotlib\\backends\\backend_agg.py:211: RuntimeWarning: Glyph 53440 missing from current font.\n",
      "  font.set_text(s, 0.0, flags=flags)\n",
      "C:\\Users\\Caleb\\Anaconda3\\lib\\site-packages\\matplotlib\\backends\\backend_agg.py:211: RuntimeWarning: Glyph 44032 missing from current font.\n",
      "  font.set_text(s, 0.0, flags=flags)\n",
      "C:\\Users\\Caleb\\Anaconda3\\lib\\site-packages\\matplotlib\\backends\\backend_agg.py:211: RuntimeWarning: Glyph 49444 missing from current font.\n",
      "  font.set_text(s, 0.0, flags=flags)\n",
      "C:\\Users\\Caleb\\Anaconda3\\lib\\site-packages\\matplotlib\\backends\\backend_agg.py:211: RuntimeWarning: Glyph 52629 missing from current font.\n",
      "  font.set_text(s, 0.0, flags=flags)\n",
      "C:\\Users\\Caleb\\Anaconda3\\lib\\site-packages\\matplotlib\\backends\\backend_agg.py:211: RuntimeWarning: Glyph 48124 missing from current font.\n",
      "  font.set_text(s, 0.0, flags=flags)\n",
      "C:\\Users\\Caleb\\Anaconda3\\lib\\site-packages\\matplotlib\\backends\\backend_agg.py:211: RuntimeWarning: Glyph 48149 missing from current font.\n",
      "  font.set_text(s, 0.0, flags=flags)\n",
      "C:\\Users\\Caleb\\Anaconda3\\lib\\site-packages\\matplotlib\\backends\\backend_agg.py:211: RuntimeWarning: Glyph 49892 missing from current font.\n",
      "  font.set_text(s, 0.0, flags=flags)\n",
      "C:\\Users\\Caleb\\Anaconda3\\lib\\site-packages\\matplotlib\\backends\\backend_agg.py:211: RuntimeWarning: Glyph 54532 missing from current font.\n",
      "  font.set_text(s, 0.0, flags=flags)\n",
      "C:\\Users\\Caleb\\Anaconda3\\lib\\site-packages\\matplotlib\\backends\\backend_agg.py:211: RuntimeWarning: Glyph 47553 missing from current font.\n",
      "  font.set_text(s, 0.0, flags=flags)\n",
      "C:\\Users\\Caleb\\Anaconda3\\lib\\site-packages\\matplotlib\\backends\\backend_agg.py:211: RuntimeWarning: Glyph 53364 missing from current font.\n",
      "  font.set_text(s, 0.0, flags=flags)\n",
      "C:\\Users\\Caleb\\Anaconda3\\lib\\site-packages\\matplotlib\\backends\\backend_agg.py:211: RuntimeWarning: Glyph 47084 missing from current font.\n",
      "  font.set_text(s, 0.0, flags=flags)\n",
      "C:\\Users\\Caleb\\Anaconda3\\lib\\site-packages\\matplotlib\\backends\\backend_agg.py:211: RuntimeWarning: Glyph 47924 missing from current font.\n",
      "  font.set_text(s, 0.0, flags=flags)\n",
      "C:\\Users\\Caleb\\Anaconda3\\lib\\site-packages\\matplotlib\\backends\\backend_agg.py:211: RuntimeWarning: Glyph 46321 missing from current font.\n",
      "  font.set_text(s, 0.0, flags=flags)\n",
      "C:\\Users\\Caleb\\Anaconda3\\lib\\site-packages\\matplotlib\\backends\\backend_agg.py:211: RuntimeWarning: Glyph 52824 missing from current font.\n",
      "  font.set_text(s, 0.0, flags=flags)\n",
      "C:\\Users\\Caleb\\Anaconda3\\lib\\site-packages\\matplotlib\\backends\\backend_agg.py:211: RuntimeWarning: Glyph 45824 missing from current font.\n",
      "  font.set_text(s, 0.0, flags=flags)\n",
      "C:\\Users\\Caleb\\Anaconda3\\lib\\site-packages\\matplotlib\\backends\\backend_agg.py:211: RuntimeWarning: Glyph 50672 missing from current font.\n",
      "  font.set_text(s, 0.0, flags=flags)\n",
      "C:\\Users\\Caleb\\Anaconda3\\lib\\site-packages\\matplotlib\\backends\\backend_agg.py:211: RuntimeWarning: Glyph 47732 missing from current font.\n",
      "  font.set_text(s, 0.0, flags=flags)\n",
      "C:\\Users\\Caleb\\Anaconda3\\lib\\site-packages\\matplotlib\\backends\\backend_agg.py:211: RuntimeWarning: Glyph 51201 missing from current font.\n",
      "  font.set_text(s, 0.0, flags=flags)\n",
      "C:\\Users\\Caleb\\Anaconda3\\lib\\site-packages\\matplotlib\\backends\\backend_agg.py:211: RuntimeWarning: Glyph 50725 missing from current font.\n",
      "  font.set_text(s, 0.0, flags=flags)\n",
      "C:\\Users\\Caleb\\Anaconda3\\lib\\site-packages\\matplotlib\\backends\\backend_agg.py:211: RuntimeWarning: Glyph 45236 missing from current font.\n",
      "  font.set_text(s, 0.0, flags=flags)\n",
      "C:\\Users\\Caleb\\Anaconda3\\lib\\site-packages\\matplotlib\\backends\\backend_agg.py:211: RuntimeWarning: Glyph 49548 missing from current font.\n",
      "  font.set_text(s, 0.0, flags=flags)\n",
      "C:\\Users\\Caleb\\Anaconda3\\lib\\site-packages\\matplotlib\\backends\\backend_agg.py:211: RuntimeWarning: Glyph 54868 missing from current font.\n",
      "  font.set_text(s, 0.0, flags=flags)\n",
      "C:\\Users\\Caleb\\Anaconda3\\lib\\site-packages\\matplotlib\\backends\\backend_agg.py:211: RuntimeWarning: Glyph 51204 missing from current font.\n",
      "  font.set_text(s, 0.0, flags=flags)\n",
      "C:\\Users\\Caleb\\Anaconda3\\lib\\site-packages\\matplotlib\\backends\\backend_agg.py:211: RuntimeWarning: Glyph 51068 missing from current font.\n",
      "  font.set_text(s, 0.0, flags=flags)\n",
      "C:\\Users\\Caleb\\Anaconda3\\lib\\site-packages\\matplotlib\\backends\\backend_agg.py:211: RuntimeWarning: Glyph 48152 missing from current font.\n",
      "  font.set_text(s, 0.0, flags=flags)\n",
      "C:\\Users\\Caleb\\Anaconda3\\lib\\site-packages\\matplotlib\\backends\\backend_agg.py:211: RuntimeWarning: Glyph 51076 missing from current font.\n",
      "  font.set_text(s, 0.0, flags=flags)\n",
      "C:\\Users\\Caleb\\Anaconda3\\lib\\site-packages\\matplotlib\\backends\\backend_agg.py:211: RuntimeWarning: Glyph 49324 missing from current font.\n",
      "  font.set_text(s, 0.0, flags=flags)\n",
      "C:\\Users\\Caleb\\Anaconda3\\lib\\site-packages\\matplotlib\\backends\\backend_agg.py:211: RuntimeWarning: Glyph 52285 missing from current font.\n",
      "  font.set_text(s, 0.0, flags=flags)\n",
      "C:\\Users\\Caleb\\Anaconda3\\lib\\site-packages\\matplotlib\\backends\\backend_agg.py:211: RuntimeWarning: Glyph 44256 missing from current font.\n",
      "  font.set_text(s, 0.0, flags=flags)\n",
      "C:\\Users\\Caleb\\Anaconda3\\lib\\site-packages\\matplotlib\\backends\\backend_agg.py:211: RuntimeWarning: Glyph 49689 missing from current font.\n",
      "  font.set_text(s, 0.0, flags=flags)\n",
      "C:\\Users\\Caleb\\Anaconda3\\lib\\site-packages\\matplotlib\\backends\\backend_agg.py:211: RuntimeWarning: Glyph 51088 missing from current font.\n",
      "  font.set_text(s, 0.0, flags=flags)\n",
      "C:\\Users\\Caleb\\Anaconda3\\lib\\site-packages\\matplotlib\\backends\\backend_agg.py:211: RuntimeWarning: Glyph 51116 missing from current font.\n",
      "  font.set_text(s, 0.0, flags=flags)\n",
      "C:\\Users\\Caleb\\Anaconda3\\lib\\site-packages\\matplotlib\\backends\\backend_agg.py:211: RuntimeWarning: Glyph 53456 missing from current font.\n",
      "  font.set_text(s, 0.0, flags=flags)\n",
      "C:\\Users\\Caleb\\Anaconda3\\lib\\site-packages\\matplotlib\\backends\\backend_agg.py:211: RuntimeWarning: Glyph 51648 missing from current font.\n",
      "  font.set_text(s, 0.0, flags=flags)\n",
      "C:\\Users\\Caleb\\Anaconda3\\lib\\site-packages\\matplotlib\\backends\\backend_agg.py:211: RuntimeWarning: Glyph 44144 missing from current font.\n",
      "  font.set_text(s, 0.0, flags=flags)\n",
      "C:\\Users\\Caleb\\Anaconda3\\lib\\site-packages\\matplotlib\\backends\\backend_agg.py:211: RuntimeWarning: Glyph 48708 missing from current font.\n",
      "  font.set_text(s, 0.0, flags=flags)\n",
      "C:\\Users\\Caleb\\Anaconda3\\lib\\site-packages\\matplotlib\\backends\\backend_agg.py:211: RuntimeWarning: Glyph 45776 missing from current font.\n",
      "  font.set_text(s, 0.0, flags=flags)\n",
      "C:\\Users\\Caleb\\Anaconda3\\lib\\site-packages\\matplotlib\\backends\\backend_agg.py:211: RuntimeWarning: Glyph 53080 missing from current font.\n",
      "  font.set_text(s, 0.0, flags=flags)\n",
      "C:\\Users\\Caleb\\Anaconda3\\lib\\site-packages\\matplotlib\\backends\\backend_agg.py:211: RuntimeWarning: Glyph 53580 missing from current font.\n",
      "  font.set_text(s, 0.0, flags=flags)\n",
      "C:\\Users\\Caleb\\Anaconda3\\lib\\site-packages\\matplotlib\\backends\\backend_agg.py:211: RuntimeWarning: Glyph 45320 missing from current font.\n",
      "  font.set_text(s, 0.0, flags=flags)\n",
      "C:\\Users\\Caleb\\Anaconda3\\lib\\site-packages\\matplotlib\\backends\\backend_agg.py:211: RuntimeWarning: Glyph 54172 missing from current font.\n",
      "  font.set_text(s, 0.0, flags=flags)\n",
      "C:\\Users\\Caleb\\Anaconda3\\lib\\site-packages\\matplotlib\\backends\\backend_agg.py:211: RuntimeWarning: Glyph 49496 missing from current font.\n",
      "  font.set_text(s, 0.0, flags=flags)\n",
      "C:\\Users\\Caleb\\Anaconda3\\lib\\site-packages\\matplotlib\\backends\\backend_agg.py:180: RuntimeWarning: Glyph 52789 missing from current font.\n",
      "  font.set_text(s, 0, flags=flags)\n",
      "C:\\Users\\Caleb\\Anaconda3\\lib\\site-packages\\matplotlib\\backends\\backend_agg.py:180: RuntimeWarning: Glyph 51060 missing from current font.\n",
      "  font.set_text(s, 0, flags=flags)\n",
      "C:\\Users\\Caleb\\Anaconda3\\lib\\site-packages\\matplotlib\\backends\\backend_agg.py:180: RuntimeWarning: Glyph 49345 missing from current font.\n",
      "  font.set_text(s, 0, flags=flags)\n",
      "C:\\Users\\Caleb\\Anaconda3\\lib\\site-packages\\matplotlib\\backends\\backend_agg.py:180: RuntimeWarning: Glyph 44204 missing from current font.\n",
      "  font.set_text(s, 0, flags=flags)\n",
      "C:\\Users\\Caleb\\Anaconda3\\lib\\site-packages\\matplotlib\\backends\\backend_agg.py:180: RuntimeWarning: Glyph 48376 missing from current font.\n",
      "  font.set_text(s, 0, flags=flags)\n",
      "C:\\Users\\Caleb\\Anaconda3\\lib\\site-packages\\matplotlib\\backends\\backend_agg.py:180: RuntimeWarning: Glyph 51452 missing from current font.\n",
      "  font.set_text(s, 0, flags=flags)\n",
      "C:\\Users\\Caleb\\Anaconda3\\lib\\site-packages\\matplotlib\\backends\\backend_agg.py:180: RuntimeWarning: Glyph 53469 missing from current font.\n",
      "  font.set_text(s, 0, flags=flags)\n",
      "C:\\Users\\Caleb\\Anaconda3\\lib\\site-packages\\matplotlib\\backends\\backend_agg.py:180: RuntimeWarning: Glyph 47784 missing from current font.\n",
      "  font.set_text(s, 0, flags=flags)\n",
      "C:\\Users\\Caleb\\Anaconda3\\lib\\site-packages\\matplotlib\\backends\\backend_agg.py:180: RuntimeWarning: Glyph 45944 missing from current font.\n",
      "  font.set_text(s, 0, flags=flags)\n",
      "C:\\Users\\Caleb\\Anaconda3\\lib\\site-packages\\matplotlib\\backends\\backend_agg.py:180: RuntimeWarning: Glyph 54616 missing from current font.\n",
      "  font.set_text(s, 0, flags=flags)\n",
      "C:\\Users\\Caleb\\Anaconda3\\lib\\site-packages\\matplotlib\\backends\\backend_agg.py:180: RuntimeWarning: Glyph 50864 missing from current font.\n",
      "  font.set_text(s, 0, flags=flags)\n",
      "C:\\Users\\Caleb\\Anaconda3\\lib\\site-packages\\matplotlib\\backends\\backend_agg.py:180: RuntimeWarning: Glyph 49828 missing from current font.\n",
      "  font.set_text(s, 0, flags=flags)\n",
      "C:\\Users\\Caleb\\Anaconda3\\lib\\site-packages\\matplotlib\\backends\\backend_agg.py:180: RuntimeWarning: Glyph 44277 missing from current font.\n",
      "  font.set_text(s, 0, flags=flags)\n",
      "C:\\Users\\Caleb\\Anaconda3\\lib\\site-packages\\matplotlib\\backends\\backend_agg.py:180: RuntimeWarning: Glyph 46041 missing from current font.\n",
      "  font.set_text(s, 0, flags=flags)\n",
      "C:\\Users\\Caleb\\Anaconda3\\lib\\site-packages\\matplotlib\\backends\\backend_agg.py:180: RuntimeWarning: Glyph 48277 missing from current font.\n",
      "  font.set_text(s, 0, flags=flags)\n",
      "C:\\Users\\Caleb\\Anaconda3\\lib\\site-packages\\matplotlib\\backends\\backend_agg.py:180: RuntimeWarning: Glyph 49884 missing from current font.\n",
      "  font.set_text(s, 0, flags=flags)\n",
      "C:\\Users\\Caleb\\Anaconda3\\lib\\site-packages\\matplotlib\\backends\\backend_agg.py:180: RuntimeWarning: Glyph 54665 missing from current font.\n",
      "  font.set_text(s, 0, flags=flags)\n",
      "C:\\Users\\Caleb\\Anaconda3\\lib\\site-packages\\matplotlib\\backends\\backend_agg.py:180: RuntimeWarning: Glyph 47161 missing from current font.\n",
      "  font.set_text(s, 0, flags=flags)\n",
      "C:\\Users\\Caleb\\Anaconda3\\lib\\site-packages\\matplotlib\\backends\\backend_agg.py:180: RuntimeWarning: Glyph 51228 missing from current font.\n",
      "  font.set_text(s, 0, flags=flags)\n",
      "C:\\Users\\Caleb\\Anaconda3\\lib\\site-packages\\matplotlib\\backends\\backend_agg.py:180: RuntimeWarning: Glyph 51312 missing from current font.\n",
      "  font.set_text(s, 0, flags=flags)\n",
      "C:\\Users\\Caleb\\Anaconda3\\lib\\site-packages\\matplotlib\\backends\\backend_agg.py:180: RuntimeWarning: Glyph 54637 missing from current font.\n",
      "  font.set_text(s, 0, flags=flags)\n",
      "C:\\Users\\Caleb\\Anaconda3\\lib\\site-packages\\matplotlib\\backends\\backend_agg.py:180: RuntimeWarning: Glyph 44033 missing from current font.\n",
      "  font.set_text(s, 0, flags=flags)\n",
      "C:\\Users\\Caleb\\Anaconda3\\lib\\site-packages\\matplotlib\\backends\\backend_agg.py:180: RuntimeWarning: Glyph 54840 missing from current font.\n",
      "  font.set_text(s, 0, flags=flags)\n",
      "C:\\Users\\Caleb\\Anaconda3\\lib\\site-packages\\matplotlib\\backends\\backend_agg.py:180: RuntimeWarning: Glyph 50640 missing from current font.\n",
      "  font.set_text(s, 0, flags=flags)\n",
      "C:\\Users\\Caleb\\Anaconda3\\lib\\site-packages\\matplotlib\\backends\\backend_agg.py:180: RuntimeWarning: Glyph 54644 missing from current font.\n",
      "  font.set_text(s, 0, flags=flags)\n",
      "C:\\Users\\Caleb\\Anaconda3\\lib\\site-packages\\matplotlib\\backends\\backend_agg.py:180: RuntimeWarning: Glyph 45817 missing from current font.\n",
      "  font.set_text(s, 0, flags=flags)\n",
      "C:\\Users\\Caleb\\Anaconda3\\lib\\site-packages\\matplotlib\\backends\\backend_agg.py:180: RuntimeWarning: Glyph 44592 missing from current font.\n",
      "  font.set_text(s, 0, flags=flags)\n",
      "C:\\Users\\Caleb\\Anaconda3\\lib\\site-packages\\matplotlib\\backends\\backend_agg.py:180: RuntimeWarning: Glyph 53440 missing from current font.\n",
      "  font.set_text(s, 0, flags=flags)\n",
      "C:\\Users\\Caleb\\Anaconda3\\lib\\site-packages\\matplotlib\\backends\\backend_agg.py:180: RuntimeWarning: Glyph 44032 missing from current font.\n",
      "  font.set_text(s, 0, flags=flags)\n",
      "C:\\Users\\Caleb\\Anaconda3\\lib\\site-packages\\matplotlib\\backends\\backend_agg.py:180: RuntimeWarning: Glyph 49444 missing from current font.\n",
      "  font.set_text(s, 0, flags=flags)\n",
      "C:\\Users\\Caleb\\Anaconda3\\lib\\site-packages\\matplotlib\\backends\\backend_agg.py:180: RuntimeWarning: Glyph 44148 missing from current font.\n",
      "  font.set_text(s, 0, flags=flags)\n",
      "C:\\Users\\Caleb\\Anaconda3\\lib\\site-packages\\matplotlib\\backends\\backend_agg.py:180: RuntimeWarning: Glyph 52629 missing from current font.\n",
      "  font.set_text(s, 0, flags=flags)\n",
      "C:\\Users\\Caleb\\Anaconda3\\lib\\site-packages\\matplotlib\\backends\\backend_agg.py:180: RuntimeWarning: Glyph 47932 missing from current font.\n",
      "  font.set_text(s, 0, flags=flags)\n",
      "C:\\Users\\Caleb\\Anaconda3\\lib\\site-packages\\matplotlib\\backends\\backend_agg.py:180: RuntimeWarning: Glyph 48516 missing from current font.\n",
      "  font.set_text(s, 0, flags=flags)\n",
      "C:\\Users\\Caleb\\Anaconda3\\lib\\site-packages\\matplotlib\\backends\\backend_agg.py:180: RuntimeWarning: Glyph 47448 missing from current font.\n",
      "  font.set_text(s, 0, flags=flags)\n",
      "C:\\Users\\Caleb\\Anaconda3\\lib\\site-packages\\matplotlib\\backends\\backend_agg.py:180: RuntimeWarning: Glyph 48124 missing from current font.\n",
      "  font.set_text(s, 0, flags=flags)\n",
      "C:\\Users\\Caleb\\Anaconda3\\lib\\site-packages\\matplotlib\\backends\\backend_agg.py:180: RuntimeWarning: Glyph 48149 missing from current font.\n",
      "  font.set_text(s, 0, flags=flags)\n",
      "C:\\Users\\Caleb\\Anaconda3\\lib\\site-packages\\matplotlib\\backends\\backend_agg.py:180: RuntimeWarning: Glyph 49892 missing from current font.\n",
      "  font.set_text(s, 0, flags=flags)\n",
      "C:\\Users\\Caleb\\Anaconda3\\lib\\site-packages\\matplotlib\\backends\\backend_agg.py:180: RuntimeWarning: Glyph 54532 missing from current font.\n",
      "  font.set_text(s, 0, flags=flags)\n",
      "C:\\Users\\Caleb\\Anaconda3\\lib\\site-packages\\matplotlib\\backends\\backend_agg.py:180: RuntimeWarning: Glyph 47553 missing from current font.\n",
      "  font.set_text(s, 0, flags=flags)\n",
      "C:\\Users\\Caleb\\Anaconda3\\lib\\site-packages\\matplotlib\\backends\\backend_agg.py:180: RuntimeWarning: Glyph 53364 missing from current font.\n",
      "  font.set_text(s, 0, flags=flags)\n",
      "C:\\Users\\Caleb\\Anaconda3\\lib\\site-packages\\matplotlib\\backends\\backend_agg.py:180: RuntimeWarning: Glyph 47084 missing from current font.\n",
      "  font.set_text(s, 0, flags=flags)\n",
      "C:\\Users\\Caleb\\Anaconda3\\lib\\site-packages\\matplotlib\\backends\\backend_agg.py:180: RuntimeWarning: Glyph 47924 missing from current font.\n",
      "  font.set_text(s, 0, flags=flags)\n",
      "C:\\Users\\Caleb\\Anaconda3\\lib\\site-packages\\matplotlib\\backends\\backend_agg.py:180: RuntimeWarning: Glyph 46321 missing from current font.\n",
      "  font.set_text(s, 0, flags=flags)\n",
      "C:\\Users\\Caleb\\Anaconda3\\lib\\site-packages\\matplotlib\\backends\\backend_agg.py:180: RuntimeWarning: Glyph 52824 missing from current font.\n",
      "  font.set_text(s, 0, flags=flags)\n",
      "C:\\Users\\Caleb\\Anaconda3\\lib\\site-packages\\matplotlib\\backends\\backend_agg.py:180: RuntimeWarning: Glyph 45824 missing from current font.\n",
      "  font.set_text(s, 0, flags=flags)\n",
      "C:\\Users\\Caleb\\Anaconda3\\lib\\site-packages\\matplotlib\\backends\\backend_agg.py:180: RuntimeWarning: Glyph 50672 missing from current font.\n",
      "  font.set_text(s, 0, flags=flags)\n",
      "C:\\Users\\Caleb\\Anaconda3\\lib\\site-packages\\matplotlib\\backends\\backend_agg.py:180: RuntimeWarning: Glyph 47732 missing from current font.\n",
      "  font.set_text(s, 0, flags=flags)\n",
      "C:\\Users\\Caleb\\Anaconda3\\lib\\site-packages\\matplotlib\\backends\\backend_agg.py:180: RuntimeWarning: Glyph 51201 missing from current font.\n",
      "  font.set_text(s, 0, flags=flags)\n",
      "C:\\Users\\Caleb\\Anaconda3\\lib\\site-packages\\matplotlib\\backends\\backend_agg.py:180: RuntimeWarning: Glyph 50725 missing from current font.\n",
      "  font.set_text(s, 0, flags=flags)\n",
      "C:\\Users\\Caleb\\Anaconda3\\lib\\site-packages\\matplotlib\\backends\\backend_agg.py:180: RuntimeWarning: Glyph 45236 missing from current font.\n",
      "  font.set_text(s, 0, flags=flags)\n",
      "C:\\Users\\Caleb\\Anaconda3\\lib\\site-packages\\matplotlib\\backends\\backend_agg.py:180: RuntimeWarning: Glyph 49548 missing from current font.\n",
      "  font.set_text(s, 0, flags=flags)\n",
      "C:\\Users\\Caleb\\Anaconda3\\lib\\site-packages\\matplotlib\\backends\\backend_agg.py:180: RuntimeWarning: Glyph 54868 missing from current font.\n",
      "  font.set_text(s, 0, flags=flags)\n",
      "C:\\Users\\Caleb\\Anaconda3\\lib\\site-packages\\matplotlib\\backends\\backend_agg.py:180: RuntimeWarning: Glyph 51204 missing from current font.\n",
      "  font.set_text(s, 0, flags=flags)\n",
      "C:\\Users\\Caleb\\Anaconda3\\lib\\site-packages\\matplotlib\\backends\\backend_agg.py:180: RuntimeWarning: Glyph 51068 missing from current font.\n",
      "  font.set_text(s, 0, flags=flags)\n",
      "C:\\Users\\Caleb\\Anaconda3\\lib\\site-packages\\matplotlib\\backends\\backend_agg.py:180: RuntimeWarning: Glyph 48152 missing from current font.\n",
      "  font.set_text(s, 0, flags=flags)\n",
      "C:\\Users\\Caleb\\Anaconda3\\lib\\site-packages\\matplotlib\\backends\\backend_agg.py:180: RuntimeWarning: Glyph 51076 missing from current font.\n",
      "  font.set_text(s, 0, flags=flags)\n",
      "C:\\Users\\Caleb\\Anaconda3\\lib\\site-packages\\matplotlib\\backends\\backend_agg.py:180: RuntimeWarning: Glyph 49324 missing from current font.\n",
      "  font.set_text(s, 0, flags=flags)\n",
      "C:\\Users\\Caleb\\Anaconda3\\lib\\site-packages\\matplotlib\\backends\\backend_agg.py:180: RuntimeWarning: Glyph 52285 missing from current font.\n",
      "  font.set_text(s, 0, flags=flags)\n",
      "C:\\Users\\Caleb\\Anaconda3\\lib\\site-packages\\matplotlib\\backends\\backend_agg.py:180: RuntimeWarning: Glyph 44256 missing from current font.\n",
      "  font.set_text(s, 0, flags=flags)\n",
      "C:\\Users\\Caleb\\Anaconda3\\lib\\site-packages\\matplotlib\\backends\\backend_agg.py:180: RuntimeWarning: Glyph 49689 missing from current font.\n",
      "  font.set_text(s, 0, flags=flags)\n",
      "C:\\Users\\Caleb\\Anaconda3\\lib\\site-packages\\matplotlib\\backends\\backend_agg.py:180: RuntimeWarning: Glyph 51088 missing from current font.\n",
      "  font.set_text(s, 0, flags=flags)\n",
      "C:\\Users\\Caleb\\Anaconda3\\lib\\site-packages\\matplotlib\\backends\\backend_agg.py:180: RuntimeWarning: Glyph 51116 missing from current font.\n",
      "  font.set_text(s, 0, flags=flags)\n",
      "C:\\Users\\Caleb\\Anaconda3\\lib\\site-packages\\matplotlib\\backends\\backend_agg.py:180: RuntimeWarning: Glyph 53456 missing from current font.\n",
      "  font.set_text(s, 0, flags=flags)\n",
      "C:\\Users\\Caleb\\Anaconda3\\lib\\site-packages\\matplotlib\\backends\\backend_agg.py:180: RuntimeWarning: Glyph 51648 missing from current font.\n",
      "  font.set_text(s, 0, flags=flags)\n",
      "C:\\Users\\Caleb\\Anaconda3\\lib\\site-packages\\matplotlib\\backends\\backend_agg.py:180: RuntimeWarning: Glyph 44144 missing from current font.\n",
      "  font.set_text(s, 0, flags=flags)\n",
      "C:\\Users\\Caleb\\Anaconda3\\lib\\site-packages\\matplotlib\\backends\\backend_agg.py:180: RuntimeWarning: Glyph 50857 missing from current font.\n",
      "  font.set_text(s, 0, flags=flags)\n",
      "C:\\Users\\Caleb\\Anaconda3\\lib\\site-packages\\matplotlib\\backends\\backend_agg.py:180: RuntimeWarning: Glyph 48708 missing from current font.\n",
      "  font.set_text(s, 0, flags=flags)\n",
      "C:\\Users\\Caleb\\Anaconda3\\lib\\site-packages\\matplotlib\\backends\\backend_agg.py:180: RuntimeWarning: Glyph 45776 missing from current font.\n",
      "  font.set_text(s, 0, flags=flags)\n",
      "C:\\Users\\Caleb\\Anaconda3\\lib\\site-packages\\matplotlib\\backends\\backend_agg.py:180: RuntimeWarning: Glyph 53080 missing from current font.\n",
      "  font.set_text(s, 0, flags=flags)\n",
      "C:\\Users\\Caleb\\Anaconda3\\lib\\site-packages\\matplotlib\\backends\\backend_agg.py:180: RuntimeWarning: Glyph 53580 missing from current font.\n",
      "  font.set_text(s, 0, flags=flags)\n",
      "C:\\Users\\Caleb\\Anaconda3\\lib\\site-packages\\matplotlib\\backends\\backend_agg.py:180: RuntimeWarning: Glyph 45320 missing from current font.\n",
      "  font.set_text(s, 0, flags=flags)\n",
      "C:\\Users\\Caleb\\Anaconda3\\lib\\site-packages\\matplotlib\\backends\\backend_agg.py:180: RuntimeWarning: Glyph 54172 missing from current font.\n",
      "  font.set_text(s, 0, flags=flags)\n",
      "C:\\Users\\Caleb\\Anaconda3\\lib\\site-packages\\matplotlib\\backends\\backend_agg.py:180: RuntimeWarning: Glyph 49496 missing from current font.\n",
      "  font.set_text(s, 0, flags=flags)\n",
      "C:\\Users\\Caleb\\Anaconda3\\lib\\site-packages\\matplotlib\\backends\\backend_agg.py:180: RuntimeWarning: Glyph 46020 missing from current font.\n",
      "  font.set_text(s, 0, flags=flags)\n",
      "C:\\Users\\Caleb\\Anaconda3\\lib\\site-packages\\matplotlib\\backends\\backend_agg.py:180: RuntimeWarning: Glyph 47749 missing from current font.\n",
      "  font.set_text(s, 0, flags=flags)\n"
     ]
    },
    {
     "data": {
      "image/png": "[encoded data removed]",
      "text/plain": [
       "<Figure size 1080x720 with 1 Axes>"
      ]
     },
     "metadata": {
      "needs_background": "light"
     },
     "output_type": "display_data"
    }
   ],
   "source": [
    "df = train.groupby(['trgt_crtr','fr_yn'])['fr_yn'].count().unstack('fr_yn')\n",
    "df.plot(kind='bar', figsize=(15,10))\n",
    "plt.title('건물용도 분류명')"
   ]
  },
  {
   "cell_type": "markdown",
   "metadata": {},
   "source": [
    "## 소방시설특례5호여부"
   ]
  },
  {
   "cell_type": "code",
   "execution_count": 42,
   "metadata": {},
   "outputs": [
    {
     "data": {
      "text/plain": [
       "array([nan, 'N'], dtype=object)"
      ]
     },
     "execution_count": 42,
     "metadata": {},
     "output_type": "execute_result"
    }
   ],
   "source": [
    "train['fr_fghtng_fclt_spcl_css_5_yn'].unique()"
   ]
  },
  {
   "cell_type": "code",
   "execution_count": 43,
   "metadata": {},
   "outputs": [
    {
     "data": {
      "text/html": [
       "<div>\n",
       "<style scoped>\n",
       "    .dataframe tbody tr th:only-of-type {\n",
       "        vertical-align: middle;\n",
       "    }\n",
       "\n",
       "    .dataframe tbody tr th {\n",
       "        vertical-align: top;\n",
       "    }\n",
       "\n",
       "    .dataframe thead th {\n",
       "        text-align: right;\n",
       "    }\n",
       "</style>\n",
       "<table border=\"1\" class=\"dataframe\">\n",
       "  <thead>\n",
       "    <tr style=\"text-align: right;\">\n",
       "      <th>fr_yn</th>\n",
       "      <th>N</th>\n",
       "      <th>Y</th>\n",
       "      <th>All</th>\n",
       "    </tr>\n",
       "    <tr>\n",
       "      <th>fr_fghtng_fclt_spcl_css_5_yn</th>\n",
       "      <th></th>\n",
       "      <th></th>\n",
       "      <th></th>\n",
       "    </tr>\n",
       "  </thead>\n",
       "  <tbody>\n",
       "    <tr>\n",
       "      <td>N</td>\n",
       "      <td>6830</td>\n",
       "      <td>1607</td>\n",
       "      <td>8437</td>\n",
       "    </tr>\n",
       "    <tr>\n",
       "      <td>All</td>\n",
       "      <td>6830</td>\n",
       "      <td>1607</td>\n",
       "      <td>8437</td>\n",
       "    </tr>\n",
       "  </tbody>\n",
       "</table>\n",
       "</div>"
      ],
      "text/plain": [
       "fr_yn                            N     Y   All\n",
       "fr_fghtng_fclt_spcl_css_5_yn                  \n",
       "N                             6830  1607  8437\n",
       "All                           6830  1607  8437"
      ]
     },
     "execution_count": 43,
     "metadata": {},
     "output_type": "execute_result"
    }
   ],
   "source": [
    "pd.crosstab(train['fr_fghtng_fclt_spcl_css_5_yn'], train['fr_yn'], margins=True)"
   ]
  },
  {
   "cell_type": "markdown",
   "metadata": {},
   "source": [
    "## 소방시설특례6호여부"
   ]
  },
  {
   "cell_type": "code",
   "execution_count": 44,
   "metadata": {},
   "outputs": [
    {
     "data": {
      "text/plain": [
       "array([nan, 'N'], dtype=object)"
      ]
     },
     "execution_count": 44,
     "metadata": {},
     "output_type": "execute_result"
    }
   ],
   "source": [
    "train['fr_fghtng_fclt_spcl_css_6_yn'].unique()"
   ]
  },
  {
   "cell_type": "code",
   "execution_count": 45,
   "metadata": {},
   "outputs": [
    {
     "data": {
      "text/html": [
       "<div>\n",
       "<style scoped>\n",
       "    .dataframe tbody tr th:only-of-type {\n",
       "        vertical-align: middle;\n",
       "    }\n",
       "\n",
       "    .dataframe tbody tr th {\n",
       "        vertical-align: top;\n",
       "    }\n",
       "\n",
       "    .dataframe thead th {\n",
       "        text-align: right;\n",
       "    }\n",
       "</style>\n",
       "<table border=\"1\" class=\"dataframe\">\n",
       "  <thead>\n",
       "    <tr style=\"text-align: right;\">\n",
       "      <th>fr_yn</th>\n",
       "      <th>N</th>\n",
       "      <th>Y</th>\n",
       "      <th>All</th>\n",
       "    </tr>\n",
       "    <tr>\n",
       "      <th>fr_fghtng_fclt_spcl_css_6_yn</th>\n",
       "      <th></th>\n",
       "      <th></th>\n",
       "      <th></th>\n",
       "    </tr>\n",
       "  </thead>\n",
       "  <tbody>\n",
       "    <tr>\n",
       "      <td>N</td>\n",
       "      <td>6830</td>\n",
       "      <td>1607</td>\n",
       "      <td>8437</td>\n",
       "    </tr>\n",
       "    <tr>\n",
       "      <td>All</td>\n",
       "      <td>6830</td>\n",
       "      <td>1607</td>\n",
       "      <td>8437</td>\n",
       "    </tr>\n",
       "  </tbody>\n",
       "</table>\n",
       "</div>"
      ],
      "text/plain": [
       "fr_yn                            N     Y   All\n",
       "fr_fghtng_fclt_spcl_css_6_yn                  \n",
       "N                             6830  1607  8437\n",
       "All                           6830  1607  8437"
      ]
     },
     "execution_count": 45,
     "metadata": {},
     "output_type": "execute_result"
    }
   ],
   "source": [
    "pd.crosstab(train['fr_fghtng_fclt_spcl_css_6_yn'], train['fr_yn'], margins=True)"
   ]
  },
  {
   "cell_type": "markdown",
   "metadata": {},
   "source": [
    "## 사용여부"
   ]
  },
  {
   "cell_type": "code",
   "execution_count": 46,
   "metadata": {},
   "outputs": [
    {
     "data": {
      "text/plain": [
       "array([nan, 'Y', 'N', 'T'], dtype=object)"
      ]
     },
     "execution_count": 46,
     "metadata": {},
     "output_type": "execute_result"
    }
   ],
   "source": [
    "train['us_yn'].unique()"
   ]
  },
  {
   "cell_type": "code",
   "execution_count": 47,
   "metadata": {},
   "outputs": [
    {
     "data": {
      "text/html": [
       "<div>\n",
       "<style scoped>\n",
       "    .dataframe tbody tr th:only-of-type {\n",
       "        vertical-align: middle;\n",
       "    }\n",
       "\n",
       "    .dataframe tbody tr th {\n",
       "        vertical-align: top;\n",
       "    }\n",
       "\n",
       "    .dataframe thead th {\n",
       "        text-align: right;\n",
       "    }\n",
       "</style>\n",
       "<table border=\"1\" class=\"dataframe\">\n",
       "  <thead>\n",
       "    <tr style=\"text-align: right;\">\n",
       "      <th>fr_yn</th>\n",
       "      <th>N</th>\n",
       "      <th>Y</th>\n",
       "      <th>All</th>\n",
       "    </tr>\n",
       "    <tr>\n",
       "      <th>us_yn</th>\n",
       "      <th></th>\n",
       "      <th></th>\n",
       "      <th></th>\n",
       "    </tr>\n",
       "  </thead>\n",
       "  <tbody>\n",
       "    <tr>\n",
       "      <td>N</td>\n",
       "      <td>1021</td>\n",
       "      <td>298</td>\n",
       "      <td>1319</td>\n",
       "    </tr>\n",
       "    <tr>\n",
       "      <td>T</td>\n",
       "      <td>280</td>\n",
       "      <td>251</td>\n",
       "      <td>531</td>\n",
       "    </tr>\n",
       "    <tr>\n",
       "      <td>Y</td>\n",
       "      <td>6582</td>\n",
       "      <td>1320</td>\n",
       "      <td>7902</td>\n",
       "    </tr>\n",
       "    <tr>\n",
       "      <td>All</td>\n",
       "      <td>7883</td>\n",
       "      <td>1869</td>\n",
       "      <td>9752</td>\n",
       "    </tr>\n",
       "  </tbody>\n",
       "</table>\n",
       "</div>"
      ],
      "text/plain": [
       "fr_yn     N     Y   All\n",
       "us_yn                  \n",
       "N      1021   298  1319\n",
       "T       280   251   531\n",
       "Y      6582  1320  7902\n",
       "All    7883  1869  9752"
      ]
     },
     "execution_count": 47,
     "metadata": {},
     "output_type": "execute_result"
    }
   ],
   "source": [
    "pd.crosstab(train['us_yn'], train['fr_yn'], margins=True)"
   ]
  },
  {
   "cell_type": "code",
   "execution_count": 48,
   "metadata": {},
   "outputs": [
    {
     "name": "stdout",
     "output_type": "stream",
     "text": [
      "최고 7902\n",
      "최하 531\n",
      "평균 3250.6666666666665\n",
      "중위 1319.0\n"
     ]
    }
   ],
   "source": [
    "us_yn_number = train['us_yn'].value_counts()\n",
    "print(\"최고\", np.max(us_yn_number))\n",
    "print(\"최하\", np.min(us_yn_number))\n",
    "print(\"평균\", np.mean(us_yn_number))\n",
    "print(\"중위\", np.median(us_yn_number))"
   ]
  },
  {
   "cell_type": "markdown",
   "metadata": {},
   "source": [
    "## 위험물대상여부"
   ]
  },
  {
   "cell_type": "code",
   "execution_count": 49,
   "metadata": {},
   "outputs": [
    {
     "data": {
      "text/plain": [
       "array([nan, 'N', 'Y'], dtype=object)"
      ]
     },
     "execution_count": 49,
     "metadata": {},
     "output_type": "execute_result"
    }
   ],
   "source": [
    "train['dngrs_thng_yn'].unique()"
   ]
  },
  {
   "cell_type": "code",
   "execution_count": 50,
   "metadata": {},
   "outputs": [
    {
     "data": {
      "text/html": [
       "<div>\n",
       "<style scoped>\n",
       "    .dataframe tbody tr th:only-of-type {\n",
       "        vertical-align: middle;\n",
       "    }\n",
       "\n",
       "    .dataframe tbody tr th {\n",
       "        vertical-align: top;\n",
       "    }\n",
       "\n",
       "    .dataframe thead th {\n",
       "        text-align: right;\n",
       "    }\n",
       "</style>\n",
       "<table border=\"1\" class=\"dataframe\">\n",
       "  <thead>\n",
       "    <tr style=\"text-align: right;\">\n",
       "      <th>fr_yn</th>\n",
       "      <th>N</th>\n",
       "      <th>Y</th>\n",
       "      <th>All</th>\n",
       "    </tr>\n",
       "    <tr>\n",
       "      <th>dngrs_thng_yn</th>\n",
       "      <th></th>\n",
       "      <th></th>\n",
       "      <th></th>\n",
       "    </tr>\n",
       "  </thead>\n",
       "  <tbody>\n",
       "    <tr>\n",
       "      <td>N</td>\n",
       "      <td>7878</td>\n",
       "      <td>1868</td>\n",
       "      <td>9746</td>\n",
       "    </tr>\n",
       "    <tr>\n",
       "      <td>Y</td>\n",
       "      <td>5</td>\n",
       "      <td>1</td>\n",
       "      <td>6</td>\n",
       "    </tr>\n",
       "    <tr>\n",
       "      <td>All</td>\n",
       "      <td>7883</td>\n",
       "      <td>1869</td>\n",
       "      <td>9752</td>\n",
       "    </tr>\n",
       "  </tbody>\n",
       "</table>\n",
       "</div>"
      ],
      "text/plain": [
       "fr_yn             N     Y   All\n",
       "dngrs_thng_yn                  \n",
       "N              7878  1868  9746\n",
       "Y                 5     1     6\n",
       "All            7883  1869  9752"
      ]
     },
     "execution_count": 50,
     "metadata": {},
     "output_type": "execute_result"
    }
   ],
   "source": [
    "pd.crosstab(train['dngrs_thng_yn'], train['fr_yn'], margins=True)"
   ]
  },
  {
   "cell_type": "code",
   "execution_count": 51,
   "metadata": {},
   "outputs": [
    {
     "name": "stdout",
     "output_type": "stream",
     "text": [
      "최고 9746\n",
      "최하 6\n",
      "평균 4876.0\n",
      "중위 4876.0\n"
     ]
    }
   ],
   "source": [
    "dngrs_thng_yn_number = train['dngrs_thng_yn'].value_counts()\n",
    "print(\"최고\", np.max(dngrs_thng_yn_number))\n",
    "print(\"최하\", np.min(dngrs_thng_yn_number))\n",
    "print(\"평균\", np.mean(dngrs_thng_yn_number))\n",
    "print(\"중위\", np.median(dngrs_thng_yn_number))"
   ]
  },
  {
   "cell_type": "markdown",
   "metadata": {},
   "source": [
    "## 자체소방대여부"
   ]
  },
  {
   "cell_type": "code",
   "execution_count": 52,
   "metadata": {
    "scrolled": false
   },
   "outputs": [
    {
     "data": {
      "text/plain": [
       "array([nan, 'N'], dtype=object)"
      ]
     },
     "execution_count": 52,
     "metadata": {},
     "output_type": "execute_result"
    }
   ],
   "source": [
    "train['slf_fr_brgd_yn'].unique()"
   ]
  },
  {
   "cell_type": "code",
   "execution_count": 53,
   "metadata": {},
   "outputs": [
    {
     "data": {
      "text/html": [
       "<div>\n",
       "<style scoped>\n",
       "    .dataframe tbody tr th:only-of-type {\n",
       "        vertical-align: middle;\n",
       "    }\n",
       "\n",
       "    .dataframe tbody tr th {\n",
       "        vertical-align: top;\n",
       "    }\n",
       "\n",
       "    .dataframe thead th {\n",
       "        text-align: right;\n",
       "    }\n",
       "</style>\n",
       "<table border=\"1\" class=\"dataframe\">\n",
       "  <thead>\n",
       "    <tr style=\"text-align: right;\">\n",
       "      <th>fr_yn</th>\n",
       "      <th>N</th>\n",
       "      <th>Y</th>\n",
       "      <th>All</th>\n",
       "    </tr>\n",
       "    <tr>\n",
       "      <th>slf_fr_brgd_yn</th>\n",
       "      <th></th>\n",
       "      <th></th>\n",
       "      <th></th>\n",
       "    </tr>\n",
       "  </thead>\n",
       "  <tbody>\n",
       "    <tr>\n",
       "      <td>N</td>\n",
       "      <td>7883</td>\n",
       "      <td>1869</td>\n",
       "      <td>9752</td>\n",
       "    </tr>\n",
       "    <tr>\n",
       "      <td>All</td>\n",
       "      <td>7883</td>\n",
       "      <td>1869</td>\n",
       "      <td>9752</td>\n",
       "    </tr>\n",
       "  </tbody>\n",
       "</table>\n",
       "</div>"
      ],
      "text/plain": [
       "fr_yn              N     Y   All\n",
       "slf_fr_brgd_yn                  \n",
       "N               7883  1869  9752\n",
       "All             7883  1869  9752"
      ]
     },
     "execution_count": 53,
     "metadata": {},
     "output_type": "execute_result"
    }
   ],
   "source": [
    "pd.crosstab(train['slf_fr_brgd_yn'], train['fr_yn'], margins=True)"
   ]
  },
  {
   "cell_type": "markdown",
   "metadata": {},
   "source": [
    "## 대량위험물제조소등여부"
   ]
  },
  {
   "cell_type": "code",
   "execution_count": 54,
   "metadata": {},
   "outputs": [
    {
     "data": {
      "text/plain": [
       "array([nan, 'N', 'Y'], dtype=object)"
      ]
     },
     "execution_count": 54,
     "metadata": {},
     "output_type": "execute_result"
    }
   ],
   "source": [
    "train['blk_dngrs_thng_mnfctr_yn'].unique()"
   ]
  },
  {
   "cell_type": "code",
   "execution_count": 55,
   "metadata": {},
   "outputs": [
    {
     "data": {
      "text/html": [
       "<div>\n",
       "<style scoped>\n",
       "    .dataframe tbody tr th:only-of-type {\n",
       "        vertical-align: middle;\n",
       "    }\n",
       "\n",
       "    .dataframe tbody tr th {\n",
       "        vertical-align: top;\n",
       "    }\n",
       "\n",
       "    .dataframe thead th {\n",
       "        text-align: right;\n",
       "    }\n",
       "</style>\n",
       "<table border=\"1\" class=\"dataframe\">\n",
       "  <thead>\n",
       "    <tr style=\"text-align: right;\">\n",
       "      <th>fr_yn</th>\n",
       "      <th>N</th>\n",
       "      <th>Y</th>\n",
       "      <th>All</th>\n",
       "    </tr>\n",
       "    <tr>\n",
       "      <th>blk_dngrs_thng_mnfctr_yn</th>\n",
       "      <th></th>\n",
       "      <th></th>\n",
       "      <th></th>\n",
       "    </tr>\n",
       "  </thead>\n",
       "  <tbody>\n",
       "    <tr>\n",
       "      <td>N</td>\n",
       "      <td>7882</td>\n",
       "      <td>1869</td>\n",
       "      <td>9751</td>\n",
       "    </tr>\n",
       "    <tr>\n",
       "      <td>Y</td>\n",
       "      <td>1</td>\n",
       "      <td>0</td>\n",
       "      <td>1</td>\n",
       "    </tr>\n",
       "    <tr>\n",
       "      <td>All</td>\n",
       "      <td>7883</td>\n",
       "      <td>1869</td>\n",
       "      <td>9752</td>\n",
       "    </tr>\n",
       "  </tbody>\n",
       "</table>\n",
       "</div>"
      ],
      "text/plain": [
       "fr_yn                        N     Y   All\n",
       "blk_dngrs_thng_mnfctr_yn                  \n",
       "N                         7882  1869  9751\n",
       "Y                            1     0     1\n",
       "All                       7883  1869  9752"
      ]
     },
     "execution_count": 55,
     "metadata": {},
     "output_type": "execute_result"
    }
   ],
   "source": [
    "pd.crosstab(train['blk_dngrs_thng_mnfctr_yn'], train['fr_yn'], margins=True)"
   ]
  },
  {
   "cell_type": "code",
   "execution_count": 56,
   "metadata": {},
   "outputs": [
    {
     "name": "stdout",
     "output_type": "stream",
     "text": [
      "최고 9751\n",
      "최하 1\n",
      "평균 4876.0\n",
      "중위 4876.0\n"
     ]
    }
   ],
   "source": [
    "blk_dngrs_thng_mnfctr_yn_number = train['blk_dngrs_thng_mnfctr_yn'].value_counts()\n",
    "print(\"최고\", np.max(blk_dngrs_thng_mnfctr_yn_number))\n",
    "print(\"최하\", np.min(blk_dngrs_thng_mnfctr_yn_number))\n",
    "print(\"평균\", np.mean(blk_dngrs_thng_mnfctr_yn_number))\n",
    "print(\"중위\", np.median(blk_dngrs_thng_mnfctr_yn_number))"
   ]
  },
  {
   "cell_type": "markdown",
   "metadata": {},
   "source": [
    "## 문화재여부"
   ]
  },
  {
   "cell_type": "code",
   "execution_count": 57,
   "metadata": {},
   "outputs": [
    {
     "data": {
      "text/plain": [
       "array([nan, 'N', 'Y'], dtype=object)"
      ]
     },
     "execution_count": 57,
     "metadata": {},
     "output_type": "execute_result"
    }
   ],
   "source": [
    "train['cltrl_hrtg_yn'].unique()"
   ]
  },
  {
   "cell_type": "code",
   "execution_count": 58,
   "metadata": {},
   "outputs": [
    {
     "data": {
      "text/html": [
       "<div>\n",
       "<style scoped>\n",
       "    .dataframe tbody tr th:only-of-type {\n",
       "        vertical-align: middle;\n",
       "    }\n",
       "\n",
       "    .dataframe tbody tr th {\n",
       "        vertical-align: top;\n",
       "    }\n",
       "\n",
       "    .dataframe thead th {\n",
       "        text-align: right;\n",
       "    }\n",
       "</style>\n",
       "<table border=\"1\" class=\"dataframe\">\n",
       "  <thead>\n",
       "    <tr style=\"text-align: right;\">\n",
       "      <th>fr_yn</th>\n",
       "      <th>N</th>\n",
       "      <th>Y</th>\n",
       "      <th>All</th>\n",
       "    </tr>\n",
       "    <tr>\n",
       "      <th>cltrl_hrtg_yn</th>\n",
       "      <th></th>\n",
       "      <th></th>\n",
       "      <th></th>\n",
       "    </tr>\n",
       "  </thead>\n",
       "  <tbody>\n",
       "    <tr>\n",
       "      <td>N</td>\n",
       "      <td>7882</td>\n",
       "      <td>1869</td>\n",
       "      <td>9751</td>\n",
       "    </tr>\n",
       "    <tr>\n",
       "      <td>Y</td>\n",
       "      <td>1</td>\n",
       "      <td>0</td>\n",
       "      <td>1</td>\n",
       "    </tr>\n",
       "    <tr>\n",
       "      <td>All</td>\n",
       "      <td>7883</td>\n",
       "      <td>1869</td>\n",
       "      <td>9752</td>\n",
       "    </tr>\n",
       "  </tbody>\n",
       "</table>\n",
       "</div>"
      ],
      "text/plain": [
       "fr_yn             N     Y   All\n",
       "cltrl_hrtg_yn                  \n",
       "N              7882  1869  9751\n",
       "Y                 1     0     1\n",
       "All            7883  1869  9752"
      ]
     },
     "execution_count": 58,
     "metadata": {},
     "output_type": "execute_result"
    }
   ],
   "source": [
    "pd.crosstab(train['cltrl_hrtg_yn'], train['fr_yn'], margins=True)"
   ]
  },
  {
   "cell_type": "code",
   "execution_count": 59,
   "metadata": {},
   "outputs": [
    {
     "name": "stdout",
     "output_type": "stream",
     "text": [
      "최고 9751\n",
      "최하 1\n",
      "평균 4876.0\n",
      "중위 4876.0\n"
     ]
    }
   ],
   "source": [
    "cltrl_hrtg_yn_number = train['cltrl_hrtg_yn'].value_counts()\n",
    "print(\"최고\", np.max(cltrl_hrtg_yn_number))\n",
    "print(\"최하\", np.min(cltrl_hrtg_yn_number))\n",
    "print(\"평균\", np.mean(cltrl_hrtg_yn_number))\n",
    "print(\"중위\", np.median(cltrl_hrtg_yn_number))"
   ]
  },
  {
   "cell_type": "code",
   "execution_count": null,
   "metadata": {},
   "outputs": [],
   "source": []
  },
  {
   "cell_type": "code",
   "execution_count": null,
   "metadata": {},
   "outputs": [],
   "source": []
  },
  {
   "cell_type": "code",
   "execution_count": null,
   "metadata": {},
   "outputs": [],
   "source": []
  },
  {
   "cell_type": "code",
   "execution_count": null,
   "metadata": {},
   "outputs": [],
   "source": []
  }
 ],
 "metadata": {
  "kernelspec": {
   "display_name": "Python 3",
   "language": "python",
   "name": "python3"
  },
  "language_info": {
   "codemirror_mode": {
    "name": "ipython",
    "version": 3
   },
   "file_extension": ".py",
   "mimetype": "text/x-python",
   "name": "python",
   "nbconvert_exporter": "python",
   "pygments_lexer": "ipython3",
   "version": "3.7.3"
  }
 },
 "nbformat": 4,
 "nbformat_minor": 2
}
