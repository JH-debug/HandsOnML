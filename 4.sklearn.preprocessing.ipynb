{
 "cells": [
  {
   "cell_type": "markdown",
   "metadata": {},
   "source": [
    "## 4. sklearn.preprocessing\n",
    "\n",
    "sklearn.preprocessing은 데이터를 분석에 적합한 형태로 바꿔주는 변환기나 여러 함수들을 포함하고 있는 패키지입니다. \n",
    "\n",
    "우리의 교재에서는 표준화를 위한 StandardScaler, 결측치 대체를 위한 SimpleImputer, string feature들을 숫자형으로 변환해주는 CategoricalEncoder, OneHotEncoder 등등이 사용되었습니다. Scaler부터 보겠습니다\n",
    "\n",
    "#### Scaler"
   ]
  },
  {
   "cell_type": "code",
   "execution_count": 14,
   "metadata": {},
   "outputs": [
    {
     "name": "stdout",
     "output_type": "stream",
     "text": [
      "[[ 0.         -1.22474487  1.33630621]\n",
      " [ 1.22474487  0.         -0.26726124]\n",
      " [-1.22474487  1.22474487 -1.06904497]]\n",
      "[[ 1. -1.  2.]\n",
      " [ 2.  0.  0.]\n",
      " [ 0.  1. -1.]]\n"
     ]
    }
   ],
   "source": [
    "from sklearn import preprocessing\n",
    "import numpy as np\n",
    "X_train = np.array([[ 1., -1.,  2.],\n",
    "                    [ 2.,  0.,  0.],\n",
    "                    [ 0.,  1., -1.]])\n",
    "\n",
    "std_scaler = preprocessing.StandardScaler()\n",
    "print(std_scaler.fit_transform(X_train)) \n",
    "print(X_train)"
   ]
  },
  {
   "cell_type": "markdown",
   "metadata": {},
   "source": [
    "sklearn에서 preprocessing을 import하고, array데이터 생성을 위해서 넘파이도 불러와 줍니다. \n",
    "\n",
    "그리고 우리가 하고 싶은 scaling을 위해서 StandardScaler를 불러 서 std_scaler에 할당해 주었습니다.StandardScaler는 Mean = 0, var = 1으로 맞춰 주기 위해서 전체 데이터에서 평균을 빼고 그걸 표준 편차로 나눠주는 형태의 scaling을 해 줍니다. \n",
    "\n",
    "이후에는 fit_transform을 통해 적용을 해 주면 되지요."
   ]
  },
  {
   "cell_type": "code",
   "execution_count": 15,
   "metadata": {},
   "outputs": [
    {
     "name": "stdout",
     "output_type": "stream",
     "text": [
      "[[0.5        0.         1.        ]\n",
      " [1.         0.5        0.33333333]\n",
      " [0.         1.         0.        ]]\n",
      "[[ 1. -1.  2.]\n",
      " [ 2.  0.  0.]\n",
      " [ 0.  1. -1.]]\n"
     ]
    }
   ],
   "source": [
    "min_max_scaler = preprocessing.MinMaxScaler()\n",
    "print(min_max_scaler.fit_transform(X_train)) \n",
    "print(X_train)"
   ]
  },
  {
   "cell_type": "markdown",
   "metadata": {},
   "source": [
    "다른 방식의 scaler는 MinMaxScaler가 있습니다. 이건 최소값을 0으로, 최대값을 1으로 scaling하는 방식입니다. 위의 행렬을 보시면 아시겠지만, 원래 데이터의 최대값인 2가 1로, 최소값인 -1이 0으로 변환되고, 이에 비례해서 데이터가 변환됨을 알 수 있습니다. 세부 문법은 동일합니다. "
   ]
  },
  {
   "cell_type": "code",
   "execution_count": 17,
   "metadata": {},
   "outputs": [
    {
     "name": "stdout",
     "output_type": "stream",
     "text": [
      "[[ 0.40824829 -0.40824829  0.81649658]\n",
      " [ 1.          0.          0.        ]\n",
      " [ 0.          0.70710678 -0.70710678]]\n"
     ]
    }
   ],
   "source": [
    "X_normalized = preprocessing.normalize(X_train)\n",
    "print(X_normalized)"
   ]
  },
  {
   "cell_type": "markdown",
   "metadata": {},
   "source": [
    "그냥 .normalize()를 통해 정규화를 하는 것도 가능합니다. \n",
    "\n",
    "그 외에 다른 scaler들은 \n",
    "https://scikit-learn.org/stable/modules/preprocessing.html\n",
    "이 링크를 참조하세요. 이후에 나올 Encoder 역시 이곳에서 보다 세세한 설명을 보실 수 있습니다. \n",
    "\n",
    "#### Encoder"
   ]
  },
  {
   "cell_type": "code",
   "execution_count": 31,
   "metadata": {},
   "outputs": [
    {
     "name": "stdout",
     "output_type": "stream",
     "text": [
      "[[1. 1. 1.]\n",
      " [0. 0. 0.]]\n",
      "[[0. 1. 1.]]\n"
     ]
    }
   ],
   "source": [
    "Ordinal_Encoder = preprocessing.OrdinalEncoder()\n",
    "X = [['male', 'from US', 'uses Safari'], ['female', 'from Europe', 'uses Firefox']]\n",
    "print(Ordinal_Encoder.fit_transform(X))\n",
    "print(Ordinal_Encoder.transform([['female', 'from US', 'uses Safari']]))"
   ]
  },
  {
   "cell_type": "markdown",
   "metadata": {},
   "source": [
    "OrdinalEncoder로 단순히 categorical 변수를 숫자로 바꿔줄 수 있습니다. 위의 예시에서 male, US, safari가 1, 나머지가 0으로 인코딩되었음을 확인할 수 있습니다. \n",
    "\n",
    "그러나 이런 식의 인코딩은 마치 순서가 의미 있는 듯한 뉘앙스를 줍니다. 책 103쪽의 factorize와 같은 결과를 도출하기 때문입니다. \n",
    "\n",
    "따라서 이 문제를 해결하기 위해 OneHotEncoder를 사용합니다. "
   ]
  },
  {
   "cell_type": "code",
   "execution_count": 54,
   "metadata": {},
   "outputs": [
    {
     "name": "stdout",
     "output_type": "stream",
     "text": [
      "============== Sparse = True ===============\n",
      "  (0, 1)\t1.0\n",
      "  (0, 3)\t1.0\n",
      "  (0, 5)\t1.0\n",
      "  (1, 0)\t1.0\n",
      "  (1, 2)\t1.0\n",
      "  (1, 4)\t1.0\n",
      "============== Sparse = False ===============\n",
      "[[0. 1. 0. 1. 0. 1.]\n",
      " [1. 0. 1. 0. 1. 0.]]\n",
      "============== Appliance ===============\n",
      "  (0, 0)\t1.0\n",
      "  (0, 3)\t1.0\n",
      "  (0, 5)\t1.0\n",
      "============== Sparse = False ===============\n",
      "[[0. 1. 0. 1. 0. 1.]\n",
      " [1. 0. 1. 0. 1. 0.]]\n",
      "============== appliance ===============\n",
      "[[1. 0. 0. 1. 0. 1.]]\n"
     ]
    }
   ],
   "source": [
    "Onehot_Encoder = preprocessing.OneHotEncoder()\n",
    "X = [['male', 'from US', 'uses Safari'], ['female', 'from Europe', 'uses Firefox']]\n",
    "print(\"============== Sparse = True ===============\")\n",
    "print(Onehot_Encoder.fit_transform(X))\n",
    "print(\"============== Sparse = False ===============\")\n",
    "print(Onehot_Encoder.fit_transform(X).toarray())\n",
    "print(\"============== Appliance ===============\")\n",
    "print((Onehot_Encoder.transform([['female', 'from US', 'uses Safari']])))\n",
    "\n",
    "Onehot_Encoder = preprocessing.OneHotEncoder(sparse=False)\n",
    "X = [['male', 'from US', 'uses Safari'], ['female', 'from Europe', 'uses Firefox']]\n",
    "print(\"============== Sparse = False ===============\")\n",
    "print(Onehot_Encoder.fit_transform(X))\n",
    "print(\"============== appliance ===============\")\n",
    "print(Onehot_Encoder.transform([['female', 'from US', 'uses Safari']]))"
   ]
  },
  {
   "cell_type": "markdown",
   "metadata": {},
   "source": [
    "Onehot이란, 해당하는 값에만 1이, 나머지는 전부 0이 들어가게 되는 코딩 방식을 말합니다. onehot encoder를 적용한 X를 프린트한 위의 값은, 1의 좌표를 출력합니다. 이러한 형식을 희소행렬이라 합니다. 즉 male은 0행 1열이 1이고 나머지는 0인 방식으로, US는 0행 3열이 1인 방식으로 인코딩이 되었음을 나타냅니다. 마찬가지로 다음 행의 female은 0열이 1, Europe은 2열이 1인 형식으로 인코딩을 했음을 드러냅니다. 이는 특정 열을 제외하면 모두 0이 들어가게 되어 행렬이 가로로 너무 길어짐을 막는 방법입니다. 넘파이의 toarray()함수를 통해 해당 희소행렬을 onehot형태로 출력할 수도 있습니다. \n",
    "\n",
    "기본적으로 따라서 마지막 Female, US, Safari데이터의 경우 0열, 3열, 5열에 1이 들어가고 나머지는 모두 0으로 출력하게 됩니다. \n",
    "\n",
    "OneHotEncoder를 불러올 때, sparse = False옵션을 별도로 지정해주면, 처음부터 onehot의 형태로 출력할 수도 있습니다. "
   ]
  },
  {
   "cell_type": "markdown",
   "metadata": {},
   "source": [
    "#### sklearn.impute.SimpleImputer\n",
    "\n",
    "결측치를 어떻게 처리할지에 대한 패키지입니다. 사실 원래 이게 sklearn.preprocessing에 있었지만, 이제는 sklearn.imputer로 떨어져 나갔답니다. 왜인지는 저도 모르겠네요."
   ]
  },
  {
   "cell_type": "code",
   "execution_count": 67,
   "metadata": {},
   "outputs": [
    {
     "name": "stdout",
     "output_type": "stream",
     "text": [
      "[[4.         2.        ]\n",
      " [6.         3.66666667]\n",
      " [7.         6.        ]]\n"
     ]
    }
   ],
   "source": [
    "from sklearn.impute import SimpleImputer\n",
    "imp = SimpleImputer(strategy='mean')\n",
    "imp.fit([[1, 2], [np.nan, 3], [7, 6]])  \n",
    "X = [[np.nan, 2], [6, np.nan], [7, 6]]\n",
    "print(imp.transform(X))"
   ]
  },
  {
   "cell_type": "markdown",
   "metadata": {},
   "source": [
    "SimpleImputer는 결측치를 대체하는 가장 단순한 방식입니다. 특정한 상수나, 통계량들 (평균, 중앙값, 최빈값 등) 을 통해 대체할 수 있습니다. 이러한 대체 전략은 ,strategy = '' 옵션을 통해 지정됩니다. 'mean'외에도 'median', 'most_frequent', 'constant'등을 사용할 수 있습니다. 각각 중앙값, 최빈값, 0을 통해 결측치를 대체합니다. \n",
    "\n",
    "통계량들의 연산은 모두 열방향으로 이뤄집니다. 사실 이는 당연한 것이 tidy한 데이터는 행에는 개체, 열에 변수가 들어갑니다. 따라서 열 안에서는 단위도 같고, 비슷한 경향성을 띄지만, 행 간에는 그런게 없습니다. 행에 우리 스터디원을, 열에 몸무게(kg)와 신장(m)를 넣은 데이터가 있다고 생각해보시면 쉬울 거 같네요. "
   ]
  },
  {
   "cell_type": "code",
   "execution_count": 70,
   "metadata": {},
   "outputs": [
    {
     "name": "stdout",
     "output_type": "stream",
     "text": [
      "[[ 1.  2.]\n",
      " [ 6. 12.]\n",
      " [ 3.  6.]]\n"
     ]
    }
   ],
   "source": [
    "from sklearn.experimental import enable_iterative_imputer\n",
    "from sklearn.impute import IterativeImputer\n",
    "\n",
    "imp = IterativeImputer(max_iter=10, random_state=0)\n",
    "\n",
    "imp.fit([[1, 2], [3, 6], [4, 8], [np.nan, 3], [7, np.nan]])  \n",
    "X_test = [[np.nan, 2], [6, np.nan], [np.nan, 6]]\n",
    "print(np.round(imp.transform(X_test)))"
   ]
  },
  {
   "cell_type": "markdown",
   "metadata": {},
   "source": [
    "혹은 multivariate을 통해 일종의 함수를 만드는 연산을 반복해서 결측치인 y를 대체하는 IterativeImputer를 사용할 수도 있습니다. 단 아직 시험단계라 experimental에서 enable해 주어야 합니다(0.21.3 최신버전 기준입니다.)\n",
    "\n",
    "max_iter를 통해 최대 반복 횟수를, random_state를 통해 시드넘버를 고정해줄 수 있습니다. \n",
    "\n",
    "이 경우, fit에서 iteration을 통해 2열이 1열의 2배라는 규칙을 학습했고, 이를 통해 X_test의 결측을 대채한 것을 확인할 수 있습니다. "
   ]
  }
 ],
 "metadata": {
  "kernelspec": {
   "display_name": "Python 3",
   "language": "python",
   "name": "python3"
  },
  "language_info": {
   "codemirror_mode": {
    "name": "ipython",
    "version": 3
   },
   "file_extension": ".py",
   "mimetype": "text/x-python",
   "name": "python",
   "nbconvert_exporter": "python",
   "pygments_lexer": "ipython3",
   "version": "3.7.3"
  }
 },
 "nbformat": 4,
 "nbformat_minor": 2
}
